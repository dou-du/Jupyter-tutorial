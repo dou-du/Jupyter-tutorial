{
 "cells": [
  {
   "cell_type": "markdown",
   "metadata": {},
   "source": [
    "# How to use widget in Jupyter Notebook "
   ]
  },
  {
   "cell_type": "markdown",
   "metadata": {},
   "source": [
    "## What are widgets ?\n",
    "\n",
    "In computer software, widgets are the elements of the Graphical User Interfaces (GUIs). For exmaple, a slider to choice the value of the number or simply a textbox to show the information."
   ]
  },
  {
   "cell_type": "markdown",
   "metadata": {},
   "source": [
    "## Widgets in the Jupyter Notebook\n",
    "\n",
    "The widgets libary can be imported into Jupyter notebook as: <br>\n",
    "```python\n",
    "import ipywidgets as widgets\n",
    "```\n",
    "<font color='red'>ipywidgets</font> is the Python library. \n"
   ]
  },
  {
   "cell_type": "code",
   "execution_count": 224,
   "metadata": {},
   "outputs": [],
   "source": [
    "import ipywidgets as widgets"
   ]
  },
  {
   "cell_type": "markdown",
   "metadata": {},
   "source": [
    "## Create a slider with integer number\n",
    "\n",
    "The initial value was set to zero. The range of this integer slider is from -10 to 10."
   ]
  },
  {
   "cell_type": "code",
   "execution_count": 225,
   "metadata": {},
   "outputs": [
    {
     "data": {
      "application/vnd.jupyter.widget-view+json": {
       "model_id": "0baf0f30ca4946b3bb8ba6fcc2e89117",
       "version_major": 2,
       "version_minor": 0
      },
      "text/plain": [
       "IntSlider(value=0, max=10, min=-10)"
      ]
     },
     "metadata": {},
     "output_type": "display_data"
    }
   ],
   "source": [
    "widgets.IntSlider(value=0, min=-10, max=10)"
   ]
  },
  {
   "cell_type": "markdown",
   "metadata": {},
   "source": [
    "## The widgets can be exported as a variable and display by the <font color='red'>display</font> function. \n"
   ]
  },
  {
   "cell_type": "code",
   "execution_count": 226,
   "metadata": {},
   "outputs": [
    {
     "data": {
      "application/vnd.jupyter.widget-view+json": {
       "model_id": "",
       "version_major": 2,
       "version_minor": 0
      },
      "text/plain": [
       "IntSlider(value=0, max=10, min=-10)"
      ]
     },
     "metadata": {},
     "output_type": "display_data"
    }
   ],
   "source": [
    "w = widgets.IntSlider(value=0, min=-10, max=10)\n",
    "display(w)"
   ]
  },
  {
   "cell_type": "markdown",
   "metadata": {},
   "source": [
    "## close the widget by:"
   ]
  },
  {
   "cell_type": "code",
   "execution_count": 227,
   "metadata": {},
   "outputs": [],
   "source": [
    "w.close()"
   ]
  },
  {
   "cell_type": "markdown",
   "metadata": {},
   "source": [
    "## Link different widgets\n",
    "\n",
    "The values of different widgets can be linked by the link or jslink function. For exmaple, we can show the value\n",
    "of the slider into a texbox. "
   ]
  },
  {
   "cell_type": "code",
   "execution_count": 228,
   "metadata": {},
   "outputs": [
    {
     "data": {
      "application/vnd.jupyter.widget-view+json": {
       "model_id": "69886301305d42cd8d52036e6e3962a4",
       "version_major": 2,
       "version_minor": 0
      },
      "text/plain": [
       "FloatSlider(value=0.0)"
      ]
     },
     "metadata": {},
     "output_type": "display_data"
    },
    {
     "data": {
      "application/vnd.jupyter.widget-view+json": {
       "model_id": "3c48abee5474441e99b35acb7ef81a8d",
       "version_major": 2,
       "version_minor": 0
      },
      "text/plain": [
       "FloatText(value=0.0)"
      ]
     },
     "metadata": {},
     "output_type": "display_data"
    }
   ],
   "source": [
    "a = widgets.FloatSlider()\n",
    "b = widgets.FloatText()\n",
    "display(a, b)\n",
    "\n",
    "mylink = widgets.link((a,'value'), (b,'value'))"
   ]
  },
  {
   "cell_type": "markdown",
   "metadata": {},
   "source": [
    "unlink the widgets by <font color='red'>.unlink</font>"
   ]
  },
  {
   "cell_type": "code",
   "execution_count": 229,
   "metadata": {},
   "outputs": [
    {
     "data": {
      "application/vnd.jupyter.widget-view+json": {
       "model_id": "69886301305d42cd8d52036e6e3962a4",
       "version_major": 2,
       "version_minor": 0
      },
      "text/plain": [
       "FloatSlider(value=0.0)"
      ]
     },
     "metadata": {},
     "output_type": "display_data"
    },
    {
     "data": {
      "application/vnd.jupyter.widget-view+json": {
       "model_id": "3c48abee5474441e99b35acb7ef81a8d",
       "version_major": 2,
       "version_minor": 0
      },
      "text/plain": [
       "FloatText(value=0.0)"
      ]
     },
     "metadata": {},
     "output_type": "display_data"
    }
   ],
   "source": [
    "mylink.unlink()\n",
    "display(a,b)"
   ]
  },
  {
   "cell_type": "markdown",
   "metadata": {},
   "source": [
    "## Widgets list\n",
    "\n",
    "There are many widgets offered by the ipywidgets library, which has different GUIs and functions.\n",
    "For instance, numeric widgets, boolean widgets, selection widgets and string widgets. Here, I will\n",
    "briefly introduce these widgets. \n"
   ]
  },
  {
   "cell_type": "markdown",
   "metadata": {},
   "source": [
    "## Numeric widgets\n",
    "\n",
    "The numeric widgets are desgined to display numeric values. "
   ]
  },
  {
   "cell_type": "markdown",
   "metadata": {},
   "source": [
    "### A slider to show range in float numbers"
   ]
  },
  {
   "cell_type": "code",
   "execution_count": 230,
   "metadata": {},
   "outputs": [
    {
     "data": {
      "application/vnd.jupyter.widget-view+json": {
       "model_id": "687cb7835f5d4b3fbbc344315eba6e38",
       "version_major": 2,
       "version_minor": 0
      },
      "text/plain": [
       "FloatRangeSlider(value=(2.0, 7.0), continuous_update=False, description='Test:', max=10.0, readout_format='.1f…"
      ]
     },
     "metadata": {},
     "output_type": "display_data"
    }
   ],
   "source": [
    "widgets.FloatRangeSlider(\n",
    "    value=[2, 7],\n",
    "    min=0,\n",
    "    max=10.0,\n",
    "    step=0.1,\n",
    "    description='Test:',\n",
    "    disabled=False,\n",
    "    continuous_update=False,\n",
    "    orientation='horizontal',\n",
    "    readout=True,\n",
    "    readout_format='.1f',\n",
    ")"
   ]
  },
  {
   "cell_type": "markdown",
   "metadata": {},
   "source": [
    "### A progress bar to display from zero to 100%"
   ]
  },
  {
   "cell_type": "code",
   "execution_count": 231,
   "metadata": {},
   "outputs": [
    {
     "data": {
      "application/vnd.jupyter.widget-view+json": {
       "model_id": "1bec210a660d4a799d02d3e31d6b95c2",
       "version_major": 2,
       "version_minor": 0
      },
      "text/plain": [
       "IntProgress(value=0, bar_style='success', description='Loading:')"
      ]
     },
     "metadata": {},
     "output_type": "display_data"
    }
   ],
   "source": [
    "import time \n",
    "\n",
    "\n",
    "w = widgets.IntProgress(\n",
    "    value=0,\n",
    "    min=0,\n",
    "    max=100,\n",
    "    step=1,\n",
    "    description='Loading:',\n",
    "    bar_style='success',\n",
    "    orientation='horizontal'\n",
    ")\n",
    "\n",
    "display(w)\n",
    "x = 0\n",
    "\n",
    "while x <= 100:\n",
    "    w.value += 1\n",
    "    time.sleep(0.1)\n",
    "    x +=1\n"
   ]
  },
  {
   "cell_type": "markdown",
   "metadata": {},
   "source": [
    "## Boolean widgets\n",
    "\n",
    "Boolean widgets are designed to show boolean values. "
   ]
  },
  {
   "cell_type": "markdown",
   "metadata": {},
   "source": [
    "### ToggleButton"
   ]
  },
  {
   "cell_type": "code",
   "execution_count": 232,
   "metadata": {},
   "outputs": [
    {
     "data": {
      "application/vnd.jupyter.widget-view+json": {
       "model_id": "c857cefa39e143fdb6f47007ebfb049e",
       "version_major": 2,
       "version_minor": 0
      },
      "text/plain": [
       "ToggleButton(value=False, button_style='danger', description='Click me', icon='check', tooltip='Description')"
      ]
     },
     "metadata": {},
     "output_type": "display_data"
    }
   ],
   "source": [
    "widgets.ToggleButton(\n",
    "    value=False,\n",
    "    description='Click me',\n",
    "    disabled=False,\n",
    "    button_style='danger', \n",
    "    tooltip='Description',\n",
    "    icon='check'\n",
    ")\n"
   ]
  },
  {
   "cell_type": "markdown",
   "metadata": {},
   "source": [
    "## Selection widgets \n",
    "\n",
    "Selection widgets can be used to select single or multiple values. "
   ]
  },
  {
   "cell_type": "markdown",
   "metadata": {},
   "source": [
    "### Multiple values can be selected by the shift key"
   ]
  },
  {
   "cell_type": "code",
   "execution_count": 233,
   "metadata": {},
   "outputs": [
    {
     "data": {
      "application/vnd.jupyter.widget-view+json": {
       "model_id": "2a9498f89a124dd4966395c61309f197",
       "version_major": 2,
       "version_minor": 0
      },
      "text/plain": [
       "SelectMultiple(description='Fruits', index=(1,), options=('Apples', 'Oranges', 'Pears'), value=('Oranges',))"
      ]
     },
     "metadata": {},
     "output_type": "display_data"
    }
   ],
   "source": [
    "widgets.SelectMultiple(\n",
    "    options=['Apples', 'Oranges', 'Pears'],\n",
    "    value=['Oranges'],\n",
    "    #rows=10,\n",
    "    description='Fruits',\n",
    "    disabled=False\n",
    ")"
   ]
  },
  {
   "cell_type": "markdown",
   "metadata": {},
   "source": [
    "## String widgets\n",
    "\n",
    "String widgets are used to display string values. "
   ]
  },
  {
   "cell_type": "markdown",
   "metadata": {},
   "source": [
    "### Textarea to show some text"
   ]
  },
  {
   "cell_type": "code",
   "execution_count": 234,
   "metadata": {},
   "outputs": [
    {
     "data": {
      "application/vnd.jupyter.widget-view+json": {
       "model_id": "51906503138344afbd254ebba0e9e09c",
       "version_major": 2,
       "version_minor": 0
      },
      "text/plain": [
       "Textarea(value='Hello the world!', description='String:', placeholder='Type something')"
      ]
     },
     "metadata": {},
     "output_type": "display_data"
    }
   ],
   "source": [
    "widgets.Textarea(\n",
    "    value='Hello the world!',\n",
    "    placeholder='Type something',\n",
    "    description='String:',\n",
    "    disabled=False\n",
    ")"
   ]
  },
  {
   "cell_type": "markdown",
   "metadata": {},
   "source": [
    "## Other widgets \n",
    "\n",
    "There are many other widgets. For instance, color picker widget, file upload widget and etc. \n",
    "One can find all the information at:\n",
    "\n",
    "[Jupyter Widgets](https://ipywidgets.readthedocs.io/en/latest/index.html)"
   ]
  },
  {
   "cell_type": "markdown",
   "metadata": {},
   "source": [
    "## Layout of widgets\n",
    "\n",
    "In many cases, one need to arrange several widgets together for the tasks. The ipywidgets library \n",
    "also provides functions to order the layout of the widgets. "
   ]
  },
  {
   "cell_type": "markdown",
   "metadata": {},
   "source": [
    "### Arrange four buttons into a 2x2 grid"
   ]
  },
  {
   "cell_type": "code",
   "execution_count": 235,
   "metadata": {},
   "outputs": [
    {
     "data": {
      "application/vnd.jupyter.widget-view+json": {
       "model_id": "ef19abedc32a403fba40c0854b5eca4b",
       "version_major": 2,
       "version_minor": 0
      },
      "text/plain": [
       "TwoByTwoLayout(children=(Button(button_style='info', description='Top left', layout=Layout(grid_area='top-left…"
      ]
     },
     "metadata": {},
     "output_type": "display_data"
    }
   ],
   "source": [
    "from ipywidgets import Button, Layout, jslink, IntText, IntSlider\n",
    "from ipywidgets import TwoByTwoLayout\n",
    "\n",
    "def create_expanded_button(description, button_style):\n",
    "    return Button(description=description, button_style=button_style, layout=Layout(height='auto', width='auto'))\n",
    "\n",
    "top_left_button = create_expanded_button(\"Top left\", 'info')\n",
    "top_right_button = create_expanded_button(\"Top right\", 'success')\n",
    "bottom_left_button = create_expanded_button(\"Bottom left\", 'danger')\n",
    "bottom_right_button = create_expanded_button(\"Bottom right\", 'warning')\n",
    "\n",
    "TwoByTwoLayout(top_left=top_left_button,\n",
    "               top_right=top_right_button,\n",
    "               bottom_left=bottom_left_button,\n",
    "               bottom_right=bottom_right_button)"
   ]
  },
  {
   "cell_type": "markdown",
   "metadata": {},
   "source": [
    "### Create a application-like widget by the AppLayout function"
   ]
  },
  {
   "cell_type": "code",
   "execution_count": 236,
   "metadata": {},
   "outputs": [
    {
     "data": {
      "application/vnd.jupyter.widget-view+json": {
       "model_id": "1ad9fedd0d684a92aa206f85eab2c678",
       "version_major": 2,
       "version_minor": 0
      },
      "text/plain": [
       "AppLayout(children=(Button(button_style='success', description='Header', layout=Layout(grid_area='header', hei…"
      ]
     },
     "metadata": {},
     "output_type": "display_data"
    }
   ],
   "source": [
    "from ipywidgets import AppLayout, Button, Layout\n",
    "\n",
    "header_button = create_expanded_button('Header', 'success')\n",
    "left_button = create_expanded_button('Left', 'info')\n",
    "center_button = create_expanded_button('Center', 'warning')\n",
    "right_button = create_expanded_button('Right', 'info')\n",
    "footer_button = create_expanded_button('Footer', 'success')\n",
    "\n",
    "AppLayout(header=header_button,\n",
    "          left_sidebar=left_button,\n",
    "          center=center_button,\n",
    "          right_sidebar=right_button,\n",
    "          footer=footer_button)"
   ]
  },
  {
   "cell_type": "markdown",
   "metadata": {},
   "source": [
    "## Building a custom widget "
   ]
  },
  {
   "cell_type": "code",
   "execution_count": null,
   "metadata": {},
   "outputs": [],
   "source": []
  },
  {
   "cell_type": "code",
   "execution_count": 304,
   "metadata": {},
   "outputs": [],
   "source": [
    "from traitlets import Unicode, Bool, validate, TraitError\n",
    "from ipywidgets import DOMWidget, register\n",
    "\n",
    "\n",
    "@register\n",
    "class Email(DOMWidget):\n",
    "    _view_name = Unicode('EmailView').tag(sync=True)\n",
    "    _view_module = Unicode('email_widget').tag(sync=True)\n",
    "    _view_module_version = Unicode('0.1.0').tag(sync=True)"
   ]
  },
  {
   "cell_type": "code",
   "execution_count": 305,
   "metadata": {},
   "outputs": [
    {
     "data": {
      "application/javascript": [
       "require.undef('email_widget');\n",
       "\n",
       "define('email_widget', [\"@jupyter-widgets/base\"], function(widgets) {\n",
       "\n",
       "    var EmailView = widgets.DOMWidgetView.extend({\n",
       "\n",
       "        // Render the view.\n",
       "        render: function() {\n",
       "            this.canvas = document.createElement('CANVAS');\n",
       "            this.canvas.height = 150;\n",
       "            this.canvas.width = 150;\n",
       "            this.canvas.style = \"border:10px solid #FF0000\";\n",
       "            this.el.append(this.canvas);\n",
       "        },\n",
       "    });\n",
       "\n",
       "    return {\n",
       "        EmailView: EmailView\n",
       "    };\n",
       "});\n"
      ],
      "text/plain": [
       "<IPython.core.display.Javascript object>"
      ]
     },
     "metadata": {},
     "output_type": "display_data"
    }
   ],
   "source": [
    "%%javascript\n",
    "require.undef('email_widget');\n",
    "\n",
    "define('email_widget', [\"@jupyter-widgets/base\"], function(widgets) {\n",
    "\n",
    "    var EmailView = widgets.DOMWidgetView.extend({\n",
    "\n",
    "        // Render the view.\n",
    "        render: function() {\n",
    "            this.canvas = document.createElement('CANVAS');\n",
    "            this.canvas.height = 150;\n",
    "            this.canvas.width = 150;\n",
    "            this.canvas.style = \"border:10px solid #FF0000\";\n",
    "            this.el.append(this.canvas);\n",
    "        },\n",
    "    });\n",
    "\n",
    "    return {\n",
    "        EmailView: EmailView\n",
    "    };\n",
    "});"
   ]
  },
  {
   "cell_type": "code",
   "execution_count": 306,
   "metadata": {},
   "outputs": [
    {
     "data": {
      "application/vnd.jupyter.widget-view+json": {
       "model_id": "4d7c61d8827640aca26ec331a17d22d9",
       "version_major": 2,
       "version_minor": 0
      },
      "text/plain": [
       "Email()"
      ]
     },
     "metadata": {},
     "output_type": "display_data"
    }
   ],
   "source": [
    "Email()"
   ]
  },
  {
   "cell_type": "code",
   "execution_count": 279,
   "metadata": {},
   "outputs": [],
   "source": [
    "import ipywidgets\n",
    "from traitlets import Int, Unicode, Tuple, CInt, Dict, validate\n",
    "\n",
    "class CircleWidget(ipywidgets.DOMWidget):\n",
    "    _view_name = Unicode('CircleView').tag(sync=True)\n",
    "    _view_module = Unicode('circle').tag(sync=True)\n",
    "    radius = Int(100).tag(sync=True)\n",
    "    circles = Tuple().tag(sync=True)\n",
    "    width = Int().tag(sync=True)\n",
    "    height = Int().tag(sync=True)\n",
    "    radius = Int().tag(sync=True)\n",
    "    def __init__(self, **kwargs):\n",
    "        super(ipywidgets.DOMWidget, self).__init__(**kwargs)\n",
    "        self.width = kwargs.get('width', 500)\n",
    "        self.height = kwargs.get('height', 100)\n",
    "        self.radius = 1\n",
    "    def drawCircle(self, x, y, fillColor=\"white\", borderColor=\"black\"):\n",
    "        newCircle = {\"x\": x,  \"y\": y, \"radius\": self.radius * 10, \"fillColor\": fillColor, \"borderColor\": borderColor}\n",
    "        self.circles = self.circles + (newCircle,)"
   ]
  },
  {
   "cell_type": "code",
   "execution_count": 264,
   "metadata": {},
   "outputs": [
    {
     "data": {
      "application/javascript": [
       "\"use strict\";\n",
       "\n",
       "require.undef('circle');\n",
       "\n",
       "define('circle', [\"@jupyter-widgets/base\", \"d3\"], function(widgets, d3) {\n",
       "\n",
       "    var CircleView = widgets.DOMWidgetView.extend({\n",
       "\n",
       "        initialize: function() {\n",
       "            console.log(\"---- initialize, this:\");\n",
       "            console.log(this);\n",
       "            this.circles = [];\n",
       "            this.radius = 1;\n",
       "            },\n",
       "\n",
       "        createDiv: function(){\n",
       "            var width = this.model.get('width');\n",
       "            var height = this.model.get('height');\n",
       "            var divstyle = $(\"<div id='d3DemoDiv' style='border:1px solid red; height: \" +\n",
       "                             height + \"px; width: \" + width + \"px'>\");\n",
       "            return(divstyle);\n",
       "            },\n",
       "\n",
       "        createCanvas: function(){\n",
       "            var width = this.model.get('width');\n",
       "            var height = this.model.get('height');\n",
       "            var radius = this.model.get('radius');\n",
       "            console.log(\"--SIZE--\", width, 'x', height, \" radius\", radius);\n",
       "            var svg = d3.select(\"#d3DemoDiv\")\n",
       "                        .append(\"svg\")\n",
       "                        .attr(\"id\", \"svg\").attr(\"width\", width).attr(\"height\", height);\n",
       "\n",
       "            this.svg = svg;\n",
       "            var circleView = this;\n",
       "\n",
       "            svg.on('click', function() {\n",
       "                var coords = d3.mouse(this);\n",
       "                //debugger;\n",
       "                var radius = circleView.radius;\n",
       "                console.log('--MOUSE--', coords, \" radius:\", radius);\n",
       "                var newCircle = {x: coords[0], y: coords[1], radius: 10 * radius,\n",
       "                                 borderColor: \"black\", fillColor: \"beige\"};\n",
       "                circleView.circles.push(newCircle);\n",
       "                circleView.drawCircle(newCircle);\n",
       "                //debugger;\n",
       "                circleView.model.set(\"circles\", JSON.stringify(circleView.circles));\n",
       "                circleView.touch();\n",
       "                });\n",
       "           },\n",
       "\n",
       "        drawCircle: function(obj){\n",
       "           this.svg.append(\"circle\")\n",
       "              .style(\"stroke\", \"gray\")\n",
       "              .style(\"fill\", \"white\")\n",
       "              .attr(\"r\", obj.radius)\n",
       "              .attr(\"cx\", obj.x)\n",
       "              .attr(\"cy\", obj.y)\n",
       "              .on(\"mouseover\", function(){d3.select(this).style(\"fill\", \"aliceblue\");})\n",
       "              .on(\"mouseout\",  function(){d3.select(this).style(\"fill\", \"white\");});\n",
       "            },\n",
       "\n",
       "        render: function() {\n",
       "            this.$el.append(this.createDiv());\n",
       "            this.listenTo(this.model, 'change:circles', this._circles_changed, this);\n",
       "            this.listenTo(this.model, 'change:radius', this._radius_changed, this);\n",
       "            var circleView = this;\n",
       "            function myFunc(){\n",
       "               circleView.createCanvas()\n",
       "               };\n",
       "            setTimeout(myFunc, 500);\n",
       "            },\n",
       "\n",
       "        _circles_changed: function() {\n",
       "           var circles = this.model.get(\"circles\");\n",
       "           var newCircle = circles[circles.length-1];\n",
       "           console.log('--DRAW--', this.circles);\n",
       "           this.circles.push(newCircle);\n",
       "           console.log('--LENGTH--', circles.length, \" == \", circles.length);\n",
       "           this.drawCircle(newCircle);\n",
       "           },\n",
       "\n",
       "        _radius_changed: function() {\n",
       "           console.log('--RADIUS--', this.radius, this.model.get('radius'));\n",
       "           this.radius = this.model.get('radius');\n",
       "           }\n",
       "    });\n",
       "    return {\n",
       "        CircleView : CircleView\n",
       "    };\n",
       "});\n"
      ],
      "text/plain": [
       "<IPython.core.display.Javascript object>"
      ]
     },
     "metadata": {},
     "output_type": "display_data"
    }
   ],
   "source": [
    "%%javascript\n",
    "\"use strict\";\n",
    "\n",
    "require.undef('circle');\n",
    "\n",
    "define('circle', [\"@jupyter-widgets/base\", \"d3\"], function(widgets, d3) {\n",
    "\n",
    "    var CircleView = widgets.DOMWidgetView.extend({\n",
    "\n",
    "        initialize: function() {\n",
    "            console.log(\"---- initialize, this:\");\n",
    "            console.log(this);\n",
    "            this.circles = [];\n",
    "            this.radius = 1;\n",
    "            },\n",
    "\n",
    "        createDiv: function(){\n",
    "            var width = this.model.get('width');\n",
    "            var height = this.model.get('height');\n",
    "            var divstyle = $(\"<div id='d3DemoDiv' style='border:1px solid red; height: \" +\n",
    "                             height + \"px; width: \" + width + \"px'>\");\n",
    "            return(divstyle);\n",
    "            },\n",
    "\n",
    "        createCanvas: function(){\n",
    "            var width = this.model.get('width');\n",
    "            var height = this.model.get('height');\n",
    "            var radius = this.model.get('radius');\n",
    "            console.log(\"--SIZE--\", width, 'x', height, \" radius\", radius);\n",
    "            var svg = d3.select(\"#d3DemoDiv\")\n",
    "                        .append(\"svg\")\n",
    "                        .attr(\"id\", \"svg\").attr(\"width\", width).attr(\"height\", height);\n",
    "\n",
    "            this.svg = svg;\n",
    "            var circleView = this;\n",
    "\n",
    "            svg.on('click', function() {\n",
    "                var coords = d3.mouse(this);\n",
    "                //debugger;\n",
    "                var radius = circleView.radius;\n",
    "                console.log('--MOUSE--', coords, \" radius:\", radius);\n",
    "                var newCircle = {x: coords[0], y: coords[1], radius: 10 * radius,\n",
    "                                 borderColor: \"black\", fillColor: \"beige\"};\n",
    "                circleView.circles.push(newCircle);\n",
    "                circleView.drawCircle(newCircle);\n",
    "                //debugger;\n",
    "                circleView.model.set(\"circles\", JSON.stringify(circleView.circles));\n",
    "                circleView.touch();\n",
    "                });\n",
    "           },\n",
    "\n",
    "        drawCircle: function(obj){\n",
    "           this.svg.append(\"circle\")\n",
    "              .style(\"stroke\", \"gray\")\n",
    "              .style(\"fill\", \"white\")\n",
    "              .attr(\"r\", obj.radius)\n",
    "              .attr(\"cx\", obj.x)\n",
    "              .attr(\"cy\", obj.y)\n",
    "              .on(\"mouseover\", function(){d3.select(this).style(\"fill\", \"aliceblue\");})\n",
    "              .on(\"mouseout\",  function(){d3.select(this).style(\"fill\", \"white\");});\n",
    "            },\n",
    "\n",
    "        render: function() {\n",
    "            this.$el.append(this.createDiv());\n",
    "            this.listenTo(this.model, 'change:circles', this._circles_changed, this);\n",
    "            this.listenTo(this.model, 'change:radius', this._radius_changed, this);\n",
    "            var circleView = this;\n",
    "            function myFunc(){\n",
    "               circleView.createCanvas()\n",
    "               };\n",
    "            setTimeout(myFunc, 500);\n",
    "            },\n",
    "\n",
    "        _circles_changed: function() {\n",
    "           var circles = this.model.get(\"circles\");\n",
    "           var newCircle = circles[circles.length-1];\n",
    "           console.log('--DRAW--', this.circles);\n",
    "           this.circles.push(newCircle);\n",
    "           console.log('--LENGTH--', circles.length, \" == \", circles.length);\n",
    "           this.drawCircle(newCircle);\n",
    "           },\n",
    "\n",
    "        _radius_changed: function() {\n",
    "           console.log('--RADIUS--', this.radius, this.model.get('radius'));\n",
    "           this.radius = this.model.get('radius');\n",
    "           }\n",
    "    });\n",
    "    return {\n",
    "        CircleView : CircleView\n",
    "    };\n",
    "});"
   ]
  },
  {
   "cell_type": "code",
   "execution_count": 269,
   "metadata": {},
   "outputs": [
    {
     "data": {
      "application/vnd.jupyter.widget-view+json": {
       "model_id": "6ac310a26c78471f8761046252df89c0",
       "version_major": 2,
       "version_minor": 0
      },
      "text/plain": [
       "CircleWidget(circles=({'x': 100, 'y': 100, 'radius': 10, 'fillColor': 'white', 'borderColor': 'black'},), heig…"
      ]
     },
     "metadata": {},
     "output_type": "display_data"
    }
   ],
   "source": [
    "cw = CircleWidget(width=500, height=100)\n",
    "cw.drawCircle(x=100, y=100)\n",
    "display(cw)"
   ]
  },
  {
   "cell_type": "code",
   "execution_count": null,
   "metadata": {},
   "outputs": [],
   "source": []
  },
  {
   "cell_type": "code",
   "execution_count": null,
   "metadata": {},
   "outputs": [],
   "source": []
  },
  {
   "cell_type": "code",
   "execution_count": null,
   "metadata": {},
   "outputs": [],
   "source": []
  },
  {
   "cell_type": "code",
   "execution_count": null,
   "metadata": {},
   "outputs": [],
   "source": []
  },
  {
   "cell_type": "markdown",
   "metadata": {},
   "source": [
    "## A example to show the application of the widgets"
   ]
  },
  {
   "cell_type": "markdown",
   "metadata": {},
   "source": [
    "## Here is a interactive figure for sine function"
   ]
  },
  {
   "cell_type": "code",
   "execution_count": 56,
   "metadata": {},
   "outputs": [
    {
     "data": {
      "application/javascript": [
       "/* Put everything inside the global mpl namespace */\n",
       "window.mpl = {};\n",
       "\n",
       "\n",
       "mpl.get_websocket_type = function() {\n",
       "    if (typeof(WebSocket) !== 'undefined') {\n",
       "        return WebSocket;\n",
       "    } else if (typeof(MozWebSocket) !== 'undefined') {\n",
       "        return MozWebSocket;\n",
       "    } else {\n",
       "        alert('Your browser does not have WebSocket support. ' +\n",
       "              'Please try Chrome, Safari or Firefox ≥ 6. ' +\n",
       "              'Firefox 4 and 5 are also supported but you ' +\n",
       "              'have to enable WebSockets in about:config.');\n",
       "    };\n",
       "}\n",
       "\n",
       "mpl.figure = function(figure_id, websocket, ondownload, parent_element) {\n",
       "    this.id = figure_id;\n",
       "\n",
       "    this.ws = websocket;\n",
       "\n",
       "    this.supports_binary = (this.ws.binaryType != undefined);\n",
       "\n",
       "    if (!this.supports_binary) {\n",
       "        var warnings = document.getElementById(\"mpl-warnings\");\n",
       "        if (warnings) {\n",
       "            warnings.style.display = 'block';\n",
       "            warnings.textContent = (\n",
       "                \"This browser does not support binary websocket messages. \" +\n",
       "                    \"Performance may be slow.\");\n",
       "        }\n",
       "    }\n",
       "\n",
       "    this.imageObj = new Image();\n",
       "\n",
       "    this.context = undefined;\n",
       "    this.message = undefined;\n",
       "    this.canvas = undefined;\n",
       "    this.rubberband_canvas = undefined;\n",
       "    this.rubberband_context = undefined;\n",
       "    this.format_dropdown = undefined;\n",
       "\n",
       "    this.image_mode = 'full';\n",
       "\n",
       "    this.root = $('<div/>');\n",
       "    this._root_extra_style(this.root)\n",
       "    this.root.attr('style', 'display: inline-block');\n",
       "\n",
       "    $(parent_element).append(this.root);\n",
       "\n",
       "    this._init_header(this);\n",
       "    this._init_canvas(this);\n",
       "    this._init_toolbar(this);\n",
       "\n",
       "    var fig = this;\n",
       "\n",
       "    this.waiting = false;\n",
       "\n",
       "    this.ws.onopen =  function () {\n",
       "            fig.send_message(\"supports_binary\", {value: fig.supports_binary});\n",
       "            fig.send_message(\"send_image_mode\", {});\n",
       "            if (mpl.ratio != 1) {\n",
       "                fig.send_message(\"set_dpi_ratio\", {'dpi_ratio': mpl.ratio});\n",
       "            }\n",
       "            fig.send_message(\"refresh\", {});\n",
       "        }\n",
       "\n",
       "    this.imageObj.onload = function() {\n",
       "            if (fig.image_mode == 'full') {\n",
       "                // Full images could contain transparency (where diff images\n",
       "                // almost always do), so we need to clear the canvas so that\n",
       "                // there is no ghosting.\n",
       "                fig.context.clearRect(0, 0, fig.canvas.width, fig.canvas.height);\n",
       "            }\n",
       "            fig.context.drawImage(fig.imageObj, 0, 0);\n",
       "        };\n",
       "\n",
       "    this.imageObj.onunload = function() {\n",
       "        fig.ws.close();\n",
       "    }\n",
       "\n",
       "    this.ws.onmessage = this._make_on_message_function(this);\n",
       "\n",
       "    this.ondownload = ondownload;\n",
       "}\n",
       "\n",
       "mpl.figure.prototype._init_header = function() {\n",
       "    var titlebar = $(\n",
       "        '<div class=\"ui-dialog-titlebar ui-widget-header ui-corner-all ' +\n",
       "        'ui-helper-clearfix\"/>');\n",
       "    var titletext = $(\n",
       "        '<div class=\"ui-dialog-title\" style=\"width: 100%; ' +\n",
       "        'text-align: center; padding: 3px;\"/>');\n",
       "    titlebar.append(titletext)\n",
       "    this.root.append(titlebar);\n",
       "    this.header = titletext[0];\n",
       "}\n",
       "\n",
       "\n",
       "\n",
       "mpl.figure.prototype._canvas_extra_style = function(canvas_div) {\n",
       "\n",
       "}\n",
       "\n",
       "\n",
       "mpl.figure.prototype._root_extra_style = function(canvas_div) {\n",
       "\n",
       "}\n",
       "\n",
       "mpl.figure.prototype._init_canvas = function() {\n",
       "    var fig = this;\n",
       "\n",
       "    var canvas_div = $('<div/>');\n",
       "\n",
       "    canvas_div.attr('style', 'position: relative; clear: both; outline: 0');\n",
       "\n",
       "    function canvas_keyboard_event(event) {\n",
       "        return fig.key_event(event, event['data']);\n",
       "    }\n",
       "\n",
       "    canvas_div.keydown('key_press', canvas_keyboard_event);\n",
       "    canvas_div.keyup('key_release', canvas_keyboard_event);\n",
       "    this.canvas_div = canvas_div\n",
       "    this._canvas_extra_style(canvas_div)\n",
       "    this.root.append(canvas_div);\n",
       "\n",
       "    var canvas = $('<canvas/>');\n",
       "    canvas.addClass('mpl-canvas');\n",
       "    canvas.attr('style', \"left: 0; top: 0; z-index: 0; outline: 0\")\n",
       "\n",
       "    this.canvas = canvas[0];\n",
       "    this.context = canvas[0].getContext(\"2d\");\n",
       "\n",
       "    var backingStore = this.context.backingStorePixelRatio ||\n",
       "\tthis.context.webkitBackingStorePixelRatio ||\n",
       "\tthis.context.mozBackingStorePixelRatio ||\n",
       "\tthis.context.msBackingStorePixelRatio ||\n",
       "\tthis.context.oBackingStorePixelRatio ||\n",
       "\tthis.context.backingStorePixelRatio || 1;\n",
       "\n",
       "    mpl.ratio = (window.devicePixelRatio || 1) / backingStore;\n",
       "\n",
       "    var rubberband = $('<canvas/>');\n",
       "    rubberband.attr('style', \"position: absolute; left: 0; top: 0; z-index: 1;\")\n",
       "\n",
       "    var pass_mouse_events = true;\n",
       "\n",
       "    canvas_div.resizable({\n",
       "        start: function(event, ui) {\n",
       "            pass_mouse_events = false;\n",
       "        },\n",
       "        resize: function(event, ui) {\n",
       "            fig.request_resize(ui.size.width, ui.size.height);\n",
       "        },\n",
       "        stop: function(event, ui) {\n",
       "            pass_mouse_events = true;\n",
       "            fig.request_resize(ui.size.width, ui.size.height);\n",
       "        },\n",
       "    });\n",
       "\n",
       "    function mouse_event_fn(event) {\n",
       "        if (pass_mouse_events)\n",
       "            return fig.mouse_event(event, event['data']);\n",
       "    }\n",
       "\n",
       "    rubberband.mousedown('button_press', mouse_event_fn);\n",
       "    rubberband.mouseup('button_release', mouse_event_fn);\n",
       "    // Throttle sequential mouse events to 1 every 20ms.\n",
       "    rubberband.mousemove('motion_notify', mouse_event_fn);\n",
       "\n",
       "    rubberband.mouseenter('figure_enter', mouse_event_fn);\n",
       "    rubberband.mouseleave('figure_leave', mouse_event_fn);\n",
       "\n",
       "    canvas_div.on(\"wheel\", function (event) {\n",
       "        event = event.originalEvent;\n",
       "        event['data'] = 'scroll'\n",
       "        if (event.deltaY < 0) {\n",
       "            event.step = 1;\n",
       "        } else {\n",
       "            event.step = -1;\n",
       "        }\n",
       "        mouse_event_fn(event);\n",
       "    });\n",
       "\n",
       "    canvas_div.append(canvas);\n",
       "    canvas_div.append(rubberband);\n",
       "\n",
       "    this.rubberband = rubberband;\n",
       "    this.rubberband_canvas = rubberband[0];\n",
       "    this.rubberband_context = rubberband[0].getContext(\"2d\");\n",
       "    this.rubberband_context.strokeStyle = \"#000000\";\n",
       "\n",
       "    this._resize_canvas = function(width, height) {\n",
       "        // Keep the size of the canvas, canvas container, and rubber band\n",
       "        // canvas in synch.\n",
       "        canvas_div.css('width', width)\n",
       "        canvas_div.css('height', height)\n",
       "\n",
       "        canvas.attr('width', width * mpl.ratio);\n",
       "        canvas.attr('height', height * mpl.ratio);\n",
       "        canvas.attr('style', 'width: ' + width + 'px; height: ' + height + 'px;');\n",
       "\n",
       "        rubberband.attr('width', width);\n",
       "        rubberband.attr('height', height);\n",
       "    }\n",
       "\n",
       "    // Set the figure to an initial 600x600px, this will subsequently be updated\n",
       "    // upon first draw.\n",
       "    this._resize_canvas(600, 600);\n",
       "\n",
       "    // Disable right mouse context menu.\n",
       "    $(this.rubberband_canvas).bind(\"contextmenu\",function(e){\n",
       "        return false;\n",
       "    });\n",
       "\n",
       "    function set_focus () {\n",
       "        canvas.focus();\n",
       "        canvas_div.focus();\n",
       "    }\n",
       "\n",
       "    window.setTimeout(set_focus, 100);\n",
       "}\n",
       "\n",
       "mpl.figure.prototype._init_toolbar = function() {\n",
       "    var fig = this;\n",
       "\n",
       "    var nav_element = $('<div/>');\n",
       "    nav_element.attr('style', 'width: 100%');\n",
       "    this.root.append(nav_element);\n",
       "\n",
       "    // Define a callback function for later on.\n",
       "    function toolbar_event(event) {\n",
       "        return fig.toolbar_button_onclick(event['data']);\n",
       "    }\n",
       "    function toolbar_mouse_event(event) {\n",
       "        return fig.toolbar_button_onmouseover(event['data']);\n",
       "    }\n",
       "\n",
       "    for(var toolbar_ind in mpl.toolbar_items) {\n",
       "        var name = mpl.toolbar_items[toolbar_ind][0];\n",
       "        var tooltip = mpl.toolbar_items[toolbar_ind][1];\n",
       "        var image = mpl.toolbar_items[toolbar_ind][2];\n",
       "        var method_name = mpl.toolbar_items[toolbar_ind][3];\n",
       "\n",
       "        if (!name) {\n",
       "            // put a spacer in here.\n",
       "            continue;\n",
       "        }\n",
       "        var button = $('<button/>');\n",
       "        button.addClass('ui-button ui-widget ui-state-default ui-corner-all ' +\n",
       "                        'ui-button-icon-only');\n",
       "        button.attr('role', 'button');\n",
       "        button.attr('aria-disabled', 'false');\n",
       "        button.click(method_name, toolbar_event);\n",
       "        button.mouseover(tooltip, toolbar_mouse_event);\n",
       "\n",
       "        var icon_img = $('<span/>');\n",
       "        icon_img.addClass('ui-button-icon-primary ui-icon');\n",
       "        icon_img.addClass(image);\n",
       "        icon_img.addClass('ui-corner-all');\n",
       "\n",
       "        var tooltip_span = $('<span/>');\n",
       "        tooltip_span.addClass('ui-button-text');\n",
       "        tooltip_span.html(tooltip);\n",
       "\n",
       "        button.append(icon_img);\n",
       "        button.append(tooltip_span);\n",
       "\n",
       "        nav_element.append(button);\n",
       "    }\n",
       "\n",
       "    var fmt_picker_span = $('<span/>');\n",
       "\n",
       "    var fmt_picker = $('<select/>');\n",
       "    fmt_picker.addClass('mpl-toolbar-option ui-widget ui-widget-content');\n",
       "    fmt_picker_span.append(fmt_picker);\n",
       "    nav_element.append(fmt_picker_span);\n",
       "    this.format_dropdown = fmt_picker[0];\n",
       "\n",
       "    for (var ind in mpl.extensions) {\n",
       "        var fmt = mpl.extensions[ind];\n",
       "        var option = $(\n",
       "            '<option/>', {selected: fmt === mpl.default_extension}).html(fmt);\n",
       "        fmt_picker.append(option);\n",
       "    }\n",
       "\n",
       "    // Add hover states to the ui-buttons\n",
       "    $( \".ui-button\" ).hover(\n",
       "        function() { $(this).addClass(\"ui-state-hover\");},\n",
       "        function() { $(this).removeClass(\"ui-state-hover\");}\n",
       "    );\n",
       "\n",
       "    var status_bar = $('<span class=\"mpl-message\"/>');\n",
       "    nav_element.append(status_bar);\n",
       "    this.message = status_bar[0];\n",
       "}\n",
       "\n",
       "mpl.figure.prototype.request_resize = function(x_pixels, y_pixels) {\n",
       "    // Request matplotlib to resize the figure. Matplotlib will then trigger a resize in the client,\n",
       "    // which will in turn request a refresh of the image.\n",
       "    this.send_message('resize', {'width': x_pixels, 'height': y_pixels});\n",
       "}\n",
       "\n",
       "mpl.figure.prototype.send_message = function(type, properties) {\n",
       "    properties['type'] = type;\n",
       "    properties['figure_id'] = this.id;\n",
       "    this.ws.send(JSON.stringify(properties));\n",
       "}\n",
       "\n",
       "mpl.figure.prototype.send_draw_message = function() {\n",
       "    if (!this.waiting) {\n",
       "        this.waiting = true;\n",
       "        this.ws.send(JSON.stringify({type: \"draw\", figure_id: this.id}));\n",
       "    }\n",
       "}\n",
       "\n",
       "\n",
       "mpl.figure.prototype.handle_save = function(fig, msg) {\n",
       "    var format_dropdown = fig.format_dropdown;\n",
       "    var format = format_dropdown.options[format_dropdown.selectedIndex].value;\n",
       "    fig.ondownload(fig, format);\n",
       "}\n",
       "\n",
       "\n",
       "mpl.figure.prototype.handle_resize = function(fig, msg) {\n",
       "    var size = msg['size'];\n",
       "    if (size[0] != fig.canvas.width || size[1] != fig.canvas.height) {\n",
       "        fig._resize_canvas(size[0], size[1]);\n",
       "        fig.send_message(\"refresh\", {});\n",
       "    };\n",
       "}\n",
       "\n",
       "mpl.figure.prototype.handle_rubberband = function(fig, msg) {\n",
       "    var x0 = msg['x0'] / mpl.ratio;\n",
       "    var y0 = (fig.canvas.height - msg['y0']) / mpl.ratio;\n",
       "    var x1 = msg['x1'] / mpl.ratio;\n",
       "    var y1 = (fig.canvas.height - msg['y1']) / mpl.ratio;\n",
       "    x0 = Math.floor(x0) + 0.5;\n",
       "    y0 = Math.floor(y0) + 0.5;\n",
       "    x1 = Math.floor(x1) + 0.5;\n",
       "    y1 = Math.floor(y1) + 0.5;\n",
       "    var min_x = Math.min(x0, x1);\n",
       "    var min_y = Math.min(y0, y1);\n",
       "    var width = Math.abs(x1 - x0);\n",
       "    var height = Math.abs(y1 - y0);\n",
       "\n",
       "    fig.rubberband_context.clearRect(\n",
       "        0, 0, fig.canvas.width, fig.canvas.height);\n",
       "\n",
       "    fig.rubberband_context.strokeRect(min_x, min_y, width, height);\n",
       "}\n",
       "\n",
       "mpl.figure.prototype.handle_figure_label = function(fig, msg) {\n",
       "    // Updates the figure title.\n",
       "    fig.header.textContent = msg['label'];\n",
       "}\n",
       "\n",
       "mpl.figure.prototype.handle_cursor = function(fig, msg) {\n",
       "    var cursor = msg['cursor'];\n",
       "    switch(cursor)\n",
       "    {\n",
       "    case 0:\n",
       "        cursor = 'pointer';\n",
       "        break;\n",
       "    case 1:\n",
       "        cursor = 'default';\n",
       "        break;\n",
       "    case 2:\n",
       "        cursor = 'crosshair';\n",
       "        break;\n",
       "    case 3:\n",
       "        cursor = 'move';\n",
       "        break;\n",
       "    }\n",
       "    fig.rubberband_canvas.style.cursor = cursor;\n",
       "}\n",
       "\n",
       "mpl.figure.prototype.handle_message = function(fig, msg) {\n",
       "    fig.message.textContent = msg['message'];\n",
       "}\n",
       "\n",
       "mpl.figure.prototype.handle_draw = function(fig, msg) {\n",
       "    // Request the server to send over a new figure.\n",
       "    fig.send_draw_message();\n",
       "}\n",
       "\n",
       "mpl.figure.prototype.handle_image_mode = function(fig, msg) {\n",
       "    fig.image_mode = msg['mode'];\n",
       "}\n",
       "\n",
       "mpl.figure.prototype.updated_canvas_event = function() {\n",
       "    // Called whenever the canvas gets updated.\n",
       "    this.send_message(\"ack\", {});\n",
       "}\n",
       "\n",
       "// A function to construct a web socket function for onmessage handling.\n",
       "// Called in the figure constructor.\n",
       "mpl.figure.prototype._make_on_message_function = function(fig) {\n",
       "    return function socket_on_message(evt) {\n",
       "        if (evt.data instanceof Blob) {\n",
       "            /* FIXME: We get \"Resource interpreted as Image but\n",
       "             * transferred with MIME type text/plain:\" errors on\n",
       "             * Chrome.  But how to set the MIME type?  It doesn't seem\n",
       "             * to be part of the websocket stream */\n",
       "            evt.data.type = \"image/png\";\n",
       "\n",
       "            /* Free the memory for the previous frames */\n",
       "            if (fig.imageObj.src) {\n",
       "                (window.URL || window.webkitURL).revokeObjectURL(\n",
       "                    fig.imageObj.src);\n",
       "            }\n",
       "\n",
       "            fig.imageObj.src = (window.URL || window.webkitURL).createObjectURL(\n",
       "                evt.data);\n",
       "            fig.updated_canvas_event();\n",
       "            fig.waiting = false;\n",
       "            return;\n",
       "        }\n",
       "        else if (typeof evt.data === 'string' && evt.data.slice(0, 21) == \"data:image/png;base64\") {\n",
       "            fig.imageObj.src = evt.data;\n",
       "            fig.updated_canvas_event();\n",
       "            fig.waiting = false;\n",
       "            return;\n",
       "        }\n",
       "\n",
       "        var msg = JSON.parse(evt.data);\n",
       "        var msg_type = msg['type'];\n",
       "\n",
       "        // Call the  \"handle_{type}\" callback, which takes\n",
       "        // the figure and JSON message as its only arguments.\n",
       "        try {\n",
       "            var callback = fig[\"handle_\" + msg_type];\n",
       "        } catch (e) {\n",
       "            console.log(\"No handler for the '\" + msg_type + \"' message type: \", msg);\n",
       "            return;\n",
       "        }\n",
       "\n",
       "        if (callback) {\n",
       "            try {\n",
       "                // console.log(\"Handling '\" + msg_type + \"' message: \", msg);\n",
       "                callback(fig, msg);\n",
       "            } catch (e) {\n",
       "                console.log(\"Exception inside the 'handler_\" + msg_type + \"' callback:\", e, e.stack, msg);\n",
       "            }\n",
       "        }\n",
       "    };\n",
       "}\n",
       "\n",
       "// from http://stackoverflow.com/questions/1114465/getting-mouse-location-in-canvas\n",
       "mpl.findpos = function(e) {\n",
       "    //this section is from http://www.quirksmode.org/js/events_properties.html\n",
       "    var targ;\n",
       "    if (!e)\n",
       "        e = window.event;\n",
       "    if (e.target)\n",
       "        targ = e.target;\n",
       "    else if (e.srcElement)\n",
       "        targ = e.srcElement;\n",
       "    if (targ.nodeType == 3) // defeat Safari bug\n",
       "        targ = targ.parentNode;\n",
       "\n",
       "    // jQuery normalizes the pageX and pageY\n",
       "    // pageX,Y are the mouse positions relative to the document\n",
       "    // offset() returns the position of the element relative to the document\n",
       "    var x = e.pageX - $(targ).offset().left;\n",
       "    var y = e.pageY - $(targ).offset().top;\n",
       "\n",
       "    return {\"x\": x, \"y\": y};\n",
       "};\n",
       "\n",
       "/*\n",
       " * return a copy of an object with only non-object keys\n",
       " * we need this to avoid circular references\n",
       " * http://stackoverflow.com/a/24161582/3208463\n",
       " */\n",
       "function simpleKeys (original) {\n",
       "  return Object.keys(original).reduce(function (obj, key) {\n",
       "    if (typeof original[key] !== 'object')\n",
       "        obj[key] = original[key]\n",
       "    return obj;\n",
       "  }, {});\n",
       "}\n",
       "\n",
       "mpl.figure.prototype.mouse_event = function(event, name) {\n",
       "    var canvas_pos = mpl.findpos(event)\n",
       "\n",
       "    if (name === 'button_press')\n",
       "    {\n",
       "        this.canvas.focus();\n",
       "        this.canvas_div.focus();\n",
       "    }\n",
       "\n",
       "    var x = canvas_pos.x * mpl.ratio;\n",
       "    var y = canvas_pos.y * mpl.ratio;\n",
       "\n",
       "    this.send_message(name, {x: x, y: y, button: event.button,\n",
       "                             step: event.step,\n",
       "                             guiEvent: simpleKeys(event)});\n",
       "\n",
       "    /* This prevents the web browser from automatically changing to\n",
       "     * the text insertion cursor when the button is pressed.  We want\n",
       "     * to control all of the cursor setting manually through the\n",
       "     * 'cursor' event from matplotlib */\n",
       "    event.preventDefault();\n",
       "    return false;\n",
       "}\n",
       "\n",
       "mpl.figure.prototype._key_event_extra = function(event, name) {\n",
       "    // Handle any extra behaviour associated with a key event\n",
       "}\n",
       "\n",
       "mpl.figure.prototype.key_event = function(event, name) {\n",
       "\n",
       "    // Prevent repeat events\n",
       "    if (name == 'key_press')\n",
       "    {\n",
       "        if (event.which === this._key)\n",
       "            return;\n",
       "        else\n",
       "            this._key = event.which;\n",
       "    }\n",
       "    if (name == 'key_release')\n",
       "        this._key = null;\n",
       "\n",
       "    var value = '';\n",
       "    if (event.ctrlKey && event.which != 17)\n",
       "        value += \"ctrl+\";\n",
       "    if (event.altKey && event.which != 18)\n",
       "        value += \"alt+\";\n",
       "    if (event.shiftKey && event.which != 16)\n",
       "        value += \"shift+\";\n",
       "\n",
       "    value += 'k';\n",
       "    value += event.which.toString();\n",
       "\n",
       "    this._key_event_extra(event, name);\n",
       "\n",
       "    this.send_message(name, {key: value,\n",
       "                             guiEvent: simpleKeys(event)});\n",
       "    return false;\n",
       "}\n",
       "\n",
       "mpl.figure.prototype.toolbar_button_onclick = function(name) {\n",
       "    if (name == 'download') {\n",
       "        this.handle_save(this, null);\n",
       "    } else {\n",
       "        this.send_message(\"toolbar_button\", {name: name});\n",
       "    }\n",
       "};\n",
       "\n",
       "mpl.figure.prototype.toolbar_button_onmouseover = function(tooltip) {\n",
       "    this.message.textContent = tooltip;\n",
       "};\n",
       "mpl.toolbar_items = [[\"Home\", \"Reset original view\", \"fa fa-home icon-home\", \"home\"], [\"Back\", \"Back to previous view\", \"fa fa-arrow-left icon-arrow-left\", \"back\"], [\"Forward\", \"Forward to next view\", \"fa fa-arrow-right icon-arrow-right\", \"forward\"], [\"\", \"\", \"\", \"\"], [\"Pan\", \"Pan axes with left mouse, zoom with right\", \"fa fa-arrows icon-move\", \"pan\"], [\"Zoom\", \"Zoom to rectangle\", \"fa fa-square-o icon-check-empty\", \"zoom\"], [\"\", \"\", \"\", \"\"], [\"Download\", \"Download plot\", \"fa fa-floppy-o icon-save\", \"download\"]];\n",
       "\n",
       "mpl.extensions = [\"eps\", \"jpeg\", \"pdf\", \"png\", \"ps\", \"raw\", \"svg\", \"tif\"];\n",
       "\n",
       "mpl.default_extension = \"png\";var comm_websocket_adapter = function(comm) {\n",
       "    // Create a \"websocket\"-like object which calls the given IPython comm\n",
       "    // object with the appropriate methods. Currently this is a non binary\n",
       "    // socket, so there is still some room for performance tuning.\n",
       "    var ws = {};\n",
       "\n",
       "    ws.close = function() {\n",
       "        comm.close()\n",
       "    };\n",
       "    ws.send = function(m) {\n",
       "        //console.log('sending', m);\n",
       "        comm.send(m);\n",
       "    };\n",
       "    // Register the callback with on_msg.\n",
       "    comm.on_msg(function(msg) {\n",
       "        //console.log('receiving', msg['content']['data'], msg);\n",
       "        // Pass the mpl event to the overridden (by mpl) onmessage function.\n",
       "        ws.onmessage(msg['content']['data'])\n",
       "    });\n",
       "    return ws;\n",
       "}\n",
       "\n",
       "mpl.mpl_figure_comm = function(comm, msg) {\n",
       "    // This is the function which gets called when the mpl process\n",
       "    // starts-up an IPython Comm through the \"matplotlib\" channel.\n",
       "\n",
       "    var id = msg.content.data.id;\n",
       "    // Get hold of the div created by the display call when the Comm\n",
       "    // socket was opened in Python.\n",
       "    var element = $(\"#\" + id);\n",
       "    var ws_proxy = comm_websocket_adapter(comm)\n",
       "\n",
       "    function ondownload(figure, format) {\n",
       "        window.open(figure.imageObj.src);\n",
       "    }\n",
       "\n",
       "    var fig = new mpl.figure(id, ws_proxy,\n",
       "                           ondownload,\n",
       "                           element.get(0));\n",
       "\n",
       "    // Call onopen now - mpl needs it, as it is assuming we've passed it a real\n",
       "    // web socket which is closed, not our websocket->open comm proxy.\n",
       "    ws_proxy.onopen();\n",
       "\n",
       "    fig.parent_element = element.get(0);\n",
       "    fig.cell_info = mpl.find_output_cell(\"<div id='\" + id + \"'></div>\");\n",
       "    if (!fig.cell_info) {\n",
       "        console.error(\"Failed to find cell for figure\", id, fig);\n",
       "        return;\n",
       "    }\n",
       "\n",
       "    var output_index = fig.cell_info[2]\n",
       "    var cell = fig.cell_info[0];\n",
       "\n",
       "};\n",
       "\n",
       "mpl.figure.prototype.handle_close = function(fig, msg) {\n",
       "    var width = fig.canvas.width/mpl.ratio\n",
       "    fig.root.unbind('remove')\n",
       "\n",
       "    // Update the output cell to use the data from the current canvas.\n",
       "    fig.push_to_output();\n",
       "    var dataURL = fig.canvas.toDataURL();\n",
       "    // Re-enable the keyboard manager in IPython - without this line, in FF,\n",
       "    // the notebook keyboard shortcuts fail.\n",
       "    IPython.keyboard_manager.enable()\n",
       "    $(fig.parent_element).html('<img src=\"' + dataURL + '\" width=\"' + width + '\">');\n",
       "    fig.close_ws(fig, msg);\n",
       "}\n",
       "\n",
       "mpl.figure.prototype.close_ws = function(fig, msg){\n",
       "    fig.send_message('closing', msg);\n",
       "    // fig.ws.close()\n",
       "}\n",
       "\n",
       "mpl.figure.prototype.push_to_output = function(remove_interactive) {\n",
       "    // Turn the data on the canvas into data in the output cell.\n",
       "    var width = this.canvas.width/mpl.ratio\n",
       "    var dataURL = this.canvas.toDataURL();\n",
       "    this.cell_info[1]['text/html'] = '<img src=\"' + dataURL + '\" width=\"' + width + '\">';\n",
       "}\n",
       "\n",
       "mpl.figure.prototype.updated_canvas_event = function() {\n",
       "    // Tell IPython that the notebook contents must change.\n",
       "    IPython.notebook.set_dirty(true);\n",
       "    this.send_message(\"ack\", {});\n",
       "    var fig = this;\n",
       "    // Wait a second, then push the new image to the DOM so\n",
       "    // that it is saved nicely (might be nice to debounce this).\n",
       "    setTimeout(function () { fig.push_to_output() }, 1000);\n",
       "}\n",
       "\n",
       "mpl.figure.prototype._init_toolbar = function() {\n",
       "    var fig = this;\n",
       "\n",
       "    var nav_element = $('<div/>');\n",
       "    nav_element.attr('style', 'width: 100%');\n",
       "    this.root.append(nav_element);\n",
       "\n",
       "    // Define a callback function for later on.\n",
       "    function toolbar_event(event) {\n",
       "        return fig.toolbar_button_onclick(event['data']);\n",
       "    }\n",
       "    function toolbar_mouse_event(event) {\n",
       "        return fig.toolbar_button_onmouseover(event['data']);\n",
       "    }\n",
       "\n",
       "    for(var toolbar_ind in mpl.toolbar_items){\n",
       "        var name = mpl.toolbar_items[toolbar_ind][0];\n",
       "        var tooltip = mpl.toolbar_items[toolbar_ind][1];\n",
       "        var image = mpl.toolbar_items[toolbar_ind][2];\n",
       "        var method_name = mpl.toolbar_items[toolbar_ind][3];\n",
       "\n",
       "        if (!name) { continue; };\n",
       "\n",
       "        var button = $('<button class=\"btn btn-default\" href=\"#\" title=\"' + name + '\"><i class=\"fa ' + image + ' fa-lg\"></i></button>');\n",
       "        button.click(method_name, toolbar_event);\n",
       "        button.mouseover(tooltip, toolbar_mouse_event);\n",
       "        nav_element.append(button);\n",
       "    }\n",
       "\n",
       "    // Add the status bar.\n",
       "    var status_bar = $('<span class=\"mpl-message\" style=\"text-align:right; float: right;\"/>');\n",
       "    nav_element.append(status_bar);\n",
       "    this.message = status_bar[0];\n",
       "\n",
       "    // Add the close button to the window.\n",
       "    var buttongrp = $('<div class=\"btn-group inline pull-right\"></div>');\n",
       "    var button = $('<button class=\"btn btn-mini btn-primary\" href=\"#\" title=\"Stop Interaction\"><i class=\"fa fa-power-off icon-remove icon-large\"></i></button>');\n",
       "    button.click(function (evt) { fig.handle_close(fig, {}); } );\n",
       "    button.mouseover('Stop Interaction', toolbar_mouse_event);\n",
       "    buttongrp.append(button);\n",
       "    var titlebar = this.root.find($('.ui-dialog-titlebar'));\n",
       "    titlebar.prepend(buttongrp);\n",
       "}\n",
       "\n",
       "mpl.figure.prototype._root_extra_style = function(el){\n",
       "    var fig = this\n",
       "    el.on(\"remove\", function(){\n",
       "\tfig.close_ws(fig, {});\n",
       "    });\n",
       "}\n",
       "\n",
       "mpl.figure.prototype._canvas_extra_style = function(el){\n",
       "    // this is important to make the div 'focusable\n",
       "    el.attr('tabindex', 0)\n",
       "    // reach out to IPython and tell the keyboard manager to turn it's self\n",
       "    // off when our div gets focus\n",
       "\n",
       "    // location in version 3\n",
       "    if (IPython.notebook.keyboard_manager) {\n",
       "        IPython.notebook.keyboard_manager.register_events(el);\n",
       "    }\n",
       "    else {\n",
       "        // location in version 2\n",
       "        IPython.keyboard_manager.register_events(el);\n",
       "    }\n",
       "\n",
       "}\n",
       "\n",
       "mpl.figure.prototype._key_event_extra = function(event, name) {\n",
       "    var manager = IPython.notebook.keyboard_manager;\n",
       "    if (!manager)\n",
       "        manager = IPython.keyboard_manager;\n",
       "\n",
       "    // Check for shift+enter\n",
       "    if (event.shiftKey && event.which == 13) {\n",
       "        this.canvas_div.blur();\n",
       "        event.shiftKey = false;\n",
       "        // Send a \"J\" for go to next cell\n",
       "        event.which = 74;\n",
       "        event.keyCode = 74;\n",
       "        manager.command_mode();\n",
       "        manager.handle_keydown(event);\n",
       "    }\n",
       "}\n",
       "\n",
       "mpl.figure.prototype.handle_save = function(fig, msg) {\n",
       "    fig.ondownload(fig, null);\n",
       "}\n",
       "\n",
       "\n",
       "mpl.find_output_cell = function(html_output) {\n",
       "    // Return the cell and output element which can be found *uniquely* in the notebook.\n",
       "    // Note - this is a bit hacky, but it is done because the \"notebook_saving.Notebook\"\n",
       "    // IPython event is triggered only after the cells have been serialised, which for\n",
       "    // our purposes (turning an active figure into a static one), is too late.\n",
       "    var cells = IPython.notebook.get_cells();\n",
       "    var ncells = cells.length;\n",
       "    for (var i=0; i<ncells; i++) {\n",
       "        var cell = cells[i];\n",
       "        if (cell.cell_type === 'code'){\n",
       "            for (var j=0; j<cell.output_area.outputs.length; j++) {\n",
       "                var data = cell.output_area.outputs[j];\n",
       "                if (data.data) {\n",
       "                    // IPython >= 3 moved mimebundle to data attribute of output\n",
       "                    data = data.data;\n",
       "                }\n",
       "                if (data['text/html'] == html_output) {\n",
       "                    return [cell, data, j];\n",
       "                }\n",
       "            }\n",
       "        }\n",
       "    }\n",
       "}\n",
       "\n",
       "// Register the function which deals with the matplotlib target/channel.\n",
       "// The kernel may be null if the page has been refreshed.\n",
       "if (IPython.notebook.kernel != null) {\n",
       "    IPython.notebook.kernel.comm_manager.register_target('matplotlib', mpl.mpl_figure_comm);\n",
       "}\n"
      ],
      "text/plain": [
       "<IPython.core.display.Javascript object>"
      ]
     },
     "metadata": {},
     "output_type": "display_data"
    },
    {
     "data": {
      "text/html": [
       "<img src=\"data:image/png;base64,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\" width=\"639.9999861283738\">"
      ],
      "text/plain": [
       "<IPython.core.display.HTML object>"
      ]
     },
     "metadata": {},
     "output_type": "display_data"
    },
    {
     "data": {
      "application/vnd.jupyter.widget-view+json": {
       "model_id": "2fcacfd05af34d0899d8f75002b398fe",
       "version_major": 2,
       "version_minor": 0
      },
      "text/plain": [
       "interactive(children=(IntSlider(value=10, description='w', max=10, min=-10), IntSlider(value=0, description='b…"
      ]
     },
     "metadata": {},
     "output_type": "display_data"
    }
   ],
   "source": [
    "%matplotlib notebook\n",
    "\n",
    "import numpy as np\n",
    "import matplotlib.pyplot as plt\n",
    "from ipywidgets import IntSlider\n",
    "\n",
    "x = np.linspace(0, 2 * np.pi, 2000)\n",
    "fig = plt.figure()\n",
    "ax = fig.add_subplot(1, 1, 1)\n",
    "line, = ax.plot(x, np.sin(x),'r-')\n",
    "ax.grid(True)\n",
    "plt.xlim(0,6)\n",
    "plt.title(r\"Function $sin(wx+b)$\", fontsize=15)\n",
    "\n",
    "def update(w=IntSlider(value=10, min=-10, max=10), b=IntSlider(value=0.0, min=-10, max=10)):\n",
    "    line.set_ydata(np.sin(w * x + b))\n",
    "    fig.canvas.draw_idle()\n",
    "\n",
    "widgets.interact(update);"
   ]
  },
  {
   "cell_type": "code",
   "execution_count": null,
   "metadata": {},
   "outputs": [],
   "source": []
  },
  {
   "cell_type": "code",
   "execution_count": null,
   "metadata": {},
   "outputs": [],
   "source": []
  },
  {
   "cell_type": "code",
   "execution_count": null,
   "metadata": {},
   "outputs": [],
   "source": []
  }
 ],
 "metadata": {
  "kernelspec": {
   "display_name": "Python 3",
   "language": "python",
   "name": "python3"
  },
  "language_info": {
   "codemirror_mode": {
    "name": "ipython",
    "version": 3
   },
   "file_extension": ".py",
   "mimetype": "text/x-python",
   "name": "python",
   "nbconvert_exporter": "python",
   "pygments_lexer": "ipython3",
   "version": "3.7.3"
  },
  "widgets": {
   "application/vnd.jupyter.widget-state+json": {
    "state": {},
    "version_major": 1,
    "version_minor": 0
   }
  }
 },
 "nbformat": 4,
 "nbformat_minor": 4
}
