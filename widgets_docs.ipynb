{
 "cells": [
  {
   "cell_type": "markdown",
   "metadata": {},
   "source": [
    "# How to use widget in Jupyter Notebook "
   ]
  },
  {
   "cell_type": "markdown",
   "metadata": {},
   "source": [
    "## What are widgets ?\n",
    "\n",
    "In computer software, widgets are the elements of the Graphical User Interfaces (GUIs). For exmaple, a slider to choice the value of the number or simply a textbox to show the information."
   ]
  },
  {
   "cell_type": "markdown",
   "metadata": {},
   "source": [
    "## Widgets in the Jupyter Notebook\n",
    "\n",
    "The widgets libary can be imported into Jupyter notebook as: <br>\n",
    "```python\n",
    "import ipywidgets as widgets\n",
    "```\n",
    "<font color='red'>ipywidgets</font> is the Python library. \n"
   ]
  },
  {
   "cell_type": "code",
   "execution_count": 4,
   "metadata": {},
   "outputs": [],
   "source": [
    "import ipywidgets as widgets"
   ]
  },
  {
   "cell_type": "markdown",
   "metadata": {},
   "source": [
    "## Create a slider with integer number\n",
    "\n",
    "The initial value was set to zero. The range of this integer slider is from -10 to 10."
   ]
  },
  {
   "cell_type": "code",
   "execution_count": 5,
   "metadata": {},
   "outputs": [
    {
     "data": {
      "application/vnd.jupyter.widget-view+json": {
       "model_id": "7fe11ad15d6d45e9bedf8b1404e16621",
       "version_major": 2,
       "version_minor": 0
      },
      "text/plain": [
       "IntSlider(value=0, max=10, min=-10)"
      ]
     },
     "metadata": {},
     "output_type": "display_data"
    }
   ],
   "source": [
    "widgets.IntSlider(value=0, min=-10, max=10)"
   ]
  },
  {
   "cell_type": "markdown",
   "metadata": {},
   "source": [
    "## The widgets can be exported as a variable and display by the <font color='red'>display</font> function. \n"
   ]
  },
  {
   "cell_type": "code",
   "execution_count": 6,
   "metadata": {},
   "outputs": [
    {
     "data": {
      "application/vnd.jupyter.widget-view+json": {
       "model_id": "",
       "version_major": 2,
       "version_minor": 0
      },
      "text/plain": [
       "IntSlider(value=0, max=10, min=-10)"
      ]
     },
     "metadata": {},
     "output_type": "display_data"
    }
   ],
   "source": [
    "w = widgets.IntSlider(value=0, min=-10, max=10)\n",
    "display(w)"
   ]
  },
  {
   "cell_type": "markdown",
   "metadata": {},
   "source": [
    "## close the widget by:"
   ]
  },
  {
   "cell_type": "code",
   "execution_count": 7,
   "metadata": {},
   "outputs": [],
   "source": [
    "w.close()"
   ]
  },
  {
   "cell_type": "markdown",
   "metadata": {},
   "source": [
    "## Link different widgets\n",
    "\n",
    "The values of different widgets can be linked by the link or jslink function. For exmaple, we can show the value\n",
    "of the slider into a texbox. "
   ]
  },
  {
   "cell_type": "code",
   "execution_count": 8,
   "metadata": {},
   "outputs": [
    {
     "data": {
      "application/vnd.jupyter.widget-view+json": {
       "model_id": "d71581bc70d64438ae7208c47f3dac64",
       "version_major": 2,
       "version_minor": 0
      },
      "text/plain": [
       "FloatSlider(value=0.0)"
      ]
     },
     "metadata": {},
     "output_type": "display_data"
    },
    {
     "data": {
      "application/vnd.jupyter.widget-view+json": {
       "model_id": "b3933cc553f7425f99b6f3e62a749db0",
       "version_major": 2,
       "version_minor": 0
      },
      "text/plain": [
       "FloatText(value=0.0)"
      ]
     },
     "metadata": {},
     "output_type": "display_data"
    }
   ],
   "source": [
    "a = widgets.FloatSlider()\n",
    "b = widgets.FloatText()\n",
    "display(a, b)\n",
    "\n",
    "mylink = widgets.link((a,'value'), (b,'value'))"
   ]
  },
  {
   "cell_type": "markdown",
   "metadata": {},
   "source": [
    "unlink the widgets by <font color='red'>.unlink</font>"
   ]
  },
  {
   "cell_type": "code",
   "execution_count": 9,
   "metadata": {},
   "outputs": [
    {
     "data": {
      "application/vnd.jupyter.widget-view+json": {
       "model_id": "d71581bc70d64438ae7208c47f3dac64",
       "version_major": 2,
       "version_minor": 0
      },
      "text/plain": [
       "FloatSlider(value=0.0)"
      ]
     },
     "metadata": {},
     "output_type": "display_data"
    },
    {
     "data": {
      "application/vnd.jupyter.widget-view+json": {
       "model_id": "b3933cc553f7425f99b6f3e62a749db0",
       "version_major": 2,
       "version_minor": 0
      },
      "text/plain": [
       "FloatText(value=0.0)"
      ]
     },
     "metadata": {},
     "output_type": "display_data"
    }
   ],
   "source": [
    "mylink.unlink()\n",
    "display(a,b)"
   ]
  },
  {
   "cell_type": "markdown",
   "metadata": {},
   "source": [
    "## Widgets list\n",
    "\n",
    "There are many widgets offered by the ipywidgets library, which has different GUIs and functions.\n",
    "For instance, numeric widgets, boolean widgets, selection widgets and string widgets. Here, I will\n",
    "briefly introduce these widgets. \n"
   ]
  },
  {
   "cell_type": "markdown",
   "metadata": {},
   "source": [
    "## Numeric widgets\n",
    "\n",
    "The numeric widgets are desgined to display numeric values. "
   ]
  },
  {
   "cell_type": "markdown",
   "metadata": {},
   "source": [
    "### A slider to show range in float numbers"
   ]
  },
  {
   "cell_type": "code",
   "execution_count": 10,
   "metadata": {},
   "outputs": [
    {
     "data": {
      "application/vnd.jupyter.widget-view+json": {
       "model_id": "dd098cadc0ee4f9d9f6e3e3b8f3b9c5d",
       "version_major": 2,
       "version_minor": 0
      },
      "text/plain": [
       "FloatRangeSlider(value=(2.0, 7.0), continuous_update=False, description='Test:', max=10.0, readout_format='.1f…"
      ]
     },
     "metadata": {},
     "output_type": "display_data"
    }
   ],
   "source": [
    "widgets.FloatRangeSlider(\n",
    "    value=[2, 7],\n",
    "    min=0,\n",
    "    max=10.0,\n",
    "    step=0.1,\n",
    "    description='Test:',\n",
    "    disabled=False,\n",
    "    continuous_update=False,\n",
    "    orientation='horizontal',\n",
    "    readout=True,\n",
    "    readout_format='.1f',\n",
    ")"
   ]
  },
  {
   "cell_type": "markdown",
   "metadata": {},
   "source": [
    "### A progress bar to display from zero to 100%"
   ]
  },
  {
   "cell_type": "code",
   "execution_count": 11,
   "metadata": {},
   "outputs": [
    {
     "data": {
      "application/vnd.jupyter.widget-view+json": {
       "model_id": "02d82eb5cbc6465db64a148170997e68",
       "version_major": 2,
       "version_minor": 0
      },
      "text/plain": [
       "IntProgress(value=0, bar_style='success', description='Loading:')"
      ]
     },
     "metadata": {},
     "output_type": "display_data"
    }
   ],
   "source": [
    "import time \n",
    "\n",
    "\n",
    "w = widgets.IntProgress(\n",
    "    value=0,\n",
    "    min=0,\n",
    "    max=100,\n",
    "    step=1,\n",
    "    description='Loading:',\n",
    "    bar_style='success',\n",
    "    orientation='horizontal'\n",
    ")\n",
    "\n",
    "display(w)\n",
    "x = 0\n",
    "\n",
    "while x <= 100:\n",
    "    w.value += 1\n",
    "    time.sleep(0.1)\n",
    "    x +=1\n"
   ]
  },
  {
   "cell_type": "markdown",
   "metadata": {},
   "source": [
    "## Boolean widgets\n",
    "\n",
    "Boolean widgets are designed to show boolean values. "
   ]
  },
  {
   "cell_type": "markdown",
   "metadata": {},
   "source": [
    "### ToggleButton"
   ]
  },
  {
   "cell_type": "code",
   "execution_count": 12,
   "metadata": {},
   "outputs": [
    {
     "data": {
      "application/vnd.jupyter.widget-view+json": {
       "model_id": "3e79313897594fd6a8460bb6db6291f7",
       "version_major": 2,
       "version_minor": 0
      },
      "text/plain": [
       "ToggleButton(value=False, button_style='danger', description='Click me', icon='check', tooltip='Description')"
      ]
     },
     "metadata": {},
     "output_type": "display_data"
    }
   ],
   "source": [
    "widgets.ToggleButton(\n",
    "    value=False,\n",
    "    description='Click me',\n",
    "    disabled=False,\n",
    "    button_style='danger', \n",
    "    tooltip='Description',\n",
    "    icon='check'\n",
    ")\n"
   ]
  },
  {
   "cell_type": "markdown",
   "metadata": {},
   "source": [
    "## Selection widgets \n",
    "\n",
    "Selection widgets can be used to select single or multiple values. "
   ]
  },
  {
   "cell_type": "markdown",
   "metadata": {},
   "source": [
    "### Multiple values can be selected by the shift key"
   ]
  },
  {
   "cell_type": "code",
   "execution_count": 13,
   "metadata": {},
   "outputs": [
    {
     "data": {
      "application/vnd.jupyter.widget-view+json": {
       "model_id": "e3df0a8177004fc0954362c8613e96a9",
       "version_major": 2,
       "version_minor": 0
      },
      "text/plain": [
       "SelectMultiple(description='Fruits', index=(1,), options=('Apples', 'Oranges', 'Pears'), value=('Oranges',))"
      ]
     },
     "metadata": {},
     "output_type": "display_data"
    }
   ],
   "source": [
    "widgets.SelectMultiple(\n",
    "    options=['Apples', 'Oranges', 'Pears'],\n",
    "    value=['Oranges'],\n",
    "    #rows=10,\n",
    "    description='Fruits',\n",
    "    disabled=False\n",
    ")"
   ]
  },
  {
   "cell_type": "markdown",
   "metadata": {},
   "source": [
    "## String widgets\n",
    "\n",
    "String widgets are used to display string values. "
   ]
  },
  {
   "cell_type": "markdown",
   "metadata": {},
   "source": [
    "### Textarea to show some text"
   ]
  },
  {
   "cell_type": "code",
   "execution_count": 14,
   "metadata": {},
   "outputs": [
    {
     "data": {
      "application/vnd.jupyter.widget-view+json": {
       "model_id": "cfd11245c3ab42388b583b0873b98499",
       "version_major": 2,
       "version_minor": 0
      },
      "text/plain": [
       "Textarea(value='Hello the world!', description='String:', placeholder='Type something')"
      ]
     },
     "metadata": {},
     "output_type": "display_data"
    }
   ],
   "source": [
    "widgets.Textarea(\n",
    "    value='Hello the world!',\n",
    "    placeholder='Type something',\n",
    "    description='String:',\n",
    "    disabled=False\n",
    ")"
   ]
  },
  {
   "cell_type": "markdown",
   "metadata": {},
   "source": [
    "## Other widgets \n",
    "\n",
    "There are many other widgets. For instance, color picker widget, file upload widget and etc. \n",
    "One can find all the information at:\n",
    "\n",
    "[Jupyter Widgets](https://ipywidgets.readthedocs.io/en/latest/index.html)"
   ]
  },
  {
   "cell_type": "markdown",
   "metadata": {},
   "source": [
    "## Layout of widgets\n",
    "\n",
    "In many cases, one need to arrange several widgets together for the tasks. The ipywidgets library \n",
    "also provides functions to order the layout of the widgets. "
   ]
  },
  {
   "cell_type": "markdown",
   "metadata": {},
   "source": [
    "### Arrange four buttons into a 2x2 grid"
   ]
  },
  {
   "cell_type": "code",
   "execution_count": 15,
   "metadata": {},
   "outputs": [
    {
     "data": {
      "application/vnd.jupyter.widget-view+json": {
       "model_id": "328b9ca8926747beb1a48c1987d8ac9f",
       "version_major": 2,
       "version_minor": 0
      },
      "text/plain": [
       "TwoByTwoLayout(children=(Button(button_style='info', description='Top left', layout=Layout(grid_area='top-left…"
      ]
     },
     "metadata": {},
     "output_type": "display_data"
    }
   ],
   "source": [
    "from ipywidgets import Button, Layout, jslink, IntText, IntSlider\n",
    "from ipywidgets import TwoByTwoLayout\n",
    "\n",
    "def create_expanded_button(description, button_style):\n",
    "    return Button(description=description, button_style=button_style, layout=Layout(height='auto', width='auto'))\n",
    "\n",
    "top_left_button = create_expanded_button(\"Top left\", 'info')\n",
    "top_right_button = create_expanded_button(\"Top right\", 'success')\n",
    "bottom_left_button = create_expanded_button(\"Bottom left\", 'danger')\n",
    "bottom_right_button = create_expanded_button(\"Bottom right\", 'warning')\n",
    "\n",
    "TwoByTwoLayout(top_left=top_left_button,\n",
    "               top_right=top_right_button,\n",
    "               bottom_left=bottom_left_button,\n",
    "               bottom_right=bottom_right_button)"
   ]
  },
  {
   "cell_type": "markdown",
   "metadata": {},
   "source": [
    "### Create a application-like widget by the AppLayout function"
   ]
  },
  {
   "cell_type": "code",
   "execution_count": 16,
   "metadata": {},
   "outputs": [
    {
     "data": {
      "application/vnd.jupyter.widget-view+json": {
       "model_id": "a40b48bfff214757bdbf8ec91f91dcb0",
       "version_major": 2,
       "version_minor": 0
      },
      "text/plain": [
       "AppLayout(children=(Button(button_style='success', description='Header', layout=Layout(grid_area='header', hei…"
      ]
     },
     "metadata": {},
     "output_type": "display_data"
    }
   ],
   "source": [
    "from ipywidgets import AppLayout, Button, Layout\n",
    "\n",
    "header_button = create_expanded_button('Header', 'success')\n",
    "left_button = create_expanded_button('Left', 'info')\n",
    "center_button = create_expanded_button('Center', 'warning')\n",
    "right_button = create_expanded_button('Right', 'info')\n",
    "footer_button = create_expanded_button('Footer', 'success')\n",
    "\n",
    "AppLayout(header=header_button,\n",
    "          left_sidebar=left_button,\n",
    "          center=center_button,\n",
    "          right_sidebar=right_button,\n",
    "          footer=footer_button)"
   ]
  },
  {
   "cell_type": "markdown",
   "metadata": {},
   "source": [
    "## A example to show the application of the widgets in Jupyter Notebook"
   ]
  },
  {
   "cell_type": "markdown",
   "metadata": {},
   "source": [
    "## A interactive figure for sine function"
   ]
  },
  {
   "cell_type": "code",
   "execution_count": 18,
   "metadata": {},
   "outputs": [
    {
     "data": {
      "application/javascript": [
       "/* Put everything inside the global mpl namespace */\n",
       "window.mpl = {};\n",
       "\n",
       "\n",
       "mpl.get_websocket_type = function() {\n",
       "    if (typeof(WebSocket) !== 'undefined') {\n",
       "        return WebSocket;\n",
       "    } else if (typeof(MozWebSocket) !== 'undefined') {\n",
       "        return MozWebSocket;\n",
       "    } else {\n",
       "        alert('Your browser does not have WebSocket support. ' +\n",
       "              'Please try Chrome, Safari or Firefox ≥ 6. ' +\n",
       "              'Firefox 4 and 5 are also supported but you ' +\n",
       "              'have to enable WebSockets in about:config.');\n",
       "    };\n",
       "}\n",
       "\n",
       "mpl.figure = function(figure_id, websocket, ondownload, parent_element) {\n",
       "    this.id = figure_id;\n",
       "\n",
       "    this.ws = websocket;\n",
       "\n",
       "    this.supports_binary = (this.ws.binaryType != undefined);\n",
       "\n",
       "    if (!this.supports_binary) {\n",
       "        var warnings = document.getElementById(\"mpl-warnings\");\n",
       "        if (warnings) {\n",
       "            warnings.style.display = 'block';\n",
       "            warnings.textContent = (\n",
       "                \"This browser does not support binary websocket messages. \" +\n",
       "                    \"Performance may be slow.\");\n",
       "        }\n",
       "    }\n",
       "\n",
       "    this.imageObj = new Image();\n",
       "\n",
       "    this.context = undefined;\n",
       "    this.message = undefined;\n",
       "    this.canvas = undefined;\n",
       "    this.rubberband_canvas = undefined;\n",
       "    this.rubberband_context = undefined;\n",
       "    this.format_dropdown = undefined;\n",
       "\n",
       "    this.image_mode = 'full';\n",
       "\n",
       "    this.root = $('<div/>');\n",
       "    this._root_extra_style(this.root)\n",
       "    this.root.attr('style', 'display: inline-block');\n",
       "\n",
       "    $(parent_element).append(this.root);\n",
       "\n",
       "    this._init_header(this);\n",
       "    this._init_canvas(this);\n",
       "    this._init_toolbar(this);\n",
       "\n",
       "    var fig = this;\n",
       "\n",
       "    this.waiting = false;\n",
       "\n",
       "    this.ws.onopen =  function () {\n",
       "            fig.send_message(\"supports_binary\", {value: fig.supports_binary});\n",
       "            fig.send_message(\"send_image_mode\", {});\n",
       "            if (mpl.ratio != 1) {\n",
       "                fig.send_message(\"set_dpi_ratio\", {'dpi_ratio': mpl.ratio});\n",
       "            }\n",
       "            fig.send_message(\"refresh\", {});\n",
       "        }\n",
       "\n",
       "    this.imageObj.onload = function() {\n",
       "            if (fig.image_mode == 'full') {\n",
       "                // Full images could contain transparency (where diff images\n",
       "                // almost always do), so we need to clear the canvas so that\n",
       "                // there is no ghosting.\n",
       "                fig.context.clearRect(0, 0, fig.canvas.width, fig.canvas.height);\n",
       "            }\n",
       "            fig.context.drawImage(fig.imageObj, 0, 0);\n",
       "        };\n",
       "\n",
       "    this.imageObj.onunload = function() {\n",
       "        fig.ws.close();\n",
       "    }\n",
       "\n",
       "    this.ws.onmessage = this._make_on_message_function(this);\n",
       "\n",
       "    this.ondownload = ondownload;\n",
       "}\n",
       "\n",
       "mpl.figure.prototype._init_header = function() {\n",
       "    var titlebar = $(\n",
       "        '<div class=\"ui-dialog-titlebar ui-widget-header ui-corner-all ' +\n",
       "        'ui-helper-clearfix\"/>');\n",
       "    var titletext = $(\n",
       "        '<div class=\"ui-dialog-title\" style=\"width: 100%; ' +\n",
       "        'text-align: center; padding: 3px;\"/>');\n",
       "    titlebar.append(titletext)\n",
       "    this.root.append(titlebar);\n",
       "    this.header = titletext[0];\n",
       "}\n",
       "\n",
       "\n",
       "\n",
       "mpl.figure.prototype._canvas_extra_style = function(canvas_div) {\n",
       "\n",
       "}\n",
       "\n",
       "\n",
       "mpl.figure.prototype._root_extra_style = function(canvas_div) {\n",
       "\n",
       "}\n",
       "\n",
       "mpl.figure.prototype._init_canvas = function() {\n",
       "    var fig = this;\n",
       "\n",
       "    var canvas_div = $('<div/>');\n",
       "\n",
       "    canvas_div.attr('style', 'position: relative; clear: both; outline: 0');\n",
       "\n",
       "    function canvas_keyboard_event(event) {\n",
       "        return fig.key_event(event, event['data']);\n",
       "    }\n",
       "\n",
       "    canvas_div.keydown('key_press', canvas_keyboard_event);\n",
       "    canvas_div.keyup('key_release', canvas_keyboard_event);\n",
       "    this.canvas_div = canvas_div\n",
       "    this._canvas_extra_style(canvas_div)\n",
       "    this.root.append(canvas_div);\n",
       "\n",
       "    var canvas = $('<canvas/>');\n",
       "    canvas.addClass('mpl-canvas');\n",
       "    canvas.attr('style', \"left: 0; top: 0; z-index: 0; outline: 0\")\n",
       "\n",
       "    this.canvas = canvas[0];\n",
       "    this.context = canvas[0].getContext(\"2d\");\n",
       "\n",
       "    var backingStore = this.context.backingStorePixelRatio ||\n",
       "\tthis.context.webkitBackingStorePixelRatio ||\n",
       "\tthis.context.mozBackingStorePixelRatio ||\n",
       "\tthis.context.msBackingStorePixelRatio ||\n",
       "\tthis.context.oBackingStorePixelRatio ||\n",
       "\tthis.context.backingStorePixelRatio || 1;\n",
       "\n",
       "    mpl.ratio = (window.devicePixelRatio || 1) / backingStore;\n",
       "\n",
       "    var rubberband = $('<canvas/>');\n",
       "    rubberband.attr('style', \"position: absolute; left: 0; top: 0; z-index: 1;\")\n",
       "\n",
       "    var pass_mouse_events = true;\n",
       "\n",
       "    canvas_div.resizable({\n",
       "        start: function(event, ui) {\n",
       "            pass_mouse_events = false;\n",
       "        },\n",
       "        resize: function(event, ui) {\n",
       "            fig.request_resize(ui.size.width, ui.size.height);\n",
       "        },\n",
       "        stop: function(event, ui) {\n",
       "            pass_mouse_events = true;\n",
       "            fig.request_resize(ui.size.width, ui.size.height);\n",
       "        },\n",
       "    });\n",
       "\n",
       "    function mouse_event_fn(event) {\n",
       "        if (pass_mouse_events)\n",
       "            return fig.mouse_event(event, event['data']);\n",
       "    }\n",
       "\n",
       "    rubberband.mousedown('button_press', mouse_event_fn);\n",
       "    rubberband.mouseup('button_release', mouse_event_fn);\n",
       "    // Throttle sequential mouse events to 1 every 20ms.\n",
       "    rubberband.mousemove('motion_notify', mouse_event_fn);\n",
       "\n",
       "    rubberband.mouseenter('figure_enter', mouse_event_fn);\n",
       "    rubberband.mouseleave('figure_leave', mouse_event_fn);\n",
       "\n",
       "    canvas_div.on(\"wheel\", function (event) {\n",
       "        event = event.originalEvent;\n",
       "        event['data'] = 'scroll'\n",
       "        if (event.deltaY < 0) {\n",
       "            event.step = 1;\n",
       "        } else {\n",
       "            event.step = -1;\n",
       "        }\n",
       "        mouse_event_fn(event);\n",
       "    });\n",
       "\n",
       "    canvas_div.append(canvas);\n",
       "    canvas_div.append(rubberband);\n",
       "\n",
       "    this.rubberband = rubberband;\n",
       "    this.rubberband_canvas = rubberband[0];\n",
       "    this.rubberband_context = rubberband[0].getContext(\"2d\");\n",
       "    this.rubberband_context.strokeStyle = \"#000000\";\n",
       "\n",
       "    this._resize_canvas = function(width, height) {\n",
       "        // Keep the size of the canvas, canvas container, and rubber band\n",
       "        // canvas in synch.\n",
       "        canvas_div.css('width', width)\n",
       "        canvas_div.css('height', height)\n",
       "\n",
       "        canvas.attr('width', width * mpl.ratio);\n",
       "        canvas.attr('height', height * mpl.ratio);\n",
       "        canvas.attr('style', 'width: ' + width + 'px; height: ' + height + 'px;');\n",
       "\n",
       "        rubberband.attr('width', width);\n",
       "        rubberband.attr('height', height);\n",
       "    }\n",
       "\n",
       "    // Set the figure to an initial 600x600px, this will subsequently be updated\n",
       "    // upon first draw.\n",
       "    this._resize_canvas(600, 600);\n",
       "\n",
       "    // Disable right mouse context menu.\n",
       "    $(this.rubberband_canvas).bind(\"contextmenu\",function(e){\n",
       "        return false;\n",
       "    });\n",
       "\n",
       "    function set_focus () {\n",
       "        canvas.focus();\n",
       "        canvas_div.focus();\n",
       "    }\n",
       "\n",
       "    window.setTimeout(set_focus, 100);\n",
       "}\n",
       "\n",
       "mpl.figure.prototype._init_toolbar = function() {\n",
       "    var fig = this;\n",
       "\n",
       "    var nav_element = $('<div/>');\n",
       "    nav_element.attr('style', 'width: 100%');\n",
       "    this.root.append(nav_element);\n",
       "\n",
       "    // Define a callback function for later on.\n",
       "    function toolbar_event(event) {\n",
       "        return fig.toolbar_button_onclick(event['data']);\n",
       "    }\n",
       "    function toolbar_mouse_event(event) {\n",
       "        return fig.toolbar_button_onmouseover(event['data']);\n",
       "    }\n",
       "\n",
       "    for(var toolbar_ind in mpl.toolbar_items) {\n",
       "        var name = mpl.toolbar_items[toolbar_ind][0];\n",
       "        var tooltip = mpl.toolbar_items[toolbar_ind][1];\n",
       "        var image = mpl.toolbar_items[toolbar_ind][2];\n",
       "        var method_name = mpl.toolbar_items[toolbar_ind][3];\n",
       "\n",
       "        if (!name) {\n",
       "            // put a spacer in here.\n",
       "            continue;\n",
       "        }\n",
       "        var button = $('<button/>');\n",
       "        button.addClass('ui-button ui-widget ui-state-default ui-corner-all ' +\n",
       "                        'ui-button-icon-only');\n",
       "        button.attr('role', 'button');\n",
       "        button.attr('aria-disabled', 'false');\n",
       "        button.click(method_name, toolbar_event);\n",
       "        button.mouseover(tooltip, toolbar_mouse_event);\n",
       "\n",
       "        var icon_img = $('<span/>');\n",
       "        icon_img.addClass('ui-button-icon-primary ui-icon');\n",
       "        icon_img.addClass(image);\n",
       "        icon_img.addClass('ui-corner-all');\n",
       "\n",
       "        var tooltip_span = $('<span/>');\n",
       "        tooltip_span.addClass('ui-button-text');\n",
       "        tooltip_span.html(tooltip);\n",
       "\n",
       "        button.append(icon_img);\n",
       "        button.append(tooltip_span);\n",
       "\n",
       "        nav_element.append(button);\n",
       "    }\n",
       "\n",
       "    var fmt_picker_span = $('<span/>');\n",
       "\n",
       "    var fmt_picker = $('<select/>');\n",
       "    fmt_picker.addClass('mpl-toolbar-option ui-widget ui-widget-content');\n",
       "    fmt_picker_span.append(fmt_picker);\n",
       "    nav_element.append(fmt_picker_span);\n",
       "    this.format_dropdown = fmt_picker[0];\n",
       "\n",
       "    for (var ind in mpl.extensions) {\n",
       "        var fmt = mpl.extensions[ind];\n",
       "        var option = $(\n",
       "            '<option/>', {selected: fmt === mpl.default_extension}).html(fmt);\n",
       "        fmt_picker.append(option);\n",
       "    }\n",
       "\n",
       "    // Add hover states to the ui-buttons\n",
       "    $( \".ui-button\" ).hover(\n",
       "        function() { $(this).addClass(\"ui-state-hover\");},\n",
       "        function() { $(this).removeClass(\"ui-state-hover\");}\n",
       "    );\n",
       "\n",
       "    var status_bar = $('<span class=\"mpl-message\"/>');\n",
       "    nav_element.append(status_bar);\n",
       "    this.message = status_bar[0];\n",
       "}\n",
       "\n",
       "mpl.figure.prototype.request_resize = function(x_pixels, y_pixels) {\n",
       "    // Request matplotlib to resize the figure. Matplotlib will then trigger a resize in the client,\n",
       "    // which will in turn request a refresh of the image.\n",
       "    this.send_message('resize', {'width': x_pixels, 'height': y_pixels});\n",
       "}\n",
       "\n",
       "mpl.figure.prototype.send_message = function(type, properties) {\n",
       "    properties['type'] = type;\n",
       "    properties['figure_id'] = this.id;\n",
       "    this.ws.send(JSON.stringify(properties));\n",
       "}\n",
       "\n",
       "mpl.figure.prototype.send_draw_message = function() {\n",
       "    if (!this.waiting) {\n",
       "        this.waiting = true;\n",
       "        this.ws.send(JSON.stringify({type: \"draw\", figure_id: this.id}));\n",
       "    }\n",
       "}\n",
       "\n",
       "\n",
       "mpl.figure.prototype.handle_save = function(fig, msg) {\n",
       "    var format_dropdown = fig.format_dropdown;\n",
       "    var format = format_dropdown.options[format_dropdown.selectedIndex].value;\n",
       "    fig.ondownload(fig, format);\n",
       "}\n",
       "\n",
       "\n",
       "mpl.figure.prototype.handle_resize = function(fig, msg) {\n",
       "    var size = msg['size'];\n",
       "    if (size[0] != fig.canvas.width || size[1] != fig.canvas.height) {\n",
       "        fig._resize_canvas(size[0], size[1]);\n",
       "        fig.send_message(\"refresh\", {});\n",
       "    };\n",
       "}\n",
       "\n",
       "mpl.figure.prototype.handle_rubberband = function(fig, msg) {\n",
       "    var x0 = msg['x0'] / mpl.ratio;\n",
       "    var y0 = (fig.canvas.height - msg['y0']) / mpl.ratio;\n",
       "    var x1 = msg['x1'] / mpl.ratio;\n",
       "    var y1 = (fig.canvas.height - msg['y1']) / mpl.ratio;\n",
       "    x0 = Math.floor(x0) + 0.5;\n",
       "    y0 = Math.floor(y0) + 0.5;\n",
       "    x1 = Math.floor(x1) + 0.5;\n",
       "    y1 = Math.floor(y1) + 0.5;\n",
       "    var min_x = Math.min(x0, x1);\n",
       "    var min_y = Math.min(y0, y1);\n",
       "    var width = Math.abs(x1 - x0);\n",
       "    var height = Math.abs(y1 - y0);\n",
       "\n",
       "    fig.rubberband_context.clearRect(\n",
       "        0, 0, fig.canvas.width / mpl.ratio, fig.canvas.height / mpl.ratio);\n",
       "\n",
       "    fig.rubberband_context.strokeRect(min_x, min_y, width, height);\n",
       "}\n",
       "\n",
       "mpl.figure.prototype.handle_figure_label = function(fig, msg) {\n",
       "    // Updates the figure title.\n",
       "    fig.header.textContent = msg['label'];\n",
       "}\n",
       "\n",
       "mpl.figure.prototype.handle_cursor = function(fig, msg) {\n",
       "    var cursor = msg['cursor'];\n",
       "    switch(cursor)\n",
       "    {\n",
       "    case 0:\n",
       "        cursor = 'pointer';\n",
       "        break;\n",
       "    case 1:\n",
       "        cursor = 'default';\n",
       "        break;\n",
       "    case 2:\n",
       "        cursor = 'crosshair';\n",
       "        break;\n",
       "    case 3:\n",
       "        cursor = 'move';\n",
       "        break;\n",
       "    }\n",
       "    fig.rubberband_canvas.style.cursor = cursor;\n",
       "}\n",
       "\n",
       "mpl.figure.prototype.handle_message = function(fig, msg) {\n",
       "    fig.message.textContent = msg['message'];\n",
       "}\n",
       "\n",
       "mpl.figure.prototype.handle_draw = function(fig, msg) {\n",
       "    // Request the server to send over a new figure.\n",
       "    fig.send_draw_message();\n",
       "}\n",
       "\n",
       "mpl.figure.prototype.handle_image_mode = function(fig, msg) {\n",
       "    fig.image_mode = msg['mode'];\n",
       "}\n",
       "\n",
       "mpl.figure.prototype.updated_canvas_event = function() {\n",
       "    // Called whenever the canvas gets updated.\n",
       "    this.send_message(\"ack\", {});\n",
       "}\n",
       "\n",
       "// A function to construct a web socket function for onmessage handling.\n",
       "// Called in the figure constructor.\n",
       "mpl.figure.prototype._make_on_message_function = function(fig) {\n",
       "    return function socket_on_message(evt) {\n",
       "        if (evt.data instanceof Blob) {\n",
       "            /* FIXME: We get \"Resource interpreted as Image but\n",
       "             * transferred with MIME type text/plain:\" errors on\n",
       "             * Chrome.  But how to set the MIME type?  It doesn't seem\n",
       "             * to be part of the websocket stream */\n",
       "            evt.data.type = \"image/png\";\n",
       "\n",
       "            /* Free the memory for the previous frames */\n",
       "            if (fig.imageObj.src) {\n",
       "                (window.URL || window.webkitURL).revokeObjectURL(\n",
       "                    fig.imageObj.src);\n",
       "            }\n",
       "\n",
       "            fig.imageObj.src = (window.URL || window.webkitURL).createObjectURL(\n",
       "                evt.data);\n",
       "            fig.updated_canvas_event();\n",
       "            fig.waiting = false;\n",
       "            return;\n",
       "        }\n",
       "        else if (typeof evt.data === 'string' && evt.data.slice(0, 21) == \"data:image/png;base64\") {\n",
       "            fig.imageObj.src = evt.data;\n",
       "            fig.updated_canvas_event();\n",
       "            fig.waiting = false;\n",
       "            return;\n",
       "        }\n",
       "\n",
       "        var msg = JSON.parse(evt.data);\n",
       "        var msg_type = msg['type'];\n",
       "\n",
       "        // Call the  \"handle_{type}\" callback, which takes\n",
       "        // the figure and JSON message as its only arguments.\n",
       "        try {\n",
       "            var callback = fig[\"handle_\" + msg_type];\n",
       "        } catch (e) {\n",
       "            console.log(\"No handler for the '\" + msg_type + \"' message type: \", msg);\n",
       "            return;\n",
       "        }\n",
       "\n",
       "        if (callback) {\n",
       "            try {\n",
       "                // console.log(\"Handling '\" + msg_type + \"' message: \", msg);\n",
       "                callback(fig, msg);\n",
       "            } catch (e) {\n",
       "                console.log(\"Exception inside the 'handler_\" + msg_type + \"' callback:\", e, e.stack, msg);\n",
       "            }\n",
       "        }\n",
       "    };\n",
       "}\n",
       "\n",
       "// from http://stackoverflow.com/questions/1114465/getting-mouse-location-in-canvas\n",
       "mpl.findpos = function(e) {\n",
       "    //this section is from http://www.quirksmode.org/js/events_properties.html\n",
       "    var targ;\n",
       "    if (!e)\n",
       "        e = window.event;\n",
       "    if (e.target)\n",
       "        targ = e.target;\n",
       "    else if (e.srcElement)\n",
       "        targ = e.srcElement;\n",
       "    if (targ.nodeType == 3) // defeat Safari bug\n",
       "        targ = targ.parentNode;\n",
       "\n",
       "    // jQuery normalizes the pageX and pageY\n",
       "    // pageX,Y are the mouse positions relative to the document\n",
       "    // offset() returns the position of the element relative to the document\n",
       "    var x = e.pageX - $(targ).offset().left;\n",
       "    var y = e.pageY - $(targ).offset().top;\n",
       "\n",
       "    return {\"x\": x, \"y\": y};\n",
       "};\n",
       "\n",
       "/*\n",
       " * return a copy of an object with only non-object keys\n",
       " * we need this to avoid circular references\n",
       " * http://stackoverflow.com/a/24161582/3208463\n",
       " */\n",
       "function simpleKeys (original) {\n",
       "  return Object.keys(original).reduce(function (obj, key) {\n",
       "    if (typeof original[key] !== 'object')\n",
       "        obj[key] = original[key]\n",
       "    return obj;\n",
       "  }, {});\n",
       "}\n",
       "\n",
       "mpl.figure.prototype.mouse_event = function(event, name) {\n",
       "    var canvas_pos = mpl.findpos(event)\n",
       "\n",
       "    if (name === 'button_press')\n",
       "    {\n",
       "        this.canvas.focus();\n",
       "        this.canvas_div.focus();\n",
       "    }\n",
       "\n",
       "    var x = canvas_pos.x * mpl.ratio;\n",
       "    var y = canvas_pos.y * mpl.ratio;\n",
       "\n",
       "    this.send_message(name, {x: x, y: y, button: event.button,\n",
       "                             step: event.step,\n",
       "                             guiEvent: simpleKeys(event)});\n",
       "\n",
       "    /* This prevents the web browser from automatically changing to\n",
       "     * the text insertion cursor when the button is pressed.  We want\n",
       "     * to control all of the cursor setting manually through the\n",
       "     * 'cursor' event from matplotlib */\n",
       "    event.preventDefault();\n",
       "    return false;\n",
       "}\n",
       "\n",
       "mpl.figure.prototype._key_event_extra = function(event, name) {\n",
       "    // Handle any extra behaviour associated with a key event\n",
       "}\n",
       "\n",
       "mpl.figure.prototype.key_event = function(event, name) {\n",
       "\n",
       "    // Prevent repeat events\n",
       "    if (name == 'key_press')\n",
       "    {\n",
       "        if (event.which === this._key)\n",
       "            return;\n",
       "        else\n",
       "            this._key = event.which;\n",
       "    }\n",
       "    if (name == 'key_release')\n",
       "        this._key = null;\n",
       "\n",
       "    var value = '';\n",
       "    if (event.ctrlKey && event.which != 17)\n",
       "        value += \"ctrl+\";\n",
       "    if (event.altKey && event.which != 18)\n",
       "        value += \"alt+\";\n",
       "    if (event.shiftKey && event.which != 16)\n",
       "        value += \"shift+\";\n",
       "\n",
       "    value += 'k';\n",
       "    value += event.which.toString();\n",
       "\n",
       "    this._key_event_extra(event, name);\n",
       "\n",
       "    this.send_message(name, {key: value,\n",
       "                             guiEvent: simpleKeys(event)});\n",
       "    return false;\n",
       "}\n",
       "\n",
       "mpl.figure.prototype.toolbar_button_onclick = function(name) {\n",
       "    if (name == 'download') {\n",
       "        this.handle_save(this, null);\n",
       "    } else {\n",
       "        this.send_message(\"toolbar_button\", {name: name});\n",
       "    }\n",
       "};\n",
       "\n",
       "mpl.figure.prototype.toolbar_button_onmouseover = function(tooltip) {\n",
       "    this.message.textContent = tooltip;\n",
       "};\n",
       "mpl.toolbar_items = [[\"Home\", \"Reset original view\", \"fa fa-home icon-home\", \"home\"], [\"Back\", \"Back to previous view\", \"fa fa-arrow-left icon-arrow-left\", \"back\"], [\"Forward\", \"Forward to next view\", \"fa fa-arrow-right icon-arrow-right\", \"forward\"], [\"\", \"\", \"\", \"\"], [\"Pan\", \"Pan axes with left mouse, zoom with right\", \"fa fa-arrows icon-move\", \"pan\"], [\"Zoom\", \"Zoom to rectangle\", \"fa fa-square-o icon-check-empty\", \"zoom\"], [\"\", \"\", \"\", \"\"], [\"Download\", \"Download plot\", \"fa fa-floppy-o icon-save\", \"download\"]];\n",
       "\n",
       "mpl.extensions = [\"eps\", \"pdf\", \"png\", \"ps\", \"raw\", \"svg\"];\n",
       "\n",
       "mpl.default_extension = \"png\";var comm_websocket_adapter = function(comm) {\n",
       "    // Create a \"websocket\"-like object which calls the given IPython comm\n",
       "    // object with the appropriate methods. Currently this is a non binary\n",
       "    // socket, so there is still some room for performance tuning.\n",
       "    var ws = {};\n",
       "\n",
       "    ws.close = function() {\n",
       "        comm.close()\n",
       "    };\n",
       "    ws.send = function(m) {\n",
       "        //console.log('sending', m);\n",
       "        comm.send(m);\n",
       "    };\n",
       "    // Register the callback with on_msg.\n",
       "    comm.on_msg(function(msg) {\n",
       "        //console.log('receiving', msg['content']['data'], msg);\n",
       "        // Pass the mpl event to the overridden (by mpl) onmessage function.\n",
       "        ws.onmessage(msg['content']['data'])\n",
       "    });\n",
       "    return ws;\n",
       "}\n",
       "\n",
       "mpl.mpl_figure_comm = function(comm, msg) {\n",
       "    // This is the function which gets called when the mpl process\n",
       "    // starts-up an IPython Comm through the \"matplotlib\" channel.\n",
       "\n",
       "    var id = msg.content.data.id;\n",
       "    // Get hold of the div created by the display call when the Comm\n",
       "    // socket was opened in Python.\n",
       "    var element = $(\"#\" + id);\n",
       "    var ws_proxy = comm_websocket_adapter(comm)\n",
       "\n",
       "    function ondownload(figure, format) {\n",
       "        window.open(figure.imageObj.src);\n",
       "    }\n",
       "\n",
       "    var fig = new mpl.figure(id, ws_proxy,\n",
       "                           ondownload,\n",
       "                           element.get(0));\n",
       "\n",
       "    // Call onopen now - mpl needs it, as it is assuming we've passed it a real\n",
       "    // web socket which is closed, not our websocket->open comm proxy.\n",
       "    ws_proxy.onopen();\n",
       "\n",
       "    fig.parent_element = element.get(0);\n",
       "    fig.cell_info = mpl.find_output_cell(\"<div id='\" + id + \"'></div>\");\n",
       "    if (!fig.cell_info) {\n",
       "        console.error(\"Failed to find cell for figure\", id, fig);\n",
       "        return;\n",
       "    }\n",
       "\n",
       "    var output_index = fig.cell_info[2]\n",
       "    var cell = fig.cell_info[0];\n",
       "\n",
       "};\n",
       "\n",
       "mpl.figure.prototype.handle_close = function(fig, msg) {\n",
       "    var width = fig.canvas.width/mpl.ratio\n",
       "    fig.root.unbind('remove')\n",
       "\n",
       "    // Update the output cell to use the data from the current canvas.\n",
       "    fig.push_to_output();\n",
       "    var dataURL = fig.canvas.toDataURL();\n",
       "    // Re-enable the keyboard manager in IPython - without this line, in FF,\n",
       "    // the notebook keyboard shortcuts fail.\n",
       "    IPython.keyboard_manager.enable()\n",
       "    $(fig.parent_element).html('<img src=\"' + dataURL + '\" width=\"' + width + '\">');\n",
       "    fig.close_ws(fig, msg);\n",
       "}\n",
       "\n",
       "mpl.figure.prototype.close_ws = function(fig, msg){\n",
       "    fig.send_message('closing', msg);\n",
       "    // fig.ws.close()\n",
       "}\n",
       "\n",
       "mpl.figure.prototype.push_to_output = function(remove_interactive) {\n",
       "    // Turn the data on the canvas into data in the output cell.\n",
       "    var width = this.canvas.width/mpl.ratio\n",
       "    var dataURL = this.canvas.toDataURL();\n",
       "    this.cell_info[1]['text/html'] = '<img src=\"' + dataURL + '\" width=\"' + width + '\">';\n",
       "}\n",
       "\n",
       "mpl.figure.prototype.updated_canvas_event = function() {\n",
       "    // Tell IPython that the notebook contents must change.\n",
       "    IPython.notebook.set_dirty(true);\n",
       "    this.send_message(\"ack\", {});\n",
       "    var fig = this;\n",
       "    // Wait a second, then push the new image to the DOM so\n",
       "    // that it is saved nicely (might be nice to debounce this).\n",
       "    setTimeout(function () { fig.push_to_output() }, 1000);\n",
       "}\n",
       "\n",
       "mpl.figure.prototype._init_toolbar = function() {\n",
       "    var fig = this;\n",
       "\n",
       "    var nav_element = $('<div/>');\n",
       "    nav_element.attr('style', 'width: 100%');\n",
       "    this.root.append(nav_element);\n",
       "\n",
       "    // Define a callback function for later on.\n",
       "    function toolbar_event(event) {\n",
       "        return fig.toolbar_button_onclick(event['data']);\n",
       "    }\n",
       "    function toolbar_mouse_event(event) {\n",
       "        return fig.toolbar_button_onmouseover(event['data']);\n",
       "    }\n",
       "\n",
       "    for(var toolbar_ind in mpl.toolbar_items){\n",
       "        var name = mpl.toolbar_items[toolbar_ind][0];\n",
       "        var tooltip = mpl.toolbar_items[toolbar_ind][1];\n",
       "        var image = mpl.toolbar_items[toolbar_ind][2];\n",
       "        var method_name = mpl.toolbar_items[toolbar_ind][3];\n",
       "\n",
       "        if (!name) { continue; };\n",
       "\n",
       "        var button = $('<button class=\"btn btn-default\" href=\"#\" title=\"' + name + '\"><i class=\"fa ' + image + ' fa-lg\"></i></button>');\n",
       "        button.click(method_name, toolbar_event);\n",
       "        button.mouseover(tooltip, toolbar_mouse_event);\n",
       "        nav_element.append(button);\n",
       "    }\n",
       "\n",
       "    // Add the status bar.\n",
       "    var status_bar = $('<span class=\"mpl-message\" style=\"text-align:right; float: right;\"/>');\n",
       "    nav_element.append(status_bar);\n",
       "    this.message = status_bar[0];\n",
       "\n",
       "    // Add the close button to the window.\n",
       "    var buttongrp = $('<div class=\"btn-group inline pull-right\"></div>');\n",
       "    var button = $('<button class=\"btn btn-mini btn-primary\" href=\"#\" title=\"Stop Interaction\"><i class=\"fa fa-power-off icon-remove icon-large\"></i></button>');\n",
       "    button.click(function (evt) { fig.handle_close(fig, {}); } );\n",
       "    button.mouseover('Stop Interaction', toolbar_mouse_event);\n",
       "    buttongrp.append(button);\n",
       "    var titlebar = this.root.find($('.ui-dialog-titlebar'));\n",
       "    titlebar.prepend(buttongrp);\n",
       "}\n",
       "\n",
       "mpl.figure.prototype._root_extra_style = function(el){\n",
       "    var fig = this\n",
       "    el.on(\"remove\", function(){\n",
       "\tfig.close_ws(fig, {});\n",
       "    });\n",
       "}\n",
       "\n",
       "mpl.figure.prototype._canvas_extra_style = function(el){\n",
       "    // this is important to make the div 'focusable\n",
       "    el.attr('tabindex', 0)\n",
       "    // reach out to IPython and tell the keyboard manager to turn it's self\n",
       "    // off when our div gets focus\n",
       "\n",
       "    // location in version 3\n",
       "    if (IPython.notebook.keyboard_manager) {\n",
       "        IPython.notebook.keyboard_manager.register_events(el);\n",
       "    }\n",
       "    else {\n",
       "        // location in version 2\n",
       "        IPython.keyboard_manager.register_events(el);\n",
       "    }\n",
       "\n",
       "}\n",
       "\n",
       "mpl.figure.prototype._key_event_extra = function(event, name) {\n",
       "    var manager = IPython.notebook.keyboard_manager;\n",
       "    if (!manager)\n",
       "        manager = IPython.keyboard_manager;\n",
       "\n",
       "    // Check for shift+enter\n",
       "    if (event.shiftKey && event.which == 13) {\n",
       "        this.canvas_div.blur();\n",
       "        event.shiftKey = false;\n",
       "        // Send a \"J\" for go to next cell\n",
       "        event.which = 74;\n",
       "        event.keyCode = 74;\n",
       "        manager.command_mode();\n",
       "        manager.handle_keydown(event);\n",
       "    }\n",
       "}\n",
       "\n",
       "mpl.figure.prototype.handle_save = function(fig, msg) {\n",
       "    fig.ondownload(fig, null);\n",
       "}\n",
       "\n",
       "\n",
       "mpl.find_output_cell = function(html_output) {\n",
       "    // Return the cell and output element which can be found *uniquely* in the notebook.\n",
       "    // Note - this is a bit hacky, but it is done because the \"notebook_saving.Notebook\"\n",
       "    // IPython event is triggered only after the cells have been serialised, which for\n",
       "    // our purposes (turning an active figure into a static one), is too late.\n",
       "    var cells = IPython.notebook.get_cells();\n",
       "    var ncells = cells.length;\n",
       "    for (var i=0; i<ncells; i++) {\n",
       "        var cell = cells[i];\n",
       "        if (cell.cell_type === 'code'){\n",
       "            for (var j=0; j<cell.output_area.outputs.length; j++) {\n",
       "                var data = cell.output_area.outputs[j];\n",
       "                if (data.data) {\n",
       "                    // IPython >= 3 moved mimebundle to data attribute of output\n",
       "                    data = data.data;\n",
       "                }\n",
       "                if (data['text/html'] == html_output) {\n",
       "                    return [cell, data, j];\n",
       "                }\n",
       "            }\n",
       "        }\n",
       "    }\n",
       "}\n",
       "\n",
       "// Register the function which deals with the matplotlib target/channel.\n",
       "// The kernel may be null if the page has been refreshed.\n",
       "if (IPython.notebook.kernel != null) {\n",
       "    IPython.notebook.kernel.comm_manager.register_target('matplotlib', mpl.mpl_figure_comm);\n",
       "}\n"
      ],
      "text/plain": [
       "<IPython.core.display.Javascript object>"
      ]
     },
     "metadata": {},
     "output_type": "display_data"
    },
    {
     "data": {
      "text/html": [
       "<img src=\"data:image/png;base64,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\" width=\"639.9999861283738\">"
      ],
      "text/plain": [
       "<IPython.core.display.HTML object>"
      ]
     },
     "metadata": {},
     "output_type": "display_data"
    },
    {
     "data": {
      "application/vnd.jupyter.widget-view+json": {
       "model_id": "48d49b88941a421db2cb483b6f71a955",
       "version_major": 2,
       "version_minor": 0
      },
      "text/plain": [
       "interactive(children=(IntSlider(value=10, description='w', max=10, min=-10), IntSlider(value=0, description='b…"
      ]
     },
     "metadata": {},
     "output_type": "display_data"
    }
   ],
   "source": [
    "%matplotlib notebook\n",
    "\n",
    "import numpy as np\n",
    "import matplotlib.pyplot as plt\n",
    "from ipywidgets import IntSlider\n",
    "\n",
    "x = np.linspace(0, 2 * np.pi, 2000)\n",
    "fig = plt.figure()\n",
    "ax = fig.add_subplot(1, 1, 1)\n",
    "line, = ax.plot(x, np.sin(x),'r-')\n",
    "ax.grid(True)\n",
    "plt.xlim(0,6)\n",
    "plt.title(r\"Function $sin(wx+b)$\", fontsize=15)\n",
    "\n",
    "def update(w=IntSlider(value=10, min=-10, max=10), b=IntSlider(value=0.0, min=-10, max=10)):\n",
    "    line.set_ydata(np.sin(w * x + b))\n",
    "    fig.canvas.draw_idle()\n",
    "\n",
    "widgets.interact(update);"
   ]
  },
  {
   "cell_type": "markdown",
   "metadata": {},
   "source": [
    "# Use Binder to visualize the Jupyter notebook on the web\n",
    "\n",
    "The Binder is a cloud platform, which provide executable environments for the Jupyter notebooks. \n",
    "In order to use the Binder, one need to set the repository at GitHub. "
   ]
  },
  {
   "cell_type": "markdown",
   "metadata": {},
   "source": [
    "1. In the GitHub repository, some configuration files are needed for the Binder. For instance, the \"requirements.txt\" file should contain all the required Python libraries. Binder will install the libraries automatically from the _requirements.txt_. In this tutorial, we need numpy, ipywidgets, ipympl and appmode library. Besides, the postBuild file will be executed after the installation of the libraries. Here, we need to enable the widgets for the Jupyter notebook by: \n",
    "\n",
    "```console\n",
    "jupyter labextension install @jupyter-widgets/jupyterlab-manager@0.38\n",
    "```\n"
   ]
  },
  {
   "cell_type": "markdown",
   "metadata": {},
   "source": [
    "2. After setting the GitHub repository, one can simply input the GitHub repository name, git branch name and path to the notebook file at Binder website ([https://mybinder.org](https://mybinder.org))."
   ]
  },
  {
   "cell_type": "code",
   "execution_count": 28,
   "metadata": {},
   "outputs": [
    {
     "data": {
      "application/vnd.jupyter.widget-view+json": {
       "model_id": "b06a064af8ab44459f555a2ac442bac1",
       "version_major": 2,
       "version_minor": 0
      },
      "text/plain": [
       "Image(value=b'\\x89PNG\\r\\n\\x1a\\n\\x00\\x00\\x00\\rIHDR\\x00\\x00\\x03\\xbc\\x00\\x00\\x01\\xba\\x08\\x06\\x00\\x00\\x00+\\x85J\\x0…"
      ]
     },
     "metadata": {},
     "output_type": "display_data"
    }
   ],
   "source": [
    "file = open(\"figures/fig_mybinder.png\", \"rb\")\n",
    "image = file.read()\n",
    "widgets.Image(\n",
    "    value=image,\n",
    "    format='png',\n",
    "    width=800,\n",
    "    height=400,\n",
    ")"
   ]
  },
  {
   "cell_type": "markdown",
   "metadata": {},
   "source": [
    "3. The webpage for the Jupyter notebook can be simply presented by opening the URL link in the browser. "
   ]
  },
  {
   "cell_type": "markdown",
   "metadata": {},
   "source": [
    "# Appmode"
   ]
  },
  {
   "cell_type": "markdown",
   "metadata": {},
   "source": [
    "Appemode is a Jupyter extensions, which turns the notebooks into web applications. In another word, the Appemode will hide the python code and only show the markdown and widgets. </br>\n",
    "\n",
    "One can simply change the \"notebook\" into \"apps\" in the Binder URL to open the Jupyter notebook in application model. For example, change _baseurl/notebooks/foo.ipynb_ to _baseurl/apps/foo.ipynb_."
   ]
  },
  {
   "cell_type": "markdown",
   "metadata": {},
   "source": [
    "# Jupyter lab"
   ]
  },
  {
   "cell_type": "code",
   "execution_count": 32,
   "metadata": {},
   "outputs": [
    {
     "data": {
      "application/vnd.jupyter.widget-view+json": {
       "model_id": "5d8af3ace159428facb9853066022bac",
       "version_major": 2,
       "version_minor": 0
      },
      "text/plain": [
       "Image(value=b'\\x89PNG\\r\\n\\x1a\\n\\x00\\x00\\x00\\rIHDR\\x00\\x00\\x05\\x00\\x00\\x00\\x02\\xd0\\x08\\x03\\x00\\x00\\x00\\xf8\\xa3-…"
      ]
     },
     "metadata": {},
     "output_type": "display_data"
    }
   ],
   "source": [
    "file = open(\"figures/fig_jupyterlab.png\", \"rb\")\n",
    "image = file.read()\n",
    "widgets.Image(\n",
    "    value=image,\n",
    "    format='png',\n",
    "    width=800,\n",
    "    height=400,\n",
    ")"
   ]
  },
  {
   "cell_type": "markdown",
   "metadata": {},
   "source": [
    "JupyterLab is so-called the next-generation web-based GUI for Jupyter, which has much more powerful interface. "
   ]
  },
  {
   "cell_type": "markdown",
   "metadata": {},
   "source": [
    "The JupyterLab can be opend by replacing the <font color='red'>_tree</font> at the end of the URL with <font color='red'>_lab</font>."
   ]
  },
  {
   "cell_type": "code",
   "execution_count": null,
   "metadata": {},
   "outputs": [],
   "source": []
  },
  {
   "cell_type": "code",
   "execution_count": null,
   "metadata": {},
   "outputs": [],
   "source": []
  }
 ],
 "metadata": {
  "kernelspec": {
   "display_name": "Python 3",
   "language": "python",
   "name": "python3"
  },
  "language_info": {
   "codemirror_mode": {
    "name": "ipython",
    "version": 3
   },
   "file_extension": ".py",
   "mimetype": "text/x-python",
   "name": "python",
   "nbconvert_exporter": "python",
   "pygments_lexer": "ipython3",
   "version": "3.7.3"
  },
  "widgets": {
   "application/vnd.jupyter.widget-state+json": {
    "state": {},
    "version_major": 1,
    "version_minor": 0
   }
  }
 },
 "nbformat": 4,
 "nbformat_minor": 4
}
