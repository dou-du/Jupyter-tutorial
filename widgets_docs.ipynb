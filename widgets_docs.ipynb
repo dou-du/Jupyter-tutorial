{
 "cells": [
  {
   "cell_type": "markdown",
   "metadata": {},
   "source": [
    "# How to use widget in Jupyter Notebook "
   ]
  },
  {
   "cell_type": "markdown",
   "metadata": {},
   "source": [
    "# Jupyter Notebook "
   ]
  },
  {
   "cell_type": "markdown",
   "metadata": {},
   "source": [
    "\"The Jupyter Notebook is an open-source web application that allows you to create and share documents that contain live code, equations, visualizations and narrative text. Uses include: data cleaning and transformation, numerical simulation, statistical modeling, data visualization, machine learning, and much more.\"\n",
    "\n",
    "__What you are viewing now is in Jupyter notebook.__ \n",
    "\n",
    "[jupyter.org](http://www.jupyter.org)"
   ]
  },
  {
   "cell_type": "code",
   "execution_count": 1,
   "metadata": {},
   "outputs": [
    {
     "data": {
      "application/vnd.jupyter.widget-view+json": {
       "model_id": "c757697b0b6648d5be6c944fe057300c",
       "version_major": 2,
       "version_minor": 0
      },
      "text/plain": [
       "Image(value=b'\\x89PNG\\r\\n\\x1a\\n\\x00\\x00\\x00\\rIHDR\\x00\\x00\\x03\\xfa\\x00\\x00\\x02\\xd1\\x08\\x03\\x00\\x00\\x00\\xdc$(\\xd…"
      ]
     },
     "metadata": {},
     "output_type": "display_data"
    }
   ],
   "source": [
    "import ipywidgets as widgets\n",
    "\n",
    "file = open(\"figures/fig_jupyternotebook.png\", \"rb\")\n",
    "image = file.read()\n",
    "widgets.Image(\n",
    "    value=image,\n",
    "    format='png',\n",
    "    width=800,\n",
    "    height=400,\n",
    ")"
   ]
  },
  {
   "cell_type": "markdown",
   "metadata": {},
   "source": [
    "## Installation\n",
    "\n",
    "Jupyter notebook can be installed by conda or pip. \n",
    "\n",
    "```bash\n",
    "conda install -c conda-forge jupyter\n",
    "pip install jupyter \n",
    "```"
   ]
  },
  {
   "cell_type": "markdown",
   "metadata": {},
   "source": [
    "## What are widgets ?\n",
    "\n",
    "In computer software, widgets are the elements of the Graphical User Interfaces (GUIs). For exmaple, a slider to choice the value of the number or simply a textbox to show the information."
   ]
  },
  {
   "cell_type": "markdown",
   "metadata": {},
   "source": [
    "## Widgets in the Jupyter Notebook\n",
    "\n",
    "The widgets libary can be imported into Jupyter notebook as: <br>\n",
    "```python\n",
    "import ipywidgets as widgets\n",
    "```\n",
    "<font color='red'>ipywidgets</font> is the Python library. \n"
   ]
  },
  {
   "cell_type": "code",
   "execution_count": 1,
   "metadata": {},
   "outputs": [
    {
     "name": "stdout",
     "output_type": "stream",
     "text": [
      "The reprint_magic extension is already loaded. To reload it, use:\n",
      "  %reload_ext reprint_magic\n"
     ]
    }
   ],
   "source": [
    "%load_ext reprint_magic"
   ]
  },
  {
   "cell_type": "code",
   "execution_count": 2,
   "metadata": {},
   "outputs": [],
   "source": [
    "import ipywidgets as widgets"
   ]
  },
  {
   "cell_type": "markdown",
   "metadata": {},
   "source": [
    "## Create a slider with integer number\n",
    "\n",
    "The initial value was set to zero. The range of this integer slider is from -10 to 10."
   ]
  },
  {
   "cell_type": "code",
   "execution_count": 3,
   "metadata": {},
   "outputs": [
    {
     "data": {
      "text/markdown": [
       "<div style=\"border: 1px solid #999; border-radius: 3px;\">\n",
       "\n",
       "```python\n",
       "widgets.IntSlider(value=0, min=-10, max=10)\n",
       "\n",
       "```\n",
       "\n",
       "</div>"
      ],
      "text/plain": [
       "<IPython.core.display.Markdown object>"
      ]
     },
     "metadata": {},
     "output_type": "display_data"
    }
   ],
   "source": [
    "%%reprint\n",
    "widgets.IntSlider(value=0, min=-10, max=10)"
   ]
  },
  {
   "cell_type": "markdown",
   "metadata": {},
   "source": [
    "## The widgets can be exported as a variable and display by the <font color='red'>display</font> function. \n"
   ]
  },
  {
   "cell_type": "code",
   "execution_count": 4,
   "metadata": {},
   "outputs": [
    {
     "data": {
      "text/markdown": [
       "<div style=\"border: 1px solid #999; border-radius: 3px;\">\n",
       "\n",
       "```python\n",
       "w = widgets.IntSlider(value=0, min=-10, max=10)\n",
       "display(w)\n",
       "\n",
       "```\n",
       "\n",
       "</div>"
      ],
      "text/plain": [
       "<IPython.core.display.Markdown object>"
      ]
     },
     "metadata": {},
     "output_type": "display_data"
    },
    {
     "data": {
      "application/vnd.jupyter.widget-view+json": {
       "model_id": "",
       "version_major": 2,
       "version_minor": 0
      },
      "text/plain": [
       "IntSlider(value=0, max=10, min=-10)"
      ]
     },
     "metadata": {},
     "output_type": "display_data"
    }
   ],
   "source": [
    "%%reprint\n",
    "w = widgets.IntSlider(value=0, min=-10, max=10)\n",
    "display(w)"
   ]
  },
  {
   "cell_type": "markdown",
   "metadata": {},
   "source": [
    "## close the widget by:"
   ]
  },
  {
   "cell_type": "code",
   "execution_count": 5,
   "metadata": {},
   "outputs": [
    {
     "data": {
      "text/markdown": [
       "<div style=\"border: 1px solid #999; border-radius: 3px;\">\n",
       "\n",
       "```python\n",
       "w.close()\n",
       "\n",
       "```\n",
       "\n",
       "</div>"
      ],
      "text/plain": [
       "<IPython.core.display.Markdown object>"
      ]
     },
     "metadata": {},
     "output_type": "display_data"
    }
   ],
   "source": [
    "%%reprint \n",
    "w.close()"
   ]
  },
  {
   "cell_type": "markdown",
   "metadata": {},
   "source": [
    "## Link different widgets\n",
    "\n",
    "The values of different widgets can be linked by the link or jslink function. For exmaple, we can show the value\n",
    "of the slider into a texbox. "
   ]
  },
  {
   "cell_type": "code",
   "execution_count": 6,
   "metadata": {},
   "outputs": [
    {
     "data": {
      "text/markdown": [
       "<div style=\"border: 1px solid #999; border-radius: 3px;\">\n",
       "\n",
       "```python\n",
       "a = widgets.FloatSlider()\n",
       "b = widgets.FloatText()\n",
       "display(a, b)\n",
       "\n",
       "mylink = widgets.link((a,'value'), (b,'value'))\n",
       "\n",
       "```\n",
       "\n",
       "</div>"
      ],
      "text/plain": [
       "<IPython.core.display.Markdown object>"
      ]
     },
     "metadata": {},
     "output_type": "display_data"
    },
    {
     "data": {
      "application/vnd.jupyter.widget-view+json": {
       "model_id": "73f847ca875c4d50a76340258e678d76",
       "version_major": 2,
       "version_minor": 0
      },
      "text/plain": [
       "FloatSlider(value=0.0)"
      ]
     },
     "metadata": {},
     "output_type": "display_data"
    },
    {
     "data": {
      "application/vnd.jupyter.widget-view+json": {
       "model_id": "7fdbec71954a4cdcb07507887345fdd4",
       "version_major": 2,
       "version_minor": 0
      },
      "text/plain": [
       "FloatText(value=0.0)"
      ]
     },
     "metadata": {},
     "output_type": "display_data"
    }
   ],
   "source": [
    "%%reprint\n",
    "a = widgets.FloatSlider()\n",
    "b = widgets.FloatText()\n",
    "display(a, b)\n",
    "\n",
    "mylink = widgets.link((a,'value'), (b,'value'))"
   ]
  },
  {
   "cell_type": "markdown",
   "metadata": {},
   "source": [
    "unlink the widgets by <font color='red'>.unlink</font>"
   ]
  },
  {
   "cell_type": "code",
   "execution_count": 7,
   "metadata": {},
   "outputs": [
    {
     "data": {
      "text/markdown": [
       "<div style=\"border: 1px solid #999; border-radius: 3px;\">\n",
       "\n",
       "```python\n",
       "mylink.unlink()\n",
       "display(a,b)\n",
       "\n",
       "```\n",
       "\n",
       "</div>"
      ],
      "text/plain": [
       "<IPython.core.display.Markdown object>"
      ]
     },
     "metadata": {},
     "output_type": "display_data"
    },
    {
     "data": {
      "application/vnd.jupyter.widget-view+json": {
       "model_id": "73f847ca875c4d50a76340258e678d76",
       "version_major": 2,
       "version_minor": 0
      },
      "text/plain": [
       "FloatSlider(value=0.0)"
      ]
     },
     "metadata": {},
     "output_type": "display_data"
    },
    {
     "data": {
      "application/vnd.jupyter.widget-view+json": {
       "model_id": "7fdbec71954a4cdcb07507887345fdd4",
       "version_major": 2,
       "version_minor": 0
      },
      "text/plain": [
       "FloatText(value=0.0)"
      ]
     },
     "metadata": {},
     "output_type": "display_data"
    }
   ],
   "source": [
    "%%reprint \n",
    "mylink.unlink()\n",
    "display(a,b)"
   ]
  },
  {
   "cell_type": "markdown",
   "metadata": {},
   "source": [
    "## Widgets list\n",
    "\n",
    "There are many widgets offered by the ipywidgets library, which has different GUIs and functions.\n",
    "For instance, numeric widgets, boolean widgets, selection widgets and string widgets. Here, I will\n",
    "briefly introduce these widgets. \n"
   ]
  },
  {
   "cell_type": "markdown",
   "metadata": {},
   "source": [
    "## Numeric widgets\n",
    "\n",
    "The numeric widgets are desgined to display numeric values. "
   ]
  },
  {
   "cell_type": "markdown",
   "metadata": {},
   "source": [
    "### A slider to show range in float numbers"
   ]
  },
  {
   "cell_type": "code",
   "execution_count": 8,
   "metadata": {},
   "outputs": [
    {
     "data": {
      "text/markdown": [
       "<div style=\"border: 1px solid #999; border-radius: 3px;\">\n",
       "\n",
       "```python\n",
       "widgets.FloatRangeSlider(\n",
       "    value=[2, 7],\n",
       "    min=0,\n",
       "    max=10.0,\n",
       "    step=0.1,\n",
       "    description='Test:',\n",
       "    disabled=False,\n",
       "    continuous_update=False,\n",
       "    orientation='horizontal',\n",
       "    readout=True,\n",
       "    readout_format='.1f',\n",
       ")\n",
       "\n",
       "```\n",
       "\n",
       "</div>"
      ],
      "text/plain": [
       "<IPython.core.display.Markdown object>"
      ]
     },
     "metadata": {},
     "output_type": "display_data"
    }
   ],
   "source": [
    "%%reprint \n",
    "w = widgets.FloatRangeSlider(\n",
    "    value=[2, 7],\n",
    "    min=0,\n",
    "    max=10.0,\n",
    "    step=0.1,\n",
    "    description='Test:',\n",
    "    disabled=False,\n",
    "    continuous_update=False,\n",
    "    orientation='horizontal',\n",
    "    readout=True,\n",
    "    readout_format='.1f',\n",
    ")\n",
    "\n",
    "display(w)"
   ]
  },
  {
   "cell_type": "markdown",
   "metadata": {},
   "source": [
    "### A progress bar to display from zero to 100%"
   ]
  },
  {
   "cell_type": "code",
   "execution_count": 9,
   "metadata": {},
   "outputs": [
    {
     "data": {
      "text/markdown": [
       "<div style=\"border: 1px solid #999; border-radius: 3px;\">\n",
       "\n",
       "```python\n",
       "import time \n",
       "\n",
       "\n",
       "w = widgets.IntProgress(\n",
       "    value=0,\n",
       "    min=0,\n",
       "    max=100,\n",
       "    step=1,\n",
       "    description='Loading:',\n",
       "    bar_style='success',\n",
       "    orientation='horizontal'\n",
       ")\n",
       "\n",
       "display(w)\n",
       "x = 0\n",
       "\n",
       "while x <= 100:\n",
       "    w.value += 1\n",
       "    time.sleep(0.1)\n",
       "    x +=1\n",
       "\n",
       "```\n",
       "\n",
       "</div>"
      ],
      "text/plain": [
       "<IPython.core.display.Markdown object>"
      ]
     },
     "metadata": {},
     "output_type": "display_data"
    },
    {
     "data": {
      "application/vnd.jupyter.widget-view+json": {
       "model_id": "e5358021fb3b41f6b86f0964086ea1d5",
       "version_major": 2,
       "version_minor": 0
      },
      "text/plain": [
       "IntProgress(value=0, bar_style='success', description='Loading:')"
      ]
     },
     "metadata": {},
     "output_type": "display_data"
    }
   ],
   "source": [
    "%%reprint \n",
    "import time \n",
    "\n",
    "\n",
    "w = widgets.IntProgress(\n",
    "    value=0,\n",
    "    min=0,\n",
    "    max=100,\n",
    "    step=1,\n",
    "    description='Loading:',\n",
    "    bar_style='success',\n",
    "    orientation='horizontal'\n",
    ")\n",
    "\n",
    "display(w)\n",
    "\n",
    "x = 0\n",
    "\n",
    "while x <= 100:\n",
    "    w.value += 1\n",
    "    time.sleep(0.1)\n",
    "    x +=1\n"
   ]
  },
  {
   "cell_type": "markdown",
   "metadata": {},
   "source": [
    "## Boolean widgets\n",
    "\n",
    "Boolean widgets are designed to show boolean values. "
   ]
  },
  {
   "cell_type": "markdown",
   "metadata": {},
   "source": [
    "### ToggleButton"
   ]
  },
  {
   "cell_type": "code",
   "execution_count": 19,
   "metadata": {},
   "outputs": [
    {
     "data": {
      "text/markdown": [
       "<div style=\"border: 1px solid #999; border-radius: 3px;\">\n",
       "\n",
       "```python\n",
       "w = widgets.ToggleButton(\n",
       "    value=False,\n",
       "    description='Click me',\n",
       "    disabled=False,\n",
       "    button_style='danger', \n",
       "    tooltip='Description',\n",
       "    icon='check'\n",
       ")\n",
       "\n",
       "display(w)\n",
       "\n",
       "```\n",
       "\n",
       "</div>"
      ],
      "text/plain": [
       "<IPython.core.display.Markdown object>"
      ]
     },
     "metadata": {},
     "output_type": "display_data"
    },
    {
     "data": {
      "application/vnd.jupyter.widget-view+json": {
       "model_id": "a0270d00d4544ef38c3b61011272ea57",
       "version_major": 2,
       "version_minor": 0
      },
      "text/plain": [
       "ToggleButton(value=False, button_style='danger', description='Click me', icon='check', tooltip='Description')"
      ]
     },
     "metadata": {},
     "output_type": "display_data"
    }
   ],
   "source": [
    "%%reprint \n",
    "w = widgets.ToggleButton(\n",
    "    value=False,\n",
    "    description='Click me',\n",
    "    disabled=False,\n",
    "    button_style='danger', \n",
    "    tooltip='Description',\n",
    "    icon='check'\n",
    ")\n",
    "\n",
    "display(w)"
   ]
  },
  {
   "cell_type": "markdown",
   "metadata": {},
   "source": [
    "## Selection widgets \n",
    "\n",
    "Selection widgets can be used to select single or multiple values. "
   ]
  },
  {
   "cell_type": "markdown",
   "metadata": {},
   "source": [
    "### Multiple values can be selected by the shift key"
   ]
  },
  {
   "cell_type": "code",
   "execution_count": 20,
   "metadata": {},
   "outputs": [
    {
     "data": {
      "text/markdown": [
       "<div style=\"border: 1px solid #999; border-radius: 3px;\">\n",
       "\n",
       "```python\n",
       "w = widgets.SelectMultiple(\n",
       "    options=['Apples', 'Oranges', 'Pears'],\n",
       "    value=['Oranges'],\n",
       "    #rows=10,\n",
       "    description='Fruits',\n",
       "    disabled=False\n",
       ")\n",
       "\n",
       "w = display(w)\n",
       "\n",
       "```\n",
       "\n",
       "</div>"
      ],
      "text/plain": [
       "<IPython.core.display.Markdown object>"
      ]
     },
     "metadata": {},
     "output_type": "display_data"
    },
    {
     "data": {
      "application/vnd.jupyter.widget-view+json": {
       "model_id": "a8dd8006c24643709218fee357fe8dd1",
       "version_major": 2,
       "version_minor": 0
      },
      "text/plain": [
       "SelectMultiple(description='Fruits', index=(1,), options=('Apples', 'Oranges', 'Pears'), value=('Oranges',))"
      ]
     },
     "metadata": {},
     "output_type": "display_data"
    }
   ],
   "source": [
    "%%reprint \n",
    "w = widgets.SelectMultiple(\n",
    "    options=['Apples', 'Oranges', 'Pears'],\n",
    "    value=['Oranges'],\n",
    "    #rows=10,\n",
    "    description='Fruits',\n",
    "    disabled=False\n",
    ")\n",
    "\n",
    "w = display(w)"
   ]
  },
  {
   "cell_type": "markdown",
   "metadata": {},
   "source": [
    "## String widgets\n",
    "\n",
    "String widgets are used to display string values. "
   ]
  },
  {
   "cell_type": "markdown",
   "metadata": {},
   "source": [
    "### Textarea to show some text"
   ]
  },
  {
   "cell_type": "code",
   "execution_count": 22,
   "metadata": {},
   "outputs": [
    {
     "data": {
      "text/markdown": [
       "<div style=\"border: 1px solid #999; border-radius: 3px;\">\n",
       "\n",
       "```python\n",
       "w = widgets.Textarea(\n",
       "    value='Hello the world!',\n",
       "    placeholder='Type something',\n",
       "    description='String:',\n",
       "    disabled=False\n",
       ")\n",
       "\n",
       "display(w)\n",
       "\n",
       "```\n",
       "\n",
       "</div>"
      ],
      "text/plain": [
       "<IPython.core.display.Markdown object>"
      ]
     },
     "metadata": {},
     "output_type": "display_data"
    },
    {
     "data": {
      "application/vnd.jupyter.widget-view+json": {
       "model_id": "6c9c894be64b4bc6a79bea6ef34032eb",
       "version_major": 2,
       "version_minor": 0
      },
      "text/plain": [
       "Textarea(value='Hello the world!', description='String:', placeholder='Type something')"
      ]
     },
     "metadata": {},
     "output_type": "display_data"
    }
   ],
   "source": [
    "%%reprint \n",
    "w = widgets.Textarea(\n",
    "    value='Hello the world!',\n",
    "    placeholder='Type something',\n",
    "    description='String:',\n",
    "    disabled=False\n",
    ")\n",
    "\n",
    "display(w)"
   ]
  },
  {
   "cell_type": "markdown",
   "metadata": {},
   "source": [
    "## Other widgets \n",
    "\n",
    "There are many other widgets. For instance, color picker widget, file upload widget and etc. \n",
    "One can find all the information at:\n",
    "\n",
    "[Jupyter Widgets](https://ipywidgets.readthedocs.io/en/latest/index.html)"
   ]
  },
  {
   "cell_type": "markdown",
   "metadata": {},
   "source": [
    "## Layout of widgets\n",
    "\n",
    "In many cases, one need to arrange several widgets together for the tasks. The ipywidgets library \n",
    "also provides functions to order the layout of the widgets. "
   ]
  },
  {
   "cell_type": "markdown",
   "metadata": {},
   "source": [
    "### Arrange four buttons into a 2x2 grid"
   ]
  },
  {
   "cell_type": "code",
   "execution_count": 23,
   "metadata": {},
   "outputs": [
    {
     "data": {
      "text/markdown": [
       "<div style=\"border: 1px solid #999; border-radius: 3px;\">\n",
       "\n",
       "```python\n",
       "\n",
       "from ipywidgets import Button, Layout, jslink, IntText, IntSlider\n",
       "from ipywidgets import TwoByTwoLayout\n",
       "\n",
       "def create_expanded_button(description, button_style):\n",
       "    return Button(description=description, button_style=button_style, layout=Layout(height='auto', width='auto'))\n",
       "\n",
       "top_left_button = create_expanded_button(\"Top left\", 'info')\n",
       "top_right_button = create_expanded_button(\"Top right\", 'success')\n",
       "bottom_left_button = create_expanded_button(\"Bottom left\", 'danger')\n",
       "bottom_right_button = create_expanded_button(\"Bottom right\", 'warning')\n",
       "\n",
       "w = TwoByTwoLayout(top_left=top_left_button,\n",
       "               top_right=top_right_button,\n",
       "               bottom_left=bottom_left_button,\n",
       "               bottom_right=bottom_right_button)\n",
       "\n",
       "display(w)\n",
       "\n",
       "```\n",
       "\n",
       "</div>"
      ],
      "text/plain": [
       "<IPython.core.display.Markdown object>"
      ]
     },
     "metadata": {},
     "output_type": "display_data"
    },
    {
     "data": {
      "application/vnd.jupyter.widget-view+json": {
       "model_id": "407f777c8ae947c69a9d98b382329ed0",
       "version_major": 2,
       "version_minor": 0
      },
      "text/plain": [
       "TwoByTwoLayout(children=(Button(button_style='info', description='Top left', layout=Layout(grid_area='top-left…"
      ]
     },
     "metadata": {},
     "output_type": "display_data"
    }
   ],
   "source": [
    "%%reprint\n",
    "\n",
    "from ipywidgets import Button, Layout, jslink, IntText, IntSlider\n",
    "from ipywidgets import TwoByTwoLayout\n",
    "\n",
    "def create_expanded_button(description, button_style):\n",
    "    return Button(description=description, button_style=button_style, layout=Layout(height='auto', width='auto'))\n",
    "\n",
    "top_left_button = create_expanded_button(\"Top left\", 'info')\n",
    "top_right_button = create_expanded_button(\"Top right\", 'success')\n",
    "bottom_left_button = create_expanded_button(\"Bottom left\", 'danger')\n",
    "bottom_right_button = create_expanded_button(\"Bottom right\", 'warning')\n",
    "\n",
    "w = TwoByTwoLayout(top_left=top_left_button,\n",
    "               top_right=top_right_button,\n",
    "               bottom_left=bottom_left_button,\n",
    "               bottom_right=bottom_right_button)\n",
    "\n",
    "display(w)"
   ]
  },
  {
   "cell_type": "markdown",
   "metadata": {},
   "source": [
    "### Create a application-like widget by the AppLayout function"
   ]
  },
  {
   "cell_type": "code",
   "execution_count": 24,
   "metadata": {},
   "outputs": [
    {
     "data": {
      "text/markdown": [
       "<div style=\"border: 1px solid #999; border-radius: 3px;\">\n",
       "\n",
       "```python\n",
       "from ipywidgets import AppLayout, Button, Layout\n",
       "\n",
       "header_button = create_expanded_button('Header', 'success')\n",
       "left_button = create_expanded_button('Left', 'info')\n",
       "center_button = create_expanded_button('Center', 'warning')\n",
       "right_button = create_expanded_button('Right', 'info')\n",
       "footer_button = create_expanded_button('Footer', 'success')\n",
       "\n",
       "w = AppLayout(header=header_button,\n",
       "          left_sidebar=left_button,\n",
       "          center=center_button,\n",
       "          right_sidebar=right_button,\n",
       "          footer=footer_button)\n",
       "\n",
       "display(w)\n",
       "\n",
       "```\n",
       "\n",
       "</div>"
      ],
      "text/plain": [
       "<IPython.core.display.Markdown object>"
      ]
     },
     "metadata": {},
     "output_type": "display_data"
    },
    {
     "data": {
      "application/vnd.jupyter.widget-view+json": {
       "model_id": "ccca376098654853a53d0026332cddfb",
       "version_major": 2,
       "version_minor": 0
      },
      "text/plain": [
       "AppLayout(children=(Button(button_style='success', description='Header', layout=Layout(grid_area='header', hei…"
      ]
     },
     "metadata": {},
     "output_type": "display_data"
    }
   ],
   "source": [
    "%%reprint \n",
    "from ipywidgets import AppLayout, Button, Layout\n",
    "\n",
    "header_button = create_expanded_button('Header', 'success')\n",
    "left_button = create_expanded_button('Left', 'info')\n",
    "center_button = create_expanded_button('Center', 'warning')\n",
    "right_button = create_expanded_button('Right', 'info')\n",
    "footer_button = create_expanded_button('Footer', 'success')\n",
    "\n",
    "w = AppLayout(header=header_button,\n",
    "          left_sidebar=left_button,\n",
    "          center=center_button,\n",
    "          right_sidebar=right_button,\n",
    "          footer=footer_button)\n",
    "\n",
    "display(w)"
   ]
  },
  {
   "cell_type": "markdown",
   "metadata": {},
   "source": [
    "## A example to show the application of the widgets in Jupyter Notebook"
   ]
  },
  {
   "cell_type": "markdown",
   "metadata": {},
   "source": [
    "## A interactive figure for sine function"
   ]
  },
  {
   "cell_type": "code",
   "execution_count": 34,
   "metadata": {},
   "outputs": [
    {
     "data": {
      "application/javascript": [
       "/* Put everything inside the global mpl namespace */\n",
       "window.mpl = {};\n",
       "\n",
       "\n",
       "mpl.get_websocket_type = function() {\n",
       "    if (typeof(WebSocket) !== 'undefined') {\n",
       "        return WebSocket;\n",
       "    } else if (typeof(MozWebSocket) !== 'undefined') {\n",
       "        return MozWebSocket;\n",
       "    } else {\n",
       "        alert('Your browser does not have WebSocket support. ' +\n",
       "              'Please try Chrome, Safari or Firefox ≥ 6. ' +\n",
       "              'Firefox 4 and 5 are also supported but you ' +\n",
       "              'have to enable WebSockets in about:config.');\n",
       "    };\n",
       "}\n",
       "\n",
       "mpl.figure = function(figure_id, websocket, ondownload, parent_element) {\n",
       "    this.id = figure_id;\n",
       "\n",
       "    this.ws = websocket;\n",
       "\n",
       "    this.supports_binary = (this.ws.binaryType != undefined);\n",
       "\n",
       "    if (!this.supports_binary) {\n",
       "        var warnings = document.getElementById(\"mpl-warnings\");\n",
       "        if (warnings) {\n",
       "            warnings.style.display = 'block';\n",
       "            warnings.textContent = (\n",
       "                \"This browser does not support binary websocket messages. \" +\n",
       "                    \"Performance may be slow.\");\n",
       "        }\n",
       "    }\n",
       "\n",
       "    this.imageObj = new Image();\n",
       "\n",
       "    this.context = undefined;\n",
       "    this.message = undefined;\n",
       "    this.canvas = undefined;\n",
       "    this.rubberband_canvas = undefined;\n",
       "    this.rubberband_context = undefined;\n",
       "    this.format_dropdown = undefined;\n",
       "\n",
       "    this.image_mode = 'full';\n",
       "\n",
       "    this.root = $('<div/>');\n",
       "    this._root_extra_style(this.root)\n",
       "    this.root.attr('style', 'display: inline-block');\n",
       "\n",
       "    $(parent_element).append(this.root);\n",
       "\n",
       "    this._init_header(this);\n",
       "    this._init_canvas(this);\n",
       "    this._init_toolbar(this);\n",
       "\n",
       "    var fig = this;\n",
       "\n",
       "    this.waiting = false;\n",
       "\n",
       "    this.ws.onopen =  function () {\n",
       "            fig.send_message(\"supports_binary\", {value: fig.supports_binary});\n",
       "            fig.send_message(\"send_image_mode\", {});\n",
       "            if (mpl.ratio != 1) {\n",
       "                fig.send_message(\"set_dpi_ratio\", {'dpi_ratio': mpl.ratio});\n",
       "            }\n",
       "            fig.send_message(\"refresh\", {});\n",
       "        }\n",
       "\n",
       "    this.imageObj.onload = function() {\n",
       "            if (fig.image_mode == 'full') {\n",
       "                // Full images could contain transparency (where diff images\n",
       "                // almost always do), so we need to clear the canvas so that\n",
       "                // there is no ghosting.\n",
       "                fig.context.clearRect(0, 0, fig.canvas.width, fig.canvas.height);\n",
       "            }\n",
       "            fig.context.drawImage(fig.imageObj, 0, 0);\n",
       "        };\n",
       "\n",
       "    this.imageObj.onunload = function() {\n",
       "        fig.ws.close();\n",
       "    }\n",
       "\n",
       "    this.ws.onmessage = this._make_on_message_function(this);\n",
       "\n",
       "    this.ondownload = ondownload;\n",
       "}\n",
       "\n",
       "mpl.figure.prototype._init_header = function() {\n",
       "    var titlebar = $(\n",
       "        '<div class=\"ui-dialog-titlebar ui-widget-header ui-corner-all ' +\n",
       "        'ui-helper-clearfix\"/>');\n",
       "    var titletext = $(\n",
       "        '<div class=\"ui-dialog-title\" style=\"width: 100%; ' +\n",
       "        'text-align: center; padding: 3px;\"/>');\n",
       "    titlebar.append(titletext)\n",
       "    this.root.append(titlebar);\n",
       "    this.header = titletext[0];\n",
       "}\n",
       "\n",
       "\n",
       "\n",
       "mpl.figure.prototype._canvas_extra_style = function(canvas_div) {\n",
       "\n",
       "}\n",
       "\n",
       "\n",
       "mpl.figure.prototype._root_extra_style = function(canvas_div) {\n",
       "\n",
       "}\n",
       "\n",
       "mpl.figure.prototype._init_canvas = function() {\n",
       "    var fig = this;\n",
       "\n",
       "    var canvas_div = $('<div/>');\n",
       "\n",
       "    canvas_div.attr('style', 'position: relative; clear: both; outline: 0');\n",
       "\n",
       "    function canvas_keyboard_event(event) {\n",
       "        return fig.key_event(event, event['data']);\n",
       "    }\n",
       "\n",
       "    canvas_div.keydown('key_press', canvas_keyboard_event);\n",
       "    canvas_div.keyup('key_release', canvas_keyboard_event);\n",
       "    this.canvas_div = canvas_div\n",
       "    this._canvas_extra_style(canvas_div)\n",
       "    this.root.append(canvas_div);\n",
       "\n",
       "    var canvas = $('<canvas/>');\n",
       "    canvas.addClass('mpl-canvas');\n",
       "    canvas.attr('style', \"left: 0; top: 0; z-index: 0; outline: 0\")\n",
       "\n",
       "    this.canvas = canvas[0];\n",
       "    this.context = canvas[0].getContext(\"2d\");\n",
       "\n",
       "    var backingStore = this.context.backingStorePixelRatio ||\n",
       "\tthis.context.webkitBackingStorePixelRatio ||\n",
       "\tthis.context.mozBackingStorePixelRatio ||\n",
       "\tthis.context.msBackingStorePixelRatio ||\n",
       "\tthis.context.oBackingStorePixelRatio ||\n",
       "\tthis.context.backingStorePixelRatio || 1;\n",
       "\n",
       "    mpl.ratio = (window.devicePixelRatio || 1) / backingStore;\n",
       "\n",
       "    var rubberband = $('<canvas/>');\n",
       "    rubberband.attr('style', \"position: absolute; left: 0; top: 0; z-index: 1;\")\n",
       "\n",
       "    var pass_mouse_events = true;\n",
       "\n",
       "    canvas_div.resizable({\n",
       "        start: function(event, ui) {\n",
       "            pass_mouse_events = false;\n",
       "        },\n",
       "        resize: function(event, ui) {\n",
       "            fig.request_resize(ui.size.width, ui.size.height);\n",
       "        },\n",
       "        stop: function(event, ui) {\n",
       "            pass_mouse_events = true;\n",
       "            fig.request_resize(ui.size.width, ui.size.height);\n",
       "        },\n",
       "    });\n",
       "\n",
       "    function mouse_event_fn(event) {\n",
       "        if (pass_mouse_events)\n",
       "            return fig.mouse_event(event, event['data']);\n",
       "    }\n",
       "\n",
       "    rubberband.mousedown('button_press', mouse_event_fn);\n",
       "    rubberband.mouseup('button_release', mouse_event_fn);\n",
       "    // Throttle sequential mouse events to 1 every 20ms.\n",
       "    rubberband.mousemove('motion_notify', mouse_event_fn);\n",
       "\n",
       "    rubberband.mouseenter('figure_enter', mouse_event_fn);\n",
       "    rubberband.mouseleave('figure_leave', mouse_event_fn);\n",
       "\n",
       "    canvas_div.on(\"wheel\", function (event) {\n",
       "        event = event.originalEvent;\n",
       "        event['data'] = 'scroll'\n",
       "        if (event.deltaY < 0) {\n",
       "            event.step = 1;\n",
       "        } else {\n",
       "            event.step = -1;\n",
       "        }\n",
       "        mouse_event_fn(event);\n",
       "    });\n",
       "\n",
       "    canvas_div.append(canvas);\n",
       "    canvas_div.append(rubberband);\n",
       "\n",
       "    this.rubberband = rubberband;\n",
       "    this.rubberband_canvas = rubberband[0];\n",
       "    this.rubberband_context = rubberband[0].getContext(\"2d\");\n",
       "    this.rubberband_context.strokeStyle = \"#000000\";\n",
       "\n",
       "    this._resize_canvas = function(width, height) {\n",
       "        // Keep the size of the canvas, canvas container, and rubber band\n",
       "        // canvas in synch.\n",
       "        canvas_div.css('width', width)\n",
       "        canvas_div.css('height', height)\n",
       "\n",
       "        canvas.attr('width', width * mpl.ratio);\n",
       "        canvas.attr('height', height * mpl.ratio);\n",
       "        canvas.attr('style', 'width: ' + width + 'px; height: ' + height + 'px;');\n",
       "\n",
       "        rubberband.attr('width', width);\n",
       "        rubberband.attr('height', height);\n",
       "    }\n",
       "\n",
       "    // Set the figure to an initial 600x600px, this will subsequently be updated\n",
       "    // upon first draw.\n",
       "    this._resize_canvas(600, 600);\n",
       "\n",
       "    // Disable right mouse context menu.\n",
       "    $(this.rubberband_canvas).bind(\"contextmenu\",function(e){\n",
       "        return false;\n",
       "    });\n",
       "\n",
       "    function set_focus () {\n",
       "        canvas.focus();\n",
       "        canvas_div.focus();\n",
       "    }\n",
       "\n",
       "    window.setTimeout(set_focus, 100);\n",
       "}\n",
       "\n",
       "mpl.figure.prototype._init_toolbar = function() {\n",
       "    var fig = this;\n",
       "\n",
       "    var nav_element = $('<div/>');\n",
       "    nav_element.attr('style', 'width: 100%');\n",
       "    this.root.append(nav_element);\n",
       "\n",
       "    // Define a callback function for later on.\n",
       "    function toolbar_event(event) {\n",
       "        return fig.toolbar_button_onclick(event['data']);\n",
       "    }\n",
       "    function toolbar_mouse_event(event) {\n",
       "        return fig.toolbar_button_onmouseover(event['data']);\n",
       "    }\n",
       "\n",
       "    for(var toolbar_ind in mpl.toolbar_items) {\n",
       "        var name = mpl.toolbar_items[toolbar_ind][0];\n",
       "        var tooltip = mpl.toolbar_items[toolbar_ind][1];\n",
       "        var image = mpl.toolbar_items[toolbar_ind][2];\n",
       "        var method_name = mpl.toolbar_items[toolbar_ind][3];\n",
       "\n",
       "        if (!name) {\n",
       "            // put a spacer in here.\n",
       "            continue;\n",
       "        }\n",
       "        var button = $('<button/>');\n",
       "        button.addClass('ui-button ui-widget ui-state-default ui-corner-all ' +\n",
       "                        'ui-button-icon-only');\n",
       "        button.attr('role', 'button');\n",
       "        button.attr('aria-disabled', 'false');\n",
       "        button.click(method_name, toolbar_event);\n",
       "        button.mouseover(tooltip, toolbar_mouse_event);\n",
       "\n",
       "        var icon_img = $('<span/>');\n",
       "        icon_img.addClass('ui-button-icon-primary ui-icon');\n",
       "        icon_img.addClass(image);\n",
       "        icon_img.addClass('ui-corner-all');\n",
       "\n",
       "        var tooltip_span = $('<span/>');\n",
       "        tooltip_span.addClass('ui-button-text');\n",
       "        tooltip_span.html(tooltip);\n",
       "\n",
       "        button.append(icon_img);\n",
       "        button.append(tooltip_span);\n",
       "\n",
       "        nav_element.append(button);\n",
       "    }\n",
       "\n",
       "    var fmt_picker_span = $('<span/>');\n",
       "\n",
       "    var fmt_picker = $('<select/>');\n",
       "    fmt_picker.addClass('mpl-toolbar-option ui-widget ui-widget-content');\n",
       "    fmt_picker_span.append(fmt_picker);\n",
       "    nav_element.append(fmt_picker_span);\n",
       "    this.format_dropdown = fmt_picker[0];\n",
       "\n",
       "    for (var ind in mpl.extensions) {\n",
       "        var fmt = mpl.extensions[ind];\n",
       "        var option = $(\n",
       "            '<option/>', {selected: fmt === mpl.default_extension}).html(fmt);\n",
       "        fmt_picker.append(option);\n",
       "    }\n",
       "\n",
       "    // Add hover states to the ui-buttons\n",
       "    $( \".ui-button\" ).hover(\n",
       "        function() { $(this).addClass(\"ui-state-hover\");},\n",
       "        function() { $(this).removeClass(\"ui-state-hover\");}\n",
       "    );\n",
       "\n",
       "    var status_bar = $('<span class=\"mpl-message\"/>');\n",
       "    nav_element.append(status_bar);\n",
       "    this.message = status_bar[0];\n",
       "}\n",
       "\n",
       "mpl.figure.prototype.request_resize = function(x_pixels, y_pixels) {\n",
       "    // Request matplotlib to resize the figure. Matplotlib will then trigger a resize in the client,\n",
       "    // which will in turn request a refresh of the image.\n",
       "    this.send_message('resize', {'width': x_pixels, 'height': y_pixels});\n",
       "}\n",
       "\n",
       "mpl.figure.prototype.send_message = function(type, properties) {\n",
       "    properties['type'] = type;\n",
       "    properties['figure_id'] = this.id;\n",
       "    this.ws.send(JSON.stringify(properties));\n",
       "}\n",
       "\n",
       "mpl.figure.prototype.send_draw_message = function() {\n",
       "    if (!this.waiting) {\n",
       "        this.waiting = true;\n",
       "        this.ws.send(JSON.stringify({type: \"draw\", figure_id: this.id}));\n",
       "    }\n",
       "}\n",
       "\n",
       "\n",
       "mpl.figure.prototype.handle_save = function(fig, msg) {\n",
       "    var format_dropdown = fig.format_dropdown;\n",
       "    var format = format_dropdown.options[format_dropdown.selectedIndex].value;\n",
       "    fig.ondownload(fig, format);\n",
       "}\n",
       "\n",
       "\n",
       "mpl.figure.prototype.handle_resize = function(fig, msg) {\n",
       "    var size = msg['size'];\n",
       "    if (size[0] != fig.canvas.width || size[1] != fig.canvas.height) {\n",
       "        fig._resize_canvas(size[0], size[1]);\n",
       "        fig.send_message(\"refresh\", {});\n",
       "    };\n",
       "}\n",
       "\n",
       "mpl.figure.prototype.handle_rubberband = function(fig, msg) {\n",
       "    var x0 = msg['x0'] / mpl.ratio;\n",
       "    var y0 = (fig.canvas.height - msg['y0']) / mpl.ratio;\n",
       "    var x1 = msg['x1'] / mpl.ratio;\n",
       "    var y1 = (fig.canvas.height - msg['y1']) / mpl.ratio;\n",
       "    x0 = Math.floor(x0) + 0.5;\n",
       "    y0 = Math.floor(y0) + 0.5;\n",
       "    x1 = Math.floor(x1) + 0.5;\n",
       "    y1 = Math.floor(y1) + 0.5;\n",
       "    var min_x = Math.min(x0, x1);\n",
       "    var min_y = Math.min(y0, y1);\n",
       "    var width = Math.abs(x1 - x0);\n",
       "    var height = Math.abs(y1 - y0);\n",
       "\n",
       "    fig.rubberband_context.clearRect(\n",
       "        0, 0, fig.canvas.width / mpl.ratio, fig.canvas.height / mpl.ratio);\n",
       "\n",
       "    fig.rubberband_context.strokeRect(min_x, min_y, width, height);\n",
       "}\n",
       "\n",
       "mpl.figure.prototype.handle_figure_label = function(fig, msg) {\n",
       "    // Updates the figure title.\n",
       "    fig.header.textContent = msg['label'];\n",
       "}\n",
       "\n",
       "mpl.figure.prototype.handle_cursor = function(fig, msg) {\n",
       "    var cursor = msg['cursor'];\n",
       "    switch(cursor)\n",
       "    {\n",
       "    case 0:\n",
       "        cursor = 'pointer';\n",
       "        break;\n",
       "    case 1:\n",
       "        cursor = 'default';\n",
       "        break;\n",
       "    case 2:\n",
       "        cursor = 'crosshair';\n",
       "        break;\n",
       "    case 3:\n",
       "        cursor = 'move';\n",
       "        break;\n",
       "    }\n",
       "    fig.rubberband_canvas.style.cursor = cursor;\n",
       "}\n",
       "\n",
       "mpl.figure.prototype.handle_message = function(fig, msg) {\n",
       "    fig.message.textContent = msg['message'];\n",
       "}\n",
       "\n",
       "mpl.figure.prototype.handle_draw = function(fig, msg) {\n",
       "    // Request the server to send over a new figure.\n",
       "    fig.send_draw_message();\n",
       "}\n",
       "\n",
       "mpl.figure.prototype.handle_image_mode = function(fig, msg) {\n",
       "    fig.image_mode = msg['mode'];\n",
       "}\n",
       "\n",
       "mpl.figure.prototype.updated_canvas_event = function() {\n",
       "    // Called whenever the canvas gets updated.\n",
       "    this.send_message(\"ack\", {});\n",
       "}\n",
       "\n",
       "// A function to construct a web socket function for onmessage handling.\n",
       "// Called in the figure constructor.\n",
       "mpl.figure.prototype._make_on_message_function = function(fig) {\n",
       "    return function socket_on_message(evt) {\n",
       "        if (evt.data instanceof Blob) {\n",
       "            /* FIXME: We get \"Resource interpreted as Image but\n",
       "             * transferred with MIME type text/plain:\" errors on\n",
       "             * Chrome.  But how to set the MIME type?  It doesn't seem\n",
       "             * to be part of the websocket stream */\n",
       "            evt.data.type = \"image/png\";\n",
       "\n",
       "            /* Free the memory for the previous frames */\n",
       "            if (fig.imageObj.src) {\n",
       "                (window.URL || window.webkitURL).revokeObjectURL(\n",
       "                    fig.imageObj.src);\n",
       "            }\n",
       "\n",
       "            fig.imageObj.src = (window.URL || window.webkitURL).createObjectURL(\n",
       "                evt.data);\n",
       "            fig.updated_canvas_event();\n",
       "            fig.waiting = false;\n",
       "            return;\n",
       "        }\n",
       "        else if (typeof evt.data === 'string' && evt.data.slice(0, 21) == \"data:image/png;base64\") {\n",
       "            fig.imageObj.src = evt.data;\n",
       "            fig.updated_canvas_event();\n",
       "            fig.waiting = false;\n",
       "            return;\n",
       "        }\n",
       "\n",
       "        var msg = JSON.parse(evt.data);\n",
       "        var msg_type = msg['type'];\n",
       "\n",
       "        // Call the  \"handle_{type}\" callback, which takes\n",
       "        // the figure and JSON message as its only arguments.\n",
       "        try {\n",
       "            var callback = fig[\"handle_\" + msg_type];\n",
       "        } catch (e) {\n",
       "            console.log(\"No handler for the '\" + msg_type + \"' message type: \", msg);\n",
       "            return;\n",
       "        }\n",
       "\n",
       "        if (callback) {\n",
       "            try {\n",
       "                // console.log(\"Handling '\" + msg_type + \"' message: \", msg);\n",
       "                callback(fig, msg);\n",
       "            } catch (e) {\n",
       "                console.log(\"Exception inside the 'handler_\" + msg_type + \"' callback:\", e, e.stack, msg);\n",
       "            }\n",
       "        }\n",
       "    };\n",
       "}\n",
       "\n",
       "// from http://stackoverflow.com/questions/1114465/getting-mouse-location-in-canvas\n",
       "mpl.findpos = function(e) {\n",
       "    //this section is from http://www.quirksmode.org/js/events_properties.html\n",
       "    var targ;\n",
       "    if (!e)\n",
       "        e = window.event;\n",
       "    if (e.target)\n",
       "        targ = e.target;\n",
       "    else if (e.srcElement)\n",
       "        targ = e.srcElement;\n",
       "    if (targ.nodeType == 3) // defeat Safari bug\n",
       "        targ = targ.parentNode;\n",
       "\n",
       "    // jQuery normalizes the pageX and pageY\n",
       "    // pageX,Y are the mouse positions relative to the document\n",
       "    // offset() returns the position of the element relative to the document\n",
       "    var x = e.pageX - $(targ).offset().left;\n",
       "    var y = e.pageY - $(targ).offset().top;\n",
       "\n",
       "    return {\"x\": x, \"y\": y};\n",
       "};\n",
       "\n",
       "/*\n",
       " * return a copy of an object with only non-object keys\n",
       " * we need this to avoid circular references\n",
       " * http://stackoverflow.com/a/24161582/3208463\n",
       " */\n",
       "function simpleKeys (original) {\n",
       "  return Object.keys(original).reduce(function (obj, key) {\n",
       "    if (typeof original[key] !== 'object')\n",
       "        obj[key] = original[key]\n",
       "    return obj;\n",
       "  }, {});\n",
       "}\n",
       "\n",
       "mpl.figure.prototype.mouse_event = function(event, name) {\n",
       "    var canvas_pos = mpl.findpos(event)\n",
       "\n",
       "    if (name === 'button_press')\n",
       "    {\n",
       "        this.canvas.focus();\n",
       "        this.canvas_div.focus();\n",
       "    }\n",
       "\n",
       "    var x = canvas_pos.x * mpl.ratio;\n",
       "    var y = canvas_pos.y * mpl.ratio;\n",
       "\n",
       "    this.send_message(name, {x: x, y: y, button: event.button,\n",
       "                             step: event.step,\n",
       "                             guiEvent: simpleKeys(event)});\n",
       "\n",
       "    /* This prevents the web browser from automatically changing to\n",
       "     * the text insertion cursor when the button is pressed.  We want\n",
       "     * to control all of the cursor setting manually through the\n",
       "     * 'cursor' event from matplotlib */\n",
       "    event.preventDefault();\n",
       "    return false;\n",
       "}\n",
       "\n",
       "mpl.figure.prototype._key_event_extra = function(event, name) {\n",
       "    // Handle any extra behaviour associated with a key event\n",
       "}\n",
       "\n",
       "mpl.figure.prototype.key_event = function(event, name) {\n",
       "\n",
       "    // Prevent repeat events\n",
       "    if (name == 'key_press')\n",
       "    {\n",
       "        if (event.which === this._key)\n",
       "            return;\n",
       "        else\n",
       "            this._key = event.which;\n",
       "    }\n",
       "    if (name == 'key_release')\n",
       "        this._key = null;\n",
       "\n",
       "    var value = '';\n",
       "    if (event.ctrlKey && event.which != 17)\n",
       "        value += \"ctrl+\";\n",
       "    if (event.altKey && event.which != 18)\n",
       "        value += \"alt+\";\n",
       "    if (event.shiftKey && event.which != 16)\n",
       "        value += \"shift+\";\n",
       "\n",
       "    value += 'k';\n",
       "    value += event.which.toString();\n",
       "\n",
       "    this._key_event_extra(event, name);\n",
       "\n",
       "    this.send_message(name, {key: value,\n",
       "                             guiEvent: simpleKeys(event)});\n",
       "    return false;\n",
       "}\n",
       "\n",
       "mpl.figure.prototype.toolbar_button_onclick = function(name) {\n",
       "    if (name == 'download') {\n",
       "        this.handle_save(this, null);\n",
       "    } else {\n",
       "        this.send_message(\"toolbar_button\", {name: name});\n",
       "    }\n",
       "};\n",
       "\n",
       "mpl.figure.prototype.toolbar_button_onmouseover = function(tooltip) {\n",
       "    this.message.textContent = tooltip;\n",
       "};\n",
       "mpl.toolbar_items = [[\"Home\", \"Reset original view\", \"fa fa-home icon-home\", \"home\"], [\"Back\", \"Back to previous view\", \"fa fa-arrow-left icon-arrow-left\", \"back\"], [\"Forward\", \"Forward to next view\", \"fa fa-arrow-right icon-arrow-right\", \"forward\"], [\"\", \"\", \"\", \"\"], [\"Pan\", \"Pan axes with left mouse, zoom with right\", \"fa fa-arrows icon-move\", \"pan\"], [\"Zoom\", \"Zoom to rectangle\", \"fa fa-square-o icon-check-empty\", \"zoom\"], [\"\", \"\", \"\", \"\"], [\"Download\", \"Download plot\", \"fa fa-floppy-o icon-save\", \"download\"]];\n",
       "\n",
       "mpl.extensions = [\"eps\", \"pdf\", \"png\", \"ps\", \"raw\", \"svg\"];\n",
       "\n",
       "mpl.default_extension = \"png\";var comm_websocket_adapter = function(comm) {\n",
       "    // Create a \"websocket\"-like object which calls the given IPython comm\n",
       "    // object with the appropriate methods. Currently this is a non binary\n",
       "    // socket, so there is still some room for performance tuning.\n",
       "    var ws = {};\n",
       "\n",
       "    ws.close = function() {\n",
       "        comm.close()\n",
       "    };\n",
       "    ws.send = function(m) {\n",
       "        //console.log('sending', m);\n",
       "        comm.send(m);\n",
       "    };\n",
       "    // Register the callback with on_msg.\n",
       "    comm.on_msg(function(msg) {\n",
       "        //console.log('receiving', msg['content']['data'], msg);\n",
       "        // Pass the mpl event to the overridden (by mpl) onmessage function.\n",
       "        ws.onmessage(msg['content']['data'])\n",
       "    });\n",
       "    return ws;\n",
       "}\n",
       "\n",
       "mpl.mpl_figure_comm = function(comm, msg) {\n",
       "    // This is the function which gets called when the mpl process\n",
       "    // starts-up an IPython Comm through the \"matplotlib\" channel.\n",
       "\n",
       "    var id = msg.content.data.id;\n",
       "    // Get hold of the div created by the display call when the Comm\n",
       "    // socket was opened in Python.\n",
       "    var element = $(\"#\" + id);\n",
       "    var ws_proxy = comm_websocket_adapter(comm)\n",
       "\n",
       "    function ondownload(figure, format) {\n",
       "        window.open(figure.imageObj.src);\n",
       "    }\n",
       "\n",
       "    var fig = new mpl.figure(id, ws_proxy,\n",
       "                           ondownload,\n",
       "                           element.get(0));\n",
       "\n",
       "    // Call onopen now - mpl needs it, as it is assuming we've passed it a real\n",
       "    // web socket which is closed, not our websocket->open comm proxy.\n",
       "    ws_proxy.onopen();\n",
       "\n",
       "    fig.parent_element = element.get(0);\n",
       "    fig.cell_info = mpl.find_output_cell(\"<div id='\" + id + \"'></div>\");\n",
       "    if (!fig.cell_info) {\n",
       "        console.error(\"Failed to find cell for figure\", id, fig);\n",
       "        return;\n",
       "    }\n",
       "\n",
       "    var output_index = fig.cell_info[2]\n",
       "    var cell = fig.cell_info[0];\n",
       "\n",
       "};\n",
       "\n",
       "mpl.figure.prototype.handle_close = function(fig, msg) {\n",
       "    var width = fig.canvas.width/mpl.ratio\n",
       "    fig.root.unbind('remove')\n",
       "\n",
       "    // Update the output cell to use the data from the current canvas.\n",
       "    fig.push_to_output();\n",
       "    var dataURL = fig.canvas.toDataURL();\n",
       "    // Re-enable the keyboard manager in IPython - without this line, in FF,\n",
       "    // the notebook keyboard shortcuts fail.\n",
       "    IPython.keyboard_manager.enable()\n",
       "    $(fig.parent_element).html('<img src=\"' + dataURL + '\" width=\"' + width + '\">');\n",
       "    fig.close_ws(fig, msg);\n",
       "}\n",
       "\n",
       "mpl.figure.prototype.close_ws = function(fig, msg){\n",
       "    fig.send_message('closing', msg);\n",
       "    // fig.ws.close()\n",
       "}\n",
       "\n",
       "mpl.figure.prototype.push_to_output = function(remove_interactive) {\n",
       "    // Turn the data on the canvas into data in the output cell.\n",
       "    var width = this.canvas.width/mpl.ratio\n",
       "    var dataURL = this.canvas.toDataURL();\n",
       "    this.cell_info[1]['text/html'] = '<img src=\"' + dataURL + '\" width=\"' + width + '\">';\n",
       "}\n",
       "\n",
       "mpl.figure.prototype.updated_canvas_event = function() {\n",
       "    // Tell IPython that the notebook contents must change.\n",
       "    IPython.notebook.set_dirty(true);\n",
       "    this.send_message(\"ack\", {});\n",
       "    var fig = this;\n",
       "    // Wait a second, then push the new image to the DOM so\n",
       "    // that it is saved nicely (might be nice to debounce this).\n",
       "    setTimeout(function () { fig.push_to_output() }, 1000);\n",
       "}\n",
       "\n",
       "mpl.figure.prototype._init_toolbar = function() {\n",
       "    var fig = this;\n",
       "\n",
       "    var nav_element = $('<div/>');\n",
       "    nav_element.attr('style', 'width: 100%');\n",
       "    this.root.append(nav_element);\n",
       "\n",
       "    // Define a callback function for later on.\n",
       "    function toolbar_event(event) {\n",
       "        return fig.toolbar_button_onclick(event['data']);\n",
       "    }\n",
       "    function toolbar_mouse_event(event) {\n",
       "        return fig.toolbar_button_onmouseover(event['data']);\n",
       "    }\n",
       "\n",
       "    for(var toolbar_ind in mpl.toolbar_items){\n",
       "        var name = mpl.toolbar_items[toolbar_ind][0];\n",
       "        var tooltip = mpl.toolbar_items[toolbar_ind][1];\n",
       "        var image = mpl.toolbar_items[toolbar_ind][2];\n",
       "        var method_name = mpl.toolbar_items[toolbar_ind][3];\n",
       "\n",
       "        if (!name) { continue; };\n",
       "\n",
       "        var button = $('<button class=\"btn btn-default\" href=\"#\" title=\"' + name + '\"><i class=\"fa ' + image + ' fa-lg\"></i></button>');\n",
       "        button.click(method_name, toolbar_event);\n",
       "        button.mouseover(tooltip, toolbar_mouse_event);\n",
       "        nav_element.append(button);\n",
       "    }\n",
       "\n",
       "    // Add the status bar.\n",
       "    var status_bar = $('<span class=\"mpl-message\" style=\"text-align:right; float: right;\"/>');\n",
       "    nav_element.append(status_bar);\n",
       "    this.message = status_bar[0];\n",
       "\n",
       "    // Add the close button to the window.\n",
       "    var buttongrp = $('<div class=\"btn-group inline pull-right\"></div>');\n",
       "    var button = $('<button class=\"btn btn-mini btn-primary\" href=\"#\" title=\"Stop Interaction\"><i class=\"fa fa-power-off icon-remove icon-large\"></i></button>');\n",
       "    button.click(function (evt) { fig.handle_close(fig, {}); } );\n",
       "    button.mouseover('Stop Interaction', toolbar_mouse_event);\n",
       "    buttongrp.append(button);\n",
       "    var titlebar = this.root.find($('.ui-dialog-titlebar'));\n",
       "    titlebar.prepend(buttongrp);\n",
       "}\n",
       "\n",
       "mpl.figure.prototype._root_extra_style = function(el){\n",
       "    var fig = this\n",
       "    el.on(\"remove\", function(){\n",
       "\tfig.close_ws(fig, {});\n",
       "    });\n",
       "}\n",
       "\n",
       "mpl.figure.prototype._canvas_extra_style = function(el){\n",
       "    // this is important to make the div 'focusable\n",
       "    el.attr('tabindex', 0)\n",
       "    // reach out to IPython and tell the keyboard manager to turn it's self\n",
       "    // off when our div gets focus\n",
       "\n",
       "    // location in version 3\n",
       "    if (IPython.notebook.keyboard_manager) {\n",
       "        IPython.notebook.keyboard_manager.register_events(el);\n",
       "    }\n",
       "    else {\n",
       "        // location in version 2\n",
       "        IPython.keyboard_manager.register_events(el);\n",
       "    }\n",
       "\n",
       "}\n",
       "\n",
       "mpl.figure.prototype._key_event_extra = function(event, name) {\n",
       "    var manager = IPython.notebook.keyboard_manager;\n",
       "    if (!manager)\n",
       "        manager = IPython.keyboard_manager;\n",
       "\n",
       "    // Check for shift+enter\n",
       "    if (event.shiftKey && event.which == 13) {\n",
       "        this.canvas_div.blur();\n",
       "        event.shiftKey = false;\n",
       "        // Send a \"J\" for go to next cell\n",
       "        event.which = 74;\n",
       "        event.keyCode = 74;\n",
       "        manager.command_mode();\n",
       "        manager.handle_keydown(event);\n",
       "    }\n",
       "}\n",
       "\n",
       "mpl.figure.prototype.handle_save = function(fig, msg) {\n",
       "    fig.ondownload(fig, null);\n",
       "}\n",
       "\n",
       "\n",
       "mpl.find_output_cell = function(html_output) {\n",
       "    // Return the cell and output element which can be found *uniquely* in the notebook.\n",
       "    // Note - this is a bit hacky, but it is done because the \"notebook_saving.Notebook\"\n",
       "    // IPython event is triggered only after the cells have been serialised, which for\n",
       "    // our purposes (turning an active figure into a static one), is too late.\n",
       "    var cells = IPython.notebook.get_cells();\n",
       "    var ncells = cells.length;\n",
       "    for (var i=0; i<ncells; i++) {\n",
       "        var cell = cells[i];\n",
       "        if (cell.cell_type === 'code'){\n",
       "            for (var j=0; j<cell.output_area.outputs.length; j++) {\n",
       "                var data = cell.output_area.outputs[j];\n",
       "                if (data.data) {\n",
       "                    // IPython >= 3 moved mimebundle to data attribute of output\n",
       "                    data = data.data;\n",
       "                }\n",
       "                if (data['text/html'] == html_output) {\n",
       "                    return [cell, data, j];\n",
       "                }\n",
       "            }\n",
       "        }\n",
       "    }\n",
       "}\n",
       "\n",
       "// Register the function which deals with the matplotlib target/channel.\n",
       "// The kernel may be null if the page has been refreshed.\n",
       "if (IPython.notebook.kernel != null) {\n",
       "    IPython.notebook.kernel.comm_manager.register_target('matplotlib', mpl.mpl_figure_comm);\n",
       "}\n"
      ],
      "text/plain": [
       "<IPython.core.display.Javascript object>"
      ]
     },
     "metadata": {},
     "output_type": "display_data"
    },
    {
     "data": {
      "text/html": [
       "<img src=\"data:image/png;base64,iVBORw0KGgoAAAANSUhEUgAAAsAAAAIQCAYAAACPEdjAAAAgAElEQVR4XuydB7gV1dWG1+Ve4KKIvXfsBU2sYMMKFtT426IkatQfo9g1iQVLxC5ERUV/RWPvFTsoNoxiDaioiEbFWLBjuZfL5d7/eWfOhuFw5szeU86ZA2s9Tx6Nd2aXb/aZ+fbaa32rrr29vV3UFAFFQBFQBBQBRUARUAQUgfkEgTolwPPJk9ZpKgKKgCKgCCgCioAioAh4CCgB1oWgCCgCioAioAgoAoqAIjBfIaAEeL563DpZRUARUAQUAUVAEVAEFAElwLoGFAFFQBFQBBQBRUARUATmKwSUAM9Xj1snqwgoAoqAIqAIKAKKgCKgBFjXgCKgCCgCioAioAgoAorAfIWAEuD56nHrZBUBRUARUAQUAUVAEVAElADrGlAEFAFFQBFQBBQBRUARmK8QUAI8Xz1unawioAgoAoqAIqAIKAKKgBJgXQOKgCKgCCgCioAioAgoAvMVAkqA56vHrZNVBBQBRUARUAQUAUVAEVACrGtAEVAEFAFFQBFQBBQBRWC+QkAJ8Hz1uHWyioAioAgoAoqAIqAIKAJKgHUNKAKKgCKgCCgCioAioAjMVwgoAZ6vHrdOVhFQBBQBRUARUAQUAUVACbCuAUVAEVAEFAFFQBFQBBSB+QoBJcDz1ePWySoCioAioAgoAoqAIqAIKAHWNaAIKAKKgCKgCCgCioAiMF8hoAR4vnrcOllFQBFQBBQBRUARUAQUASXAugYUAUVAEVAEFAFFQBFQBOYrBJQAz1ePWyerCCgCioAioAgoAoqAIqAEWNeAIqAIKAKKgCKgCCgCisB8hYAS4PnqcetkFQFFQBFQBBQBRUARUASUAOsaUAQUAUVAEVAEFAFFQBGYrxBQAjxfPW6drCKgCCgCioAioAgoAoqAEmBdA4qAIqAIKAKKgCKgCCgC8xUCSoDnq8etk1UEFAFFQBFQBBQBRUARUAKsa0ARUAQUAUVAEVAEFAFFYL5CQAnwfPW4dbKKgCKgCCgCioAioAgoAkqAdQ0oAoqAIqAIKAKKgCKgCMxXCCgBnq8et05WEVAEFAFFQBFQBBQBRUAJsK4BRUARUAQUAUVAEVAEFIH5CgElwPPV49bJKgKKgCKgCCgCioAioAgoAdY1oAgoAoqAIqAIKAKKgCIwXyGgBHi+etw6WUVAEVAEFAFFQBFQBBQBJcC6BhQBRUARUAQUAUVAEVAE5isElADPV49bJ6sIzD8IrLLKKvLJJ5/If/7zH+Hf5zVbYYUV5L///a+8++67svbaa6cyvV9++UVWX3116dq1q7z33ntSX1+fSru13sjKK68sn376qbz55pvym9/8pux0fv31V1l11VVlkUUWkbfffls6duxY69PX8SsC8yQCSoDnyceqk1IEfAS23XZbee6558rCwcf9448/rinILrvsMvnhhx/kkEMOCSW38zIB/u6772TxxReXzp07C6Q1LaJ65plnyuDBg+Xmm2+WP/7xjzW1JrIa7Pfffy+LLbaYR2R//vln6dSpU2RXQ4cOlZNPPlmGDRsmxxxzTOT1eoEioAhUHgElwJXHXHtUBCqGgCHAK664oqy00kol+1122WXlnnvuqdiY0ujIkNtnnnnGI/mlbIcddvA8pE8//bQsv/zyaXSbmzZef/116d+/v6y11lry0EMPpTKur776Srp37y7LLbecen8DiLLGtt9+e+nRo4dMmDDBCmu8wGwsMU4g8KirKQKKQL4QUAKcr+eho1EEUkXAEOCzzjpLzj777FTbrmZjNgS4muOrxb7PPfdcOeOMM+S8886T0047rRanMGvMN954o/zpT3+SNNb9pZdeKieeeKL84Q9/kFtuucUaFzy/V155pVxzzTVyxBFHWN+nFyoCikBlEFACXBmctRdFoCoIKAGuCuw112lbW5vn/SXOFY+l8V7W3EQKA06TAB988MFeSMgll1zihTXY2iuvvCKbb765/Pa3v5U33njD9ja9ThFQBCqEgBLgCgGt3SgC1UAgDgGuq6vzhtre3l5yyHiS//73v8/lXQt6ZQm3wPs2evRoL1aXpKBDDz1UTjrpJOnQoUPJdiFhd999t0c2OOLnviWWWELWXHNN+d3vfieHH364F6qBZy/Mgh6/qBjgn376SfDu3XffffLhhx96TZIAts8++8jxxx9f8tg66RzLrYEZM2bIdddd52Hw1ltvybRp07xEKsI3evfuLUceeeSsZDdCHyZNmiQvv/yyR7KCxhyYz2uvvSYLLrigEI86atQo+frrrz1iSzt4J81z5t7nn3/e64MELxK9iq21tXVWMhf/How5/vbbb4UQm6amJu8ZMYeg4VXGuwx5hERixHCfcMIJXljOBx98MFdc7b/+9S8hhAVMeD577rmn088nTQK8wQYbeM8DDJdZZhm56KKL5KmnnvLWJ8mHzAvvcCkjvOjLL7+UiRMnyjrrrOM0B71YEVAEskVACXC2+GrrikBVEagGAYZUQpJbWlpk3XXX9QgAsbjYwIEDvWPhYiORC+L5xBNPeH9aeumlPXJEXOpnn30mkGOI2RdffOEd0UPupk+fLuuvv74svPDCs5qDZPM/rBwBpk0IFiQSQs44IYTvvPOO1xdkBZJDPGzQTJtx5lhuIZDU1qdPH4/4Mx68sZBfsGPOM2fOlMcee0x22WUXIb50oYUW8pqDxC+wwAKzmub/gwcElQQsQ+Rpb8qUKR6e2BVXXCFHH330rPvOOeccb8MyYMAA+b//+7+SQ6VPksAgfkHMTegEN+29995y7733zrqfNcBz/Oabb+Sjjz6aFYfOs4PEo9LBemBdGEN9YssttxQwYSyMydXSIsCMn/hdiDjk/fTTT/f+PxuJyZMne/hjrAewLjY2bsRoDx8+3Nt4qCkCikB+EFACnJ9noSNRBFJHoBoEmGx5jo0hBSb5584775QDDzzQm9/7778va6yxxhxzxYN22223ecQX8rLzzjvP+jtZ+MRe4gU0R/M2McDlCDDeTryeG264oedhXG211bz+8EbutddeHhHebrvtZMyYMXOM07QZZ47lHi6e0+uvv97zdEMIg0l7EEGwOeCAAzyP+EsvvSRbbLGF531EAi1oY8eOla233loaGhqksbFRLr/8cu9ZQIgh0ZBeYlKZ97///e9Zt+60004e4cd7y1hKGV5eNg4QaSTYMAgizwRlBMg1xJWkQ2O33nqrpyax3377yV133TVHszfddJOn4sEmA48144Xs9+rVyyPGnDKgShHH0iLAhC5svPHG3uaoS5cucvHFF3uEnOcPiT/ssMO8Z8MmBGwWXXTROYZ7/vnne6SZZ3f77bfHmYreowgoAhkhoAQ4I2C1WUUgDwjYyKAV6+QmDYFYb731ZPz48XNJc+2xxx7y8MMPe8ffxx133Cx4uJajdzyf48aNk0022SQSuiQEGFk4cKE/iG6xhi7H3RBEQkBeeOEF2WqrrWaNx/TrOseoCeHt/fHHHz1PKfJm5ezqq6+Wo446qiSpuuqqq2Z5du+44w75/e9/P0dTeLzxvHbr1s3rzxgbEjyajzzyiOy2224luzehAMHj/H/+85+ex33IkCFeaADEOBjvSngGsbCQ9p49e87RLp522uQZ/OMf//CI9zbbbOMR8z//+c/CPONaWgT4hhtu8Eguxr8Xh9/gAWYDwCaNjdT//M//zDFkMw5IPWEdaoqAIpAfBJQA5+dZ6EgUgdQRsJFB48ia2EZjSQlw2HHwBRdc4KkLEH/K8bwxjt45gicE4Mknn7TCIAkBPuWUUzyyRjgBYQWlrG/fvl7M56mnnip48YwFQyBKHXmHzbHcpCDaeBfxKOJNNJ7ysHtQFLj22mu9Ofz1r3+d47L//d//lREjRoRiCdkkbASiiifXmCHgkDTIWikzXnM2KZtttpl3CQQWDWm8n3hKiQ9mQ4W9+uqr3nUQXwhwKRs5cqTn2V9qqaW8ceFxxwPPmgyLFbdZIGkRYKPkgMf9xRdfLNk1EmlIpZXS/DXzIy6b0wU1RUARyA8CSoDz8yx0JIpA6ghUIwQizItovGl40fh3Y8SN3n///U6SVUkIMATrwQcflL/85S/ekXYpI7GJ5DGuZWzFBNh1jlEPFk1fc0ROCAOexF133dVLACw241Vls8CmIWibbrqpFx9dylvJdcwFvHfccUcvQdEYBTUIZ8B7i2pBKYOoQugIlSB+mg0CGwU2Amx6IMCEMhAjjB100EFe6AqhD4RAhBlhE8Y7igeYeREOYWOEUBBK4WqQ+WeffTbyNp4FYSXMIyzRzcT5lsIcjHlGhHmYOPjITvUCRUARqAgCSoArArN2oghUB4FqEOCw4hTGK0dMKv9uzMSfhnmOSyGXhABD/ohT5dgeVYpSxt8gyMVEMarfsDlGPX3IJ33i2SX+1RhkFO94v379vP9E2ADJaCTCEXOL59QYMb78DTUGvLKlpMyMIkMx+YegEX8LLng0S5khmw888IAXq0ycNmSY0Alw4T5IJV5gowxBTDekmJjkUsa1EH1DxvFQk5Boa3jnS3nxp06d6nlcwwrAgCuJgOUMzzyecdQ4wCZ4ShK8z4SGmI1B8G+Qf8JQuIZQHzVFQBHIDwJKgPPzLHQkikDqCCQhwBCqUsfQkCfIWnGRgbjksBY9wK4k3/bBQrqIQYbUQYYJJ+AZIHeGd5ekNwhiKY8isbnEJlO2FwJayiDSjz76qOdtJjErSLSJvUWCbd999y15L55ekuqQqdtoo428kAWUO0wVQeMJJWkP1YNBgwaV1c5lrpBq2oMgQ4bLqVDYYsh1aYRAQNwJXSA8hQ1HKYMYk7CIx5p5F3uuwQGFi+KNlMtc9FpFQBHIBgElwNngqq0qArlAIA4BRrkBWbLPP/9c0DEtNnMUnhYBjhMDjK4wXs5ypZDDVCBMDDAezMcff7zkc+JvHMWHxQBnRYCDg2lubvbicSGmhGqw8SCxjRhhvKYQ2aBBagmlIDwBb2QpM55eiHQw+Y9EL47wy1VOQ5UBeTsS7ZBr4/pgzLApGIHKB2MgFII4Y7yopexvf/ubNy/CPIhbRnXDSNGVCv1w+UGlQYBJaoPgo3CBV73UZhCVisGDB4dWiYP8QoKZ64UXXugyBb1WEVAEMkZACXDGAGvzikA1EYhDgDkehnQRL0oMbNDQcsUDScJWWgR4woQJnuqCiwoEY4DEGW3cUhiHEWCjAgHZwmtarALBMXyPHj08FQik0ogDNRbXyx13DZjEMwgdBNOQRqS10N8NmvlbWGwzIRMc4yPZhXpBkNDhhaX9cpsCkrxQ76CABaSOdRJMbjMJY4yDBL3iZMfgWE0hDMYDiWZDY2KG8UDjiU5iaRBgPNhoTmMQfrzeQYPo898IX3n77bc9dY1iQ9GEe8ut0yTz1HsVAUUgPgJKgONjp3cqArlHIA4BNnGiFIPAQ2piSTkSJp6RWEYKA6RFgAExqANMUhPJVcbwJJKEhIyaGcvuu+/uSXaVS2QrpwNskpuQX8PTR6EIjDlC+glDKJUolTYBhniCJ1q5jMUYBSdQlCDGFVk04lnRmDXqFIQd4J0MmvlbKfkzruNZ4jkuJcnFUT7xssQQEz+Lzm2xGZLMCQHjKw6XMISRvxMyAEEkhKDYjCY017EZMUl3bK4gkYTeoCBBUl1cS4MAm3ARsCD8hIIW6DBjbIx4ZpSOJlnyxBNPnGuoyMwtueSSngeZgiZGEzvunPQ+RUARSBcBJcDp4qmtKQK5QiAOAYZwQsZIxuLjDykh+QqPK3GfxDOSsJYmASbkAuUDlAUwPIMQMsgYEluQIirBGZIIiTIxrJAsjvbx6BJTyv+wcgQY4sIxPQlceEKZFx5fUwmOI3gSwkzBB/NQ0ybARraM9iG4EHG865BBSCThAySd8RwNLnhyIcTF5BLM+BvEs1QIgSnKgIYwYQzFZmJ4UcgoVXoYDWc2IQZbsAuWRCacAe8vxv20U2yEZqAzDNZ4RVlLQSMGmGIcSWNm0yDAPHuUG4jFBjOILCcPxPryfDC84WgYlzLCOni+pcpD5+oloYNRBOZTBJQAz6cPXqc9fyAQhwCDDB9+PMGQFD74kAGOpvlvJMARD5omAaZPSDZxrHiAIbtk36NyAJmDHFNwIVj2lzK5kCVK50KgseCYyhFgrqV9yAseYENoqAiHZxViY8oNB1dK2gSYIhFIi+FRJOHNeF8hwnhrSTwz6gMmhIFx4V00es2MDw8j8dp4GZlX8G9m/Dw/9HXDqr1Rhhpt5OJyxuZ+U2WO/w9uYBQ0ngcFLLBSMdI8U7zqeI/x6BOvXGzEDFOUg01AKVUF219tUgJMQRK8tyTAMV7ULVhbzAEijBQdzyZ4UlE8NvPbw5ttU9zFdm56nSKgCKSDgBLgdHDUVhQBRUARqHkEKFpBzCpeZBMWUvOTqsIETAllvN2E6qgpAopA/hBQApy/Z6IjUgQUAUWgKghQ7YzSz8XFSqoymBrulBh1Yq6JJSeWXk0RUATyh4AS4Pw9Ex2RIqAIKAJVQ+Caa67xdISRiwvG+FZtQDXWMbHbl1xyiedBJ1FOTRFQBPKJgBLgfD4XHZUioAgoAoqAIqAIKAKKQEYIKAHOCFhtVhFQBBQBRUARUAQUAUUgnwgoAc7nc9FRKQKKgCKgCCgCioAioAhkhIAS4IyA1WYVAUVAEVAEFAFFQBFQBPKJgBLgDJ9Lc3OzlwWMnmRDQ0OGPWnTioAioAgoAoqAIqAIzIlAa2urfP31115598bGRoUngIAS4AyXAwLom222WYY9aNOKgCKgCCgCioAioAiUR4CiO5T0VpuNgBLgDFfDxx9/LKuuuqpX5Yl/qmWHQFNTk4fzNtts41VvUssOAcU6O2yLW1asFevKIVC5nnRdVw5rKkzyXeSfVLJUUwJckTXw2WefyYorriiTJk3yynuqZYcAL9RRo0ZJnz59lABnB7PXsmKdMcCB5hVrxbpyCFSuJ13XlcP6gw8+8MrJU2ackvZqSoArsgaUAFcEZiVllYNZsVasK4xA5bpTUqZYVw6ByvWkBDgcaw2ByHAdKgHOENyipvXjpVhXDoHK9aTrWrGuHAKV60nXdeWwVgKsBLhyqy3QkxLgysGuL1TFunIIVK4nXdeKdeUQqFxPuq4rh7USYCXAlVttSoCrgrW+UCsHu2KtWFcOgcr1pOtasa4cApXrSQmwEuDKrTYlwFXBWj9elYNdsVasK4dA5XrSda1YVw6ByvWkBFgJcOVWmxLgqmCtH6/Kwa5YK9aVQ6ByPem6Vqwrh0DlelICrAS4cqtNCXBVsNaPV+VgV6wV68ohULmedF0r1pVDoHI9KQFWAly51aYEuCpY68ercrAr1op15RCoXE+6rhXryiFQuZ6UACsBrtxqUwJcFaz141U52BVrxbpyCFSuJ13XinXlEKhcT0qAlQBXbrUpAa4K1vrxqhzsirViXTkEKteTrmvFunIIVK4nJcDzGAGePHmyDBkyRF5++WV5++23Ze211/b+aWPcd+WVV8qXX34pPXr0kEsuuUS23XbbOW796aef5OSTT5Z7771Xpk+fLttvv71cccUVsvLKK9t0Mesa1QF2givRxfrxSgSf082KtRNciS5WrBPB53SzYu0EV6KLFetE8DndrAR4HiPADz30kBx99NGy+eaby6RJk6Strc2KAEN+TzvtNDn//PNlo402kuuuu04efPBBeeWVVzwybKxfv37yxhtvyNChQ6Vbt25y5plnyrRp02TChAnSpUsX68WnBNgaqsQX6gs1MYTWDSjW1lAlvlCxTgyhdQOKtTVUiS9UrBNDaN2AEuB5jABDeDt06ODN6pBDDpHXXnstkgDjyV166aVlwIABcvHFF3v3zpw50yO+G2ywgdx5553efxs3bpz07NlTHn30Udl11129//bpp5/Kaqut5nmB//znP1svPCXA1lAlvlBfqIkhtG5AsbaGKvGFinViCK0bUKytoUp8oWKdGELrBpQAz2MEODgdWwL8zDPPeKEMeHZ/+9vfzmri73//u+fp/fHHH6Wurk7OOussGTZsmHz33Xfe/ze23XbbSdeuXeXhhx+2XnhKgK2hSnyhvlATQ2jdgGJtDVXiCxXrxBBaN6BYW0OV+ELFOjGE1g0oAVYCLMOHD5eBAwfKr7/+OkcYwz333CP77befTJkyRVZYYQXv3/H4El8cNO598sknhfhjW4tNgL/4QuSjj0R69hSpr7ftrrau++EHkfHjRTbbTMQhrCRskrl8oTY1ibzyisiGG4osskhtPZ8yo50D644dRV56SWTNNUWWXnqemeMcE2lv95/jssuKrLRSRedY0XU9YYIIz3OddSo6x4p2xvv7xx9FNtpIJODgYAwVxTrLSX/2GceW/vejcFKaZXdx2k6M9TffiEyc6M+xU6c4Q8j/PT//LPL66yIbbyzStWvs8SoBVgIs5513ngwePFiam5vnQOOpp56SnXbaScaPH++FQvDv9fX18sQTT8xx3aBBgzwSjWc4zIgT5n/GvvjiC9lss83krbfe8kIobKxu/HjpvOOOUvfLLzJz552l5b775npR27ST62u++EIat9hC6r76Stp69JDpzz6bmATzXJ9//nnZZpttpLGxsfrTb2qSzltvLR0mTpS25ZeX6S+8ILLMMtUfVwojmIX11ltLt/33l/qnnpL2bt1kOv9cf/0UeshXEx2PO04arrtO2hsavN9j2047VWyAlVrXDcOGScdTTvHm1XLllTLz0EMrNsdKddThoYek04EHSl17u8w49VRpPeOMObquFNZZzrfutdekc9++UtfUJK377y8z/vnPLLuL3XYSrOumTPHerXVTp8rMnj2lZdQokYaG2GPJ5Y3TpknnbbeVDu+9J23du8v0sWNjO1E+/PBDL9TTOPlyOd8qDaquvR33Ru2abQgEBPjcc8/1dvlBGz16tPTp08dLcGORQIAbGhrk8ccfn+O6008/Xa655hr59ttvQ8E6++yzhZCKYhsxYoQsscQSViBvccYZsuRbb8269uXTTpOv8JLOQ7bhVVfJKqNHz5rRW4cdJh/tvvs8NEORNe67T9a95ZZZc/qwXz95+/DD56k5Ljd2rGw6ZMisOX25ySYybtCgeWqOi3zwgfT+y19mzWnaSivJM5dfPk9tSjt/953sdMQRUj9jhjfPlq5dZdSIETIzDxvJlFZThxkzZKfDD5dGvL8i0lZfL09feaX8ild/HrLeJ50ki3z44awZvTh4sHwTSPCeF6a6ycUXy/L/+tesqbw5cKB8WsFNaSUwXOeWW2RNnF8Fm7TPPvLuH/4Qq+tvvvlGDj/8cCXAJdCbbwiwCYGAAAc9hGmGQCT1ANd9/LE0rrvuHI9p5m67Scs998Ra+Lm8CfxXWsnzcBtrW3ddmf7aa4mGm8SjkKjjUje3t0vnDTaQDoEPUftCC0nzlCnzxHGdwXpXvIZjxsyBQNOkSSIrrJA6pNVqsOPxx0vDtdfO0f300aOlbcstKzKkSqzroPfXTKrlmmtk5kEHVWSOleikw8iR0vn3v5+jqxmnny6tp58+679VAuss51o3YYI0EhIQsNYDD5QZI0Zk2W2stmNj/e230ti9u9QVNmt0PrNXL2l5+ulY48jlTa2t0rjGGt4JqbH2pZeWZr4nMUJa1AMc/pTnGwJcE0lwl14qcuKJIt26iZx3nsgxx4jghSHeacEFc/lbdR7UyJEie+7p33bTTSIHH+z/O7F5lmEipfpMHFPmPJEyN6BJbbwueIH/+Ef/Yo7q5gFPBViPefBB2fWPf5S6mTNFIIjHHy/y668i11wjcsQRaaJZvbY4HFt+eRFi8s88U+SOO0Q++EDkr38VueiiioyrIut6661FOGJlnU6dKvLkkyJ77y1y770VmWNFOjnkEP99s8UWfkz+1Vf7v1HingtWEayznOzgwf46XW45keOOE/nb3/xvCaeWOQsRiI01v8EDD/Rj1f/v/0RMqA6/0XkkxMzLN9h8c3+l3HqriPH84vXu1ct5BWkMsBJgr6AFMmjImF144YUeIsigEfdL6EOxDBohEDvvvLN3HbEz3bt3z14G7Xe/E3noIZF99hHhmJWPL8budvvtnRd+Lm84+WSRoUNFUOIYN05k8cVFfvrJf5kNGBB7yLFfqLF7LHMjJPDII0UWXliEmHE+tCRsVJA4ZTGtIFF48+KLZYuzz/b/E6TpsMNEUEj5n/8RCRzdZTmOzNsmEdVsykj04+M7bJjIb34j8uabmXdPB5mv6+nT/XXKP/nYstlmM2PWbgyPU0WAce1k9dVF8KCxZjfZRKRfP78F5ss7qBJYu47Z9Xq+V2xe2MicdtrsZEZO10ikypHFXtdHHeVvXiCCTz3lr9PWVpG77hLZb78czTDBUPg+8p1caimRL78UoQAXp4fnny9y6qnODSsBDoesJj3AKDk89thj3qyuuuoqwcX/j3/8w/v/vXv3liWXXFJ22GEH+eSTT+ZQbTCFMC644AKvEAaxuffff3/JQhhvvvnmHIUwkEnLtBAG3iZ27ix4fgB4grt3F/nPf0TY2c8rsZXG2wRBHD7c94jyIvvTn0RuuMH5xx0kZaNGjfLiuV2KlcTusNyNxtvUp4//QUI7GoLfu7cICX81bny8Pj7sMFkHQghBxHt/ySU+wWfTRhb6vGC33eZ7X8gyJ7n1kUf8zSnKLMSSVuBUJjZRsMUftRvjVYLwM08IPsambV5QhOAo2XgHyT2AAC+2mAjvXBwOe+xR+wSYk5hFF/WdCWzAcSYsuaTv/eVkkU1Njiz2ut5gAxFyZIjLR88fTykeU05L2ZzOC2YcYeYU5oADRKhTsNtu/jvI0ZQAz2ME+OOPP5ZVV1215KwIdaC0Mf/jOv5njHw/Uwr5q6++8jy/FMVA4zdoxPKaUsgtLS2VKYUMaVhxRX8YKAZstZX/8eUjHHPhO/5Osr+cuC127CQi3nijH/7AkR0Enw8tH9yYFk8zI98AACAASURBVPuFGrO/sretvbbI++/7cyMpkrlC8BdYwCdOOTuOdIUArKdttZUs/cYb/holzOP5532Cj7GWzemFa+N5uv7oo9lh+wSR48fgb5T5spnL2DJf1zgOTjrJl7DjGBkixbF58Dea8Rwzb/6BB/yTCbzZyC8utJAIaiXvvDP7N1rrHuB//9s/VcMIwVpvPZ/YcypDyADfkRxZrHXNszMbF0LpSJw+4QSRyy7ziXCRdGmOpms/FDZlZuPCvAhlueIKkWOPFSGRntO2Ivm+qMaVAIcjVJMe4KgHnpe/O+kA33+/H3cX9C6ZoxCOQAJEPi/zcx5H8CX97rsiEMUHHxTZay//40QMaefOzs1yQ6wXaqyeIm7iJY0nBuOUYpddfI8FngsMYoxmbg1b06+/SodllpHOeJt4OUMU0ayEWGCPPipSqKJYw9Oc7V3iI1s4YfK0gDmlIUSJj1LGlvm6hhzhyScun98ixub7xRf9+THPWjfkzs49d86YX+NVC4TsZI51ljgS38zJE3qxbLJ5n3JqSC4JMc+8e3NksbAmTt1sOk3MLzJvxAEzb04vHMlhjiDxh8K8OAnGmC/JtjjEttnG/2+8exz11pUAhz9lJcAZ/gKcCDCxaXgL2bmzg8eQYjNEArKRQAw7w2naN02MIfFpeEKZDy9pkooMISQhJaZkT6wXqv3I7a8kVpREG+y///VfZsRXMue2NhG8URxx1bA1ffqpdGFThgU9oausIvLJJyJIo+FVrGXDE8NpBeuUjyzkAttxRz8mn7AWYhEztszXNeEOFKRBDQGSiJHESGKjCeHJeI6ZN0/YCnHpqEBA9jHiKZnzGmuIoFySp010HEBIeCMkYNNN/ZAAjGNziD4hPKju5OjkKda6Zk2yNvECE7sN2X31Vb+YEoaTyLyX4mCYh3t4t/COwcgfwZnCPwtx6nHygZQAhz9YJcAZLnonAmw8EsHsa6r5mB80CWO1rgdsPDEc1XF8jpHAALGHJPJxKpIqsn08sV6oto27XGfCHfCG4okxHom11vI/tHhkSFCpYaPgRWejZsGRHEd2GJs1Nm14ZK6/voZnWNi8GDk3NjVGXopYwyuvrFg8d6brmg0ZccwUB2Jz2r+//8w4esXrTUgW76BaN6QlOXE65xwRU/zCqNHw++T0YoEF8nOKFAdvwgGIDyWsjHcQFlSjMSducdrO4J5Y65o4Zk4kOKHAK4pB7I1jiPkTLljLRhwzYQ+cNH3++eyZmJMn/s47yMGUAIeDpQTYYSG5XupEgCnNSWY55AiShOGFIh6PF3TQC+U6kLxcv+++vrRS0BPD2Diiw/vLx4mPVAyL9UKN0U/kLVTTQiIr6InhJsI8OGKGZEA2atharrpKOh19tLQvtpjUGU8M8zEKHyZmtobn6CVmGpL//fezqzCRuDlwoH8MyXFkxpbpuibBlkRbjJKrvIMwqmASuoPV+skTeQecvrDRRk8dbzAWnDtexE02qW0CbFQuePeQjIq1tPgbnOK5Z7xmbZqPta45kSCJkQQ/koqNmWTx4NxtBpHHa0zCNF7gQLGoWSdPeMBJcnQwJcDhYCkBdlhIrpdaE2CILh5DdrPEcgUF6E2WK+SCTPtaNpPBe9ZZvhyRsRLxeK7TjPVCde3E5nqTwUuox803z76D41aOXSEZkI0athnHHScdhw3zypDW4x01hteXaneLLOIf29VyPB5eXjwtqAcQl2fsmWdmSxKaI8oMn2Wm65oYdeMxY5NtVC0IYyGcBcuhhJYT3O+9N1vJwiSH0QDebzyHJPvdfrsXKpAp1k6DdryYOfDs+I6Y5DDTRCnvt2PzWVweC2tOZAgrM8lhZmClvN9ZDLoSbRLri3e7OP4erzDeX/7+3HNOI1ECHA6XEmCnpeR2sTUB5kdtjlvJZDUi2HQHkcJjiAeRRLlateBxa+GDM2sqJv4Zgkw8YgyL9UKN0U/kLahZ8NElnjJQZcpTSmBjMw8ka8zceWepf/JJaT3oIGlgw2YMpQRTIS1GskYktpW8wChAbLutCKTXGPMy5XNjCtO7TCPTdW0UIFZayY/dNsZvlQ05Sams25glWF3mmdm1yJyxKSXfAKJIPKwx8i1QnimEJWWKdWYTLAp1IMyKuGZjhhwmlJlMe/jOWLMWzQaNMKuCRr83LhMaEYMcpj2vxO2hnkPoAxtwTpqMGSUIeAKawA6mBDgcLCXADgvJ9VJrAhz0KgWPW+nQyIQF42ZdB5KH64NepeBxK2MzGcyEe6CiEMNz6PxCzQITJKS6dBHh2PXuu0UI+TAWzGAOiO9nMYys22xbc03p8MEHMuOcc6Sjiamk0yA5rPWYdRPPjEf7uutmQ4qXjU0MH2SkpVBRyNAyXdd4mfiwIgNZVNLaS0bFYxqMm81wnpk1TcwoBKmY5NMhxTBQLKGIy4gRtesBJvYVost7k3juIMk3nsPijVxmgNs17Lyug5784nhmEzdb6zHr5MFQ+RUrjmcOPmM2cg5qSUqAlQDb/SpTvsqaAFMAgpcw2a0IlwfN/I1jZchxrRrHNryEseKj4+DfmD84OJrzC9WxfavLgzqxhbjCWfcFvfzFf7NqPCcXtbdL+wILSF1zs7TcfLN0MmWeGR7kkHhLPsJkoO+/f04GHWMYRie2VBGaIs9hjNatb8l0XSN9xpE5ChfkGATNeA5rPaGRgkIUgkA+C8WSoBVtADLF2vqJx7gQrWpOLFCc4T0TNJPQWGoDEKOrtG5xxpqCQsbrS6gg7xljaB2jeVxqA5DWgCvRDgWFjPc+GK5D32hW807CHKU0lQCHPzz1AGe4sK0JMDGxeFpKlVgt5x3OcOypN008LBnKxeoIdBRUuyj2DlsOxPmFatmu02Vop5KhjAXVEfj/HCuzu8c7HEzGceogBxcHvLzNzz4rjab4hRmaKQJCuXGkmWrRgsmnrNsgyWc+xM0SP1ucjJPBXDNd15wqoQ9rCrYEx2/ULnbYwa/UWKtmJNBMwZbgPAw5LOisZ4p1lviR9EZ+SKnkU6N2USoEJMsxRbTtjDVJbySIUR6Yyn5BC5LD4hCQKs7Ruetg4m1x8mlQ7YIk1b59rZtXAhwOlRJg62XkfqE1ASY+C+maoBi96Q5tQ1P1DpUIU6bUfTjVvQNPGh9adrEUhggaoQOQQ7KVUYlACs7RnF+oju1bXU5sMyoPhEHwwioO5WB3zy4fvU5KedaiEdpQkARr+ugj6VJckREvjSn/XAGd3Ewg5KTFnEJQurqY5B91lK8BXAGd3EzXNXNkriQv4ukNminCY0pdZwJ0BRpFjYVEvqDOsek2SA6bm6WptVVyU07dBRpOWgi5KlbXoY2gFBqa66hF5MCc1zXqSBdcMLe6DnMJkkPePfwua9FMEjGav4TJFRsJuZB/3j1sBixNCXA4UEqALRdRnMusCfD22/uJNqXqmUMKIYeQRJLgSIarRSOWkh94WFlnPrQffRS7iILzCzULDHlB86LGC0qcWrEhq8UuHwLFsWUt2l13eR/amR07Ssv330sXk5hi5mJkfCDCJKvUopGIaTaayGUZRQQzFzYweLcp4MJxZIaW2brGw0TMPcaaxNMbNDaixLB37OiHtOBBrEXDY/j1175sFh77oAUrNE6eLE3LLVebBJgNKRtT1iQnL0ELksNRo2ZL+1X5WTqvaxwLOBjw6HOCVmyGHCIRhlRYLZrRyQ9TCsLDT5I8Hn8k3yxNCXA4UEqALRdRnMusCXAU+cPLhieYrG0E6mvRosifqbBF5isZsI7m/EJ1bN/q8ijyxweYhCo0VjlCr0UrkL+fl1tO6idPli54u4PGB/jUU8M3AbUwZxNTCOmD/EECg4a3Da8biSgkw2VIDjNb11HHxnhN8Z5ixLaTnV5rFlQOKHVsHPT0P/ecNG26aW0SYFMkAY3qI4+c+ynhUSTvgnwSThtzYM7rGnUZVFfC5EApEkVuRSlPfw7mazUEVIJQXQmU557jPiMXyruHHAtLUwIcDpQSYMtFFOcyKwJsExtKAgcqArWsBWwqoYWJlZOIgxpETLk35xdqnAcadQ/Elg9tmFg50mjs8smwp/BHLRoblOHDZeqGG8pCL700NwGmmh/KCGFhILUwZ6MBHCY5FAgD8SSLjCxaBnPLbF0HNYDJKjfZ52YOHMGaCn+8e4y8XQZzzKzJcsoBdEqsNycYzP+OO6Rpzz1rjwCzQTObUBQtUC8pNqO/XizNmBnw0Q07r2ujAYxqCQl/xWYKDZVK6IweTj6uMBrAJG4SglRsptBQqYTOMjNQAqwEuCoL3IoA8wE13pUw6SgT4wWxQHqp1sxGHcDEeKGBzDGPozm/UB3bt7o8Sh3AKHqExXhZdVLli8i2fvhh+WSHHWSphx+emwAHFT2QtFt44SoPOEb3Jqloiy1ESGwstqDaR8ykTdtRZbauOSrGW1hc6MMMjN8sxAppJsJe9tvPdsj5uY4jf5MsVKwcYEZp4vKHDJGmo46qPQJMXC+hOFixcoCZo4nL53njJc6BOa1rKtqxQStV6MPMpbAxr0RcfmbwodSBxi/SfSiUFJvR7XaMy1cCHP7E1AOc2Wrm5PAzWXHFFWXSpEmyRlCcPNgnxzYc32BI2CBlU2yEPZCxnDMtR2voOH6D9GFUuTFKCcEGjNctppaj0wvVeuCOF5qkorCy1cTEGg8NnhsHLUfHkWR3eSGp6P1995WVbrppbgIc/CAX63VmN6p0WzYbTo4ciTssNpQ8eHZ8kAmXQE82I8tsXROmQrhKuQ2nCb0qrryV0VxTb5ZwI8KO8GSjylLKeKeyaTvhBGk677zaI8DllAPMfJHYZPPN5pXCIDkwp3UdLFuNasmGG849A6psEv5QKsk6B/ONHAI5PrxT+OcDD/jFW4qNsAfeSY6na0qAw9FXAhy5MuNfYEWATSYyigHsdBsa5u4QiRu8UpBoZF5qzai2hHcUC8tEJsEP9Qfmj9fJMa7S6YWaBX7Bo8gwmZpgchUx3cgv1ZoVjiLHDxgga1522dwEmJK6SN1hTz89u2xwLc0Tzy8lnsslmyy9tE+qrr1W5H//N7PZZbauTYXJsKQiZmRwKJVcldmMU2zYVJgsV0SIUzXCdvbbT5puvLH2CLCpMElC448/lgbPJFdtsokfJ5sDc1rXwQqTJDQuscTcM0BFifjmRRf1451rzVB34DQGK64Ga+aCjrVRpHEow64EOHwxKAHO8IdiRYD5gBIzygcVjdVSRtgDOpbEq5G9HaNSWobTjG4aIkSSGwZBKlYOMD96slwxXgZkbzuY0wvVoV3rS4NydRBd4u6KjZe3mVcFyuhaj932QuLV8VK0tsorp5wiPc48c24CTFt8jFmntVpGt3t3EbxO5TyfRkMXkoWOd0aW2bo2SamllGfMXIyGLmQZPeRaM5OUyqkL8bGlDDnCIUO8U6mmUaNqjwDbKJKYcBdi1Qm5y4E5rev77vPVH8o5R0aPni1/RvJjcXJuDuZcdgh4tnmnYFRNJRyi2D78cLaMXVi4S4lOlACHI68EOMMfhhUB/vvfRfiIliqCYcaGFinlSjF2+Ua+KMOxp9r0rbf6xQTwDE6bVrrpYDGMGHrHTi/UVCdXaAyPIR4zrLgIhukvmPAYU+84i6Fbt8m82KiJyPMXXSSbHnNMaQJsimHUot5xMDGqXDU7Uyo5LOHRGtTyF2a2rk2p4/PO86X7SpkphsHmFYJRa8YxMkf+5arZmWIYq64qTe+8U3sE2FS6wzPId6KUBfWOOV0rdcpY4WfrtK5NpbuwpFTGHlQ1QWudONlaMk4NSaLGwsLjgqomDpJ2SoDDF4IS4Ax/JFYEOEo6i/ER9oCKAlaLcZUmhKOcbirhHyYmNiybucyzcnqhZvHMbUM4CHuA7IdlM2cxtrTaDHgpRl13nWzdv39pAsxmjY/x8cf7ZWhrydhgUnYcK1UEw8zF6FpTMhiCkZFltq45RqbseKkiGGYuRtea8CU8TrVmxDe/8opP8CH6pQxNWRL8OneWpu++k1GjR0ufPn1Kr+s8zt+EcJSTxiJRk/AHLCeSdk7retAg//mVC+Eg4ZbwB4xQAZQSasnIG2GjRh4Jv8swY47MNSzPpMR9SoDD4VQCnOGPxIoAU/2NDyjxSyQqlLKgaH0txlXaeCmYtxGtJ3kFguFgTi9Uh3atL7XxUtCYETMnCYnEjVqyQBLfyHvukZ122600UTCi9RALFARqyShsgQcb499Nhn3xHCoUV5nJug5uNpFDM56n4jnWelylzWYzUL686dNPZdQbb9QWAbbZbAbKl3sFM0zSdRV/l07r2mazWSRp51XFqyWz3WxGKQ0pAXZ66kqAneByu9iKANt4Kei2luMqjYB3qVKdQUgJAyF+lrAQyiY7mNML1aFd60uNlwKVBLxOYYbIOVm+Bx/sl7+uJSvIuLUvvriMvP76cKJg4iod9SpzAUVQxq1cuBHlSKnoh2oL6i0ZWSbrOijj9sYbs2MPi+dAWVkktLBSWsEZzTmVZiFESGdB9vHyEkNaygKx+80vvyxPfvllbRHgddYRQe8YRQ+SFUuZjcJAKqDbN+K0rqkeykaNZFNyZsKMMs/EyaKhi9OllgzZM04FqciIskeYUeaZcCSHglHqAQ6HUwlwhj8SKwJstP+ijsRNXGW5F12Gc0nUdEBqyKtmF2YmrhLpIkqXOpjTC9WhXetLbaWGEHHHW0wSEnFctWQcQw4aJG3rrScPn3deOFGIqVeZCygKpZ4jpYYefNAv2lJf76uW8M8MLJN1HazyVq6QR7BUMGXKkUWrFbORXmQuAW/49AcekCfq6mqLABOuw0aNzTSb6jBDXpKND3KTkKcqm9O63nhjETZqOEVwjoQZcdCEP4QVkqjynMt2T9lx8kJIdid5OMxMwSji23GkWJgS4HCQlABbLKC4l0QSYLwUxL2iKxqVFLX99iLPPOMLZCOUXUtmqsBFJUWZoy50VdFXdTCnF6pDu9aXmipwxHTjHQwzo1dZi3GVBfI+c4cd5JFjjgknCjH1Kq2xzvJCflvELkP2IH1hhpef0xvsiy9mSxilPLZM1vUjj4gQu1xOepF5BKvBESpgkjxTnmMmzdlIL5qOC3GVLdddJ48vuWTtEGC88gss4M8Cbz3ewTAjfpZY4CgSmcnDmLtRp3XNKQu/sbBSz6Z5ThjZwNZiwShT7ZXTM76TYWb0uwljIZzFwpQAh4OkBNhiAcW9JJIAu3xgbMMI4g42y/tswzdswwhKjNXphZrFXG3DN2yTHbIYY9I20Wm+/35p7d9fHt1333CiUMvV4MwHhlhtpOrCrELV4DJZ16ZABDH3SA6GmcsGPenaSvv+MWP842SMHIquXcN7KGzQZ5x/vjy27rq1Q4BtpBfNrM3pWtQGPe3nENKe9bp2Cd8wqiW1eLpmG74RUC0pu0EP4K4EWAlwhX7Wc3YTSYBdjhhtY4SqMtMynVKC1Hx8iG0yH6VStxjv2yqr+DqsDmb9QnVo0+lS28IIKFyYymF4/nMgSWQ9z0JhhBknnSSPbb11OFEgJpHYRAwFk7AqiNYdV/BCklE5Tia8AWWPMAsmkpEcaGJlUx5qJut68GDfE4hWNTH35cw2RCvleSduzmin8+6BAJezgvdtxgknyGO9e9cOAbaRXjTzNkfn5CCgq1tls17XwQIRzLdnz/CRm3VNpTgUa2rF2GiyTpE5o/Ikzq4wc1nXhTaUAIfDqR7gDH8kkQTYRbz73HNFyDxHv3PChAxHnXLTHCMbTcYo8W4qMnF8xbEexNnBrF+oDm1aX4qXolMnEXR+0R2l5GiYBY/Oyc4u6Opa91XNCwteipaLLpLH11ornCgg42OqNdXa0bkJZTnySP/ItZyZ+EuKRKBznYFlsq6JAWVuHJlzdF7OTPwlxT7QK68VIxHq5JP9wgFUnyxn5mTjD3+QR/fZp3YIMDGgEFriz9mQlaueGSj44ZWjr7JZr2uX6pk5LPhhBXNQ5YkwR3JmwsyFMxTaUAIcDqcSYKsVGu+iSALMbg/JqHIFIkzXJIVxfEW5ROKhasWIUzK79qgKb8G69hBgE99mMVfrF6pFW86XBAlfVIW3YF17TgCoXV8rViB8LSNGyONLLBFOFNgIsCFgY0CyGFJ/tWKmwpuNEgmebUT3M8w6z2RdFwifHHSQyE03lX8yeLYhyShekLxZK+ZC+Apa7DP79pVHjjyydgiwixKJ0WIn3IMTmiqb9bomUbhvX3+0UUokQS12NgS1UjE1WOGNgh7rrhv+dGwqxhXdrQRYCXBVfu6RBHjYMJHjjotOuGH0Lrv9qsw2pFOXI3882xxfYcS3oeNpadYvVMv2nC5zOfKnFDQbHow4RVPhz6nDKlxMuAakVkSmP/igPCE4EMsUDDAhITE0naswu9ldUi4WzzzeJKq8lbNCSIiccooIOp4ZWCbrequtRPDM//WvIhddVH7UeLap5EiW+t13ZzDDjJpEEQHPvM2RP+EggwdL20YbycNnnlk7BPicc/wy3OWqiBp42egQBkHCHwoZVTbrdW2O/G2cRGPHzi6AwRxNYYwqzzWy+6CTKKyKqGkE1Zbll/f/36uvzi5wUqYTJcDh4KgHOHJ1xr8gkgAXXrwSpR3LEII/bjyOVIypBTMv3qgKN8wFzzYZvxihAuBiadYvVMv2nC5zefHaltp1GkAFLg48m+YXXpAnv/22PFHAs403o1yp3QoM26kLng0kv7XVj/8lDricmSI2SOCNGOHUle3Fmaxrl1LVpogNx7Icz9aKGe1Ym1LVSIMdc4y0rbiiPHzFFbVDgE1eiE2p6kARGy9comPHqj5J63Vtq8rCbGyL2FR15iU6N06iKFUWbrUtYhPoRglw+ANXApzhjyGSAHOsyDEWcYcIfZezYDlkPI6mNHKG40+laROLV64Msuko4GUUx3LI1i/UVCZV1EhQE5Y5RB292VSoymKcSdoMJGw2v/eePPnee+WJgk2FqiTjyeLeYBlklCy22aZ8L0a2j5hvYr8zsEzWtSmDTGETkv7KmW2FqgzmnqhJU2Do9NNFyJ8oZ3i2999f2hsbZeQdd0ifvn1roxSyKYMcVWCIudtqPycC3f5m63VtKi7aOIm+/362Y4g4Z046asFcnETMx5RDjtJ+LsxdCXD4IlACnOEPJJIAG/Frjhk5ritnwR93LdU653iYY1aOizl2jTI8xczV8sdtmrN+oUb1H+fvRlaKY3+Oz6MsZ5qcUcP1/h6QlWr6+msZ9eKL5QkwZZCpwEWMO0fotWAusXjMx0imEeNOhnoGlvq6Ji4b7x/ebkqwowdczvBsU4ErSjItg7knapLEWxJwL73U13UuZ3i20VkXkUfuuEN22HPP2iDApioY+twUUipnn346O6SMOFITapYI5Pg3W69rklEJR7JxEgVPcFC6IPylFszFScR8jK4+cd0kekaYEuBwgJQAR62eBH+PJMDGS3bCCVK2QhpjqNUft6uXzLZoRtFzsX6hJnieobe6esmMJqeN0kAW443TZsFLRnnZpm+/lVGjR5cnwC5KA3HGk8U9Lgmb9F+Binepr+ug9nhUwiZzxLNN1SkbpYEsnkncNhdeWGTaNL+qFtW1yhmhOoVk1NHXXCNbHXRQbRDgjTYSefNNX52DWOByFiyaQWIZWrlVNOt17eIkYj6maIZNDH8V5z9H165OIhPDH1U0o9CJEmAlwFVZ6pEEGEkzpMGoDoY3KcrMj5uwCTKXa8H4ePIRtY2TdPxxGwisX6hZYHbSST4Zso2TNAk6ZONTAbAWDNksSO2KK0rT++/LqFGjyhNgVBT4MKOqQBnTWjCXhE3mA7lCSYFCL4RPZGCpr2uXhE3mA0neckt/ZpDnxRfPYJYpNxkMpbLRaP76a9/DLSLPX3SRbHrMMbVBgE0olW15YxLJSMIlsYzwiSqa9bp2cRIxH1OQiARBwidqwVydRHi2SYonqZHCShGmBDgcIPUAR62eBH+PJMAm4/zaa/1jxiirxR+3IbR/+5vIhRdGzdA/tnL4cZsGrV+o0SNwvwISBBnaZx//2D/KOLbi2IsYU2JNa8EChLbpxRejCbAhzCusIDJlSi3M0A9DYnOC3BthOFH2xBP+0SzW3OyXNU/ZUl/XhCGZ2EibZFo0dInfx959V4QEurwbYUi8WzGbTPmAjve4006TDQYNqg0CvOCCfvEESo/vv3/0U3EJC4luLdEV1uvaOIlsk2nxbCOnSVU4VJZqwVydRCR2whk4SWTTHmFKgMMBqkkCPGnSJDn22GPlhRdekAUXXFAOOOAAufDCC8u+tD7++GNZddVVSyLRqVMnmT59uve3sOs233xzefnll6PW2hx/L0uAXTPOabkWf9yO8Uqe9JTDj9sAbv1CdXqClhe7lhklJppjL6qlTZxo2UmVLzNlRvv0kaYHH4wmwGwEiAOGFHL8GpUYWOXped2bkAab4glc//rrs2WIKI1s5IlSnEvq69qENFA0AU9pueIJzOOHH2bLSdVK7gGnahAnjDjgkPf+HI+pINv35sCBsvYll+SfAEN8IcBYVIVNM1HKe/MN47SRU8cqmvW6Nk4idPAHDIgeMTkH6OuzIWBjUAvm6iRySQwU6sB8IGuuuaZMmTJFVsAhoTYLgZojwD/88IOsv/76svLKK8sZZ5whU6dOlRNPPFF23nlnubVMsg0E903ipQLW3t4uu+yyi2y33XbyAF7HAAE+//zzvf9ubKGFFpL11lvPaemUJcDBjHPbD4vJ+q2lHzdHpmgyclTDkU2UOf64TXPWL9So/uP8fbPNfE8TY+foLcrA4tBD/WppHL/WgpFpftdd3tFp04gR0QT42WdnaxwTi2m0j/M819NO8/V8bZPagolFvFs4oUnZUl/X118vwpHrkkuKoDkaZWzU2cRAlmslsSjO2uPdPnGivHPQQdL9mmvyT4A5VaFMNWab1IZaycMP+8+fxN0qmtW6ZSpB8gAAIABJREFUjpP3QsIj0ml8u0ncrQUzsoSWSW2eZ5v6AYTAoJcfYUqAwwGqOQJ80UUXyTnnnCOffPKJLFEot3r77bdL//79ZeLEibIOXjVLe/bZZz2Se/fdd8u+BNsHCPA999wj+3CkncDKEmAqSFFJCsMLaDNuFj2Ln4zlp59OMLIK3YqeKrqqvMgeeUQEbc4oMz/uVVYRoWqapVm9UC3bcr4MDxMvIl68aHNGGViQfY9XFGJBglHeDa1R1tyxx0rThRdGE+BAYpFXLc2Uw87zPM3pQ79+PlGIsgokFqW+ruOcPtRaYhFx9bzPefcQmmJz+rD11p7W+gd77SUr3HZb/gkwGy6S4DDb0wccEEhu2RQHiVr7Cf9uta5dZQkZ0+DBIujro3LBxqAWzMgS2jqJ7rjDj+Hu2lWEMsoRpgQ4HKCaI8C9e/eWRRZZRB4K6G7i3V144YXlvPPOk5NISLK0AQMGyF133SVfffWVNDY2eneZEIjMCTBHURxJYVHVX8x8TOWfWkksCiSXeEdvaHNGmUvln0BbVi/UqL7j/t01uSTOs487trTu44NCpb7Bg6XppJOiCTBrmmNlDIkwUw47rfFk0Y4pEUwcMDJ8NsZHiLLdGSUWpb6uqf6GpwnCx8mTjW2wgQg60JCLQYNs7qjuNSgAoLACcf/vf+3GUihq8smOO8pSI0fmnwCPHk0pRn9uUSWCDQI5Kmpita5dZQmZZyBZVzihybsFZQnZdLP5jjJKk1OiHCN0s1ChM+w2JcDhgNYcAV5qqaXk0EMP9WJ+g0Z4Qq9evWSEZUWmGTNmyDLLLCO777673Bj42BkCjHf5u+++k8UXX1z23HNPwfO8mGP1tbIe4DhewELFItujj6jfUeZ/x7NtwkZsvYAxKxZZvVCzmDAepi5d/JZt5YWCiUVULzJJRlmML602iW+lDOfVV0vTwQdHE2C8/6baFEVeTLJYWuPJop3evX1SyCZ6yBC7Hjip+OQTX4cVPdaULfV1TegNniaq3FHtzsZ22ME/TuYE6rLLbO6o7jUUviAcCeI+frzdWAq4fN6zpyw6Zkz+CbCjF9ADgUQyNjAuuNih53yV1bp2lSVkFMT9HnCAHx+N4kXeLShLaOsoINyOsDuMhE/jaAiZqxLg8EVQcwS4Y8eOMnjwYDmFJKKAbbXVVgI5vt/ypT5y5EiP2D755JOenJOxL774wmu/b9++nqd53Lhxnme5e/fu8sorrwj9h9m0adOE/wXb2myzzeStt96S1YqOgOtvuUU6HXGEtC++uDRbZsnX33WXdPrTn6S9a1dptonfq/KPv8PYsdK5gG0TpXTR5oywuldekUbkxHBsEFZQkCeKuq+5uVmef/552WabbWZ586PuSeXvn30mXQoEtvlf/5J2mzjQb76RLoX4veZnn5V28zJLZUAZNNLeLo2LLip1LS0y/fbb5dedd7bCunGZZaRu2jRpueEGmUkMcc6t88YbS4d335UZ55wjrRYC80ync69e0mH8eJkxaJC0EkOcsqW9rjvts4/UP/aYtB5yiMzAW2Zhnfr3l/oHHpDW/v1lRpVjRy2GKx3/8hdpuOoqmbntttISVWGz0GDDqadKx8svl2/WW0/qX3ihsu8Qm0kVXVN/9dXS6aSTpG3llWU66hwWVn/ttdLp+OOlbfnlZTqb8Cqazbru8Pjj0plTGb4FfFcbGiJH3OGpp6Qzsc7cg5JLBsoskYNwuKDu/felkRNdhGTeekvaLULF6j76SBoLutXNb7wh7RHKLB9++KH06NFDk+BKPJeaJMDnnnuu/A1ZrYBtueWWnkf3PhI1LGz//feX5557Tv773/9KfUQM5qOPPir9+vXzwiX2I7M9xM4++2z5O3JRRYZX2sQrmz+t9uCDsv6NN8pPyy8vY666ymLEIku98Yb0KiRZjbznHmmvcj33qEEv+9JLstlFF0lbQ4M8jCqARSzegp9/LjtSIlpEnr7ySvk551mr3T76SLbjaFFEnrzuOmkmuSjC6mbOlD0KL/aXBg2SqVSGy7E1/Pqr7FbQDR177rnybeHlGzXkHQcMkAWnTpUJhx8u/7E52otqMOO/9z3kEGn84QdBCeBTy0IBW5x5piw5YYJ82K+fvE1yUc5t67/9TRZ7/32ZtPfe8i4VKC1sw+HDZZVRo+TLTTaRcTUQArHRpZfKirzbt9xSXqNYgIWtcc89su5tt8m0lVaSZ2pAPmutO+6Qte+6S75ffXV53vK0YrmxY2XTIUOktVMneZTCNjm3FceMkY2GDZOWrl3lcctqkotMniy9C5vXJ264QaY7ntpWGpLFJk6UrQsb50dvvVVaCamKsI4//yy7Foq7vHD++fLduuuWveObb76Rww8/XAlwCZRqjgCnEQLx888/y9JLL+0tistJXIow1CK6desmRx11lBcKEWYuHuCGM86QjkOHysxevaTFMqGt7tVXpZFjWna3JIhFHH1EzSvrv9dff710OuYYaV9mGWlGjsjGvv1Wuqy4onfl9DFjpM0ydtTGo2DTves1HcaMkc4FckeFtFnhEBENNS67rNT9+KO0XH+9zOTILsdW95//SGMhlKX5tdekqXt3Kw9w5y22kA7//rfMOP10aT399BzP0K+02Nitm7A5mX7HHdJGTKiFdfzDH6Th/vul9cADZYZl+JVFs7MuSXtdd95gA+kwebLMuOACaSWkwcIazjxTOg4ZIjN79pSWGsis77TnnlI/erS0DhggMyxDNupHjJBOJHgutpg0T56cew9wx+OPl4Zrr5WZO+4oLZS0trC47yqLpp0vsVnXDZdfLh1PPVXaVl9dppN/YGHF76r2CHJo0WSml3QYOVI6//730l5fL814uS2cRNLWJo0LLSR17e0y/e67pS3CuaAe4PBHWHMEOI0kuFtuuUUOOuggT9cXfd8ogwAjgzZw4MCyBLi4nbIxwFRGu+EGET60Dz4YNQT/73GUI+xazuYqE3OGJqflC0xICjBHXbZJAV4eSFN0XGoWs4wbc9a9u69yYasckcXYbdt85ZXZCYxffilN3brZYW10q1HGsNho2g4nk+vi6t1SkRGNUhROiOtP2VJf10aWkLwHkv1sjKQ5kuc4arU8brdpNrNrNt1U5LXXfDWAEidyJfst6FbP7NRJWn74If8xwEhh4sVF99bSO+pVZNx4Y3/6JAeSJFgls1rX6BWT60OyOBUJbSzu79im7SyuIaQIfWOcWcTz2pqDvKjGAIeDWnMEGA8sMbrIoJGght15551eMQxbGTS0f1kUkyGUFvbwww/LHnvsIa7KEGUJcCHr2NODRZvTxtDTNaVIx46dXaLU5t5qXBM363jRRX0BfiR7qLJmYVYvVIt2nC8hfIXkJ2J6SYayNcIeKKRw1ll+yeA8W7DiWUuLNLW22hFg85HmuI5KeXm2YMa5rSwh84nzkXbAIdV1HUeWkLHi2aZSJfH4X33lMPoqXeoqS8gwOYVD6o/NNDH6eS/5HCcxkZwKUxQEh4QpFlKFx2S1rllzrD0kIy293J7kJqGBOFJwLFme5FQBAr9LdMcJgeCEjQIutkbeCXHcVBQthOCF3aoEOBzUmiPAphDGKqusMkchDJLWgoUwDjvsMLnpppuklZd+wL7++mtZbrnlvCQ6iHSxnXzyydKhQwfPM0wSHIlvF1xwgay11lry0ksvSYNFIL5psywBLuhOCjFqF19st+zb2nzvKD9yXgi8GPJscXUnY5TstHqhZoGVyTh31Z0kORApo1oo2WkyzguZ1dZYG++oZcnOLB6PdZvBjHNbWUIaz9g7ao21zUSDsoS2Gee0S2IxMesQC2SXbI5pbcaT1TWusoSMA83YQjJS06RJ0sVotGc1xqTtBmQJraXpOGI3icgUCymE0yUdSpz7rdY1SiWQWL4jKJfYGnkYqCvgWMLBlGcjXhkSu802Is89Zz9SQgN5ZxFaxjeojCkBDgen5ggwU6EU8jHHHCNjx46VBRZYwPP+4hnuYuSohN/MIR4BJnwhaFdddZUcffTRod7i66+/XoYPH+55h3/99VdZfvnlZa+99vKS24gDdrGyBJhEIooFUJISL5KtxTnCtG077etca5yb/s0Rpm1ltWqGQCCZRQldlCueecYeQVNZzeUI0771dK802pokJE6ZYh9uYiqruRxhpjty+9YefXS2BifFSWw3uqayWkbeUSuiYDtLwhdMTOSkSbML8UTdH6yshvC+RaJOVJOZ/R2CXtB0F04u+va16ypQ1a953DhpzLsyC3kSFMDgt4nmsY0FK6uxqYFgVsms1jXvVEihiywh81lrLUiCvzm1VHOpEgwicUIhGSxOBSRDefYRai5KgOcxAly1xerYcVkCDJkgDuvqq0XwlNkanglCNyBdJ5xge1d1rjO6qryEeBnZGh8tNHUHDhRB+9jCrF6oFu04X2J0VSH7hXLaVm2gdMGzRx/XUqrJqt0sLiqK5bbGmux0Tjj4IL33XhYjS6/Nm2/2Y2IXWUQE+SRb45lTWQvC3NKSunfUGmub8b74oshWW/lXkrBpmyHPcTkeR4wwH1OC16bPSl9DiMYyy/i9ErvOZtrG0IwtlOuejvyWKTRgc281rjEFWDidcZEYJNaUEw5CCyBfVTKrdR3Hy8182HBTbAjHEg6mPBvvDt4hrl5uwsoovoMqFSXqy5gS4HBwatIDnOf1HBxbWQLMcfKvv/rC3cRK2hpJe7zYkSMqEcJh20xFrjMVpCBQLhqpqCKY5LLbb7caqtUL1aolx4vMMd2f/uQnNdoazw9ceJ68rPNsRcd01liDBx9ZjiTzrltNkt7xx/sxkraKJTwzPFQF3WrhiLlAotJ6nNZY23Roiu9wLaFhtiW48TQWlFmEErw2Wtc248niGjZapqy8i5e7vV3aGxtnaV13zrMyCycUpvoXXkAXsg42YISaEYmNVTKrdc1GC418nCA4Q2yNhFScCpQ2pypgnm377f2TQ5xZOLVsjcRiiu8Qt04oXRlTAhwOjhJg2wUX47pQAoynyAh0U9YwUIgjshs8hhzt4UG01A+ObDOrC8wxHeMsaPtadcXLjmMdPMHM1cKsXqgW7ThfYo7pSEQglsvWeNlxtIdHnw91nq3omM4aa+L32CBAtPho5zl2FLUAkhE32shPTrQ1SgSz0cNIMlp5Zds7ra6zxtqmNdQC0P4lDpQkU1tjo86GHSNZjI92Xi1YZpyY5yWWsB4pco11X30lLVdeKZ1cCJd1DyldGKfEvOmaEwBOAtDRL6qmmtLorJqxWteEHBJy41pmnMRpkm733ddXysizEXdO/Dn6/oT82RrvKt5ZFu8rJcDhoCoBtl1wMa4LJcDBYzoC2V3izYgZxSvKsRfHX3k2c0zHeF08KrwICOzn+BJvt4VZvVAt2nG+JO4xHTJUeI2J6SZhI89WdExnjTVlhU2izY8/ijjG0FcUEry/eIHJrn/qKfuuCWMyxVqQmSokUtk3UP5Ka6xtOsRjhOeI8s1I8NkasaPE1bJxv/dePyEurxYspe4Syy0ibeutJx0mTvQqAXZ0ISOVxoINM2FFmGspdaqkIS+JwsK111Z65LP6i1zXSUqpm98yGzVLjf2qAWFKqVN8hYRoW+N6dLwtfstKgMNBVQJsu+BiXBdKgOMe0zEGfiQcCaGxSpxsXi3JMd2ll/rSLqhBWErVRb5Qs8Ip7jEdKh5I9HTo4HtH+WdebbvtREiEKhzTWWONrI+RWoJw8bLOqxH/Sxww5A6SZ2tNTSILLOBfDXGGQKdo1ljb9ImXCdk9QhgIZXCxZZf1dUohTZCnvBqbbZwEbL7xHjrYzK22kvoXX5QZJ5wgHV2Oox36SOXSoGIJzhTLcvFe30aZx3WdpzLw2Y1ErmucAqaqJhrAxPXaWpJ1bttHWtdxGkPoFB7rQnU3q6bNaQ5OBZwLZUwJcDg4SoCtVlu8i0IJMBJEW2zhN+p4TOd9wPiBI2iO2HtejZhPU6mOY0mLgiOzpoL+Ly9q9IDRPrawyBeqRRuxLokjuURH6DgjhYeRdEXyVV4NwjR+/KxjOmusP/9cZPnl/VkRVsBxXV7NeMYoZ4w4vYuhPtPcLEIxhX32cbkz8lprrCNbEn8DQ2U0NjSuFd3QKUUfmWPzojL0Nl1X7BqjWEL4FcoODjZz992l/pFHpPXgg6WBE5q8GmFzJu4XrzzydLYWV7XGtn3L6yLXdbDoE+olFGGxNRxEOIpctdlt20/rumDRJ+LziV22teBJR8QaUAIcDqoSYNsFF+O6UAKc4JjOO6aNk6wTY/yJbklyTMcRHYSEmFG8oxbJOpEv1ESTCbk56OUm6YL4bFuDTBTKCwtFGKgMl1cjrhUywRH60Ufby6AFvaMkahQKDeRymuhwvvCCr1phq8ttJkJFrS++8CvCUdUpRUt1XcfV5WY+RrecxKky5eBTnHq8poxiCXHZbNoczCO+N98sHhG2Lbzg0H5ql8atPskAEuCT2vhtZCtffXV2aCAnD8aZYjOIBKcANs2ndk2wsBVx2cYpZtOBg265EmAlwDZLKvVrQgmw+YHiPeT4w8U4KiHI3zWRxaWPNK51+IHO1R1HXltu6f9nS7mmVImC7fzjFhagfV7qHCtjvOypDJdXM8koHLv1729PgJkP4QEQYaR6kOzJqxGqQciGqy438zGa3lR1OuWUVGeY6rqOq8vNjEzlyjge8lQRiWgsbmEBET/04bLLxAuFYDOUV0M+kaRiTldQ6HAxc29B09vl1jSvjVzXhPcZDWdOV0zSuM0ggpUr0YU2ihk291bymrjVJxkjVeCoBodFeMiVAIc/VPUAZ7jgQwlw3PK5jDWuYH+G8yzZdFH5XKdjumCMND/01VePHH3kCzWyhRgXBL3cjNkkptg0FRTsd1UCsWk/rWuCySisvV13dSPAcfWu0xq/bTtmnC6FBUzbSbzHEeNLdV0bXW7XwgKMkYRNwgKqHDsa+Tgh6BQngbCjQuJgXvLbWWdJ27rrSgeKFOXVTPlcNl6okLgYG1ESqAnbQd2jSha5rpOMM+g95mTG6EJXaa6h3RLCaHSqCRczDhGbceIYMgonEd5jJcBKgG2WVOrXhBJgUz43xjGdJIkfTn2GZRo05XNjJKN4mrHmyMtSJSPyhZrF3JMkozCeuGL2WcwlrM0SyShOWMfVgq7kHOnL6HK7Fhbg3iSe1UoSYPMseP9QQtXFSEolOTVO/LBLP0mvhaBT5cy1sICItAwbJp2OO07al1tO6lD3yKsRhkJhIcJSUFpxMUKRjOwmJzOmap5LGylcG/kOIZyIAlGEF7k+i6BnlY2MqX6YwrhTbSLJswjGDxMy2K9f6NCUACsBTnXd2jYWSoBNIgIeGbLrXQzZG5MQ4Op1dOkn6bVF5XOdmosRWxv5QnUagOXFSbzcdGEUJFx1ki2Hl8plJY7anLCOW840lcFbNhLU5XYpn2uaN9UA0TyGfKVoTlhH9RtXl5t2zaYd2T90S/NqprAAeRIQdgdruflm6XTwwdK+4IJSR2W4vBoqHFRyI0/ioYfcRpkkttatp7JXR65rki2p5EaeBKFJLubgHXVpNvVrSZolLIxNCJsRVyNxGgUIksYJiwwxJcDhwGoIhOuic7g+lACbwgKu5XPpO4mGsMPYE19aVD7XuT1HDeHIF6rzACxuMF5uvIdxPphGQ9hVBN1iaKldgg6zUfAoJKM4YW00hF0r5aU2AYuGYpw4zNGqiTuNs6GNGJ4T1lFTdfxNzdFcAnWFqGGl+neURpB4o0jAmWc6NT39oYekM+9kzFFD2KmjpBdT4AGpPkgP5MfFghtaVw1hl36SrmuURkhGJRcExRwXKxG25XJ7xa5FUpBqdYQ+EALhapYawkqAw4FVAuy66ByuDyXASUgBCQHEb2EkCqAHnEdLkIziTccxJjNVomCLZxIvN30kicm0HWPS64KSS4WEEiesM/SOJp3arPuDpypxSEHSzV6ZiThhXQ6QJLrctJtEeSC1B2XREKWsqcjnWlhARKY/+6x0JsQDI/SHIjV5NNRUKPBAIQRk7Vws6WbPpa8k6xpiCEHkaJ8jflcz8pSuRZhc+0lyPWoqJM0SohEn5tzIUw4eLDJoUOhIlACHPyQlwEkWcMS9oQTYFBZwLZ9r+uPIBDJCmUe8AXm0BMko3nSM7qhlZn1qRMEFy6TEpxYy6w3xQc3hl188dJywroXY0WD5XAiCEeC3XQtJkloj+nDCulxbSRRLaDdpuI8tlkmvQzucMs8UNaHss4M1v/mmNBqtanRoKcSTR0MDnqqDlMNFF97FcpJ8G7muCQ0gRIBnyLN0NUcHimvzqVwP+YUEI39GIpurWTpQlACHA6sE2HXROVwfSoAtd26hXZHVSihEnqsyJUhG8ebN0RdyaJY16yNfqA7PzfpS4+WOk4xCJ6ZmPcUTeNnn0UpILjlhzVE0H2qLmvVVm76DqHzJMZqqTBlIEzphXQ7AJIoltBtMvs2rd7StTaShQYTSzRGJQaWgavroI+liSG+eC7cwxo8+8r2/eIFdzUgTVtGBErmuOdmksiKlu9G+dzUjTRhH1tC1r7jXk+RHsh8FMCiE4WrGgUJIJTHhIaYEWAmw69JK5fpQAlxUWMC5M5LgOKolExgSlkczySiF8rnOQ+SlQHEJXhKQsAiLfKFGNRDn7yaWO04yCv3xcqe4RJ7LWvMBQTEgILnkhLUp3EKhD7Kz82hJFEuYDx+v3Xf3C7cQf5hiWWsnrMthm1SxBK1Rk02fV+8oFRUXW8xHgbhRoyVuueaavv1WuhhpKUIMeIfl0Zgjc41Ifgodeg7KWkeua3TR2YQQx80m2tUcHSiuzady/f77+6e4lEBG39/VLB0oSoDDgVUPsOuic7g+lACb+t+FwgIOTfqXkpREchLEhOzsPNpvf+tni8dN8DrwQBEjScU/IyzyhRrVQJy/Gy/3wQf7GqmudsYZ/vNDC5LnmUejMtqQIXNILjlhDS4kwBFPiecwj5Y0lpuiCWgBYxy/8/tOyZywLtdn0hCGWihr/Z//zK6oiHKAqbRo+Syafv1VOi+8sHRgE3PffSLkauTNgl5uqtWx8XK1ddYRQUGIJDN+31WwyHWN9jsbZpQ8UPRwNeNAIZb4mmtc767M9cjRIYVG2WZi1l3NOFCICaedEFMCHA6sEmDXRedwfUkCHNTvKxQWcGjSv5QKOSTAHX2070HMo5kM1UL5XOchUukIzy/lhfEER1jkCzWqgTh/TyC55HU3dKjvwaeiDx79PJqJ5Q54uZ2wphgB8mCUsyYRCy9p3ixpLDfFCNDYxUjA4oQnJXPCulyfSRVLKJqA2gk2ZoyvB5w3Iy6W+FgM7Vg0ZB0MrDssu6x0RlqKYhokcObNGBvyVxgawIRfuVqvXiLEvZ92ml8auQoWua7ZMFMqmA00DgZX699fhAQ4in5YOFBcm0/lehwfFMPAEYKjyNXwjpMAF+FAUQIcDqwSYNdF53B9SQIc1CgkxpWXkauZBIG4Ryeu/cW53ni5OdphnK6GBiRakOADThEW+UKNaiDO342XO4bkktcdcVtoei61lB/TnUcr4eV2wvqZZ2YfJSMVZ0hUnuaaVLHk009nk97x42eT4RTm6IR1uf6SlM+lXeJqKSmLdxStYzY1eTPCFvCGYRB2o5ZjOU6wnrnaatKV6mH/+IcI4Vt5MzZYKF1gbLwITXK1nXcWQd1l4ECRK690vTuV68uua7zcHTuK8E90jtl8u5pxoDBXYvzzaGusIUI4Udy1ZhwotEOMf4gpAQ5/+EqAM/xhlCTALHgWLBZRwzt0aAMGiFx3XXyJmAzn7DUd9HITH8lxlKs5SsSkRhRcxmmpwxjaJFqeqHhQ5x55uzxaCS+3E9ZosprM+s8+E1l++fzNsoSX22mQQa/cc8/NDodwaqT0xU5Yl+uvRCy38/CIj2UD/89/+pXW8maELZBQClHn9+R42gDWzRtsIIvyjo4be5o1Jmn8nvCKUmoYLylheFWwsus6jd8T3m0UhHr29BM482hJf0+cUvDuQrUG9ZoQUwIc/vCVAGf4wyhJgNOoxFMiLjPDabg3nUYlHuK2jjzSuhRmakTBZbZJvdxJSmG6jDPJtSW83E5Yk61uMuvzWpY0aSx3GnGZIc/ICetyzzmNd0bSuMwk69DmXnOiQhl1irY4Glj/1KuXLIUXP676gGOfzpcTfrLDDv5tcU9UkqoPOA967hvKrutPPhHBuYBNmCDSo4d7j8Q3oyBEvPPEie73Z30HJyp4uXEWESaGooOrWW74lAArAXZdWqlcX5IAE7tLDC+GlwLvn6sljVl07c/1+mAtdl4+vIRcrYT+bLkmUiMKtuNMw8udxmbIdrxxryvh5XbCmjg+U1AArUs0L/NmSWO5mY8pSxo35CcEEyesy+FqyueSNEXyVBxLoj8bpz/Xe0jWhOivtZaf5OVoYP39DjvIcngM4ya2OvbpfDnhJ2zYIE9o+jp6ub3+TJW1rbYSIYGzClZ2XZM8zcYbmzLFL4rkasiLQfTjVllz7c/1+mnTZifLxj01QibOFMIqE/KjBDj84agH2HXhOlxfkgAje4L8CfFpLNo4lqHwfpzhzHUPgf0E5mPE06Fb7GqO2qypEQXbcabh5U6qzWo71iTXGS93oLCAE9bBsqQkM5LUmDcz5XPjFBYwc0ma9BmCiRPW5XA15XPjFhagbTyPeCDjShtm/dxRxSHUI+axN1hP3WMPWRligUcOz1zezBx7J8kbIDSAEIGAtGGlp1l2XaeRN0CIB6EeSb6zWYIS9HLHzRuw/M4qAVYCnOVSDm27JAE2O1MylMlUjmNGeL9bNxHipfJmaRztB4X3qWJl9DmzJgq2WAa93HGP9nNSljR0yiFH+86krGtXv4pcXsuSpnG0v+GG/nEtsnYQsZTMGeuwftNQjklSwj0lPMo246gcU9wWWP/3gANkdRKvqLL17LN0vhUqAAAgAElEQVSVGLVbHwm93F5nJiESzyoe1ipY2XX9wAO+BB1FTVpa4nm5S5Rwr8I0w7uE9FIQCyOJdsUV3Yf3wQe+ghBWJp9ICXA4tOoBdl921neUJMAmuStJbFKGwvvWkyt3oYlNSpLcReiE0fG0EN5PjSjYApBGMkpOypKGTjl4TAcZgBS4lkLmBlOWlA8vx5J5M5JI0ChOIn1lypKiKEGBmpQstXWNV5RiGEmkr9BzRpYKcsJvPG9mtMMPOMDfbDkaWH98+OGyDveyoeEoPm82aJAvXYYWPFJmcYz5kQC30EIi/MarYGXX9Q03iFBkKCK5q+ywk5Y3zxoT3qdGSpBnwLNwNcvy5kqAw4FVAuy66ByuL0mAEx7Ted0HhfepCGR0IR3GlumlabzAgsL7HPUYfc+QgadGFGyBSeMFRl8c0RELXsWypKFTxju00kr+nyH8BY+FM9ZsZNjQcPR6yim2CFfmOpJR2KihUYwqB/GVcQypJsrvEmtLifKUzBnrsH5N8QM24H/9a7zREfpA+V1ippEcy5sRXkPBDzzBhIk5Glh/cOyxsgHJdIS0UFgjb4b2O3PDo89c4xihSEaZh3WPp7XCVnZdU/zixBN9taQy8l5lh0wMuMk9oQ2jvFTheYZ2Rxw+YTZUjSRMLE4sN95xk0PEWjC5RUWdKgEOf+hKgDP8QZQkwGm8wILC+7ykTcZshnNxatq8wDha5pgmjgWF9y3KkqZGFGzHal5gvLhIiIvzAqMv4qPRAIY0QZ7yZIR2GJ1R1BwK+qPOWJuypJBfSHCejM2H0YsldMfoyLqO0ZQlJdaWzUxK5ox1WL/Iz7GpRF2F6lhxjBhpNK/ZjLIpzZuRYEnoVEwvN1hPPPVU2Zjy3TgVcC7kzYjhJgQOLXjiXOMYyagkwGHkMpjy0XHainlP2XWdxjpDBYQEOIxkY0or58lIluWdkXSdLbCASFOTCEnj5BaVMCXA4Q9eCXCGP4qSBNh8KJO8wIKeOY7pOK7Lk/GR5CVGchH13ONYUHjfoixpakTBdqzmBUaSGOVv49raa/tV4Dg25/g8T0YBEsgrRohAQc3BGetdd/XF6Al/IAwiT8bmwyRpEiKw2WbxRkc5U4oKUN6U+MOUzBnrsH7TiMPG+4sXOMnGNiVcSjbDZo1NGwV0UDpwNLAef+650pNEOja0eObw0OXJ8Bqy+U5y0hCysa3kNMuua7y/OFGSnDRACiGHWJKNbVagmER2qkZS3CSukUtEonmZja0S4HBwlQDHXXgW95UkwOYFhoA1xSziWEhsZpymMrnHvMCIcSJrPK6Z2ExCKog/LGOpEQXbsUJ2ID2ECJDRG9eI5XvlFT9xigSqPBnHaka1geM2pJfixAAnjM3MFJJgIgnHpkhoxTETmwmBhkinZKms66ASR9zy68yHAhiUByYhlfjDvBmJRBRbGT7c1xB3NLB+/dJLZSuTxMjGlg1unmzbbUWQzTrpJBES4uIYyddGWozy0UZyLE5bMe8pu66J/+Wd/7vfiZAQF8dwoDQ2+kl099zjF0jJk5nCNGgckzwb19Zd10+AKxPapAQ4HFwlwHEXnsV9JQkwpJD40SQvsDRKRVqMP/YlprJWkhcYnZvsfItSkakQBZcJp/UCSyM732XcLteGSAk5Yw0ZwUMBmSb+ME8WlBIiRMAcm7qOMY3s/BJ9OmNdatwc5Ztj7rFjZ3v1XedosvOTaNC69ulyvZHsu+02ETZdjgbWL197rWx3/PH+nWxsTQy8Y1uZXW4k+845R+SMM+J1QwENk3SFg8IkY8VrLdZdZde1kexLqsVMQRSUdojphlTnyQgHg7Qm1WLu1ctPhjz1VF8CsIQpAQ5/8EqAM/xRlCTA5gVGmADlNuPaoov6R+833eTHEuXJzAuMcTG+uEbcFiEUZ53lh1SUsVSIgss4jZg8IQKQirhGKAweij/8QYSwijwZccnEixIiwDFbwZyx5uXMsTQxmsQf5smILzdxv0i1mWNT1zFymkOJ8phVyMK6c8a6VEMcsRbit2NX1qLdYBWyJFi5YmtzfVCyj2TEfv1s7prjGrB+4bbbpI+JxY+rz+rcs8MNVFUkHp9wlOOOc7gxcGmwChmbGhwVFbay65owIsIWOGEbNiz+yJAI44SHzSkOpzyZcQoQHsapTFyzSPxUAhwOrhLguAvP4r6SBNh4NZO8wOibDxofNl4QvCjyZMarmfQFZoT3edGDVxlLhSi4YJjWCwzSBHlKUqHLZdwu14Z4NZ2xhvxCgjmuI/4wT5aG5ijzYRPDZoZjV+IPUzJnrEv1yxGryRNI4tVkM2qSiZJ4y1PCZo5mgmFhzz8vsvXWzr2A9ZgHHpDdkAjD4lbocu7Z4QYTFkY4yiGHONxYdClhLCTAJW0n5gjKrmsj2UdY0eDBMXsQP56fBLik7cQfQfidrDGjix5Dsm9WwxT74KSOEw9OPkqYEuDwx6AEOIvFXWizJAF2iGstOzQkqfBQJDkKy2ru5gWWNK4VSSpKf/Ki50VdxlIhCi54mLhWXkB33OFy55zXUroVoskHmw93nowjVuKSqepHnHLBnLEm/IENA0oExGjmydC1Jb6cEAEIQVxLo8R5ib6dsS41/rRkE4PFX8oI78eFMNF9rCtTTCBmYrCH9RNPyB577y11eElJNmNjmhcLSvZZJAaXHbbxJJNsZkI+KjjPsuvaSPZdfLFf2jqupeVJjtt/ufs4ocDzywkb78e4RmIxxbXKeJKVAIeDqwQ47sKzuK8kAUa3j8D8pC8wkwxBwtnQoRajqeAlab3ASLiB+FrEEqdCFFwgSusFhqg9HooNNvA3NHmyY48VueIKP0SAI8mCOWPNBoENw4ILihB/mCdD8goCwIkKR8txjQ0CCY0YyhKUqk3BnLEu1acpnMPfSIirr483MpRA2MBjyI2x0c2LBZUNYkpDGqz3OOQQqSO8LFD+OxfTDEr2Ua6ZE7K4hpQdCXBJyn/H7TsqkdZI9kHsOCGLa2mU/47bd9R922zj6/mjyU0scFwzscRlQvGUAIeDW5MEeNKkSXLsscfKCy+8IAsuuKAccMABcuGFF0oXo+cZMt9tt91WnuNYq8jeffddWRs5qoL99NNPcvLJJ8u9994r06dPl+23316uuOIKWRnJEgebiwCnpTnKGCCFlOwkuJ8g/zxZGpqjzMeoSUD2qQ9fxlIhCi4Y4rEl9hcPBZ6KuJaWmkTc/svdh+edGG488RSJKJgz1kig4aHAqiS8HzpNjliJxedEhWIfcQ0pO/MO4d9NidK47cXFulR/aVX+4tl16uT3UEZ4P+GU490eLJ0eU9vWrOvdjztOOhAqkrfwsqBkHxsuTmbimgkvY/OHF7jCVvYdYiT72DhzwhbXiOXm20iRGr6VebK0Sqejq47uNcWG3n675AyVAIc/+JojwD/88IOsv/76Hhk944wzZOrUqXLiiSfKzjvvLLciEF7GIMCtra0ypEg+5je/+Y00ErtXsH79+skbb7whQ4cOlW7dusmZZ54p06ZNkwkTJkSS7GD3cxHgNF9gZMjioSgiJ7n4jaf1AiO8gwQ4ZHrwVpQxZ1KWFCg8thQkIUTAyCbFaZM1i7h9Uj3hOH1H3bPXXiIPPuiHCCBLVDBnrEP0hKO6r8jf0V7mBAWPTInNsfUY0vxtBzp1xrrUgNFepjpaGiEoePEpUlNGeN8aszQvDJHsc+liFgE+4wzpwG87b+FlaUn2AQrlrIl/twgvc8HQ9trQdU1RIVOZDsUYI8No23DwOhNelvS3HafvqHtMDg8nbBTHimvmt42sHfUBSpgS4HBwa44AX3TRRXLOOefIJ598IksQyC/Ekt8u/fv3l4kTJ8o6pvxhiTlDgLt27SqPcCQYYuPGjZOePXvKo48+KrsWvFaffvqprLbaap4X+M/E3FjaXAQ4zRcYiWF4KIqOpy2Hlt1lwRdYEs1RRuhwPJ0KUXBBhep7eImSvsDIWMdDkUfh/RAvkTPWlEHGQ4ERR9q9uwvS2V5rvERJkxDTPN0JzNgZ61JopZmEaIT3kx5Pp/1Uqb5HJSxUPFCoiGEG635Dh0o9x9N5Cy8LSvahymIKuMSYq6fnTHgZm1zyLCpsoes6Lck+5oNzgjyGPIaXkXPAXJOqOJnwMpxOP/1U8ikqAZ6HCHDv3r1lkUUWkYcCRxqEKSy88MJy3nnnyUll5E5sCPBZZ50lw4YNk++++07qAuVtt9tuO488PwxhsbS5CHCaLzCObTm+JSubTNe8WJovMF4OeCgsEpRSIQouGKYlQxdMUMqb8L6RoWOtIdtXMGesg8L7KAkgBZgXgzRBntKQoTPx/SkK7ztjXQpXjkg5KkUzFG98EjPC+0kTlJKModS9RoauSLLPpZtZBPi666SezXuSamsuHdtem6YMHRX9UNZJWqzIduxF14Wua5wKOBcwvPCmFHucfvIaXhaUoeOEjeJYcQ0v+W67+XeHhJcpAQ4Ht+Y8wEsttZQceuihXsxv0NZbbz3p1auXjCgTDwsBfv3116WtrU1mzpwpm2++uQwePFi24YikYPvtt5/g8X0ZcemADRw4UJ588kmZPHmy9VKdiwCn+QKjOARkP29lSYOao0lfYLwc8FCQtMOPO7AhKX4IqRAF2yfLC4xjOrRHk77AghJVYOcYZ2475FjXrbGGCOudEAG8YQVzxhqPHB4KrErC+6Hz33lnv3QxIQKUJ01iGQjvO2NdavwDB/rV0ZAnJFQgiRnhfUg1CZx5MdYo4SxU8qOiXwwzWO92113SgGeNzRGhHnmxtCT7mA+hZYR4VMmBErqu05LsY46mXP0ii/je1rxYmu9DdNUppoGFxL4rAQ5/8DVHgDt27OiR1lPIfgzYVlttJZDj+8sc5+DdJXZ4jTXWkM8//9yLBR4/fryXGAd5xnbaaSepr6+XJ4o+FIMGDZLhw4d7nuEwI06Y/xn74osvZLPNNpO33nrLC6Ho8NBD0vmAA6S9oUGaf/yxLKGL+q3W33ijdDrqKGlfailpTlJLPKojx7/XvfWWNBay4Zvff1/ajTSRYztc3uG556RzIQasiYo+hkSVaKu5uVmef/55bzMTjOeO0W30LT//LF0KWf7TH39c2nr3jr4n5Iq6KVOksVB+t/nll6Wd47qcWOMqq0jd1KnSMny4zAxojjpj3d4ujd26Sd3MmTL9jjukLYnHI2VsOm23ndSPGyczTj5ZWiEECazzBhtIh8mTZcYFF0hr3CIFRf07Y11i/B0PPVQa7rxTWvfeW2YkLLbSac89pX70aGk94giZUYXkqbDH0zB4sHS84AJp23hjmc6pSgwzWPcdOVIab7hBZvbpIy1scHNi9bfeKp0GDJD2xRaT5oRygg2XXy4dTz1V2tZYQ6ZXQX0mbF13+Ne/pHOhME0TYR4JSlF3GDlSOv/+99JeXy/NfJfLOFAq+og//1y64LgSkeYXX5T2BKWo695+WxrRO6at996T9hKVCz/88EPp0aOHTJkyRVYwJbArOuH8dlaTBPjcc8+Vv1GJK2BbbrmlLLPMMnIf8mKW9ssvvwie43XXXVceK5RohQA3NDTI42SuB+z000+Xa665Rr4toxV69tlny98DR8XmdrzSxCuvOGaMbDRsmLQstJA8nvBDtNzYsbLpkCHS2qmTPMoRbk5ssXfeka0LSWGP3nabtJI0E9MWnjxZtsWrQ9L5DTfIdFPONWZ7ad3W+N130pcYOhF5duhQ+RFNzZjW8PPPshvH7yLywvnny3ccMefE+u27r9TPmCGv/uUv8jkyOwlslz/+UTr99JO8ccwxMiWJfFOCMZS6dbtjjpFuU6bIOwcdJJNJDEpg2/zlL7LoBx/I+/vuK++ZYgoJ2kvr1s3OO0+WffVV+XinnWQ83uAEtvGQIbLC2LEypXdveYNj9JzY+iNGyGqPPCJTN9xQXirxDnYZ5ro33yxr3H+/fLvOOjKW0JGcWPdHHpEeI0bIL0svLU8Rg53AVh41Sn4zfLg0L7qoPBmhsZ6gG+dbl37tNelJ7K6IPMS3PK5kn4gsMWGCbFmotvrIXXfJTEKUcmBdP/tMdigkvj119dXyS9zy6yLSZepU6VOQihtz2WXykwkfCczzm2++kcMPP1wJcIlnX3MEOEkIRKm1T2gDcmdfkcUtFHOKHwIR5QGuHz5cOp18srStsopMJzEogXUYNUo6F0pYNuFN7tgxQWvp3drh8celM8oUaD0SlJ/gBVY3ebI0Fjyizf/+t7SXkZZKw1Nmi0Lde+9JYyGOtfntt6U9SVLXzJnSZaGFvK6n33+/tHEknwebPl26EOfMuEaOlDZTLhhPQwxve+d11vGkpVqGDpWZFMXIiTWuvrrUff65tFx2mcxMojkqIp12203qn3lGWgcOlBmXXJLKDONgXdxxpz59pH7sWJlx3HHSmpDQdTz6aGnAO7rLLtLi4GxIBYwyjXQ84ghpuOUWmbnnntISszCNwbrPa69Jl3PPlbb115fpgQIwWc8hqv2GCy+UjuecI209esj0ceOiLi/79/p775VOBx0k7QssIM3oO1fYwtZ1/d13S6dDDpH2rl2lmVO/BFb3+uvSWKgI2ITGd5KkwQTjKL617pVXpBFpT76RxDwbbe04fXz/vXRB3YX39NNPS1vhJDvYlHqAw4GtOQKcJAmuFAxHHXWU5zU2BDjTJDiTlYoGINWKklhQWiqm7mWS7kPvTUtzlA4cpKVSiZW0BYT4cPOi4SWd5AVGn2nJxtmO3+a6r7+eXcyhqOhBLKzT0r20GbvLNd26+dnTlBGlWEcSM9JSRbJxSZqMhXVxh2lWjTTSUoT9PPtskqmle69D1ciwjg3Wu3z4oXQiv4J4/ByFl3lFE9hYpSHrVWVt7tB1nWbVyEmT/JhwLEVt7sQLl6JCVKnDUI9J4pmmsI1xfoXIxmkM8DxEgJFBIwYYGbTFF1/cm9mdd97pFcOIkkErhoEQCMIfiI8x0mhGBo0QCLSFMWJnunfvnlwGLU1dQkSve/TwpxSz8lHiH3KpBtJ8gTU1+bJGWETlo1SIgi0gaZe9zaO0FMlvJMFhnFYE5AVjYW0KhyStfGT7jGyuC0r2oe5Cdb8kFlI4JEmTsbAu7pATCt4RyApS3S+JmcIhFtrcSbpxvnennfx3BLHXqBvEsFkE+OuvpRMKEJyAlMn5iNFFslsom3vttf46dVAjKtlpMHmKORZOe5IN0P7u0HWNugjhjbxvEp6SypdfipjwApSSSPjLg1FUiCp1EF8IcFKL0OZWAhwOcM15gE0hjFVWWWWOQhh9+/adoxDGYYcdJjfddJNX+AKjahxJb3vttZeXCEcSHIUu3nnnHe9vJKsZoxDGm2++OUchjB9//DF5IQyOWJHrSao5ykA//XS2YgBJDHlJnqKsIwmKxLJSnjSJobZA5SmeIcmNKEKEWCpEwXasyFztt196LzAqiOGhwLtTiHm2HUpm11F4hHKpGDJmkPSCxcIaqR48FOhoI96eB0N2znz4n39e/p+98wC3ojrX/8fhNExBL6ImQgQsUbHHXiDXijUx0RCC146xF/xHTWIvqIAmFjRqYgFbEktCFI0lKnajYpSAggqILRaCGOUUOPyf3569DrP32TN7zcz61j7kmfd57uO9l5lVvj1n5ltfeV8ppktTL81IR+OMcUhygFS2Lp+XQAFODrWeoWbGVMsz3NzUvSdgxEk1V5KbeH/j5MD7mrKZ0dh6WEtLoXnKhn0myRIzXztiRMBKQX15FdGnqnPB0GO+GTVgn4l8rukfGTMmkNkm85QFCLaYHpRHHxXZeecso7m7F1EhFFzJHGYs8ygsCicfZ5/DEQe3MuQOcPRPt8I5wGwFKeQTTjhBnnrqKVlppZUK0V8iw2Ep5EMPPbTgAC/DiRLe1W/K8ccfX2B9oJENCeXtt99eKHkIO79cSy2vkUJua2tzJ4XMS/X3v3fzAgt/vJHkzdik5Oyv23COuniBsShLwnAnjoKtEX73O5EjjwxKBIq147a3VrwOSVM4osv4djONmfVmpKfNB4MSgRADRypbu3z2s+7N3O/6EOny411cYypbh+0T5hytcoi0Mqv5eLt69q0mtbjIHCJR+Yzhgo8bqdMBbmyUJiPdDWWVyUJZLEP1EtZE6QI19NDaZUGYbxfqMZNNzDJmgnsjn+sTThCBv5cSAegJsyD87EMhV+yZyTKkk3thT4FW0hWFKWUelHtEPPu5A/xf5gA7eQg9DNKFBxhKL+jVXHCOWtT+eNhi1ynoboVP1QXnKKNbKq5ldhSSGMs1B3OE4lqSJTm/FqEZPhh1dUEEPkQhlMrWLrMfrjYbjoK5KCNymf1w5QC7joKZ9C3S8ZQodReYMqKIKJjNMs1zvUefPp3NU5JVcc1mYttr4HuldIESgTIefNshOq9zKViUeHIencXy0EMPye67714SuJKDDw74eykRcMFuZAIoEycGkvPdAbCUnHtuIAiEMFBWGMEiuJ0Ztwy5A5w7wFkfsVT3d3GAidLSvEaJQMZu7MKCqtT+pFp01pt4yZCeo0SAaHdWkKbDUYF0n+hyBFI5ZWnXxkuGlxglAkRus4LSDvhGoVYjutwdwAfjkENEKpDIp7I1pR2IFXSn5inXdZCUdnC4hWtz/nwnv2IqW4dnxoEz5Ssu6iDD9e+trUGJUneAeRfyzuHdkwKdDvDAgdJM0yboTs1TRGnp/aBE4Oc/T7HD0C3hAApRZc/sM5HPNYduDt+UCMSIWllvnkZGMj1ElTNSAFrPWe1Cor9EgV2p8JGpI2MHLSHBmTLkDnD0D7JClkBUe766y793cYCRdaQuFue3TMgj1Zqr1P6kGjPrTYgcTJ4clAhQ75wVllGPzI5CknUaGVFePNSWZQWOJg7nAQeIUF/cHXDVVUHDVIVO+FS2pi6TCEV3ap4Ky4jiEGSg7Cv8ZDBJwOkMswTUhA6QytbheVFFMw2MpElNY2PatYUZUKDPKjYipx3OyX2OnLlOW2+yifQy1IYuDg1ONinB36JLZ47SDqL4GQ4NabcW+VzjFMIugpPIgTkrXB4asq7F3M+3kUAH30oXQitVDg25A5w7wK4e3UTjdHGAUWkhMkSJAJGirKhS+5N1+FT3w2/4xBNBHR41SVlhWfeW2VFIsk4itTQU8eKhtiwrXNa9ZV2LuZ+I+5lnBo0yZUpRqWxNZz4Hh+7UPAVfLNRnRA//85/sluPgx0eNchEYJhwoT6WydXgn8NgWlRkL9epFBcPUm+UAz0EewK06cGDqoZzdSIOfccSJ6m+/faqhO229447Sa9VVgzG6k3Q32RgOVpQIFMVzUm3U3AQvLs8EgQqcMo+IfK7JqtGAS5aNA3NWuM66Zl0P91PeQSkR5R633JJ9xCplI7kDHG3iPAKc/fGLHKGLA4ysI5KMlAi4UIrqjs1T1DVNmxaUCBRVeDKZ2LJ5KrOjkGSRRGoRASBye/PNSe6sfK1pHIRbmBKZ7gDDOUoEvkxaNpWtXTcOurARalqwUlAiANNFVhC5IoIFyhoH0w6dytbhycKco0T7qN3NAg7wRm61u7DPwGJgHHFKBAYPTrXDTlvvtpv0IorPIYYIXXeQ7qahiwwF/6VEYL/9Uu2x5CaEhWbPDiKtRFw9IvK5pjHsrbeCEoGTT86+Ipd9N9lXE4xAfwylRPTLkGnLiip9N7kDHG3g3AHO+vDF3F/iABP5qq8PXmBEiqBCy4ru2DzFPokMEfGDkzMroHWhFowXPi/+CGR2FJKs03COErm98sokd1a+loYWavr4cPMB7w7AMcRBhL7svvtKVpTK1oY6rjs1T7nkHMVCMdRxaX/SVLYOT2aa1qjVpWY3K4hAEokEHIw4INUaOOKIfQBKBPr3T7WiElujrkWjWHdpnuJAhVMOOGhRS58VVZqnsg4fd3/kc02GAhEeDsxFuflM6xg+PGimI2JO5Lw7AIYklPxgjSnKPmdaVpUASu4AR1s3d4AzPXnxN5c4wKuvLkIEGFAigJpPVrhuGMi6Hu4ndYgyHXRJKGJlBaUUFPZTWkGhfwQyOwpJ1klKmdQyJQIIA2QFlEY0aPDh5gPeHWA4RykRoLY1hFS2htLINNp0l+YpQ1vG70lta1aExUNmzhSBmisjUtk6PKdrztGweMj994sYurCM+8x0O464eZ/ioBtHMeGgJbambhqqsO7SPEWGguZKwEGLWvqsqNI8lXX4uPsjn2vEIdraghIB1P2ywjKAknWaRPfDkc/7AdYYMm1ZUSWAkjvA0QbOHeCsD1/M/SUOMJEvkzqkRMBELLLM75oyJstauJfoNi+w9vagRABp2KywpIzJ7CgkWadr4QpKYmDP4IAEv3N3gKm9riBckcrWkNqb2szu0jzluvY6gXS37U+cytbhwQ3nqMva6+4m3Y0jjjoaNdc0xEHdlwIltuZQBPuMC8aFFGvpcguqaKa0gxIB06SXZewaBlAqPtccjE2JDiUCZNqywjKAknWaRPeTXXj/fRFUU1H3ywp6iiiDwL/g0FaG3AHOHeCsj1iq+0scYE61rptHXHPuptpl6KawdDG1h7vumnXEoBbMgjQ8s6OQZKWGfYMSAfhts8I0T1Xg3M06dOr7Y9g3Utm6O0p3mwOkK/aNBNLdtr9LKluHBzeUfa44RxnbAeeu7f6trrv99qCnIiP7Romtcb5oqHNFWWm1kZiLwuwblAiYJr0s49YwgFLxuUYVjUwpoEQgpM6aepsmgOKKsjL1QkI3fu1rQdMtzy2ZtqygtIPfsgJlJUPnDnDuAGd9xFLdX+IA89Iyam2uImDdrXlKIQJWqAWzUF3L7Cgk+YVd8y+HVdd4MRr5ziRrcn2toQ+qwL+cytauVddc7NdQ9rniHE0g3W27/FS2Dg/umnOUsR2ortnu3+o6Immoo2XkXy6xNel3+HFdiBZZbaLKRRolRDUMoFR8rhVKiArlc0SBof+DBrDW0K6rGsMAACAASURBVCghihEtyh3g+B88L4FQ/IMocYBJW9GRCogGNzRkn7m7NU/xgoGaDbgikKeBgUaGXr1EULWKQGZHwfbXoLzDkP/DI2t+U9v7K12HGhANKYDUGBHmWiOGczSVrcPS3d2leco15yi/GXRc0HLBDgJLSEaksnV4Tpx76oBdcY4ydndjn3GkwFdia/oX4MftLs1TGk2kJoBCaRLRbo+o+FxrvAdpoKYOmMjyhx963GHEVGEFPlfvwSoBlDwCHP2z5w6w4p9EiQNM4wKUXlUcuUTL6W7NU5DGm7SVKwlRpKMtDg6ZHQVbwzviHC2ZDioiKIkAwgXmEGG7Jo3rDOdohS74VLbWiHxk3bfhHI2QEE01vKV0t+3YqWwdHhxVNJwnasz5LV2gu7HPmGbGjDSCJbZGBMaCfcaFOa3GMI4cLAlk2lzABFAozaPe2SMqPtcamTDLAIq3rVOjyzsCvPqqCJm2rKhycMgd4NwBzvqIpbq/xAGGuoZ6UcjHcQ5doErtj4spEo2BKpqp+/3iCxGUhrICXlxTOgK7BNruFZDZUbBdZ5hzlI+Gqeu2vb/SdRqlI1nWQyofyr6Ojoo8qKltbZqn7rwziOrXGho8qJbS3bZbT21rM4EGD6qR7nZVOmJrjKjrTDMj/KocmFOixNYwvFiwz6ScKvltGqn8Ks1TyRdpf0fF5xrOZZ4t+I7JtDkQkik8DxYBFPuVZ7wSp9fIbPMtIdOWFVUCKLkDHG3gPAKc9eGLub/EAabR6f/9vyDSR3mAC1Sp/XExRaIxNF5gls1TmR0F243i9OLkAFcvMIXmKdvtVLyOUhNTh8yhBrqkEFLburtJd2usx1K62/b3SW1rM4Hj9RSGNdLdKFoRYas1TDMX0W7KFlKixNZwRNNA6LJ5MOW6CreRpUBO3GUzVw0DKBWfazIUPFurrBKUEbmAZQDFxVRWYzz1lMhOOwWXskf2mhXhAEoF6e7cAY42cO4AZ334Yu4vcYDhUqUj1eULTCNllMUe5gUW0Y2aamjL5qnMjoLt4jReqERcqQmnTABpZeiJaokqEenUtu5u0t0adF6W0t22P29qW5sJiDYRdYJwn1IBF6hh81TF5Rs6L5plkfVNiRJb01hHA2F3aZ5CRhxxIerWkWd2gRoGUCo+13AuE80nKkpwwQUsAyguprIag74RxIUAUW4ybVlRJWCRO8C5A5z1EUt1f4kDzAvVdUpNo2kg1U6LN5mUmktBh3DzFKdnUw5Rts7MjoLtvrVSapR20CCBNjwRrVqiSjd2alt3p+YpyjtItQKU7sxHKavdjXS3o+ap1LY2+0AiGGfiiitEqGt1ge7GPmMEHXBYkfVNiRJbQ1GFQ91dmqc0mhlrGECp+FzDucwhzWVNsmUAJeUjk/w2MhSue4GqBFByBzh3gJM/qA7uKHGAx40LohNIIFMO4QLdrXnKNFWgdPPPf7rYYUBsbxgzYlgXMjsKtqs13dgIfrS02N5V/TrHzVPVJ4y5Iizp++67IhC3h5Da1t2peWrRIvfKjNjIsfJUalub38u1MiPj1rB5quJT60jSt8TWHIooqXDZtJzlj9I0Mzo6WBWWUsMASsXnGjl4nq2MzYwlZrYMoGT5aRLdq9HMyAJiAii5A5w7wImeUVcXlzjAZ58tQvNPBWnZ1PN1t+Yp19KyxjAWvLuZHQXbH8FIy+JYwO3sCo6bpzItC6lupKdBBWnZ1LauofJUF3vg2JOpAK6kZRnLsfJUalubDRtpWQ5uCH64gGGfiVCecjFFojEcldaU2Hrq1OXS3a5oKxNtquxi08wI3zH2d4EaBlAqPtemtGb33UXgPXYBywCKi6msxtBQZmTimABK7gBH/zJ5DbDVU5vuohIHmBouJDuRPqQcwgWq1P64mCLRGKRYr7oqYIJACc4VLJqVMjsKtmsllXzyySKklt9+2/au6tdpNCtVn7XyFUS/yFQA6pLLpGVT27qGylNdNjpzpgiZCoAjsM46aa1Vep+ldLftZKltzQQ4bjjAgNIdWBJcoIbNUxWXb5TpMiozltj6lVeWS3fHsM+4MKfVGOb9cNppIvAeu0ANAygVn+tDDw1KwBAhuesuFzsMxrAIoLibrMpIF1wgQjBss81Epk1zN21MACV3gKPNnDvA7h7BLiOVOMDUkxFVgAmCcggX6G7NU5DHIwAAlc0997jYYTCGRYQnk6OQZKU0E511VsAE8Y9/JLkz/loNuqq0q7vjjiBTwYcDZboypLZ1d2qeeuEFkW22CXYGQb6RYE1rM3OfpXS37TSpbc0EOG5GMpfmTVLLLlDD5qmKy3ckLVtiaw63huJwzpzl3K0u7JdmDBwm3jc4UFC0uUAN2WcqPtc4vnw3cIRvusnFDoMxLAIo7iarMhIHGL7/MEHgD7hCTAAld4CjjZw7wK4ewArjlDjA8J5y4iNCxAnQFbpT8xQp1rvvDpq4OMm7gkXzVCZHIck6Tz9dBIokmvFoynMFng8opVzW+KVd2/XXB5mKCM7q1LbuTs1TGpzV2Nux8lRqW7MWDc5qxq1h81SXRzrczPiXv4jss0/ap15KbI1cPSUeAMfTUB+mHj3jjWuvHWScYII46aSMgxVvD0t3e2afqfhcU/pA5hAmiCuvdLNHRrEIoLibrMpIlLCQAYYthoywKxj2mQrS3bkDHG3k3AF29QBWGKfEAeYBpbseJgjKIVyhOzVPkWJ96CGR444TgdLGFUyXN3bDfhWQyVFIsk5eMNdeG9QHPvBAkjvjr3XcPJVpYXTSk6mIoIBKbevu1DxlOKsp76BO0AXpPkZ3rDyV2tasRYOzmnHDzVOuFB/TPrBkKIgAA8SGhg5NO1KpA0z5CHSOwJVkbeqViQgKcPQc/O53IocfnmWk0nuNdLdn9pmKzzUZiueeE+GgfNFF7vZoEUBxN1mVkQhwQIlKwIOeIFeICaDkDnC0kXMH2NUDWGGcEgeYlAc1VzBBUA7hCt2peQpN+WefFTnjDJGLL3a1w4AXl7RrjPJUJkchyUqRlL31VhHXIgCOm6eSbKnLtQgAkKmIEAFIbesaKk912aOpY+3dW4ROcVdwTJOX2tbsR4OzmnFnzVou142oj5HxdmXDJOPggFMDDHDMeWZTosTWjY3LOVqJ1BHAqCVgo4B1hgMW7x5XqFEApeJzTckJ7EF8O/iGuEJ3Yp/53vcCFqiMnNVdTBMTQMkd4OgHKXeAXf2RVRinxAGmhoumNeor4QF0he7UPIWuOcTjnN45xbuCRfNUJkchyTqNM04UhmiMKzhunsq0LOOME00jqlaG1LbuTs1ThsmgXz+R+fMzmavkZsdOZ2pbsyjHznjnPqmZpq4SVFCecmdMi5HCzjj/O1mLlOhia1Nb7PqdnXR9YSYDsk5kn1yhRgGUis81Ahjw9pI9JIvoCka62/U7O836LLKZaYaNY5/JHeBoi+YOcKqnze6mTgf49ddl3fXXD25ySbrPeDG1P3ardHiViSZQv0UdlytYNE9lchSSrNNEE6jDox7PFSjtwPHsDspTRx0VZCqop6Susgypbd2dmqfopCfKtMEGIjNmuPoVnZcdpLY1O9LirO5O7DMOyzG62Br+6/ffF8nILpH54UIgh14PECMGlGqeGgVQKj7XWv0s3Um6W6scIyaAkjvAuQOc6t2Q9aZOB/ill2RdJJABHKtDhmQdevn93al5ytST0cFLJ68rWDRPZXIUkqxz662DqBed2HRku4Lj5qlMyxoxIqhP478oYrlygLtT8xS/H5kKmCCoO3SFefOWMwYgQUxWJAMyPddanNVh9hlqqUnr1gpkKJAHBtQDw1ySEl1szeHo9deDrn1q4msFTTUzx9LdtibqYutwQx5MEERtXcEigOJqqqrjEAijbMj1MxXDPpM7wNG/Sh4BrvrEpr+g0wGeOlXWNU6vS9J9ltadmqeom0PfHA5HKG1cwaJ5KpOjkGSd5qNIBBFKG1dw3DyVaVlEfql7JBJM9KsMqW394osiREBArZuniOCTqXDNWe04Wpfa1thYi7OasVdZJaidnjhRhLr4WoEMxX77BVzVGZsZu9iawxF0ebD2EGGrFaiLNZRsMEHAQe4KRrp75Migt8ETutia+mbqnAFMEPxduoJFAMXVVFXHMVkFmCBg2nEFyvGoK6ZZkl6jEHIHONrIuQPs6gGsMI5xgGc/8ICsA88rcEm6z3jdpXmqtVWkuTnYIyo+UNq4gkXzVCZHIck6qRl9771AjQlKG1cI12tyiKivdzVy8nGo/Y3hrE5t6+7UPEU9IJkK15zVjpWnUtuaX91wVm+6qQjCDi6hVa+ZdI1kKHDevv71QLUwA7rYGicMujzX5U5J10iGwnA4wwRhuJ2TjlPpelPuhPANzVme0MXW7AvnDbBfw9HtYj0mgDJ4cNCjUkvwnH7+ecAEAde6K5hypwrS3bkDHG3k3AF29QBWGKfTAf7jH2Ud07nrknSfObtL8xS8mX37BlZwSbrPeBbNU5kchSTPAKwBixYFa4LSxhXCzVMLFgQRtlqBTvoYzurUtu5OzVP8PZKpcM1ZzW+20koiiAz8/vciP/pRpl8xta2Z1XBWU+cJlZdLmIbXMWNEfv5zlyMnG4sMxdFHixBZQ946A7rYurs0TxERNQEFIqVG3S/DXjtvrdLw6mKKSmN0sTWRbbiOARFvo9LoYgGm4RXpc8pJagXKPHr2FOG/HDaM2qaL9cQ0vOYOcLSBcwfYxcMXMYZxgN+85RZZm0J88MUXwQfSFRwrT6VeFmpJgwYFt8M/alJ2qQcM3WjRPJXJUbBdIy8uIrOQ77MmUq+uoMXZmmZ9NOLFcFantnV3ap6ik55MhWvOauyNgIgjysPUtmYdhrOa7NOUKWmehOh7EILh0IbzixNcK4wfL/KznwW0bNTrZkAXWxv2GQ4xHGZqBWpiKSlraAjkrV3CUB7So0KJkid0sTViIzAlAZxUnFVXsAiguJoqdpwwZzX9EN/9rrtpY9hncgc42sy5A+zuEewyUqcDPGGCrM2H1kGdWpdJukvzFA0/pFoBClSkSF3hb38TgX0BRDS6ZHIUbNfJ4eWrXw2uZk2m+cb2/rjrws1TtVaequLApbZ1d2qeMg6ca85qfmN4cSl1QlBk9OhMT0dqWzOr4azWcOA0DxBJLHbOOSLnny+y5ZZBc2oGdLE172yihxoHiCTrRKSCpmKyQmSHXMKI3vDM0pzlCV1sDbsFXPmAOnojQuJiPUb0hugr5WWuRG+Sri3MWc1hwzTGJx2n0vUxAZTcAY42cO4Au3j4IsYwDvBbY8fKIBqmXJPuM6/p1ieqjINWKzz9tAipVvDpp8tpe1yshw8b7AsgooQkk6Ngu0bNFD4fNlg0ALZEVKRWoJOeaC3PFiwjZchka9M85Vl5qssmNPlPccag58I5I8KWAZlsbSEgk3ppONXUHeJk0whXK3DAIAvGYZRDaQZ0sTWHI5pdNUpIkqwTXlxoJZFm5qDsEkb2HF5nKN88oYut4Tc2YiOueyAeeURkt92CnfFeM812nvbaOY1mD0RMBjZ3gKN/6NwBVvwj6HSAzz1XBvEhdE26z9rp1qdrH9CAwym3FtAi3WcvpDZhXwARTYSZHAVbezG3Ub1iTaRdXYGXPiwaAFsiK10LLF1aVQErk635iCM8QWMjKfpagU56MhWuOavZD84Y9Fw4Z0TYMiCTrQ3p/sknB06iS9BxTuc5FGhE2GoFhyw4XWyt2USYxF4oo8FkoNHEZZoIyWzRnOUJXWxtWHBopKZ+3iWef15k222DESlNMs12LuewGSvMWc1hw4jJ2Nxb7ZpwDw5qrGa/hU/mbFlvvfVk/vz50g8fJEenBXIHWPFhMA7w2z/7mQyE98816T5rp1ufrn1AFzRdprWA6ULVeIHBumD+cCNo5DI5Crb2Ym6TtmJNRoLV9v5q12E72DSw5QEHVLta5995hkz6kWfLpCVDs2WyNR9xhCfozKZJq1bQ4qxmPzS3IHiDc0aELQMy2dqQ7p91VlAm4BI41dCs4WTDlFArOKTx6mJrQyNHb8Nbb9Vqh4HzixOMU4Nz4xKGRo6yAAIolOl5QBdbGxovGqk/+sjtCnjf8N4B/I6mV8XtLNVHC3NWc9gw5XTV76x+RZiF6aGHlke8cwc41nYrpAM8a9YsOfHEE+XJJ5+Ur3zlKzJixAi55JJLpFdMamPRokVy+eWXywMPPCBvvPGGNDQ0yHe+8x0ZM2aMbFGmH9+jQo3Q6quvLh+SAk+ATgf4mGNk4LXXBml8TqMuQbe+WT9d0HRD1wKGdF/jBQbrAuUjIEJIJJOjYGsv5jaNC6wJqVSXgN6I8hFsedhhLke2H4tnyDSg8GyZxpTQCJlsbbhVf/nLgKarVtDirGY/0BsZ+Vz+mwGZbG1I98eODRrFXAKnmt9P452WZJ177x00+MEEwTs2A7rY2rzTKnCrZpgm+a2UP1AGQRof58YlNJ2ymHV2sTWqmqecEjinrg8bZJzIPAHoAE2viks72oylfdgw77S77xb5wQ86V5RHgKN/nBXOAV64cKFstNFGstZaa8lZZ50lH330kYwePVqGDRsmt8YQeU+fPl122203Ofzww2XIkCHS3t4uV1xxRcGJfuaZZ0qcYBzgE044QX4S4ulrbGzs4ihXe+aNAzznkENkADWPNHJRj+QS4bT8zJkiRnLZ5Rw2Y2lGS8Jp+Qgp6UyOgs3+uIa5DXUNa3IdLdFMy9vukWfIUBDBBGGoiUL3Z7J1d+BW1eSsxk4Q3BP5jZCStv0puC6TrbVI91kYTjURfI2sVhIDITAExRsOPmvKgC62juFWzTBN8ltpgOP7gVODc+MSmmn5JA4wqpoIjmhwViPYYmgleVZMr4pLO9qMpV1uYqSkb75ZxLBO5RHg2F9mhXOAL730Ujn//PNl3rx5smqREPz222+XkSNHyowZM2QDUytatu0vvvhCcGxXClGQtbS0yKBBg2SPPfaQmyDFL4Lrxo0bJ/8vo/xlpwP8wx/KAF5cNKXce6/Nn4r9NZqNWfar0CXdZx2ajVm2+ySax6FIq15OszHLdo8W9XKZnLLuwK2qyVmNnXlvUPtLaRIRtgzIZGst0n32Q7SVGm6NvoYk9tp88yCqR4kHUekM6GLr7iJOAwUaVGg4NTg3LqHZmJXEAaZJnDJBjYZDx+I0qc1vOKu1Gg6NOM1VV4kg/1xEHgGO/sVWOAd46NChsvLKK8uf4WEtorW1VXr37i0XXXSRnAqxdwLssssuUl9fL3+FE7QI5w7wsGEygJepRse0JjVXAjuqku6zDi1qriR71O6Y1qTmst2nRcd0JqfMcKsiREHjSy2gyVnNfgy3KqVJRNgyILWtNUn32Y/hVtVgtklir3XWCVLmNPlRl5wBXqm5kqwTEQzEMHBqcG5cgmYsUzbnmporZp1dbI2qJvLAWpRzlEciIuJAnCa1+Q1ntRblHNz7iIhQLw6DSRG5Axz9i61wDvBqq61WKGOg5jeMwYMHy3bbbSe/hRfXEkSF+/fvLwcffLD8mhqkInCA+/TpI5999lmhxpgIMRHhb5k6IsvxTQR47k47yVqkXoiY0P3uEuEPnWtxhiTr1CTdZx1a4gxJ9qjNmQnzAzV+GuIMtvskQ0GqNYYzM7VTxhrMcwKPLNRHtYAmZzX7cficpLa1Juk+e+wu3Kqrrx40TfHeP+KITE9TF1trijMkWSkyyMgDa4iO0IxlGqfJVpiG6iTrS3FtF1ujqok8sAZnNeujjhu5ZZrtkEGvBQxntZboiHlOaJq86KLOHeYO8H+RA0zz2gUXXCBnhE44bG/HHXcUnON7SBVZ4pRTTpFrr71WqA9eh0hCEYcccojss88+QuMb/8Z8zPuPf/xDVomRqKXRjv8x+OCDD2TrrbeWOZttJgNeeUXaTz1VllDr5BjNq68uPT7/XNpuvFGW0hVdAzQccYTU33GHLPnhD6Wd6JBjNG27rdS9+qq0n3mmLOEPvAyUs0ydOrVQ390Mm4IC6i+8UBrGjJGOzTeXVrh6HaPxJz+Rnn/6kywZOVLab7jB8eh2w/W87TZpHDVKlq28srRE8IJmsXX9mWdKw+WXy9Ltt5c21/XwdluUumeflaaisMpimv6onXOInr/7nTSecIIsW2MNaUHiNQNS2/qDD6RXsX675amnZFlZo2+GJRVurXvsMWmiAY06ZRo3a8St2tynj/RYvFjaJk2SpZQKZEC5rXvMmSPNRfaAlpdflmU16q9o2nJLqZsxQ9rPO0+WuG5m7OiQXkU2gta77pIOw8WbwY42t5bbuvHAA6Xn/ffLkkMOkfaMzYyV5m8aPFjq5syRtnHjZCkBhhqg4fTTpf6qq2TpkCHSRkbYMRr33Vd6PvqoLDnmGGkP0S++9dZbsvHGG+c0aBXsvcJFgHFEL7zwQjm9jEJphx12kDXWWEPutmwSMHXDEyZMkGOr8JG++uqrhQY4GCNOo1YpAueee66cd955Xf71n/36yYbvviszR46UWaR+HWP3ww+XXgsWyD+OPlrmElmrAbYeM0a+8cILMm/XXeWVUP2Rq6Xs8ItfyKozZsjs739fZtAUUgMMvvFGWWfyZPl4o43kGQUGg82vvFK+9be/yfvbbit/Lzvg+druwClTZJPrr5cvV11VHk6QTbFd33p/+INscPvt8tmAAfJ4KOtie7+L61Z7+WXZrkgLNvmuu2QZ8tYOsebUqbLl5ZfLkuZmuR8xkRrgq++9J7sUP/SPTJggXzhmh1l51iwZWnwXPnDzzdLmUrnL0l49li6V/YpO77M0RLtU1hKRxs8+kz2LzURPjB0rCw0HuOX6XF2226hRstLHH8uro0bJnOKhw9XYjLP3j38s9S0t8uLo0fIeTYU1wPZnnSV9X3tN3tp3X5meMZJfafnfPflk6T13rsz8yU9kFlHmGmDTCRNkwMMPywdbbSUvwILjGFtdcol887nn5J2dd5ZpJ57YOfonn3wiRx55ZO4AV7D3CucAuyiBePjhhwsR3pNOOknGWnYOU2IB+8TvYzThoyLAc9dcU9Z67z1pGz9eliqQ/zdttpnUzZol7WPGyJKMdXBp/yYb99pLej7+uCw5/nhpt7Rpkrka999fev71r7LkyCOlHfGCMqSOlCVYRMOxx0r9zTfL0r32kra77kpwp92lDaeeKvXXXitLd9lF2qDMqQHqx4+XhrPPlo4NNpDWiPrVLLbuOWGCNP7sZ9IxcKC0Uq9WA9Tdc480HXSQLGtulhbX0rJER++/X5qKB93FlCJkYAtJa+seL70kzUUO58XUyLok3ReRHjNnSnPR4WyZPl2W1YJbdeFC6VXk4m595BHpyKie2MXWixdLr6I6Y+v990uHS+nzBM9985prSo9//1varr9ellIq4BjNgwZJjw8/lDaikwrOZ6Xlltu6accdpe7ll6X9jDNkCWwQjtG4yy7S89lnpX30aFmiELywWW7DwQdL/V13yZLhw6U91HRvc6/NNQ2jRkn9bbfJ0v33lzbKSYrII8DR1lvhHOCsTXAvvPCC0Pj2ve99TyZNmlRghrDBhhtuWEgjxDnA5eOYGuB3VllF+qNvrsXvagjveXFUiEDb7C/zNfCBIlmsQbrP4qoQ3qeulUyycbMGmCBCL5gkQ8ReS1RgzBgdwnvbRZo1wNdL3WEFZLK1JuG97R41OatZg0Nu1dS2fuyxQKQCuCbdZ8zuwK3qeA1dbE1/RUODCJSH1MbD4lMLRPC7OlsKkW3oNGnSSthEnnYNXWytyVnNImmuo+yAZrtrrkm77Gz3Gc5qaBJp+HMNMq/0GNFLEiqxyGuA/4scYGjQqMmFBo1GNXDnnXcWxDDiaNC4bubMmbLTTjvJlltuKX/5y18Kdb02eOWVVwr30HiXhBqt0wFubJT+bW16Cl9G8hQi8csvt9mS+2ugn0MeWIN0n9Ua6dX99hMJMYCYjaR2FJJYQvsFpil5artPUmd0msPXS+e5awfYSJ5SM/rll7arcnudJmc1K3XIrZr6uZ48OZAp5oCPA2d50Lc2dHfgVnWs8FXR1vR8sNeJEwMWH9+IUfhythQi+ahc0qQFg4kHdLG14aym/hdRE9eg7AFeZw0mJtu1Gs5qaBKhfHMNmiQhByATEupRyR3gaEOvcBFgI4QxYMCAEiEMmBrCQhhHHHGE3HLLLbIEDkChUfijghOLAAbXwe5g0NTUJJvDJykcgsfL22+/LUSaKbegCQ56NVTmpk2bVqBgs4VxgOeLSEGBm1MZpzPXwCkkZY6TWKPmqQIfKPLAWi8wnHtqRiOkV1M7Ckl+C+0XGGpPqD7B5zh3bpKVubsWBTq4RuHrjWgozWRrmB9Mo017u4jj+lsrQ5ACJVOhQbrPAhxyq6a2NRkK0uV0+CNv7RrdgVs1zFkNEwQqlBlQ0dYw/xBpJmpI9NA3wpzVyCAjh+waqFuickn0lyiwB3SxteGsRsxq5Ej3K6C0g8yPBhe/7WoNZzVZWoUyjwLzw5lnimy8sQhMN0XkDnD0D7TCOcDB92VWQantqaeeKghbEP0lMhyWQj700EMLDvAy0liFrOTj8r8RNVyoys0tOhxEhml2Qy75888/l759+8qee+5ZaLz7RsI6ui4O8FNPicD16hq8MFCZIUWfUXo19dLgA4UBQ+sFxgsDBg3KPV54ocsyUzsKSTas/QJD7YkGP1gJ6KyvBQ44IFCbiiHdz2Rr/gaKtalCWVCCA6Uzc9BAS6ZCg3SfRTrkVk1ta1KsOGxE1mC60ECtuVXDnNWLF4tkZH+paGtYIIg0X3qpSEwDtIZ5C2OGOaunTxcpslI4nQ91S1QujzpKBLEGDyixNb8btIt8q7WoPOmNIfOjocZqay/DWU2WloCOa9Abc9JJIiiKhthncgf4v8wBdv3caI3XxQGGVxK1L9cgZcSLixQ9LzLf8MFFTMqIDxC1Ysj1liG1o5DE5rhrzAAAIABJREFUVtovMCKudLVTmkPJTC1guIhjSPcz2RrVrmK2Rd55R6R/f/+71OasdsitmtrWVf5enBi91tyqhrOaLAJ/LxnLPCramlp4DtxE1hQoLKv+DmHO6nnzRBJy0VcdnwvoaSBwMmJEEEjxgBJbU6Lzta8Fs/7tbyIazYb8fkRI6VUhc1ALGM5qsrRka12Dxjo4jlHIhfO4iNwBjjb0ChkBdv3caI3XxQHmVMbpzDXghiR1RYqeVJZvhEn3tV5gRno1IqKV2lFIYivtFxgiGKZEBtWipqYkq3NzLfVjpFpjSPcz2RpGAsO5TWQtQrrczWYiRqEOkEyFFul+R0cQ0QKUJu2zT+rtpLZ1lYxJ6gWFb4RnmHcapUlEnnyDulwyFdTpOmDzqGhrauEffTTYXy1o+6jlJFMB2GMMD31q8xP5xSnjOfXEPlNia0p0THaVRuott0y9lcgbieBDLcn7hvdOLbDSSiJkKqBGHD7c/QpgJoJ9hu8G348icgc42tS5A+z+MewcsYsDzKmM05lrUFNE8wKRNZoZfOODD0SKdEQFJgiNFxgOC45LhPRqakchia20X2A4nobKidq/YpNnkiVmvpb6MVKtsFHgBFdAJltTq8lBAhCJISLjG9QBkmqlLlCB67iwHSJaHAyJqBFZS4nUtjYp34ia+ZTLKb2NGmoilERGibD5BnW5cB0TFSU6mhEVbU0tPKp3RNZgMPEN+kZgMABaNfPU/pKWRwUOBhMPKLE1JTqGY5lG6m9/2/0KzLNCxonMk2+Ea+bvv395H4TLdfz1ryJGB4CMSLHJP3eAo42cO8AuH8Cysbo4wFpRPV5evMSQC6YBxzfCTT9aLzAcFhwXOFV5mZSlO1M7Cra28vECw/HEAQXU/g0YYLs6d9cxJ84ETBARgiaZbE0EhIMEoIazqMjmbgMWIxnWFJzEX/3K4oYUlxDR+vDDoDSJCFtKpLa1afqBCQIHTgNEJolQUlNdJk2vMV2XMU1Ub8MNRRxwSle09cEHi6BsSWQNBhPfgLmATAV1svztaIDgCUEULYneCmsusTUlbUbEhEZqE0xxuVd+Q35Leg7oPfCNMGvK1KnL+yBcriOcLaCHpKhwmTvA0UbOHWCXD2DZWCUOsGZdJ+krPrJrrCFCNNY3wrRPWi8wSiuMs/TFF8udqOJeUzsKtrby8QLD8TROL5E14wzbrtHFdUSdSbXCBFFUwSofNpOtqRenZpMygVpxqxrebC3OagxmuFWRJB09OvUvk9rWhvYJJggFafLChgy3KjXV8I/6hqnrjOGsTrKkirYmwkz0kL1OmZJkODfXanNWs0qeUai5eGbfeMPNuquMUmJraqxhogA0Upt6YJcr4RBINJ/SJCLpGevFEy8tzFk9bZrIZpslHqLqDRH14rkDnDvAVZ8djQtKHGDNzn5qikizQu1G2tU3wsT/Wi8wSitMupzImkmj+3KAfbzAOLWbEhlO8xmVrVI9Bhak+6mdMrMgojDU/eGYKShbVd23Nuk+CzDcqkTX4FdNidS29kH8X2tuVepy6XyP4axOYvaKttZmDKm2QG3Oaua//noRxBnIWsBg4gEltqbGGiYKQENcBuXEyKWHGUPgH4fBxCfCnNVvvilC/bxrRDCG5A5w7gC7ftSsxitxgDW5XWF+0H6BxO2Yxgm4iDVfYKTJSHUCVItMI1VxXakdBatfUoLGCUNBRCOXhvQrdVum8Y16rt13t12dm+ssSfcz25o6POr+asWtqk26z6/hiFs1ta19lCdQF0vnea24Vc38MZzVSf4wKtpamzO62gJ9zE+dOlSaX/1qoBroASW2JjoLE4Xm/GHO6H/9SwQGE5/wMX8EZ3TuAOcOsM9HvXOuEgd4o41EXntNZx0wP5gUEpE1SMV9wscLFIfJUGZVSCGldhRs7eSYdD9yWhxgHGE6eqFE8wlL0v3MtuYgw4GmVtyq2qT7/GZ01NPskpFbNbWtTYMaDhTy1hpwHIFNvETqcvk7obYTDu2MqGhrHxHYuHX7iED7CGCU7bHE1mSCtCPQPgIYcb+jjwg0PUYmsg2j0G67FVaUO8C5A5zx1Zju9hIHeLvtRJ55Jt1A1e6C+UG7iSBuDTT6wEWsmULDsTeiCRWaCFI7CtVsa/7dMel+5LSUQFAKQWQNUQyfsCTdz2xrSlkoaakFt6oPzmp+M0qSKE0isoUqW0qktjUZCn5PHDjkrTXguAY38RLpeCdTQp0uKooZUdHWPmpw49ZtOKvZKyqKGgiXsBEBJhKrjBJbkwnSrkEOl7DBRc4B0ScMZ7VmDTLvNkrYaNiGU57MSO4Ax/7KeROc4h9BiQNMOpuXtQYoCdCmkYlbNxzEcBFrNlFQG2ZkcyvQyKR2FGx/D8ek+5HTGhYGahuRRfYJhFpMc0YM6X5mW9PMSFOjJgtDlN18cFYzt+FWpTRp8uTUv2JqWyMLTEQfBw55aw04ZmFIvERUNQkqwO968cWJby+/oaKtDQsDkTVqR33DcFZrslCEm5ipAU6oeJrGJCW25jnSZqEINzE/+eRybuU0i09zj+Gs1mahoNcIlgsyImRGcgc4d4DTPK8u7ilxgElnk67TAE1h2kTiceumyef88/VpdGJ4eFM7Cra/h2PS/chpLXh4bZec+LqwTHEM6X5mW/vg4Y3avA/OauY23KqUJj32WOKfwtyQ2tbQZlHTjQOHvLUGYH6AKq9W3KqoalJWhsLXL36ReYcVbU3Uda+9grG1eHjjVm7+VjR5iMM0lrBAmGBKZotGD1BiazIJUHlm/FuJXW6YxhI2D8OtrLjHkqF9/a3QawTPMRkRMiO5A5w7wL6e8fJ5Shxg0tmktTXgK6oVtXZonuBT1XyBMbdRYkO8AJ7TEFI7Cra/h3mBOSLdj5zWQonNdsmJr7P82Ge2tbYSW9zGfX3sHR0KU9k63EyJkIJRF0z8QFS5wdehMGoZqGrOnRswQTjIllS0dfhQSGTNlGG5tmXUeCZboqlER9SXxlDw4ovLy+kU91hia/YGlWfGbEnV5RLFp072978PuJV9wle2hF4jOLHJiJAZyR3g3AH2+ZyH5ypxgHlB86LWQLiukXSrYYTQmKvSmKNGBYpa2i8wmB9gYMDZJn3u0wGG6B9lNJggEKzQAs4KDQxE1hCj8AmI/pHorEK6n8opC+/jmGNEfvOb2nCr+kr3mrIgVK0Qh0mJVLb2RafnqywoynaO6+Ur2jpcFkRkzTTipvw9E9/mo16eul/TOE22wjRUJ16s/Q0ltia67aBevursMD+gxoqiH3P6hK96+W23DRQ2yYiQGckd4NwB9vmcRzrAoQdSZT2ms52GGxpvfOLHPw5O1RkbfqouGalnGhgot0DEwKcDTCc98sC8YJAs1gKlMjQwIEKBGIVP8GE48kgR6keRLI5AKqcsPNZpp4mMGxfU4VGP5xO+Gn5MYyiqVojDpEQqWxMVJToKNAVVfDWGRtnOMWNKRVu//fZyzlYia4aKMeXvmfi2DTYIDlCajCmI0tCcBWCEgMFEGSW2pr6Zvg6YIDgYawHuXX7PX/9ahKizT/hiTIH5gb9LGl9pgM0d4NhfOW+CU/wjKIkAh1ISKlMablNeILxIfGLvvQOVJO0X2E47iZCSpOFu7NiSHaZyFJLYiBcKEVleMERotUCpDA0MmjXjUWvnw3DKKQHHMZH2CGS29QUXiJx9dtBwB6WdTxjKJ5SgaKzUUoQy1ICoWiEOkxKpbE1dLPWxAGeYukANPPecCOw2gAMTBydfUODMrmhrIoaGM5bImhHj8bXPfv2CA5Q2ZzbPKaV0PLcwmCijxNYwXMDsAxMEB2Mt8L4hos/7h4isTzjmrI5c+g9+EChs0vhKA2zuAMf+yrkDrPhHUOIAh4rSVaYk1Up9Iy8QXiQ+MWRIEMnTfoHRjEKdKil0PgghpHIUktiIFwoRWV4wd9+d5M5k11Iqw7OiyRoStSLjmEIRRKQ9ApltbRxtIjKoIvmEI8e06pIpRfre9wIHO4OjncrWMCPAkAAoh6AzXANERKk5BETWTNRZY67yMcNlHuzXOOIZ5q5o68WLl8uuE1kzcuwZ5kl0a+/ewQFKWzWRTAUNomQuYDBRRomteVY5CMMEwcFYC0YchgwUEXWfcMxZHbl0MofU5tP4SgNs7gDH/sq5A6z4R1DiAIdoSVSm3HJLEeobab5BftUnYkoTnC6D+lTqVJHP5YMQQipHIcnieKHg+GqXJlAqQ7ZAkzc6at+WpQmZbU29OHXjRNZQZfIJR6UJVZdMLeXOOweXEVlDpjwFUtkaukWiaoBIaUNDipktbqEm1kSXiayZqLPFrZkvCZd5EPE2jniGgSvamv4K7MchhsgarAy+wNxQP1KigFoaByotwPwAnSa16zCYKKPE1jw3HIRhgiADpQUf8uBRa3fMWR1pIpgfCA7RS0IDbO4Axz5NuQOs9ccmqL2+K/3795f5ItIvREytMuX//q8I9Y0wMlx2mcoUkYPGNKc5XQj1qdSp8iHggxBCKkchyeJ8NadRZ0y9saZyYNS+LZvTMtuaenHqxmvBreqoOa3qo0M3/VZbBZcRWVtjjaq3VLogla2hWyTiRI0sXe9agBXBRJcpTTJRZ635wuMqlHlE2nqVVUTgkSWyBoOJL3zxxXJRikcfXX6g0pgfISUElTwFUEpsTeaAg/D11wcHYy3A/EBUlN+Q39InHHNWRy4d5gei28zH32TuAMf+yrkDrPhHUOIAP/ywyK676s22335BAwMvEF4kPhFDT+Z0GTA/UNhPZI0PQgipHIUkiyMiS80jTBA4qVqgzph6YyJrRLl8gsg6TZRE2unKjkBmW1MvTt04gJ/TNOD42KuhJyNjghqdFmhcooEJUJq07rqpZkpla+gWqTmEJYEaVi3Ai4vyFKA0yUSdteYLj6tQ5hFpa6gPURKDChFlNl8I87u/8MLyA5XG/DA/PPFEEP3lkKiMElvznCIycscdwcFYC1BnUhdLFJ9ovk845qyOXDrMD9Q3Mx9ZmdwBjv2VcwdY8Y+gxAHGedpmG73ZYGAwLxD+6xNGoEKbXxHmhwsvDBpRaEgJIZWjkMRGhl8R5xcnWAvUGVNv3KdPoOTlE0TWqV0l0g4vZwQy25p6cerGAZE16hx9wXBWkzFBjU4LNC7RwASIrFEmlAKpbM0hkcMikTVqczXhQ3Cj0voVyjwibQ314YwZukwMlfYYVvicOVNk/fX1fkkoLO+7L6j/pUxIGZ223mUX6UUDHmB+czDWmN8EUKjjpp7bJxxzVkcuHapVGCdCf/uzZ8+W9dZbT+bPny/9zDvJ59678Vy5A6z445Q4wNoUOjAwEPnlBcKLxBd8KuzA/HD66UFkjQ9SCKkchSQ2Mgo7RGjh6NUCdcbUGxNZQ8nLJ4isU7tKHR71eBHIbGsa7IxDSGTN50vZlNGQMfnzn/WsS+OSceyJrBmHP+GMqWzNIZHDYigKlHBa+8t9SC5XWo1CmUekrQlcEIElskajqC/QGLbFFsFs7767XKxCY34TQIEBgkZRZXTaepttpJdRMc3wd2K1XMPFWyGAYnV/loscc1ZHLoUIN5HuUPYnd4Cjf7jcAc7yUFe5t8QBnjdPhFSaFmBgoPZ36NCgFtgXfGqsX3ttkILEYcJxCiGVo5DERkZjnQgtjXBagGLNKHfhAJsUs9Z84XGpWaV2lU5sOrIjkNnWNLyYkgAOMqZUwMceTSPlyJEit96qNyNNUzQwgQyRrVS2rlAHqLZRE9ki6kzpji8olHlE2prSNUquNNXYKtkNajDe5+Czz5aLVWjYmMgvWR84gCmlU0anrTfcUHoZ6eUMmRKr5Ro1tgoBFKv7s1zkmLM6cinUOFPrHKr/zx3g6B8ud4CzPNRV7i1xgBcsEKGZQgs4LLA/EDGADcIXcESNY09kDwotLeCw0MBAZA3HO4RUjoLtOunGxhEl2k2EFio0LYRrGymBoBTCF0ixvvFGVSq9zLam4cU0hWnXNpbbzlDpHX20CAcqTcD8kLG2MZWtTSc4NbnU5mrCV21j+R4qpHqzbjPS1vvvHzTdUldNE64vIA5hRCk4UNXV6c1M7S9ZH08BFGPrPb71LWk2UW5KPmio1gLsCPxtoOYHg4kvKHBWRy4d5gfYLkCRASZ3gKN/6NwBVvwjKHGAaRgxESGNOXl58RIjskbTjS8QwaNGDiCegIiCFvgI8THiQ4AzGhIxSOUo2K6TTnoYCwARWsQwtKDQ3W69VEsxlcy2xik0tGDa3e3lm48RU7G2k+2FOPk4+0TWKL1IgVS2PvjggCYwxAWaYmq7W3x1t5evxjT7bLxxoHbnAJG2NvaEWQMaRl+gEZWSBP5WoNLTBMETgiiwQZAFUkanA7zKKtJsotw0/dFQrQX+JvgtV15ZBAYTX1DgrI5c+tNPBwqboBh0yx3g6B86d4AV/wiMA/xOU5P016QjYg/U/1IHzEcX2iVfoBkNeWCgrQaFs2SYNHCijFMqIqkcBVsbhdWgkEE2+7W9P8l1Cvym1tNbymlntrVPftPyzRs1qApy2tZ2sr2Qw2hGftNUtq6gBmW75MTX+eI3LV+YKfPYfnsRPvoOEGlrnxH18D44OFGa4OOdTvkcZXSUI5AFUoax9bCGBmkyjW/QvtFQrQUTQIF1hoCUlgpk+fp9vtM5DJosbLHsMneAcwdY608qdtxOB/h//kf6cwrUBMwPNDJ89asin3+uOVPp2HTTmogoqkl0hWuBdLlh0iCyZiRKtR1gOulRLQPTpy+PeGvs02e0ILx+nFI+DPwXJgi6wiOQyikrH8uXwlX5vPyO/J6/+lXAlKAJUrsZFa5S2Zq/R/4uqcmlNlcTRiCGyBpiP75QgfA/69SRtqbxlgZcImswmPiCz6yeCaDQkPb+++o77HSAW1qkCeqzClk954sIf6vKAijO5woP6DOrV+FblTvA0b9uHgFWfPKNAzyvf3/5lnbNEY02xmnRrhcL2ww+RSJOlHdQc6R5qoYKaMMNg9mJrBmnVNsBhk+RyCHQbmak8c0cIqB6QhLZB0ixGjoimCDgBY1AKqesfCwaGaEKow6Xelxf4NBERB81OrqlNeFAIjyVrclQkJlBUAVGCE34kggv34NCmUekrQ2rRhWJcOdm9tnX4TmAYmy95yefSCPlQRX6Opzb02e2Mrx4Bc7qSNuEs5VF6tXcAc4dYOd/SzYDdjrA668v38J50wQUMsZpgYLJODOaczI2ijqwItDgR82RJsINd0TWjFOq7QCjqEPtKNBuZmQOGu5I0Wk33IV/K8pmvvnN4P9DDSC1gBFI5ZSVj0UnNmIRRNZ+9jPNp6Z0bMpmKEfS5qxmVlK7iH5kaLhLZWvDW4ukNqUCmiDKDDUgUWfq433BNKbhgEP95ACRtja8yvQ30OfgCz6ZfWB+gBoQeAigdDrAc+ZII7SLFZh9nJvZZ79KePEKnNWRtgn3qxTFt3IHOPpJyiPAzv/Klg9oHOC53/mOrKXdWADzA+pWgMiacWYU91cYGnUkeHFhgiA6qokYyrVUjoLtWumkhz0AaDczMgfMDzja2pRr4f3TOPntbwf/H2oADTVRBRs5sTVcnCixwVdLPa4P+OSsZj+kdnG0M1CupbK14ay++uqg610TRJkRhyHqTH28LxhqModlHpG2NtyqcB7T5+ALhtvdBzUZ1JmIwwBK6CilU4Sx9V6vvSYNvAN8UJP5ZCwK206BszrypwkzFt1zT6FpPHeAox/k3AFW/CPvdICHDJG1iNBqIoED43QZl1wSKKMRdaI+VhMxDkwqR8F2rYZbkdIE6py1MWBAcJjQFt0I7yN8gKIG0JDTV9irE1sb0Q3qcKnH9QGfnNXsB1lySi0yiG6ksrXhrKYml1IBTRBl/sUv/Pz9h/ehUOYRaWvff/9mnz7FKRL8/bt4nDod4GeekQayQD7EKXz//RtDKXBWx/4GZGPZa/HvP3eAcwfYxd9s4jGMAzxnzz1lAKlQTSRIYTtdhu8IUITscipHwdYQviNAvmSXw/sPR4CqlNA4sbWl7LLtT2R1ne8IEKndX/86iKyllF1ObOsKESAr26S9iCjzCSeIEHWm290XTJkHB3Ca1Bwg0ta+M0BmLz7liT0HUIyt9374Yakni+hDnth3Bsj8jgqc1bGPO9lY3nXY9dhj8whwjLHyCLCDF2fUEJ0O8AEHyACiCJpI0MTkdBmmBpCUJDVH2ohoYkrsKCRZp+8awO22E6GBgcgafKc+kKCJ0omtDzpI5LbbRFBmg+/UB8I1gGVNlCrTo6iHdC4KezCYpEBiW/vkrGY/RJkOPVSEqLM2003YfmUf+RSm7XJLpK3DPQDwx8Ij6wP0dJA5hN99/HjdGT0HUDod4HvukXr6SL7/fREaqrVhegDgc4bX2QcMZ7UPaXL2U3Y4zCPA0T9y7gAr/gF0OsCHHioDSINooqMjoLECVWisnC4DdST2RlMKNUfaMDRWRNaQJi0isaOQZJ2mC9zXCwzmBw4TRNaIHvhAgi5wJ7Y+5hiR3/wmqK1G8coHYmj0VKYfN07ktNNEUNhL2QSb2NaoB1KrCrQ5q5mDv/kf/lCkoSFggfEFk+bFeUId0gEibR1mgYHNByUxH6ARFXngc84JVD41Qd0vPOCgCguMi2V0OsATJ0o9zxC/Ib+lNkwABUU/vl0+oMBZHbvssvKg3AGOtlbuACv+ARgH+O1jj5WBpCO0AfMDkWAia9SP+QCnaIr8ffGAGiEDImtnntm5w8SOQhLbmBcYqldEg7SBQ8FHgcia9sHJ7CUBD6gTW8P8QFQLdo2pU7UtGowfI6SisgAcfBx9FPbefTfVFIltPWfOcjVGbc5qdgTzwx57BHsj+tzUlGqfiW6izAOHG7YCooZEDx0g0tZhbtV//nM5FaODOWOHoBEVeWD+TogCayIcQIERwkgwK81pbL3PhAnSk8P+sccGKXttRARQVKdV4KyOXW8ZD3juAEdbK3eAFZ/8Tgf4tNNk4KWXKs5UHBrmB1JZ110XKAj5gG8lKCNlS2QtZNPEjkIS2/hWgoJWjmgIjjCHCx8wSlAWUtpObA3zA5GtzTcPolw+4FsJ6tZbg8gWkbXPPku1w8S2rqAElWpi25uIMqPGBog+w2CiDRpRjWIY4gbUjzpApK0rcKs6mK76EDSiIg/s631uAii33x5IMCui0wG+9FLpyTNEHTf13NqICKCoTqvAWR273jKKwNwBjrbWCukAz5o1S0488UR58skn5Stf+YqMGDFCLrnkEukVksaN2vItt9wiF198scydO1fWWWcdOeecc+TAslqg9vZ2Ofvss+Xmm2+Wzz77TLbZZhu54oorZBNS4AlgHOC3zjtPBlEPqA1orGhm8BExMHshKgrRt68X2J57ijz4YBBZu+aaTosmdhSS/BbmBcZzQu2YNqCVIxpCZI29+kAC0n0ntob5YfRokXXWCaJcPjBpUpCp8EG6z37+/OcgOplB5SqxrZEFRrEMUJNLba4miDJvvHEwA9FnGEy0ARXZ6qsHsyBuAIOAA0TaWsnhrrpkqMiQB/bgkBbW4jGAYmy971lnSR1KaZSZ0VCtDf42+BspC6CoTqvAWR273rLvVe4AR1trhXOAFy5cKBtttJGstdZactZZZ8lHH30ko0ePlmHDhsmtRFxicNdddxWc3TPOOEN23313+dOf/iRXXXWVPPjgg4X/2+D444+XiRMnymWXXSYDBgyQsWPHyiuvvCKvvfaarIEuuyU6HeDx42WQdgqLNcEDDJ2Nj5oxYwPUkYg6+XqB/ehHIjQUltWMJXYULH/DwmW+X2DQyhENIbLGy9oHEpDuO7E19GDQhOHIEOXyAVTnSLX6IN1nPzA/mOgkjoyJWibYa2Jb+yTdZx/Q9Rmnl/eAcYYT7DHxpYhRcHACNDbCIesAkbZWKrmIXbLnkoTCWjwGUDod4JNPljrYQ2g0pqFaGyaA4qvkgv0ocFbHmqksY5k7wNHWWuEc4EsvvVTOP/98mTdvnqy66qqFnd1+++0ycuRImTFjhmwQ8zLk3zbeeGP5QyiKt8ceexSivM/RdV/QkHiv4FxfeeWVcix/JAVe8M9l4MCBcuSRRxYizbYwDvCb114ra/uQezVdw0TWSGn7AOpIRH58vcCQr4WWrKxrOLGjkMQ2vl9gCAsQDcGZwKnwgQSk+05sDfMDaVacQpxDH4BvlEyFD9J99oPQh4lO4uSbqGWCvSa2tU/SffZBlLn4Hi4c1kw5RII9Jr70lVeC0hkA3RMHGgeItbVC013sksNNaVAUDh3qYIdVhvDYdGdsvd+RR0oPSmd4p6Pqp42IAIrqtAqc1bHrLetZyR3gaGutcA7w0KFDZeWVV5Y/k14sorW1VXr37i0XXXSRnBoRaZ0zZ44MGjRI7rnnHtmfiF4RlEQcdthhhUgyDvVNN90khx9+uHz66afyP6H0Ide8+OKLhSiwLTod4IkTZW1Hncqxc/vkjTQLoePc5wsM4QSc7TLeyMSOgu2PyHW+X2CGN5LIGocLHzCk+6iXwQgRAye2hvnBNNrAz2kYTDT3iuIUmQofpPvsA+aHDTcMdkSZh4laJthjYlv7Jt2H+cE0vhF9DmXSEmwz2aVPPikyZEhwD4T/lLQ4QKytFWjXYpeMGA3Nk4Cs3hZbONhhlSE80q51OsDDh0uP1tagtMwHLVlEAEXVuAqc1bHrLWMtyh3gaGutcA7waqutVnBQyyOxgwcPlu22205+S2q1AqZMmSJ77723zJw5U9aHlqiIv//977L11lsX6ol33HFHOe200wrlDx+WpWXHjRsnv/zlL6WlpUXqqOmzgHGAZ999t6zzgx9Y3JHxEp/KQWapqKP5fIFFODGJHYUkpvb9AvPtxGAL1Mro/qYsAUaIGDixNcwPJqpFg5ihYEryuyS91hyeUKGDEUIbMD8Yyqxp00RowEmIxLauxeEJBxiHYUE+AAAgAElEQVRHmOgzjZvaQFRo772DWRxKk8famoMMBxqHwhuxZkKO3Hyn6OugOVUbHgMo2PrhKVNkvwMOCHaF2AgN1dqICKCoTuv78FTGW587wNG/7grnADc0NMgFF1xQqOMNA+cV55gIbyXcdtttctBBB8kHH3xQUsf75ptvyrrrrluIKO+3334yatSogjP8+uuvlwyDY82/US7x9YiP9aJFi4T/MWAunOt/Tp4sA0mjK6Ph+OOl/sYbZemee0rb3XcrzxZ8fHoVoy+tf/qTdHiI/tRfdllBO75j/fWlNcQewMFk6tSpMmTIEGnGKXeIpvXWk7p335W2X/1KllIqoIy6e++VppEjZVlTk7RAvO8BjcOGSc+pU6X9xBNlSZUyHxe27vHKK9JcTJcvJjpqol2Ke2045hipv+UWWbrPPtLmo5nxs8+kV1FSuvXhh6WDhtGESGrr+rFjpeHcc6Vjo42kNaX4RsIlSnO/ftJjwQJpu+46Weoh09Xz7rul8f/+T5b16iUtDsU34mzdNGSI1L34orSffrosocdCGT1eekmaYbwRkcXQsCXoPUm7tIZDD5X6P/xBlvzoR9J+881ph7G6D1s/O2WK7IUgjoi0PvqodCAApIz6c88tSC93bLmltHqiX2z+5jelx8KF0nbDDbJ05EjlHYr0vOUWaTzmGFnWt6+0zJsnb731VqH0c/78+dLPUbmQ+iY8TbBCOsAXXnihnF4mf7nDDjsUHNu7Ixw/4wAT2V09VItnTkeTJ0+Wfffdt+DkPvXUU4VIcRg33HCDHHXUUQUH92vQxVTAueeeK+fRTV+GiZdfLl+nVlYZg2+8UdaZPFk+GTxYnvagINbwn/90vsCevPhiWeCoGSXOTEhKb3r99fLlqqvKwxHRftdm3nPkSGn84gt5+aSTZD6ytsroO22abF98jibfdZcsq69XnlFk6KmnyspvvSWvDx8ubyhTILGZr7z/vuxarLF/9Oqr5T8eXsxbjhsnaz79tMwfOlReRqZYG0uXyveKEdFnzzxTPqJJVRkbTJok6919t3y6/vryVIJ+hSzL2m3UKFnp44/l1VGjZI6JzGYZsMq933r4Ydl8wgRp6d1b/ooSnQdsf/bZ0vfVV+WtffaR6UceqT7jqq+9JjuQ7RKR++64Q5ZaMBxlXdSm11wjAx56SD7cckt5PsSxnnXcqPt7ffyx7E7GCe2NX/9aFnlgEFnnnntk8MSJsqh/f3nsqqu0trZ83GXLZN8f/lDqOjrkhTPOkA8op1PGN59+WrYaN06WNjbKfX/4g3zyySeF/qXcAe5q+BXOAe7OJRBREWDqhteGgFsZ9RdeKA1jxkjH5ptLqwf2gB7z50szncNw4D//vCzz0AHe8/bbpfHII2XZyitLC3VyRSSNlFn/FMuWSXPv3tJjyRJpveMO6fje96xvTXth3bPPSlORPWAxaXRtKisRadp0U6mbPVvax4yRJaQJY+DE1h9+KL2Kh8KWJ5+UZTTgKKPx+9+Xng89JEtGjZJ20oQe0Nynj/RYvFjaJk2SpSnKA5LauuGUU6SeSOyuu0obipAe0LTVVlL3z39K+3nnyRIETpTR8+qrpfG006Rj0CBphYbNEeJs3Th8uPT8y19kycEHSzsCJ8qou/9+aTrwQFnWo4e0IG7Uo4fyjCL1Z5whDVdeKUt32knaqOdWBLaeduutsnOR+aFlxgxZ5sEB7nndddJ4yinS0a+ftFJaoo2WFulVfH+33nefdFB+pYy6hx6SpqI4zOJFi+StefPyCHCEzVc4B9hHE9wRRxxRODW5aoKDt5gyC3UYMQMUhKgh0waqSBttFMxCmm7gQO0ZRSLEDBLXStquFHUrE31BschDKUuB+QF6OQDNFDVk2qAEgQMFH/cqZR5ObA3zAzynALowD5H1guocSn44aTBC+ADZJnhryVbQgJMQiW1dCxEVSlkQM4C+DwYTbaACCa86NdXUVjtCrK19c4HD/Uu6nGxjqKzO0VYrD4PcMpknDqMvvqg6Fbb++1VXyRCTyeVvxEh4a85suMBXXlnER3lZLURUeMcVy2dkwQKZ/cknst566+UR4ArP1QrnAEODRg0wNGh9iqpDd955Z0EMw4YGbdNNNxWuN4A/GG7hchq0q6++Wo4uUpf95z//KfABp6VB8+YAJ5CzdfKOgTrO1G35eoGh/ITUI/jyy07nNLGjYGuAWrzAfMvZYgvq2qFespDRdmJruFVhfuC/MLrQhKcNqLOg0EKFrphe1p6ywPwAby3CH1Ui65XWktjWtZDRpvafwyECLj7SyogYjBsXCH7ACOEIsbamXAceaRq1aNjSBupvfH8Qp3jvPe3ZgvE9BlCw9bSxY2V7nG6A2Ijj3o2KRvOtBlkLGe1//GN5w+0778jslpbcAY74C1rhHGAjhIFDGhbCgM83LIRBFBeKsyVQLBXxxz/+UYYPHy4///nPZbfddis0vqHwVkkIY9KkSQUhDDiBx48fLy+99JJMnz49lRCGNwfYRA2IrOHMaCPsjPp6gaH8ZOqoQk53YkfB1jbhFxjpVhghtAGtnImGEFnTrhsLO6OkzekGj4EzWxunGwEbD80hWZ3RVD+7kV5N6XQntrVxRk84QQRGCB/w7XQbZxRRAxghHCHW1kQqyRrQyEiETRuoeZKpoMSsrCFbbWqPARRs/dr558vW1KnT4wCLiIcyD4kIoKjZNOyM+srmlTndsxsacgf4v8UBZh84lCeccEKhWW2llVYqRH+JDIelkA899NCCA7yMj3sI/P/GjBnTKYVM41q5FHJbW1tFKWSix0lgaNC8OcDQWJlI2tKlgQSrJu69VwR6N58vMJSfjBNKZK1YR5rYUbC1Sy3KEaCVM9GQhx5aHvG2XXPS66gxNI2dFuUIzmydoOwi6ZYqXp+xHCHVGkzZRUrp1cS2JiNDZsZXOQJGOfRQEZrRcIShQtMGTBMcmhA1+P3vnc0Wa+syblVnk0YNBNMEhyYP5QidS4D/GypNDwEUbD3z5z+XLajFR2RkwQJ1kxYmCAdQ/vUvkdVW0523rByhsFdtlGUtZ//P/+QO8H+TA6z9/Lga37sDjGKQqaUkAmxqLF1tqHyciRNFqDn0+QJD+cnUxJLOLh5KEjsKtjahmZBUK+Al7eMFxqGtsVGE7AWsJtoc0nBeF+m6CuplVdgKnNkanlNq1UlnI8WsDVTnyFRQAjV8uPZswfh77RWkzI85RuSaaxLPmdjWNKKSqaAWFyfYB4g2X311IIKh3DxV2A4NPpTNUFPtkAkm1taGW5U+ByJs2kDQ6fLLRRCneOwx7dmC8e+7b3n2RzmAgq1nn3yybELUmfc50VEfCAdQ3nxTRLs5/cEHRchUAIec1bGm4h1nZNcfflhmr7VW7gBHGGyFK4Hw8Tfiag7vDjCKQcZ5oaHJODWuNlQ+zoQJQd0fZP/vvKM1S+m4NC4YVgTq/4rOaWJHwXa14RcYabqGBts7s13HHtkrkTUacDQBDy+Nk4B0a5HZI2pKZ7beaqug2YaGpgr0gU63zAfd0MmhQodj6gM42nAOw3dKA05CJLY1nfQ4E9Ti8rfpAzjapLKJPj/zjP6MMKSQqaCmmtpqR4i1NVK9ONzIPhNh08ZRR4nccEPgkHpi85AnnggcbkDjXQTdp4utY+s5P/2pbMjfBCIjNFT7QDiAklKcJtEy//jHIFNBRg/H1AcIoPCd4p13770ye/Dg3AGOsHvuACs+kN4dYGhdjPNCZM04NVp7vPRSEQRJfL7AiIoaJzSkHpTYUbC1iXmBoXYFI4QvrLVWcKggsnbccbqzIihiaMhouKHxJgbObE22gqwFnLxEuzSB2hyd3wACfNMlrTknYxvpVejzaMBJiMS2pjGYTAVCBmRnfIBo8y9/KUL0mZIhbSBlTaaCRkbKBBwh1ta+3wNwcZOpoCSBxlQfSPgeyLIkbD3/4INlPUpmttkmKNvxAaSzTRbPx3vAHJzo6aBnxRfYI3udOFFmb7tt7gBH2D13gBUfSO8OcFg/nsiaNrcqZOkIbvh8gfF7QUuGMxrSj0/sKNj+7rWQJWZt0MsRFbn44uCQoYlw5MdCltiZrRPIL2fevgNZ4lRryCi9mtjWlM6QavUlS4xRiDbD50r0GQYTbRhZYg7g1FY7QqytfWeC9tlHhEwFlIQeeIcLJkyYCcpidmz9/o9+JGtTdgG1JCwiPhAOoPjIBPkunTE2DMkvz95tt9wBzh1gH39dpXN4d4Cp+zUyzUTWhg7V3fRJJwWd5j5fYOyIxgXSkL/7ncjhhxf2mNhRsLUM+2Ofvmr/zLpgfqBh4xe/CA4ZmuBDwAcXWNT+ObM1zA8wl/z4xyI04GgCZUccJ/Ohh57MB4hS0kBF1JLfMyES2ZoSHTIVgFpcD9LkhbmINh92mAjRZxhMtEHJFQcaaqqprXaEWFv77gXg3U2Ektp4auR9IGEvQJYlYeuP9t1X1nr0UZH99xe5554swyW712cvAO9uAkWbbCICI4Qv0ChOvfMll8jsH/wgd4Aj7J5HgBUfSO8OcEdHwK0KYIQwTo3WHnE+iZDSlAIjhC/A/ECk6de/DpxTTQe4Vi8wuI6h7CGypq1aRqqVlOtXviICI0QVJHLK4saC5xS+U+RziQRpgpQ5TijgQx+SQ9ectkCdBYUWMuF8kBIika0//TSoUQXU4hqO7oRzJr6caPOBBwaNmzCYaINSFjIV1I9SW+0Isbb2zQZD9o6SBHhyYYTwAY/iNNh6wa67ypo8p/Q4eJK0LpjRsMFQY60ta032jkyFL/o885yQlX3hhUJp0uxDDskd4Ii/n9wBVnyxeHeA2QuNCzgxRNZwajRBcT+1cdASwQjhCzA/8EFCEaqoWZ/IUUiyTvMCQ+3Kg7x059JgfuBQQWSNOjJN8CGg6WaNNUQ++KDqTM5sTXQL8v0hQ6TQgKMJmqaK8tLCh950SWvOydhEKanh7tdPhAachEhk67lzl6sxvvbacpXGhHMmvpxoMwIRAAcYR1gLNPjQzMhhn5pqh9Lksbb2LU5D/wYlCfx9jB6tZc3ScT2K02DrRTvsIKvTiAavMw3VvmDEaeg7oP9AE/zt8w7wJaBi9kJWluj6SSfJ7OOOyx3giN84d4AVH/6aOMA0MOHEEFnDqdEE9C7Uxvl+gcH8gDMa4lZN5CgksQmd9Lyc99gj2KsvGEnbAw4IDhma4EMA7RJy3TRSVoEzW8P8QIQLhTaiXZqANotMBdzY1AH6IN1nPxmlVxPZGqeXVCvAYaMm1weI4hHhAkShDUuLxtyoP5KpAHzgd97Z2SyxtvYtTgODD5kKaMJGjXK2x6oDeRKnwdZfbrGF9IF1hgwJLCK+4FMR0reEtrEhZSUcEA8/XGafcUbuAEc8W7kDrPhHVxMHGBYInBiUhHBqNGEcUd8vMON4h7hVEzkKSWzi0xENr8un400nPWlWS0fUma2N401EhmiXJhBOIFPBB570uS9klF5NZGtUA8lUABy2olS8+lbDjjdRaBhMtEAnvSlfoabalLU4mC/W1r7FaeBwJ1NBbTw18r5gxGmQfaZESQnYum3DDaU3zws18rCI+AIZJyg0UdqjREkTxhH1kckL7yPkeM++6KLcAY74jXMHWPHhr4kDDA8wfMA4NEZnXWuPFUoRtKYqGdeUXoS4VRM5CkkW6bMUIbwuw63qo/SCDwEHJstSBGe2NqUXODREuzRBJz0HJj7wNFD5AlFK0pGA6CUMJgmQyNaoBpKpANqlCOE9hMsDtEsvUH80DYzUVFNb7QhVbW0YNrTFacK9HNTGUyPvC0acBseQ94ISsHXHwIHyFdTY6HGg18EXsCcS2jj4OPqa8NnLEd5HqPRi9pVX5g5wxG+cO8CKD39NHGDDrUrdGPVjmqjQjKY5XefYFbhVq3680i6sVi8wn9yqCZvRnNnaNN9Rj0u0SxN00lMywwceRghfyCi9msjWOGaUzPhqRjM29FkegPojmQpATTW11Y5Q1da+OJZ9s/mE7WfEaRxzLJf/RNi6bo01pAnBDXociJD6AhF1JLRhoSEzpAnD5kOEm0i3L4Sa72bfdFPuAOcOsK8nb/k8NXGAfXKrVqAj82Jlw61K/R8RNk0WCJ90ZGHj+eRWTUhHVtVRsH0IwvRr1OUaBhPb+5Nch9ocTZN84OmO9oWw9CrRSw6NCZDI1oaOjBpcanF9wWd5AKlrMhUAov/evZ3tsqqtfanshfncyeZtsYWzPVYdiHcq0suOVfbK58XWjb17S084q0N87lXX5+ICaqqR0OZbSW+AJkJ0ZIVaZ1/A2eYQs8kmMvuuu3IHOMLueQRY8YGsiQOc0JnJtP0KghSZxrO92XCrhpyZqh8v27HLr/MpSBGe2ye3qjk0QQlEWUIVOLM1PKeGq9qxM9NlC3R7Q5sXOjRV26eTfw9LrxK9pGwoARLZGtXAE04IanCprfQF2AOIOnOI0S4PIHVtSgIcH5qq2hqlu+nTRcjOUKKkBVQ8yVQA+jloTvUFWDWQXibLhpOohMWLFkkvc3gJKXoqTVc6LNlRJLTJlsIOo4mQIEWhWdwXQgIcs//619wBjrB77gArPpA1cYATprNTbz9Ckjj1eEluNNyqoXR21Y9XkvHD1/qUJA7P6zOdbaI+lpLEzmytmM7u8nPj3COc4iPqE548LL1K9JLG0QRIZGtUAxFO4dBGLa5PEHX+978DPlcacLRAtHD48KCWmppqh6hqa+rxaTTE+cUJ1gIqnhzuAYw+0BP6An0VSC/TZ0GZgBIWv/++9KIeHzz11HIWEaX5SoalP4bGX/pl4AfXhJEk1v67KN+DkWBedVWZ/cwzuQMc8RvnDrDiw18TBzhhQ1Pq7fOxM3RHKT7sqeflxgoNTVU/Xmkn9PVhL19fuKEJ2Wej8JV2H3H3mbo/ygSgJqsCZ7ZWbGjqsgWfdX/hycMHRaKXMJgkQCJb4/ziBCOAATWZT5iDIqU7MJhogUMMhxnKr2igcoiqtqbBkL9L9sc+tYCKJ9FJAKe7oX3Tmi88Lo2ivF95TnleldAya5Y0w1gEUEgz9H1K85UMS8Mv30nmh4ZNC+HMCEp3MEL4AtSZHGKam2X2q6/mDnCE3XMHWPGBrIkDbCitNttMBJJxLWRM7WZaFhEKIhUhSquqH680E/pM7ZavL0xpheyzUfhKs49q95jObxrFEKeoAme2VqS06rIFn53f5ZMb6VUianyUEiCRrSl/oAyCxk0cNZ8wpULa5QGUsZCpWHttkTffdLrDqramwZDMDNSIlChpARVPMhVwVSNN7ouzmv3QKMp7gEwFgQ0ltLz0kjQTgQVvv71cwEVpvpJh4cgnUwpn/nvv6c1I4MKwvjz88HI2GL0Zl48MZ33xsD175kxZb4MNZP78+dLPYdOoj21oz5E7wIoWrokDTG0TNU4KH4gSU2Vs7slkdmrUqFULiRpU/XilmdBnc0/5+qg1pObQxwciIfenM1svXrxckQ3ZZ6PUlua3qnaPT+7P8rUY6VVqKqmtTIBEtqaTHscM6j4cNZ8g6vzcc/rlATQykqlQOOBXtfWhhwYlHtr2RcWTXg5UPWFJ8AljX2rVKVFSQssTT0jzd78bjM5BuG9fpZkqDOvLvgQuyFQA/jaQJ/YFhKKK5Vaz//53WW+rrXIHuILtcwdY8YGsiQPMR5YuV4UUYYmpwvROvl9gdCkbBahiirDqxyvN7+yT3ql8ffPmLVfy0k4R0ozChxZKID68VeDM1kTYGxqCKBeyzyi1acGoP1HigQPlE0Z6lcMp3fUJkMjWviKUlda/++4iRLm0ywNMhHKnnURoonSIqrb2FWH3FaGsZDsTYYethBIlJbTed5807btvMDoH4eZmpZkqDOsrwk5km0AU+Oc/RTbc0N8eX321s+H2zSeekHWHDs0d4ArWzx1gxUeyJg4waVbqHRWaREpMRcSOVCtIQfCfyewVmkSqfrzSTBgm+CciC6WNLyxYsFzJS7NJBCe0vl4E8n0ogUi9VoFTW5smkYkTA6U2LdBJT8oc9TlS6D6RQXo1ka191ahWst0PfyhCnaN2eQCd9IgX7LWXCDR6DlHV1qbGGmpESpS04KtGtdL6TY01EVkCG0povfNOaRoxQpbV10uPtja/ZR7hGms4l1Hd0wCBCzIVgIAGjBC+EHK+37z/fll3771zB7iC7XMHWPGBrIkDHKYJgmMR50YDGSVeMy2pAk1Q1Y9XmglDp+gCrZSmxGv5+vjtoJYCmjRBCFCYDwCUQKb5JsZeTm3tiyaITnqapqB5o4nKJ0z5BfXV1FcmQCJbG5YCSPBphvMJX+UXHJLIVCiwFFS1tWHZ4CDMgVgLKHiSqfDBUlC+B0WWjfBUbb/9rTSOGiXLVllFenDY9wm4lU39MZzL3/iGzuyhMgRhjxz2fSFUfvHmH/4g6/7oR7kDXMH2uQOs+EDWxAEOE8XD1LDyyjo7nDQpoDtifObxiQpE8VU/XmnWRyf9DjsEdyIsYFgv0oyV5h7SgtQhaxLFI0FsPgAIRBj6pZj1OrW1L6J4OunJVKA+B42WT5gGvJ/+NOiwT4BEtqaTHvqziy4K6NB8AilbmBG0G/AokyFTocBTW9XWhmeZQxsRPS2cemqQqaBGlnIvn+CwTXQdKAZQ2n71K2kcPVo6+veXunfe8bnDgFvZMFAQTFlvPZ35Q41omrasuPhQA95bN90k6xx2WO4AVzBU7gDrPPqFUWviAIe5VXmx9O+vs8NrrhFBb5zxfb/AKkiFVv14pbHCX/8qMmxYcCdpOupVfYI0JHXIpCUPP1xnZsoCDNE+EsGGgD9mNqe29iEVSo2xyYTcd99yIQUdi3Yd1VCw/eQnAcdqAiSy9cCBgQDGlVcGghg+gdQrDBDa5QE0SpKpUFAqq2prGuBohCOSpxm1POqoIFNBjSwNvz5BuRX11UAxgNJ+wQXScPbZ0rHBBlJHQ7VPwK0MAwSgnO4739GZPURFVqhz9okQg9FbV18t6xx/fO4AV7B/7gArPpQ1cYDD3KqahfeXXipCqnWDDUR8v8CoVzWyuTQ07LOPVP14pfmd77pL5MADAw5eTtS+QSMKdcg0ppx0ks7sUOUZqdV33xUx5PS+HGAihtST47DhuGmABj+jOvXEE8uldDXmqjSmkV5N4dAkeq6hyiNTAQk+JQk+ccklAQOEdnnA1lsH4gWoQUL56BBVbU2NM7XOHKY061ZHjAgyFSkOTJnNEa5bVQygtJ92mjSMGycdW20ldT6lyTEQjdMwbAAi7IaNIrPxygYwYhTK9dSRyy5y2L996aWy9umn5w5w7gC7fsLjx6uJAxzmVtWkXjFyxHyQYITwDV5gvMigtBkxQscBvummIPLap08QifUNqIioQ4aa6MwzdWYPyxF/9lnArVwFVR2FagOE/x1KKRggiKxhbw3A9Wn4L19+WYSmNJ/IkNJOZGtTMkPkCUYIn5gwIWCA0M4I0UlPpgI1SMQMHKKqrWG5gO0CaDIX7LNP0OCXomQmszk8MRcsOe44qb/mGlm6887S89FHMy870QBERwmg8F8i7IaNItEgFheH5IgLXMe+URSnefvss2Xt88/PHeAK9s8jwIoPZU0c4DC3qib5NilI/sBJSRLB8w1SWKSyoAw66igdB5iaRmobBwwIIrG+AY8jjRRQPxFx1wAfWj64ANUyE1mPmauqo5BknbAGwABBZI2IuwZQeyJTAWbPFoGWzCdMUxOpVlKuCWBt63DTJLWHMEL4BL8hv6V2TwAONpkKSrBQLXOIqrYmoADfMdCkfiQiSaYiRdNkZnN44q5dcvDBUj9pkizdbz/pSU23b3DQp5SOkiQi7RqgFp/ABbX5RNZ9o9hfMefUU2XQZZflDnAF++cOsOJDWRMHOMytqim/SBMKKR6aUojg+QZNDDQzQBl06qk6DjA1jdQ2IkhBJNY3aEahKYUPPR98DRjaPNTKYISwQFVHwWKMzkuIGhI9JLJGzbUGSJmTqQAcmmCE8InLLgucGZptaLpJAGtbh2nzODTBCOETvAOI5nOAwhnXUi/DwSZTQRMuapAOUdXWlJSheAcoNaNESQMclMhUcHA65xyNGaLH9KRetvQHP5Ce994rS0aOlHpYPXzDBFBoSiXSrgFKBAlc0EhNbbVvFPsr5hx9tAz6zW9yB7iC/XMHWPGhrIkDzH4MtypNGzA1aAAaIlKt0BIR/fENaGygs+EDce65Og4wNY3UNuJM4FT4BmwFMEDwoeeDrwEjnIJaGYwQFqjqKFiM0XmJsTGRNVg3NFBBOEVjmsgxr78++MjCtgGDSQJY29qncEql9fvgBQ9zVkPDiBqkQ1S1NTWxhgpRU5yGgxKZCg5OqHr6RFj+XTGAsnS33aTnI4/IkqOOknqyeL5hAiiW8u+plkeTOIELGqkJZPhGsb9i7v/9nwycNCl3gCvYP3eAFR/KmjnAhlsV2h7+CDWAzjipVs3oZNy64auF0JwPxGWX6TjAPqKTcXuErxYGCD70fPA1YKSzKQvgo2uBqo6CxRidl5goO5E1KLw0UEE6W2OayDHvuCNIs8K3TNo1AaxtHY5OUm8II4RP0MhkpF7hWzYSsC7XAI0ddHaAulGjBulojqq2hhXBUCFqitNwUOIwysGJBkrfKDZPFWSflQIoS7fbTno+95y0n3qqNJDF8w0TQEEVEs5lDWA7AhfU4xMs8o1if8Xc/feXgffemzvAFeyfO8CKD2XNHGDDrQpxO2kYDUCVw0dAsz41bt0olsEAgZN4ww06DjCNWXwENOtT4/aIYhkMEHzotRpF6KQnio5iEYwQFqjqKFiM0XmJqbMmsgaFlwao8yOKTt0f6XPfgHrNNNpAyVZXZ70Ca1uH61Op44QRwidoTDNSr1DrGQlYl2sIN/haclYnmb6qramRN1SImuI0HJQoR+LgBIWebxSbp0QxgNKxySZS99pr0n7OOdJAqT3d41wAACAASURBVIdvmAAK71g4lzWw//5B4AJGFsoFfaPYXzFv2DAZ8OCDuQNcwf65A6z4UNbMATbcqpDhU4ivARwm0oCaDAVx6x45MmCAoEzgzjt1HGAj76rJUBC3R6IT2BdxCi2qIA4wpAE50MAIYYGqjoLFGJ2X3Hxz8IEg6gSFlwao8yNTQd0fjBC+QUOToVqyZNowS7S2dZihgDpOqPt8gsY0wznOQcpIwLpcQ5jiEepF09joaA4rWyMxj321xGnCFI+14KzGlmRjyCgoBlA6Bg6UurlzpW38eGmEJcU3ygIoKtMbikcaqWkY941iBnPejjvKgKeeyh3g3AH2+wTWzAH2wa1KhIdUqyZHbdzPdfTRAQMEjWL336/jANOYhWOhyVEbt0ccUxxUxCmIsGkAxxAHsWhHmymsHAWbgbjm7ruDFCGRNbhVNUCKFcos6v5ghPANGpoM2b4l13JiB9gXR22U7XDsjeokBykjpuDS1mGRn/nzl1PbOZrD6rmmtIMIu5Y4TQWRH0fbsx+GenwyCooBlGV9+0qPTz6Rtt/8Rhq1mtDidlwWQLE3ToIrfYj8xC2n2F8xb/PNZcC0abkDnDvACR5eB5fWzAH2wa1qPgQ0UcEI4Rs4NDg2xcil1ccr6Ro9fAhil2Qil4hT4DhpgNIASgSKkXSbKZza2kfkkhIPSj2o+4MRwjeorTZyq5Zqe4kdYENDpq1SFmU7H2p7YZn3hQuXi5s4+j2tnmvtg38FmXdH27MfxsPBf1lzs/RobZXWW2+VJpxR3ygLoKhM70vmPWrxRRq2d779bVnrjTdyBzh3gFUe88hBa+YA++BWhTYLzmFotGCE8I2y2lWrj1fSNZpUII1anKZ9w0ftKg12NIlxiOEwYwGntvZRu0qjJM1+1P0ho+sbNIUZ6rWEtavWtjZCFDTAwghRC9CgRqOaVu3qlCnLZawtOauTmMHK1tqlX9DkGTlyaB6NTHmSjWS9VjuAEuKsbv3Tn6TJMZuH1fbLAihW9yS9yEczetyaUNY86SR5Z801Za333ssd4NwBTvoEZ7u+Zg6wNntBuBmEjxKMEL5h2AuIyLz5pk4JBAIYOBM0amFT3/DBXoCQCU4hwibY1AJWjoLFOIVLfLAXZJAitt1G7HUZ2Ausbe1Lijhuozj5OPta7AXU3ZKpSMBZneT3s7K1dvMvQinU/INacFYzr3YAJcSm0froo9LkmM3D6jdP0fxrNW74Ih90pHGLKiqZzl95ZfnWwoW5A/zf4gBPmTJFfvnLX8rMmTOlX79+Mnr0aDn22GNjn89Zs2bJVVddJY8++qjMmzdPVl11Vdl1113loosukjVCxPiPP/64/C+RojIMHz5c7kSfPQFq5gBTu0UDgxa3KulH/rgBaUkUy3zD8NdSivGvf+k4wEggIzBAoxYfBd/wwV+LQARlAUhb81GwgJWjYDFO4RIf3KojRhQaJQtUZETVfSMDf621rRFsIVMBFRlR9VqAaCUMEFr8tdTdwvqSgLM6iRmsbK0tTgO1o/n+IPVuaN+SbCTrtdoBlNDffMvzz0uzEanJuu4k95cFUJLcanWtJz7l2LWgrHnggTK/oUG+1d6eO8AVjLXCsUA8++yzMmTIEDn44IPloIMOkqefflrOOeccue666+RIXo4RuPrqq+X666+Xww8/XDbbbDPBOT333HNl6dKl8tprr8lXoZ4RqGUDB/imm26S9U0qSmAVWlXWSSihWjMHGOcXJ1iLW5UGFNI7QKvju9pbxiiY0ZX95Zc6DnBjY6BqRaMWaUHfCEeDqA2EH9Q16KSnMWzs2KBRzAJWjoLFOIVLfHCrIvWM5DPNNtRV1wIpFcysbX3SSSKkPHfdNWjcrAW0FcxouIW2qpj1cb1FK1tri9NA7QhDAUp61FVrKerFGU9bnCaU9WmZMUOaHbN5WD0XZQEUq3uSXORJUS92SShrDhsmdI/0F8kd4ArGWuEc4D333FMWLFggzz//fOd2jjrqKLnvvvsKTm1dBMfmJ598In369JEeoRfKq6++KptuuqncfPPNckgxwmcc4L///e+yJU0zGVAzBxj+RpgLtLhVfXB+VrN7uB6wvV0Wt7fLQw89JLvvvrv0winOitZWkebmYBReJDSG+Ea4HpD/3TRSuVxHv34BNRiKRTBCWMDKUbAYp3CJD27VoUMDijfkiGHWqAWgCKORMYGdWaa1rQ8/XISUJ9yjMELUAlC9QfkGrZWGuAGUgFADJuCsTmIGK1tri9NA7UhT2Ne+JrJoUZLlu7tWW5wmVPe/eN486WWCKe52UH2ksgBK9RsSXgFTiBGDYb9GJCbhMJkuR1lzhx1yBzjGiCuUA9za2ipf//rX5ZJLLpFTiAQU8cQTT8h3v/tdefHFF+U7hm7I4slZtmyZNDQ0yAUXXCA/LzY5/Vc4wIg3wF2rxa3qQ/Wp2u8X7gj/979lcVOTWwcYTlojJsCLhHIS3wh3hBMNTvBsWy81RWTSylGwXoCIaHOrbrFFkKmAcB9GiFoAkQgOjtTqnn669QqsbX3ggSKkPFGf4u+/FkDsA+7ao44KKApdIwVndZIlWNmaWnk4XbXEabAbDAW14qzGYNriNCHml8ULFkgvU06X5MfKem1ZAEXq67OOWHo/FKFGDGb6dBEYIXwDZc1NNskd4P8WB3jGjBkyePBgeeCBB2QY+tpFfPzxx7LaaqvJpEmTCmURtnjmmWdkhx12kHvvvVe+//3vF24zDnDfvn3l008/lW984xsyYsQIOf/88xNHFmsWATacoFrcqqiSkWoFNPi4iLja/mjmujAn6DvvyOJVV3XrAKNKZuRkeZFQTuIbYU5Q6oGNmIKrdaSsTbVyFJKsUZtblcg5VGRatak2eyUCxMGRWt0LL7S5o3CNta15H5KpoBcCRohagBprGCCouSaS6Rrs7dprE3FWJ1mCla2plef30xKnqTVnNQbTFqe5995CSVlHz57SumiR9KKp0TfKAiidHNau1oFIlBGDoZG6FlHuOXNEBg3KHeCY33SFigBT77vjjjsKdcDbQjJdxJIlSwqR3CuuuEJORHXFAu3t7QXnd9GiRTJ9+nSpL54Ap02bVmh2o86YVPrf/vY3GT9+fKFhjjKLODAW/2PwwQcfyNZbb12oMV5bQxo0YjF1dNYWpVcXU2PpWBWqbvJkafrxj2VZXZ204KTVoE6tx9tvS3PRKW156SVZPHCgTJ06tfC7NZvSBYvnIOqSHtOndzZntLz+uiyrxQuso0N6FWvTW//4R+nYe+8MO6pw65dfSq9ilLt1yhTpsHSwW1panNq6afBgqZszR9rGjZOlxx3ndo8i0jxwoPT417+k7eqrZSmlAjVA4957S8/HHpMlxx4r7QnKA2xt3bjLLtLz2Wel/dRTZQmlAjVAw/HHS/2NN8rSYcOkTaEMo+GII6T+jjtkyQEHSDu8x45hY+v6yy+XhjPPlI5vf1taLaXDkyyz/sILpWHMGOnYYgtpRWq+BqiDmuwnP5FlDQ3SoiAd3vO226Rx1Chp++pX5Yt33nHyvk5qph7/+Ic0F7N6LbNmyTJKwRyi7tlnpQmGHQ6xlJjVIsr9ySeF8pK8Bjj6h625A/zZZ58JjmI1DBw4sFDigAP83HPPyTahmhrjAF955ZVyArWvFvjpT39aiBjjNFWr9Z0wYYIcf/zxhbpjHNoo0FR33nnndfnn3/72t4UmOl9Y5Y03ZEgxzfrAxInS9vWvO52632OPyXeuuELaV1pJpmhEeixW27hwoexJmYeITB07Vv7tuD52lddflyFnnFEYf8rEidLu2IYWWyxcsvePfyz1LS3y4imnyHvUsjpE08KFMqxowyfGjpWFjm1ou9Tvnnyy9J47V2aOGCGzaDJyjE4bnnqqvKehUGax3q0uuUS++dxzMm+XXeQVy3eUxbCdl3TacORImUU5RA0w+KabZJ0//1k+GTxYnlaQYN96zBj5xgsvyLxdd5VXakFLKCIDHnhANr3uOlncp488BCuFYwy+8UZZZ/Jk+XjjjeWZGh1k+k6bJtsXv2N/4eBNJtEhBk6ZIptcf7182bevPHzDDQ5Hth9qpQ8+kN2KPQ9/u+oq+dzIeNsPEXvlai+/LNsVWXUm3323LOvZ09HI9sPUtbfLvgcemDvAMSaruQNMA9phhx1W9VclMtvY2OikBAInlbrfe+65R/aj47YKTInFNddcI8fENAp1lwhwDzpriw18dNkug8/WIXpef700nnyydKy5prSSWq4FFi+WXtCUiUjrfffJl9tv7zQqWffII9JUfDYWQ/sGI0QN0DxokPT48ENpu/JKWRrDcpJmaSVR9JdflmUh1pO48WwiZUnW07jrrtLzmWek/ZRTZIlrxykcRb/rLumAxqoGaBg1Supvu02W7r+/tCWgYrO1ddOGG0rd3LnSNn68LK1CCam1/fqLLpKGiy6Sjk03ldZnn3U+TeNee0nPxx+XJccfL+2wljiGja173nGHNB5xhCz7+tel5cMPHa9ApOG446T+pptk6V57SRs13TVA3fPPS1ORim0xlGWOgzf148dLw9lny6L+/WUpkVgHGbvEZvroI+lV/C62PP64LHNMxVZ3zz3SdNBBguJdC1SaNUJz797yXnt7zgIRYf+aO8BJngsXTXA4sccdd1yBNg32CBvYOsDlY9WsBlibW5WPDxFm6GtmzLAxoftryngWFw8b5rYGGOqzAw4IHF8YIWqFb39bBEUo2AtgMXCJcB011HaWaUCrWskk6zTcqjT/UOPpEuE6ajhWHUfRrZdquFX32EPkwQetb7O2dd++Ip98IkJUskZlHnL55QEDBHSRGgfjFJzV1oa2rbf+859F6BeBbQgGE9flX7XmrMZgNG1tvHFgOpq5TC9EEmPGXVvkrF6w3nrS65VXEvfWOFkGKqam9viRR0SK5QpOxmaQG28M1DU5PMAIUSv06SPvLliQO8D/DQ4we4AGbeHChYU6YIOjjz5aJk+eHEuDxrXU9o4cObLA/3sWzQyWQECD2uKk1Gg1c4C1uVVNIwgfpBAdnaU53V0GywV7veUWWXzggW4dYNMIQpQZx6JWIJL/0ksB/VOF8ppMywo3ghDl7t3bajhrp8xqtP/P3nmA21FVb3+lJwQpIk0CJFQpEQFpAUMnhPqnCkYFQlcBDVVCCU0CovQqVYqRIlKSEDoBQlV6IgkthmYoUtSbnu/5nTk7d+69Z87ZbWb2ybfX8/Cg3Jld1uwz8+6113pfSdS9UPmC/umWW3Tv0rsuzaSBH2GEKMMUt+qAASJPP609Am1f582koTNixa2ak1CFKCYNA85qnWGra7R8jWqiAkt5CFUoJo0yOasp2lKnhhRzffe7Jm5sfG2Vs3r6euvJN555phwATACF1A64linKqxbBNx685hUwhcAYwuaBTURZ1revvD91agTACwsAVkIYBx54YAXMUhh32mmndRDCQLRi5ZVXrii/YVClbb/99jJgwIAKjVraYHxQRWqwSHDvBhtsUDmaoQjuwgsvrADvv/71r0bLuDQAnDe3at5UQLpehueYaPdll0nL0KF+AXDeVEC6c+QoksgltH9E2HxamgqINaOZp6YFFEzGqbhVSTkhwubT0lzKRNJRKyvDFLcqkbVXX9UegZav8/69645WcavmJFUsikuZUwJOCzyblq9RTVTH5XlIFSsu5TI5qzmyr6aXCYV4m2/u19NVzuoPN91Ulnz00XIAMDNSUsUUVP7kJ37nSCrXKackmwc2EWVZ//7y/uuvRwC8sABg5oEU8sknn9xGCpm0hrT17dtX+AdaMyyrQI2/IYJBLjJ27rnnyq233lqRSyblguK7H/3oRxWeYHKQTaw0AMwg84wI5U0Gr+tkWCBQFTr3XGk55hi/ADhvNT3dOQIKUYfC574LRizJ4LWAgu78uA5wj8oXYJ8Im08rQk1PZ7yWGyotX6dPfMqSJk9ezCKKqcRgQ6Xjvso1FpzV2m3rpkCgmqiUy/LYUCk1PU57OPUpw1C/VN+6sWMramJercpZ/c+tt5alR48uDwDD7EPqF7SBvvPmKaA+77xk81ASm0flmW22mbz/7LMRAC9MANjrjzHHxkoFwHlyq+YtB6r7TKCxQWXn5JOl5ZRT/AJgpKQBwfSBEEZZBq81RVP4fNQov6MgXxRgzVr517+029YCZdqtSfKhp+KddA8ibD6NDXC1oEfIB67SyvnsQqstS25VLV+npcnJ615vPa0heb/IMqVGaxyWnNVabVcv0vI1lFYqVz6PlJoQOKvxB4Vp1D7ccUdSC+HTqpzV7w4eLMvddVd5ABhxCmpYDMVptFxBQA7VR+bKJqIs22EHef+hhyIAjgC4+BVYKgCGd5jcIyJr5Fz5NFW0BCMGP/KyDHliVIWOOkpazjvPLwCGqgpJafpAYKAsw8dXXZUP+T9rg+gra+Wtt7RnqAUUtFuTpMAPlS8K/oiw+TSi50TRKVYi38930ZLuWFVRpaE4jZav+Ygrpam3366Q35di7cRpKikLvgzBnd69k9ZIa0OJzbNp+Rqed5Urn0dR5fLLi8Aucc01Ioce6nmGBs2pokqKuTRYmgxaTqKiEybIlD33lD633FIeAEZLgBoWQ3EarbmiyHjzzcnmgU1EWbbXXvL+X/4SAXCG/5uKBaKsNWTbb6kAGBUaco+IrJGL5NPgUuVY5/jjRXKgI9Ie6l57iUC4f+CB0nLFFX4BMPy4SMruuacI4KUsy1P+lbVB9JW1YkDqrwUUTPwFwAfo5yH/Ck81xXVEfokAl2UPPigCAwQ2Y4a2OI2Wr/mIK2Gg6dNFAC9lGOAbBgiM1CSK1nwZ86K4DkNRDyU2z6bl63nzWnPlEUbyLU7zjW+IUFyHot5++3meoUFzbKJQEqOYS1NcSrt1TihefVUmDRkiff/wh/IA8Pbbi8AAwfyYp0/bYw8RaobYPLCJKMsOPFDev+mmCIAz/B8BcI4Ls1QArEAqAIpcJJ+2/voiRHsg+jZg0/A5hEpbCqTutZe03HyzXwCswPUBByTSoGWZJUjVGq4C11tsIcLxtaZpAQXNtiqXKZDKxz+lpGjSROa1V1+dFEzlAa5NBkiqTlV5qkKLpMmtquVrTkE4qcAMwLXJ8LWuTYNU5psSK9K6v95FaXA9aZKIJme1Sb9avqZBNlP//a9/kJo3uDZxRhWkVmSfiZD6tCq4fu2QQ2S1Sy4pDwAT3IABIg+Qmie4NnkWRx0l7192WQTAGT6LANhkMRleWyoAzjNNgSgPH6QLL0yoXsqyVJpCy1//6hcAp9Ir5JJLypphksJikaagNWCAIQCRKFYDme90e9pAQWsQkhT55ZWmoNIrAEwAp7KMiGhVutuEW1XL16FwVqe5VQHl223nz9vp9Ir33xdZYQV/bVdb0vI11+aVppDmrH7iCZGBA73PUbtBNsXQ9cH33o41SbuNrAur6RUvHXWUfOe888oDwAQ3YIDII00hz/QKkwdw8sny/rnnRgAcAbDJqvFzbakAOM9CtTwL7ExcnypUa3nkEb8AOJQXmGWhmpYbSQ0g+spRK0eumqYNFDTbq9C85VWoFgpntaU4jZavb7ghEb8om3S/nTiNcAzsy/IssDMFwHkVqoXCWY0/Bg9OBFtgR4AlwadVC+xeOP54WfeMM8oDwJbiNFquUAV2FFLDCFGW3XGHvHfTTdJv9GiZNm2a9NEUOypruEX3GyPAOXq8VACcJ7dqnhXCJs8jRVXW8vzzfgGwIt0nfYRUgbIMgQg2M9DaUQjk0xTpPoqIRII1TQuUabZVuYxq+qp0twACiLD5sirpfiUaSVSyLLMUp9HyNScUzJOjZU5myrSUOI1QCOTL8qZY06VBYz6KqmzECJHTT/c1Q5FQOKuZ0b77JsVb8OMSJfVls2YtyH+fcPrpsv6JJ5YHgC3FabRcoTirKRKnvqFEmzJliqyxxhoRANd4BhEA57gwSwXAeXGrQo2jtNthR1C5hzn6MbNpWBpIg1h5ZWmZNMkvAA7lBQaFDuksGPycXbv68zSywOPHJxLLpApomhYo02yrchl8qjBAYIAAImy+rEq6X3oxo6VYhZavydMk0k3eJqkCZVpKnEbacbM7DStvkQ0TAKzEKpB9vuACp2m1uTnNWQ0tISdtZRkyvhRvoZBGnqwv++yzBfnv40eOlI2OPro8AGwpTqPlCphCqGdA2ZKTthItAuBs50cAnOPCLBUA58WtiiywqjJHjlpVn+fox8ymYWmgEG7JJaXlgw/8AuBQXmCwbVDQiBFFRAzAl1kWM2qBMpMxoqhFkRoGCCDC5svI7yNHtuxiRuajxGkAc0TYNEzL13kyhWiMsc0lKXEar0e/iMBwUsHpAKcEOZiWr+nX8uSk4ZDTMsuc9rBeyjKl9onsM0wJvgxmiSpN36OXXCKbHXJIeQBYidMg+8y4fBmpQKhq8u97703WS4kWAXC28yMAznFhlgqA8+JWTb3AvFMdmT4LKNBga+jaVVq+/FIefOgh2WGHHdxfqFRjE2kN4QUGlR00ZRh5pD65VVUxoyFXtDZQ0H2e0D7BAIE99pgIETZfFkoxI/NRufPXXitChE3DtHxtWcyo0b35JUqchuNlImy+DBlwIq55cEVXx6jla6790Y+SnPn9909y6H0ZtFnkTfPuIVWgLM5q5pNX7nzqfTbuD3+QgUOGuL+vbf2vxGmQfSaw48vyfJ9ZjDEC4GynRQBssaB0bykVAOfFrZonINN1rLouRf/U8vnn8uD48X4AcLoaOw+ye5N5ImaCUAX2+uutggcmbWRda1nMqA0UdMeYZ8QklGJGfKHEaQzYU7R8rYoZfQMy3eeXvk5tOCgwIsLmy8i3RR4Y/l94gHMwLV/T7+GHJ0IVu+ySMJj4MnJtOakgj5pUgTINfncYIJB9RmjFl6WKGUffeqtss8ce5QHgvNhTQipmFJEIgCMA9vXzNWqnVACMfC4yur65VQuoxtZ2copbtWXqVHnwpZf8AOC03Onf/y5CqkBZBmesygX0nXJiWcyoDRRMfLbYYolQhe+cuVCKGfGFEqcx4M/W8nVeR/Imz09dmxd/9rBhCe2i7yP51By1fM315Mz/7nci5NCzQfZlqqbB95G8zfiuvDJhgIA1AKltX5YqZrznrrtkh8GDywPAaXEaalu6d/czS9Qs2ThgU6a0isP4ad24lQiAIwA2XjQ+bigVAJN7tPvu/iVgR49OIh8YhT3kOpVlKW7VGW+8IeOmTPEDgNMvMCSCVQS2jHkibKByAXlhQ7DuwxyKGbWBgsk44XUlcsKHlyN9XxZKMSPzgdeVDaSBgqKWry2LGX25uE07eSkoKlYb30VZqcFr+ZrrVTR6gw0SBhNfpoqyvvvdRMWzTEPGFxYPaiG++MLfSEaNqqSOzF90Ubn3llv8vK9tRzdhQiLLjJECQSqED+OEQonAlF3MGCPAdZ9oTIHwseAz2igVAJNLuc02yciIrKFe5MPIfSMHrmxpWeaS4lad8eyzMu7jj/28UEN6gaW5VTmyQ73IhzkUM2oDBZNxIlQBAwRHrwBEXxZKMSPzQXCECBgAH6CvYVq+tixm1Oje/BJkZUl9YKPGhs2XKVouQBnFrzmYlq/pl+gvUeDVV08YTHwZfLHQLhoqM/rqvk07Kh+5c+ck0OErH5nUkcMPl/nLLSf3XnWVn/e1rQNee02EzQZGbQuRdx9G0aAKVCAOo1iTfLRt0UaMAGc7LQJgiwWle0upADhNqeOTWzUUaVkeQopbdebDD8sD//mPnxdqYC+wSk4gc6VogxxBH+ZQzKgNFEzGSW4na5biG1IEfFhIxYzMB8ERGCDI2SXVQ8O0fG1ZzKjRvfklyOYSyST3mpQdX7bjjiLQLvrOLU6NT8vXXF8FcbLcciIwmPgyUg7YGEF7yElbmfbII61Kfsg+L7KIn9FAG3f88TJvjTXkvvPP9/O+th3Ze++J9OuX3P3qqyL9+9u21PY+VZzdrZsIJ22+Ng+Wo4sAONtxEQBbLiqd20oFwGlSdZ/cqtUXWJ7V2Dq+rVyT4ladeffd8kCnTn5eqIG9wOA5rkS7iawBAHyYQzGjNlAwGSenFZxaQL9ErqcPC6mYkfkceqgIDBDIPt9zj9YMtXxtWcyoNQDTi5DNhQECJSyKNn3ZgAEJoEb98ZxzfLXaph0tX3OHOgXr3VuEin9fRs0GtRuGyoy+um/TTvoU7OOPRZZd1k83VXrOeRtuKPedeqqf97XtyFKcxBXZZ9aYD1P0nL7ZJSzHFgFwtuMiALZcVDq3lQqA05WoPrlVFb9wjtXYOr5dcE2VW3XWzTfL2G98w88LNS96HKOJpS5W3KpE1gAXPsyhmFEbKJiMk3x18tahBwMk+rDAqrFFFXIh+wznq4Zp+dqymFGje/NLkM1lk7bSSiJTp5rfn3WH+g0AsGEnyMG0fE2/99/fyu06d64IaQI+jI0RrBKGyow+uu7QxqRJIhSQYj4Luar8wnO33lruP+YYP+9rWwekVOkqss+DBtm21Pa+vPiFLUcXAXC24yIAtlxUOreVCoDT0S+f3Kp5EaTrOLTWNdXo16wrrpCx3/62nxeqeoFxPAYNWdmWB7eqQzGjNlAw8ZuKfpHrSZqADwusGrsim0t6B0IfbEo1rKGv0x/xspUZmY+i8kKwhbQdXwagho0gR2nZhr5Wc3niiVau6i+/FIHBxIcphTlDZUYfXXdo4/33WznHfTLhVJUZ5+62m9w/dKif97WLA3r0SDiXkX1GNMeHcUJxyilJfnHZxYyxCK7uE40A2MeCz2ijVABM/qNiaPCpRqOkZSFsJ1WgbKtyq846/3wZu8Yafl6ogb3AKnLTcB77zH90KGbUBgoma+PII0Xgrh48OCkU82EhFTMyH5U+hNQzaUka1tDX6WNc3zR5GuPrcAmyuRRq8u5ButtX/iOAGrDpmyYvNYGGvlbXAgiVCQY8zAAAIABJREFUWiFAEQYTHwarxEsvJXzHnLSVafhaqU4C+GEw8WFVZcY5P/6xjN57bz/va5dxfetbCecyss8HHeTSUuu9nFBQzBtCMWMEwBEA+1nV5q2UCoAZLhzA5KiRVwZzgw8LSVqW+VS5VWefeqqM2XBDPy/UwF5gFbU7Nhs+5XxVIY+FtKw2UDBZb0rO1+dHI7RiRlVAauDzhr52KGY0eTza16Z97kvON0+hFBsADDUiDBAYIhGK81XbSRkXqmJGA6EU1y4z7ye1A0U6jJQPGEx8WHUzP+fII2X0oEF+3tcu4+KUj2K4iy8WgcHEh6nNfAjFjBEARwDsY03btFE6AP72t5MqZSJrqBf5sJCkZZnPD34g8tRTMvtXv5IxW27p54Ua2AtM8uBWdShmbAjKbNbZWWclUa/11hN5+WWbFjreo6KRgVRjV2RzYYAwoBBs6GuHYkY/Tm7XynPPJQwQmC8O1LS0bI7KjA19raY6fXprURjz3XhjP66k0Iy2r7tOhJO2so11CgME6xaVQR9WTeeafcIJMmbAAD/va5dx8b6BAYL3D2kLPkwpM4ZQzBgBcATAPta0TRulA+A8uFVVPmqO1dhGvmaXPXaszDnkEBm9yy5+XqiBvcDkqKNEUInyya3qUMyoDRRMHiQRGPLLV1lF5O23Te7MvlZVY4cgLcsoLYqnGvraoZjRj5PbtZIunvIlIpMuZvSZj9pu6A19ra5Pi8j4FKepFvR6zUd1echKnMZnAAV2kIkTZfbZZ8uYddf18752mWM1gCKcQMHB7MNCUmaMADgCYB9r2qaN0gEwkYkXXkh2tuxwfVj1BSY5VmMbDZPIxKhRMueHP5TR++/v54UaUjU2zlDcqqgLIf/swxyKGbWBgsk4ycGDAWLppZMomA8LrBpb0sVTX32VpCg1sIa+TknLlq7MyFzSxVPks5Ki5GoFKTM29HV6Hqp46s47pZKi5GqhFTMyH1I78D3AEIDow6rKjLMuukjG9u3r533tMi5UTSkI5oQUoO/DQlJmjAC47hONRXA+FnxGG6UDYCKG5OSR20SEzYeFJC3LfHhxXXONzB08WO4//HA/L1RVjX3ssUnhUtnGBwiVKD5I5Bz6MIdiRiOgoDtWgMQ++4gALJB/9mGhFTNaFE819HVVWtYkrcKHazPbyKN4ik28SjNgc8QmKQdr6Ot0n765l0MrZmSupLKQ4sEG/Oyz/Xi8qsw46/rrZew3v+nnfe0yMmpjKAgmkEKqhw9TxYwwviDsU7JFGrTsBxABcI6Ls3QAnEfxVEjSsjy7avHU3M03l/uPP97PCzWkamzmSGSCvGSOJImw+TDAJqDTQlrWCCjojpWjZMXDCQAGCLtaaMWMpHZQ6IRpFk819LVDMaOre2ven0fxVFqVzNfaqDH4hr5O3+O7YC20Ykbm6pt9JqXMOPOOO+SBbt38vK9dFnIe9R6+14bL/GIEuK73IgB2XFz1bi8dADtE+WrOq6BqbKNHQmTi1FNlXv/+ct9ZZ/l5oQb2AlugPGVQPNXQh4BNQKcFtZoRUGg4kOoF6eIpX1E+JS3rk1pNdz61rvvkExEih5gmZVlDXzsUM7pMpe69vtln0sWMpArkZA19ne4XGjQi+iNGSIXf2dXSxYzwHffp49qi+/0Om+Sanae46WeOGycPtLT4eV+7zDSPTbLv0wGX+UUAHAGw4/qxvr10APyrX4lcdJEIMrNEUVytoGpso2FW8zznrbyy3HfxxX5eqIG9wCo5auSqYcg/K35nI0e1u9ihmNEIKOiOMQ/lKSWu8cMfVvLES7d08ZSmaEVDXytxjVCUGXEy4O2DD/yJVhQkLdvQ1+kFhJofjBSo+/3ud+5LK13M6FNcw2Vk5OSTm49K41//6tJSci9rogrsZ0yYIOOmT/fzvnYZGeqapHj075+wQfiwkJQZIwCOANjHmrZpo3QArD6O3/9+UgznaqFJyzKf6sdx/pJLyr033ODnhRpaNfZTTyV0bxjqWoqg3uV5OhQzGgEF3THmId2tihkPPbSSJx6EqY/j7bcnOc8NrKGv1SZ3222TfP8QzGFt1Rx+QcqMDX2dHpxv6e70JtenvLLLerCQ7q7bXWqTO+P112XcW2/5eV+7zBF2HVh2Vl454QN2NYtNrmuXje6POcDZHoopEI1Wj8PfSwfAv/+9CIVckLZPnuwwk+qtoUnLMiwiE3vsIfO7dJF777xTdhg0SHoBYG0tL3142/FwH5EJ+CoxXtK8rF3NQVrWCCjojhO+UVI8sEcfFSHC5mqhFTMyH8X1+oc/iBxySMMZNvS1itKFoszIjHxLd6tiRp8c0TU839DX6XvInb/55mQTw2bG1RyUGV27zryf9A5U6Qyku+uOJZXm1DJ1qjz40kvlA2CeIc/Sl3T3p5+2Fmlqpjnl9vyqDUcAnO3hCIBzXH2lA+BrrxUh+sVH9+OP3WcamrSsAktEv6BZHTVKtt1tNzcAnK7GnjAh+ZiXbVOnivTtm4wCMMxxnaspaVk+AKQKGJgRUNBtl/xyBCuIfpHz+X//p3tn9nW+8zTdRySCDPKUKcmxORG2BtbQ177zNBsNSOfvO+4oQooHOdiXX65zR/1rVJ4mpyDjx7u3l9FCQ1+n7yN3nrmRS//AA+5jUiqBiBeRKhCCoUjHGqUmgjXraimVwJZ//1sefOKJ8gHwPfck75rOnZP0Mlfp7nfeEVl11cRTb7whsvbarl5zvj8C4GwXRgDsvLyyGygdAN9xh8i++4pw7NrS4j7T0KRlmdHf/iZCioeIPHD99bLlfvu5AeB0Nfbrr4twnFu2ffGFyJJLJqMgVxC5YBdLFzPyASBVwMCMgIJBu4JgBSkepLUQlXE1Tj4QY+AkhFSBEIy1yppFiIToWgNr6GsFNi2KGRv1bf13cq6JirKxYoPlaqpSHzlexERysoa+TveruLmhCiPS52q//W3CaIN4EakCIRiKdJxSUBOBqp+rIecOM1G3btLy5Zfy4IMPlg+AyeNWp00U6alTKNu5BljMGAFw9sOMANh2oWvcVzoAJgrDBxIjN6l7d41R17kk9QKrtOe6W3YbTXI3AAegIyKPXHaZDBg61A0AhyYty8R8U0ulixkfe0yEVAEDMwIKBu1Kv35JiscllyR5ea6m0g04CSFVIATjtIIUj2OOSQpUG1hDXw8YkACwUJQZmQ+nTvgcRax77200xcZ/V8qMPrlaa/Ta0NfpexQ3NxE+In2uBl8sjDbwHZMqEIL55ua+8UaRgw4SWWopaZk2LQwAnObmJvJOBN7FQlNmjEVwdZ9mBMAui73BvaUDYFTD1BE+FEzf+pbbbEOTlmU2UGYBdERk/Pnny0a/+IUbAA7wBVaZnKKWgqwdIOBijsWMRkDBZJzkeJLigWoh6oWupooZNQvOXLvTun/PPZMUD4AAFfYNrKGv1103AWChKDMyn+OOS1I8Bg6UivqdqylpWZ9qXTXG1NDX6Xt8c3OzIWLjt912Ig895OoxP/f75uZmfsyzXz9peeONMACwBTd3Xefmwdjj+DRjBDjbgREAOy6uereXDoDT1FJESlVuku2cQ5OWZR6pqtsJI0bI+iec4AaAQ5OWVc8KEQyA65VXihxxhO0TTO57883kqBWjOLIaQddt1Ago6DbKdQAmNiDHHy9y/vkmd3a8dvbs1hOPsWNbT0LcWnW/+8ADkxQPgPBddzVsr6GvVTEj+ajk3IZgbGBI8UAGGTlkV1PSsj7WRZ2xNPR1+l42okSm2Zgia+1qbIiIkGquC9futO73zc1d5WynoLflmWfCAMBpbm4CRsjNu1iAxYwRAGc/0KYEwGPGjJHhw4fLpEmTpE+fPjJs2DD5mcbLv1ONI/tll11WPm5XIDZ58mQ5+uij5cknn5TevXvL/vvvLyNHjjQGVqUD4BTvYoW0ff31XX7aIqFJy6rZoBo2a5Y8f8IJ0n/ECOPn1MYpSlq2d28RUgVCMY5a2dBw9EquoIulpWVZ+9UIum6TRkBBt1Gug+uYCMphh4lQFORin39eOWqt2NNPi5AqEIIZRvoa+prccHLELYoZc3MHsuu//GUl0icUBbka762XX/Z3MpAxnoa+Tt/nO9KnVDvZIN1wg6vH/NzvO4BSVe2E0rFl3LgwALBv2rIAixkjAF6IAPAzzzwjAwcOlJ/+9Kfy4x//WJ5++mk5/fTT5eqrr5ZDGtAKAYCPOuoo+RH631Xr3r27bID0bdW++OILWXfddWXllVeWU089VaZPn14B2DvuuKPccsstRi+W0gGwY65nh8nmoZpj5NGMi6vCFS/94hfynfPPdwPAoUnLqilTbENExkeuZ1pa9n//EzGkjTMCCibPV+V6+hCuIJcYAIa99poIqQIhGJFRIqSawhV1fU0xY9euIkjMWhQz5uYOletJUSOsKq7GyRVAGmB99NGurWXeb7SufadKKdlh5sc8QzDHVKkOU+DkCoC4887ScscdYQBgBulTuCLAYsYIgBciADx48GD5/PPP5blUocBhhx0m999/vwA4O0NnkmEA4N/+9rdyHDlqGXbeeefJmWeeKVOnTpVvVXNmb7vtNhkyZIhMnDhR1lprLe1XU+kA2PcHMg/ddG1v1rmwKl382tChstpll7kB4BClZZm6ki7++c9FIG93MSUtC3iC99iwmNEIKJiM06d0cZo7GRo5UgVCMLW+oEMjFaWB1fV1mjvZopixUd/Wf3dcXx36XXppEfhViYwSIc3JjNZ1en39858iK67oNiq1wSX3nQ1SCOY7gELgiRSB/feXluuuCwcA+yyWDbCYMQLghQQAz5w5UxZbbLFKOsKvUrRGTzzxhGy11Vby4osvyoZwfzoA4C233FKWWGIJuYeIStXod/HFF5dzzjlHjkVYQtNKB8CMUx2R/vGPIj/5iebIMy5TEbr99kteZKFYle/1H/vtJytff70bADaM0BXmAujsoLXjGfIsXcyxmNEIKJiM86STkhQP0hVIW3CxPNTzXMaj7kUAgxSP5ZYT+eijhi3W9TX3q6r1F19MBAtCsPQJAyB9kUXcRqUidORMkyObkxmta98nDCrFidx3cp1DsHQABcEh1O9cTKU4HX64tFx4YTgA2CddomGKk4s7de+NADjbU02VA0wEdp111pGxY8dWUhKUffLJJ7LMMsvIzTffXEmLyDIiwEsttZR8+eWXldzeQYMGVSLCK6WiQ7QzdOjQCshOG/1uttlmci30PpoWBABGNYwIBVFDoocuFqK0LPPZZhuRxx6Tt3bbTVYYNcoNACtpWdrkQx6Kkd4DLyfPILU5sxqeo/ynEVAwGeC55yYpHqQrkLbgYhS+7bRT0gIFcUS7QzAYKUjxIO2E9JMGVtfXFDCuuWbSgkUxY6O+rf8OGCfFA+MYffnlrZtKF7kKrATbb2/flouv298LXzUpHpiPHPM+fRIBDB9Frj495DOAkipmbDnjjHAAsOLmPv10EdTvXGzo0OSkIiBlxgiAsx9oUwFg8n232GILIQ94U46MqjZnzhzp1q2bXHzxxZXitSw74IADZJdddhEK315//XU566yzKve98sorsmRVaID/z38/iWhUyugXcPwXuHAz7KuvvhL+UfbRRx/JxhtvLK+99pqs6srAYPmj7LHxxtL59ddl9ogRMsexeKr7oEHS5cknZfYxx8gcwEog1n3ffaXL/ffL1G23lcXuuEN6EjGytG5HHCFd//hHmbvrrjLrz3+2bMX/bV1POkm6XXKJzB04UGY5Kk91Pf986TZihMxbd12Zibqfoc2YMUPGjx9fycV38XX7brtcdZV0HzZM5vXpIzMdpbu73HmndP/pT2V+r14yw0ceqqGPsi7v/OCD0qOqcocYQEX9ro7V83WnF1+UnjBniEgLAi6GxYyeptShmU5vvSU9v/vdyn+f8fLLMp90D1v79FPpVQ1QzHj8cZkPT25OZrSu58yRXostVhnJzLvvlnmkKDlYz2WXlU5ffy2zbrhB5rJBCsR6fOc70vmf/5RZv/udzCUFzsF6bLqpdH71VZl96qnyn1/9Kpd3iM3wuu+0k3R5/HGZc9RRMpsTKAfr/qMfSZe//lXm/PjHMpt6kgDs7bfflv79+8u0adMqpAHRWj1QOgAmGgtQbGT9+vWrpDgARJ999lnZJEVXogDwJZdcUily07VXX321UgD3m9/8Rk6ogkMA8Nlnny0nUvCVss0331yWW245uasOddGIESPkjBrqTkSNVT6x7th8XbfFr38tS02aJFP23FMmOqprbTlsmCzxzjsyaf/9ZXJAL+n1L75YVnrsMflgwAB50RHkf//882WFCRNk2lZbyd+pZA/E1hw1Sr4zapR8scoq8gTKZg629k03yep33y2frbWWPBXQRqbP44/LhhddJLMXWUTGQDPlYCuPGyffu/JKmbHkkjIulKp6MpL+8Q8ZWN1cj/njH2V2FUTZTHXpV16RAUStROS+22+Xea5CNzaDqHFPjy++kB2rubpPnH++fOEAgBf5+GPZvkr798ill8p/XHNtPc2RZnbebz/pOmOGvHDccfKhizrjvHmyezW149nhw+VfKnrucay2TW11zDGy+NSpMnHIEJmC7LaDbXf44dL7X/+S1w4+WN6B2zkQ2/jcc2X5556rBFBeNsAPtYa/2emnyzKvvCLv7LyzvIYgTAD26aefVggCIgDu+DBKB8A33nijHAQHYgN76aWXBMYGlxSIWl3QHqwPf65G+1xSIEKMAHffYw/pMm6czDnkEJkNEbmD9VhnHen87rsy6/zzZS7Sq4FYt2HDpOtVV8n09daTbo895hSV7L7rrtLlkUdkzpFHymzI/AOxLpddJt1POEHm9esnMx2Vp7oddZR0ve46mbvjjjKrzolG1tSNImUG/us8erT02Gcfmd+pk8xAlrROQWujZrv+/vfS7ZRTZN6aa8pMH1y0jTrU/HuniROlZ1W6e8Ybb8h8xVSRcX89X3e++27pMWSIzO/RQ2ZwJB+KzZghvarpATPvu0/moX5naZ1eeUV6VsV8WqZMEYEPOyczXdc9V1lFOn38scy69FKZ66I0+NVX0ouccKLJDz4o81zAtGffdN9uO+kyYYLMHjZM5sDj62A9V1pJOn36qcy66ir57777BhMB7nbYYdL1lltk7h57yKxbb3WYoUiPLbeUzi+8ILNPOEHmuKZTOI2k9eYYAc52ZOkA2OQZuxbB1epr7bXXrhwPKAC80BXBpSpvxTGqVlGS4zg552pskzVRuZbK6XPOkc/XWEN6vfyyWw4wR6zw5IZUjc0c8Tn5ZTwDyNtdjCJGNnysDYsXfm45wKiGKVlm0gMcoqMyfLjIb34jQqoUUsGh2PvvtzIGaHBz1/U1OeHkhkMD+K9/hTLDZBxVbm5BTheOW1sbP16E3FGM9DKEJ3Iy43WNmAxMHlBf1WEWajjc9Jpgs4aASCi2884iiAMRhSc/2cXUmrjjDmnZeedwcoBJm0Tkifxy8sxdDJaof/zDD1+7yzhS98Yc4GxHNhUAZhrQoMHVSx6wsiOOOELuvffehjRo7d3w8ssvy/e///1KwZuiRoMGjRxgaNAomMNGjRpVEcNoOho0Bp/iXpT777f/SVERTL7i3LkiRA1J8g/FqJw+8UT5uk8f6Tp5shsApqiI/FPoqgwYP3J3Bak3e++dPAPI2w2py9qMb/BgEfKIoR1DQczQjIGCbvuIHSixFldqKQo+r7gioY9zzJnWHb7WdUS2FbB//PFWcJdxc11fkwrDGtWkVNMan6+LqtzclcJNNm62xjuL43LW+5w5TqcCjYZgvK5JwyOH3nWzzImO4qlGmneVVRoNtbi/qwCK5WZ5wUBnzGjlG3/oIWnZfPNwALCiLuN5ogbnYrCykNIJ3zFsLwFYBMDZD6HpALASwjjwwAMr3LwUxp122mkdhDBWW221ipjFI9VK/gsuuEDeeecdIcJLmgNFcNCa9erVS0ivgPoMU0IYffv2bSOEAWNE0wlhMCFf4hVpztFHHxXZeusAftrVIVTVd1o4dn3/fTcArDghoatqIKxSqAMefri1Ar6lJSFvtzWOlHnR//rXSZTU0IyBgm77FHKpj//rr4uss47unR2vgw2G6LYPUQ37UXS8E9EKGCnYUGqIV9T1daiUfcy6ys0tgPQUZaWxKxEfgvpv8cUTxbsczXhdEzHkd+kqXjFhgsjmmycz44RNsUvkOFftpn0FUFCcVGwgL7wgLeusEw4A9ileAeUf72cURQOpk4kAeCECwEwFKeSTTz65jRTyz9tRfAFg+edxoiwUidx3X6XY7c0335Svv/5all566Uo0mYK35dvR9CCFTDHdU089JYssskgl+ktkGLBsYkHQoPmSL07LKv/tbyIp9TwTn+RybVW+eE7PnjL788+Nn1ObMflUBfI5WSJNqvDTQr64zVAcZZWNgYKuH/j4V8VnnKmlfMoq645f9zo226R4aHBz1/W14hz1cXSrO3bd66rc3BVaqWqhnu6tba7jhIJ6A+gc4d7N0YzXNScynMy4yheTYkCqARYSZR/jUQGUH/xAhHQUWyMtQIlITZ4sLX36hAOAlfon0Vu+c7aGqBBpHhinTo7MILbDaH9fBMDZnmy6CLCvRVFEO0EAYEfO1wV+mjixNSIX2jFd6gPSQkGJbZ5g+pguZ85R4/VHriE5hxj/26GyviKewDHdVVeJHH648VCMgYJuD3z8FZMBPL4prm/dJhZcxwcbMQxYQRypjYz7bnSDATd3XV8fcEACogFiiKSEZFVu7kr014W1RG3g11tPhBSZHM14XfvifKU2A5GhRRcVIUUmJPMVQEG5VVGXTp8uLYsuGg4ArgZQpHdvEdTvbI3aDFJ/ME7YUkxVtk36uC8C4AiAfawj4zaCAMB8IPlQwnP8+efGc1hwQ/qYDlnSan60fYMe74SIvlo53fLBB9JLqWOZdpE+piPiGhAdkbQ7QpQqk4DpFCvX86JHhAE1PwriDM0YKJi07+sIsX9/EdIo+IAjrhGSGYytrq/hEyaNglQdUnZCMjU2QCJ5wLaGKhr5+PAdUySZoxmvayWaA8sFqRC2RnEZ+fhwtE6bZttKPvepAErfviKkKNnauHGtG9qZM6Vl7txwAHBaNIc88y5d7GYJS4kKTEya1BqwsGvN210RAGe7MkaAvS2zjg0FAYD5QPIx4kdNhM22eCrkYzpUwxTx/qRJ0lNFSk2fbTrKGpKyFvMAsAJcMT62ttRSHqKsxkDB5DmQjgTYdy0iQTwBMMEROuAiJGOzxqZNIzpd19cwZgAKKYQDJIZkKjoNAwRMELYGlyrqmz4UEBuMwXhdk9px5plS2YzCHGNrPhUQbceQdZ+vAAqsM2y2qwqIxr72Pa90e6kASiVIVBXFMu4yrYDICVuV2s64Hc83RAAcAbDnJaXXXBAAmBxoVbDG8Y4CUXpTaL2KaCGVwCEe08EYwLEyylPPPSc9bdWi0sd00Eqp4yxTX+VxPUVTpAcQoXBh4SB6v/TSyQiJ6lc5Vk2GnOvHyxe1FEwLHCdTRMXxckhmQC1V19cwZpAWAAijkj0k80Utte++SXoHIj433ZTrDI3XtS8WDpVnSyEcaTshma8AisqzZYP74Ydi7Os8fcJJEacyGHnm1W+JcZc+C5WNO8++IQLgCIA9Lif9poIAwHCNUpCCkeBvmx6gjukgooe3MiSjOry6a5/50EPSY7vt7EZH3q8qXCAfWBU02LXm/y7STohQuPAwv/WWyOqrJ2Mjr1sVphiMNtePlw8eZqj6YFrAoNFSBUYGc8z10v33T6rE+XcDbu66voYxg2NpBG4cFay8z7fKzS08TzaWtrbDDiIPPeTOtKDRv/G6JjJNhBrmGE4tbM0X04Jt//Xue+wxEfK5MZcASpWqsvK+mTgxLACcCqDIK68sOE00dicnHajlEaiAqjIQiwA4+0HEFIgcF2kQAJiCNSiJMJe8pJEjE9osqKnYMYdkKcAz8667pEdVVtR4iLffnlDXwAQBlU1opgDPRReJwABgYzB4qPxhyw2RMVAwGaeilgLQ2SoXooqmqKSefHJBfrjJMHK9VgGenXYSGT26bld1fc0cmSuRUUeZc+/zVdRS8GrDAGBrakNEhJtId45mvK6JTBOhrh7rWw9NCdNwUsGJRUiWDqB8+GErlZnpGMnDJ9WjKkxj7GvT/kyuh5GlSoMqLu+LQIVpIgDOXgwRAJv8UAyvDQIA+6pMPemkpJp+wIAkfzEwm/+Nb0in//xHZt1wg3SHlsjGKCSCvJzcLXK4QjMfR97wYqsIOdzOFJ0ZWq4fL0UtRQ7pjTcajqx6OceYSmKY/HAlMmDXmv+7DLi5M31NSgxRbniFNfiE/U+iQYvtjryt+6eoiOIiZMmHDbNuRudG43WdLuyCAguRGhuD7YS2oPKk6CwkS58YuQRQyMPnFJG5jh0bVgTY14kRaxRFQE7YqCEJxCIAzn4QEQDnuEiDAMAcxSjRBF6yHCna2JFHJrRZGlErm+Zd75m/wgrS6cMPZdZFF0l32+ior6iV62Sy7kcSFi5Ol6In8ocpTAI88dG2KIo0Bgom/lDUUhRu3n23yZ2t13KMqeRkXRXl7EZQ/y5FLUXe4auv1r0209eGinJ5TKNumyrFgw0WGy1bU8I0ropyGv0br2uorlQOvQszjhKmIUrK2gjJ0gEUUlls6yuIbpPuQ7T7T38KCwDjb1UzwBhJTbIxpSgHexAsQoFYBMARAJeyFIMAwMzch7iDQd5iGc6et/ba0nnSJJl91lnSjfxDG1N5iz4kMW36b3QPlfD33ZfkHRJhs7Hrrxc5+OBEcIKPm4UZAwWTPhS1FHmHVRVHk9sr18KMAEMC9tVXIra80MYda96gqKVgqpg6te5Nmb4mD3/FFZN7X3qpFfBrDiH3y9LUUrbRUaLcvLu4H8EJ29Qmzckar2tf3OjkxZImQp4ptW6EAAAgAElEQVQstG8hWTqA4sKNrgo/4R2/6qrwADAUdKSEEaUmRcnGfBV+2vRd554IgLOdEyPAnhdburlgALCKolC0AfixscGDE3UbIsFXXGHTQq73zNtkE+n8/PMy+7jjpBuRXBtDcQraLKLkRMtDMyXvS94htEI2duGFyVHyqquKcLxpYcZAwaQPRS1F4Sa0QjZ2770iu+8u0rlzwpphEeW26Vb7HkUtRd4hObx1LNPX6cp1CuHgaQ3JfMj7koevUnRcqP80/WK8rsmJpSgYc1HHVNR/bGrZ3IZmPgIoMFywJkj/GTkyPABMbQsbGmpdGKONkYd/883BCdNEAJz9MCMAtlnomvcEA4B95NGR+/vMMyLkAlPMEJjN3X576fLwwzLnsMOkKxyyNvaTnyRFKC4A06Zf3XvIEWTzAVMFmxEb8wAwjYGCyTgVtRSFm+R+2pgv7lKbvnXuUdRSGgA909e+uEt1xmtzTRqgv/NOa062SVvk4SvWGjZDis3GpA2Da43XtS+ArsRf2NTy7gnNfAB08vDfeCP5dpx0UngAWAF0l+8bm24234EJ00QAHAFwKa+UYACwj0rqtddOWCRcdsg5PoU5e+8tXe+6S+bst590hbPYxnbdNaHNckkxsOlX9552ldS6t7W57pe/FLn44oTayDLFwBgomAxUVVLDVTx9usmdrddeemlCm+WqXmXXe+O70tzc5PLCrZ1hmb5OC9O4qFc1Hq3dFYiQkOKB2aZokBagaPo4reDUIkczXtfpFA0osMitNzVfNRqm/Zpcr979FEEj3mJjKsWADfyRR4YHgHfZJWFkqaZo2ExRVI0GhXC2p5BWHde/KQLgbP/ECHAOC041GQwAJmJI/hZH/IADG+OojyM/CuF4SQRmcw45RLped53MHTRIuthGR5FbhQaHPDzy8UIzxaWJWASbERuDIQPaLPIpyau0MGOgYNKH4tKkoh5wYJO+cNZZIqedluTFAr5CM8a0wQbJqACKgIMMy/Q1xToUFpHfTJ5zaMaYFl88GRWAH3BgaukiM/LVyVvP0azWNYwxiObAIEPkz9TY5JGihrkUmZn2a3K9Ov2DBvM3vzG5s/VaNnkUQ1aLzKx8bdez3l0+0svWWy8pauX9Y1uHojdao6siAM52VwTARkvJ7OJgALAPnkkU5JDjJbpKe4HZ7OOPl24XXCBzN9lEuvDhtDHklKHNOvtskeHDbVrI9x5F0+ZCvL/HHiJ//avIQQeJUBBnYbl+vNI0bbbE+0RgoCQCdAG+QjNyduF0xhrQtGX6WgnTUAgH00VoBj0bTCNESVlvHA+bGhtZag8w20I6gz6t1rVrARtpPqSoYUS84U0OzQyUC2sOnRMKRRHHycXgweFFgOEdpzjVpf6DEyeKWgkyEWwKxCIAzn4QEQDnuEiDAcCuFGazZyfqNhjV3XA5Bmazzzmnwv4wb801pbMt8T4SmIAJXoTk24ZmaaUhlOpsoqPIYgMKYVsg39bCrICCbj9p4v0G0dHMJonEkUoB6AJ8hWYp5cIKrd0PfpA5wkxfk0tJSgy5lYDoEE0JdcDnDK+zqZETy2abzTeboZzNal27Upi98EIrtRhqcioanPNcjZpX0VFEgqC3M7XPPmuN3pO7PmBAeACYEyMity4UZhS1IqpBDQL1JIFYBMDZDyIC4BwXaTAAmKMrcnd5WVOJa2pwXJKTiXG/4r40bSfH62ddfrl0/8UvZP4yy0gnjiRtjCNbjm6p5OWlH5p5ELGoHL1zBD9ihAgFcRZmBRR0+0lHRzlOhCvX1JAjZbNAVTbpHqFZOjraQMQi09dKmIbinaeeCm2GyXjI2aUADuYRcs9NjWJWKKkKkl+3WtfwohMUsGXHQeZZcbNTVKc42019lef1ih3Htvg2rUZKIdzaa4cHgBU7jm3xbfo3TSEc9SSBWATA2Q8iAuAcF2kwANg1dzT9AoMqRhWm5Og706Zn3nab9BgyROZ37y6dbKKjaTUguHYpigjN0tFReGAVBZPJOD3IKVsBBd0xpqOj8PmSl21qSk6ZQjgK/kI0zehopq+VnDLH0xRuhmhIbkMPRnTtjDPMR0jRFUCfIiyAU85mta7bCTwYD1Gd6oQqv86ElMADxdTkKZta+r1VlV+38rVpvybX33CDCCI8Sy0lQsDH1NJyyg1OdUybdr0+AuBsD0YA7Lq66twfDAB2lfjlI8bHDKu+wHJ0m1XTM8eMkR6AAcxG4tfgWNpqgD5uMsgdzeyOF/znn4vwwreUjM714+Ujd9QH64mP51WvDc2NSKavlTDNj34kcuuteY/Wrn21ESG/8pJLzNtQJ1cFya9brWtFTViV+DWeJNzssM645PUbd2p4g6ImtJX4ffRRkW23TTqt5vVb+dpw2EaXkypFfUSXLiKk/Jmml5H7q7i4UaKkniQQiwA4AuBSlmIwAFhFGXr0ECE6amo+jt5N+zS8fsaECdKT42DMJjr63nutXKW2R++GYza+3BWkU5BEMQrRbmSGkRu2sNw/Xio6agvSffBeW/jF6BY4bYmMkYZCOkqGZfpaHb3/7GeJeEuIBqftHXck6USkFZkac6PYryD5dat17aoeecEFCesMxW+2tQumfjW93lU9sob8upWvTcdtcr2remRafh0wrCgATcaQ07URAEcAnNPSqt9sMAA4DWBhcujVy8wfNV5gZg3kf/WMiROlJ2o+WIPK+pqjCfgFtmC8BrmjNedI9EXJAhOVoSDOwnL/eKncUSJPFOuZmg/lQ9M+Ta/fbruEh7lBmkamr31QU5mO2fT6ww5L6MFIJyKtyNSIbsM6U1CU22pdwzYC6wibrjffNJ1ha3pBqPLrzIjNMrSJsHrAxmEaHVXpBSn5dStfm3tX/w6CHtCYYTYAlrQHRfVHOsRii+n3nfOVEQBnOzimQOS4+IIBwDVysIym7RoBMOrM7uKWDz+UXionFi7fLbYwaygdAQjsBdZmIpq5ozUnT2Qc2iyMNbH++mY+ql6d+8dL5Y6Se3jmmeZjVNKttuIE5j2a36EK9agWp2o8wzJ97UO61XzUZncgKUv9gW2hnmuBmdlo7QqzlHDLMsskfMCm5oN+y7RP0+sNhFtqNl1Dfj33d4jpHGH/gQUIe/nlVjCs246SX2dzAO0bKo+BWATA2Q8iAuAcF2kwAJhKbKWihESpipTqzt21Qla3H4frWv77X+n5jW9IJ475bapwA36BtXGLS2U9hUTQZmEUNiouWkO/5/7xUrmjNsItpPioEw4q7Im0hmjkfZL/SbU4ay/DMn2thGlIEaAgLkSDeYY8XtsitoKj3FbrWp2O2Qq3hC6/zrpKn44BFNUmWnfN1ZBft/K1bn8216HIqKK2NsItpPjAOgMV2r//bTOC3O6JADgC4NwWV72GgwHA/CCJHGI20dEaL7BSHFqnU16oXZZeWrpTAAf1FS8jEyMKB1dpgC+wNtNwqayHg1NFxql0piDOwnL/eKncUSrsb7nFbIRwqS6/fHIPHKuqeNOslfyvRlIWuVSeB7/JDMv09SKLiECbBVcu/grRFI0ZzwMVSVNTUW4XCV6DPq3W9WOPJbLimI1wi5JfJ10Ef4Vo6QIvm/oIJb9OIdzDD1dmaOXrPH3jWh+h5NeJIlNPEpBFAJz9MGIEOMeFGgwATueO2lB8HXNMUsXNi568xQCNF+q8fv2kN8eQF10kwphNjPlxD5W8sC2Eai6V9dBl8cHlmI5KZyqeLSz3jxdS29dcY1f8BE2fOuFwiHJbuMXsFiVkwVg5lcmwmr4G+AKAsZCj3LffLoJ4gi3Fl4pyAwwBiDmb1bpOy1rbFN+GLr+Oz9Oy1jbUhDXk1618nfPzr3DdExgg5Q+lTBNT8uvkEZNCEZBFAJz9MCIAznGhBgOAmeOSS4rAImCjUqOO6chb5KMWoPFCnbnuurIE6R4NKutrDp9KfLhKqc5/8cUAZ1gdkktlvYpysxagQrO03D9eSuTBRrgFUQilrMbJBxH9EO2qqxLxhG9/O6EWNAHARFNVvjsUhYibhGiuIg9Kfh31MYB0zma1rtPsMTbFt0p+/ZxzEmW/EI3oKAVwBFJsZK1hm0HwJSW/buXrvH0DzdtbbyUy6sOGmfV27LGJsmaA8usRAEcAbLaYPV0dFABWvKMIA1B5bmJKC57IHB/uAI0X6n823VSW5ojORgCBezjGIsL64IMBzrA6JBUdtRFAIDIOqwJ5xLzoLS33j5cSQPjOd0QmTTIbpcrlpgiFKHdAxShtJqJkfonkkrZjAoCJGCuFPE4rFP+omafyvzot8/vRRyLLLaffJ2wD0DZiBcmvW61rVwEE8mmJHENlB+1bqObCHw4ohCUBkAjtW4gpEAzKhT8ccI/kN1zC5IUHZBEAZz+MGAHOcaEGBYAV76iNBK7Su6eg5Te/ydFj9k3z8fp8u+1kBaSaG1TW1+zFVe/efuhmd6roqI04gA+9+yI+XqQ/APRtxAH4CPExslV0Mnsa9lePGyeCeAI2c6ZI9+4126oJysgZVgp5ITOWsMkiqoaZKkiSyqQA8/PPi2y0kb2vNe+0AsCuErgFR7k1XdHxMiSCSSmykbVms8amjW8H35Ai3iE2E0XqmeCHTfHt7rsnxawHH5wUtwZkEQBHAFzKcgwKAFOAAPcrea5EAk0MkvbJk5OiHTgvAzQ+Xv/afXfpy7GrDe9owZRL1i5U0VHkqAEVJsaLnUgTL/oHHjC5s821VkDBpDfEE0j1ABSaylq7qlaZjNPlWkAd3K8YhXuA/RpW09ccJ3OsbKta5TJuk3s/+0wE7leMAkw2bbpG5B/2CAwgrVhsdO+3uM56XStqQtPi2zRjCcCL06dQjQ0IqWE2stak+XACwOkhG9tQAfB++yVFpTbFt6RdkX5FcSvv6IAsAuDshxEjwDku1KAA8N57i9x1V8KOwIvaxFRxAJyX6KUHaHy83h8yRFaHtN2Gd3TTTROd++HDRc4+O8AZVoekoqNEx/iomJgSFkBG97bbTO5sc601UNDt0UV50FWZS3eMrtdNmZKIJ2CAPdI9alhNX9cQFnAdTi73ozhI7ihGAaaSKtfprIRcbut1rSlr3WHa6VxuwCWndKGabfEt+cPQEnLKQf0IdSShAmDoBCm4tFEeZLPG7xjqP/ivA7IIgLMfRgTAOS7UoACwJu9oB3dwxAfHJf92kM/N0c0LXqjvHn64rA0fow3vaDPI5zJTFR21kbXmyJ2j95//XOSyy6wfiTVQ0O0xLdxiWlmv5HMHDxYZM0a3x+Kvo9qcjSX2zDMibMB0AbCr+liRs1188YRFgN8laUa6VkIut/W6tk0va5Zcbp6ZKr41TS9DeZQ0DwwKNE4iQwXApGcAYG2KbwlIkLZDgIJvbUAWAXAEwKUsx6AAsOId5aiGggRdSxd52FDg6PbjeB0frzePPVa+hzBAg8r6ml1xVMuRLdE1aHtCNT4i6qjUVNbapcgj5Q9roKDrUwq7lEiHaWU90W1YA2yOMXXH5+M61KLYWGIAdQB7Davpa04pyKcENAOeQzYK9OCRpcCUFBxdU1HuAnO5rde1krU2TS8LWD63w2NSxbem6WVp9Uko4773vUrT1r7WXT8216FaSPTWNL2MKDcBCYpuA1SfjAA4AmCbn4PzPUEBYMU7ihIYoELXXMCIbh8eruOF+vppp8lGVBlz5AY41LV0lJv8yt12072z+OugvVLiDhyhKtEHnZG4FLKk2s/94wVdH1RtGCBB0ZrpzNGlkEWnfZ/XfOMbiXjCrbeKkJ5Sw2r6Gvo08iltjmp9jl+nLQAPSmJIWiNtrWslRLmt17VtehmUYrAGkCYC6wX83KGaKr41TS9Lq8ixEVpppcoMrX2dp3/+8IeEb9o0vYzfML9ljDqbrbfOc5TGbUcAnO2ymAJhvJz0bwgKACveUfhD2ZXrWhpwwVdKdDVA44X60nnnyQC4fDEKTBSNUqPxpgGXjVJeo/Z9/j0ta420sSoU0unDtlinXdu5f7zSlfWmGxKXYh0dH/q8BjAwbVqSjkJaSg2r6Ws4ccmnJKWA1IKQDTCAtCz0exQo6loJUW7rda3Sy9g4s151jZqKQw4RWWaZ5Pg8ZLOVtU4r5SE3vOiilVla+zpPH9mmlyEPjQIcBuCH2zkgiwA4+2FEAJzjQg0KAHMszPFwA97RDu5Ik9mbHrnn6Nv2TfNCff7yy2XL449P/mTCO+oCKgucY6WrtKw1hUJEZHSMgiSO3Dmus1EDTPVRyMdLgXVozZCo1jXYAnieNmqAun34ug7VKHirUZGieK+G1fT1DjskCnBHHZUoNIZse+6Z1A6QVkRag665FCTp9tHuOut1bZteBqsO99rwXVvO0fo2JWttml5G4TURct49FMJVo9zWvraegMaNtullKL+tv37SARvaPn00OivukgiAs33dlAB4zJgxMnz4cJk0aZL06dNHhg0bJj9rQCJ+4403ykEZ8oaDBg2SB6q0UFnXnXjiiTKSXbCBBQWANXlHO0xPEfabphUY+MnHpbxQn77pJtmO42HMhHeUCmzFM2oCnH0M3LSNdGW9CZBF+Y18SsyUksoXUDCZqwKypryjLoqHJuPzca1GdLQmUCAFhpMZG8VDH+M2aQNeVKRl4UnlyF/XbIuudNuvcZ01KCMfm4i1aXqZKrqy4fR2mKfVrUrW2vQ7kJFWYO1rq8Fr3mSbXkbaQ7W4ryJqo2TKNbvN+7IIgBciAPzMM8/IwIED5ac//an8+Mc/lqefflpOP/10ufrqq+UQjpMy7JNPPpG3IfJOGQuDdi666CI5hgIGQcwlAcoA4sWpYK7aCiusICui2mNgQQFgTd7RDtOjqIzNBbtadreBGi/Ux+68U3aC5g0zAXlwcJI7ipmkTpTlC+R9KU40kbVOixLUod3SmVIhHy8F8kx4R11ot3Qm7vsajdzRmr52UXX0PYdG7VFURHHRFluIkF6kay685bp9tLvOel3bRkfJNwUgmhaWWc7P6TZbWWvFW96Omcfa106TaHCz7UlgOnWipSW4XO4IgLOfe9NFgAcPHiyff/65PAdna9UOO+wwuf/++wXA2dlA+nTEiBFy9tlnV+5brqo6pAAwgPlbisTd8kcXFADW5B3tMFU06jmeJa+J/KZArfJCHTtWdt9rr2SEJryjKj0Euh4KGkK3fv1E3ntPxETWOr0BIt+QvENLK+TjZcM7mhZeQBEQOqOQTeOYv6av1QbIlFqsDF+oynrTY36OlDlaJqefTVABZr2u1TG/qXCL2gCR4kOqT8gGg8MGGyQjNKEmVOkh7TZA1r7O00e2stZqA0RBMoXJgVkEwNkPpKkA8MyZM2WxxRarpCL8iqKKqj3xxBOy1VZbyYsvvigbGpCJr7nmmrLyyivLg0QAq7bQAmDb3FH02yle2WorEQoaAjX1Qt3twAOlE0VtJtHRK65IipCI8FPQELop3lGTI3BSfBTVFhXnioLLYq6FfLzUEbhJoVd6k/ePf4igYBiyKdEO6OlSG/r0kDv4Ok2fNnp0wgQRspH+QBoEwYRPPtEfKUVF/BbrFAjqN6Z3pfW6pshPVf7DeawYARp1u802yTvVtECwUbt5/J3TvyqDQ2VjQv66jnEqS7FfuwJBa1/r9Gl7DfURbGL4jf3lLwlDh44phqV11kkknwOzCICzH0hTAeCJEyfKOuusI2PHjpUdIfWvGtHaZZZZRm6++eZKWoSOAZY32mgjueGGG+TAFO+rAsC09+mnn1YA8qGHHionnHCCdEF61MCCigBTWc+Pm2NiE0EL8qaJTlDMQqQjUFMv1F2PPVY6k+oCjdKwYXqjRfkNiiZe6rzcQzdF9WUiaIHyG9y4fJz5SDtYIR8vRfVlImgBiFSCEtOntwpNOMw111sp1AP8kO9MikoN6+BrTQGNXMdt0ritoAVsAeRTsm4p3i3ArNd1WtCCY3ROaHRMowhSp5lCrskQtGjYd0YRpLWvG3boeAFRXKTJTQQtKLyGfnPgQBG48gOzCICzH0hTAWDyfbfYYgshD3jTlHLSnDlzpFu3bnLxxRfL0UcfrbX8KJy78sor5V//+lclqqxs3LhxlfSKTTbZRDp16iT33ntv5bojjzxSLmugnvXVV18J/yj76KOPZOONN5bXXntNVi1Ay77RxHv27Sudpk+XWZdfLnMzCgLbt9F9n32ky+jRMufAA2U2kdJAbcaMGTJ+/HjZ+eyzpeuLL8rs446TOXCPali3E0+UrpdeKnO33FJmjR2rcUe5l3QbOlS6jholc/beW2YT6dawLldeKd2PPVbmrbSSzCQ66mDK1+Ti9+zZ06Gl7Fu7nnmmdBs5UuZtuKHM1Mwd7TxunPSoRm1a+B0qGd5cRujeaJfbbpPuhxwi8xdfXGZkyFq393WnKVOkZzX6NuPll2W+klN2H04uLXR+9lnpQaQT6iuOzmH3aGQzZ0qvKg/0zHvvlXkITRRg1uv644+lV1W4Zcb48TJf8XQ3GHOP1VeXzh98ILMuukjmkg8cuPX81rek0//+J7P++EeZS/qGhnUfNEi6PPmkzD7mGJlDpLRq1r7W6NPlkh4bbSSd33hDZp9xhsxRjEINGux2xBHSFZ/suqvMomg8MKP2qX///jJt2rQKaUC0Vg+UDoC//PJLASg2sn79+lVSHADAzz77bAWgKlMA+JJLLpGjoAZqYPPmzasUtG222WZyJ8otDez444+XCy+8sLKAlq8jPEBO8RmKhzbV5rXXXuucT9xojDp/3/qoo2SxadNk4k9+IlNUrmyDG7f49a9lqUmTZMoee8hEEzoqnQHlcM3G55wjy7/wgry3/fbySga3avtu17/4Ylnpscfkw802kxcC03Gv5aJ1r71WVr3/fvmkf3+ZAIWWhq3x5z/LWn/6k3yxyiryhAkfq0bbeVyyyv33S/9rr5X/LrOMPEw0RsP6PPGEbHjhhTK7Vy8Z86c/adxR7iXL/O1vsln1+d17550yXwOwLzl5sgwkr1JExt50k8xKFeqWO5vavff+4APZrvo7fPjyy+W/8JA3sB7//rfsWN2gP3HBBfIFAi4BW6c5c2S3KiB85tRTZbpmGt7OP/yhdJ05U1447jj5kBzZwG37Qw+VRT75RF497DB5VzP1Zuujj5bF/vlPmThkiEzZZ5/AZygy4JRTZOnXX5e3dttN3hg6VGu8G597riz/3HMyddtt5WUN/KHVqMeLOMmGICAC4I5OLR0A16MnSw/3pZdeku7du3tJgXjkkUdku+22k7/85S+yh0aezwsvvFCJ5EK/RhFeloUeAc7ajdf7rfXYcEPpPGmSzD7rLJlDPnCgpiIKO95+u/S47Taj3Xj3vfeWLmPGyJyDDpLZl18e6Axbh9V15EjpduaZMq9/f5mZkTvafhLdjj9euhL533prmUXuqIMVEb3p8uc/S/eDDpL5iy4qM0hn0DCfUW6N7pwv6fTii9KTY1OioxydVwtx0w2393WzRbnl88+lVzXqNPPRR2Ve6uQuy4GdJk6UntUo6ow33pD5uikFjk/EZV33XH556fTllzLr2mtlboaqX5vhzZghvarR8Jn33SfzFI2W4xzyvL3HgAHS+eWXZfbw4TIH2jcN67nqqtLpo49k1sUXy1wEQ6rm4muNbq0v6T5kiHS5+26ZM2SIzIahQ8O6b7+9dHn6aZn9y1/KHCjxArMYAc5+IKUDYJO14qsI7uCDD5a77rqrkv7QQ0Mt7Pnnn69EnBsB4PZzCSoHmMHZVB3b5ESZPFRP16qcsp2eeEK6wR1rQrvEtdCmEf015Hr2NHyzZmxol6CHgzWAKAycng5WSP6eDe0Spy8jRiSk9H//u8MMC7o1LTNOHilFNO2sg695hjxL0raoWg/dbGTGSXmpbgyEgtaCotxO61rJjHO6kirQznw8sAWoaDj8s4phIeTnaSMzDm8w1JKkBlDYWjUnX+fpIxuZcfifUeUE/MLtHJjFHOCFBAAzDSKwX3zxRSUPWNkRRxxRydXVoUEDREN5tueee8p1VKdq2LHHHlvJL07TpWncVrmeVIvJkyfL6quvrnNLvtdo0C61GQBVseR4whoA16Fm3le+k6jd+gIA/MYb0o3ohAnt0lpriZAXC2dl9Xi5jDlo95mhrlT3fo4syW8+/HARZLEdrJCPV5p2SVdd6Re/ECGCD4VaitnFYar53kqesgJ3MAlsuWWH/jr4GoDFSUydwrl8B23R+tJLi1C8x/tW51gZwQxO5ig6nj27MF5Vp3VNZJvTGN49FNU2snThHBuhvn0b3VH+3ymipShxv/1EdFKM4MRVohCorKWi3E6+ztMTFEPz/Oows3ToHnU80jgJTASYyx0B8EIEgJUQBswNQ4YMqQhhnHbaaR2EMFZbbbUKgwPpDmm7++67K+D34Ycflm1rHDuhCsd/X5ddnUgFWF9zzTUVoQzygE0sOACsQbvUZn5pXsSMD7SJP/K8Vr1QB3/8sXQH6JvQLnEtHLJQNmkWB+Y5l4ZtU2kMLR3GM0oVcWbei9Idine84DWLA7PaKuTjRcGUEp4hmqukRus554c/TKLbHEHfemtDN5Z+ARtMTqAAedQi1MjL7+BrpR4G4EoFAUqfS70BmG4wbanTHJ3gtK4RsyC1SHeDafMbdpyf8+0UmF96qQhFiZzQNLL0b7hdlNvJ1436dfk73Oq//KUIRY3thLNqNpsOEvHuCTDPOQLghQgAMxVSEU4++eQ2Usg/b1fw1LdvX+GfxwFuKdtnn30qoDkrWgzQhWaNv1Mst8Yaa1QSyCmugxXCxIIDwKY/7rR6GEc8qPkEauqFuuPs2dKDlxDPCmDRiLouzatqIi1cph+QeVbH5bykqxXodYdEhGnqVJFLLhFxLNQo5OPFsSnHpxjRXKK6jUzxqvIBM9ysNmo6t7+r6BFRecBTO+vga8Wruuuu7M5zG5bXhn/wA5GnnhKhqh5hjEb2298mJzEwXAFACjIAACAASURBVLz5ZqOrvf3daV1DpXnTTckmRqOwusIzy7UUPnLCZvht8TZpk4bYOMM9/r3viXBC08iglFQbVzidU0qqTr5u1K/L39k4Q6Wqm2KkcYrjMhwf90YAnO3FpsoB9rEYimwjOABs+uMmwoROPQaJvaMyXp6+XwCAF19ceihSep0xo4qmio84wuToK3SjKGzZZZNRPvusSIoRJXPoHEVyJMnRJUeYDlbYxwvOYpT5dLlg+/dPiOhRLzz5ZIcZFngrCouvvZYcu9YoLOrg6913T4AvqQSaKVwFzqZ2V6QzkNagO+YM9bC85+G0ro87LuEeJ42lXdCl5rjZ8JBvygbogw/ynpqf9pVgEEWNpCU1srTEPO+eFGWik68b9evy93HjRJTGwMyZCXd+PUsHiQhMcNoRmEUAnP1AIgDOcbEGB4BNf9z33CPyf/8ngrw00VQDmekc3VqzafVCHbTqqtITIIRNmpTkAtczWxL7oieY7i8dtdaRfEZQAGEBrF0uns00Cvt4mUo+s5FhQ2NCYm/jAJ/3sFkDMGWogXXwNRtSNqbNUrCJrzLUwDLdqKKpBYvvOK1rUzUw02iqzzVn2xZH/KQZAWQRxmgUtb7lFpGf/KSm+I6Tr23Hr3MfqRqKx5lCxTq0p5XmmiBIFAFwBMA6S9/7NcEBYNMf97XXikBds8wyCbAI2Ba8UDfeWHoRVcGoJm/Er/noo63FGV9/3QoUA55rZWhLLSVQTFVU+hrxM7/3Xqs61SuviBB1dLDCPl5E4194QS9v2Vbp0MEPXm4lXYcjc4BCDVGTDr6mmJaoE8pTAdMStvHNSSclBaaAd9hWGpkq2CSX/8orG13t7e9O6xrKLAqgOJlBSayRNVvBJvNJvys5mendu/4sSUNCjbNGwaaTrxv51uXvpImpgsRXXxVRwZSsNpsgSBQBcATALj8J63uDA8DpH7cOEILWhWPZQDXO0w9mwQt1++2lF5X1unru0POQEkC+KZHSRlEN69Xg+cY11xSZPFmEfEmOX+sZIFKldlCtXINv1mR0hX28TIAQmwE2BRj5pptvbjKl8q5tIPncwddLLJEUPpJvCh1aMxhgnfxf3ZxeInBs1k87TaSGsFBeU3Za18jLE7HWZa5QBZswKxApbQYDEFZVCIVN9cor1x+1KtjcbDORCRPaXOvk6zx9lT4tA/CrdLqsPtXGJ+AgUQTAEQDn+ZPJbDs4AJzWc4cdoypRmjkBjmUvuihhHHjssVJ8qNtpmxcqRWG6eu7IW1MUttJKSZFYs5gJd/GYMSI775zMjIKbbt2cZlnYx4vINlFR6Peg4atnFEupdBf+d+ASwQumomiXYOl4/vkOM2zja8CV4i3nmdYR5XF6wL5v5pQCdhWEH2BbaWT8FskxhXGASGlB5rSu09zF//63CBuVetYg9aWgKZt1k+YuhlGmkeJdndQXJ1+bjdrsalgdqJegCFeH1UEFiWCNIpc/QIsAOPuhxBzgHBdscACYuapiqHbE5DXdQDUshXMQmAeocZ4ec5sXKtFOcnt1iMmJMiFHy8ucl3qzGLnZHL8dfLAIqSr1jGgheZVLLpmkTThaYR8vjvjhvdUpLEoDEObIXJvB2GCy0cygXWrja4CVEk8gqq9yFUOfJ3nqsFZwusIGrJ7kcxqA6LyjPM7daV1Tb6BYcqZMEWkk38ypGkVT5A6TItIMRlGYKmR74AERhDHq2W67icCsAxBup6rm5Ou8fQVbBRRucIr/7Gf1e4NxBnYlNjREjAO0CIAjAC5lWQYJgFV0RefHvcMOCd8jFHNESgO2Ni9Ujs7rFBa1mUaDI+hgp2xSWOSZVqqwj5dJYVEz0kqxuOoUCvHnNr4m5QUKKkznCDqUxQtTCcfgGAwmCGNkGXn4iteaUyfFd13AXJzWNYwzHINjFEY1knzmWu5h88omtlmMZ8MzYt2SvlHPlDgIjCwws6TMydd5+wpVPmjeSL8hQFLPlDgIKS2jRuU9Mqv2IwDOdluMAFstKb2bggTAJj9uOBzhckReFv7HgK3NC5XcyDqFRW2moeShuYdIabOYyq/TKSxStFLkxZIf62iFfbxUEaZOYZGShya/mTznZrG05DP5h0o5qzr+Nr6mgEzxIde4Ntgpw1WtIqIZks8Lxp6+tmDucad1PXduklpEBJuTGaKfWZa+Fko7ouPNYpxUoFxHgRvRz3pG8ds779S81snXeftKBX5IvyENp57xe4RZR+favMed0X4EwNmOjwA4x0UZJAA2iepy3EreF/yPREoDtjYvVI7OqR6HzxH533o2cGDCFsE9FOs0i8E5SvGbTmER+ZfkYcLHSqTU0Qr7eKUlcTk6r0fDB48u+bRUbVOs0yxG3qBi5QAsQP2Wsja+xh+o3AGSAcDNYjAGwOmMNaLhK5FWynlds1Ejwt2Ihs+GxzuUZ00kn4g+aRuc0NQzxeNNGh3rNmtdK8GbUOaooro6qX8UBfK+gdaO90+AFgFw9kOJADjHBRskACbSefPNjQuL0jKtFCARKQ3Y2ny8oFzi+IpoN9Xk9cxUpjUUH1AcRpEYjBdffFF/VEqmFZomIqWO5gwUdPsn4qlo7Cieoogqy445JlG5o7Cznfy5bnelXJc+OqdSXqUKVAfTxtfkUTJPqu9JgWgmU2Co0dF5ibRSzutagaFGR+fNyD2u1hpMFzBe8O5hU51lCF+o04waSo7Ovs5z7StRE4IjSFbXM6XkSMAF2r4ALQLg7IcSAXCOCzZIAKx7HA6oUoVE5NNSiBSwtXmhkspAxBoScyLY9Qx1O8DV9dcnlerNYmmVJdg96kVRUIqDYQBKOyKljlbYx8vkOHz//ZMcvIBz8Wq6Hf5imB0yaPva+Jo8Sv7JYIxwfKz53s5JBcVhjfiLS+Qed17XnDghNsS7h1OzLCO3WTHwNBP3OPOhKAywRwEchXBZhvSxokkjjU7Rp1Wvd/Z1nqtV0fbBuU3efZYRJEIpjt/uXXclNHgBWgTAEQCXsiyDBMCKnDyj6nyBo/jhwzWLBSrxmH6obV6ogEOlYMfROfRRtYy/KVopHUW1UlZRRqfpKBJAkeeZZZ5ppQr7eKVp+8iV3W677DlSLEW0JkNRLaRH12EsSMsih1sj1aiNrylGveEGEeSQSYdoJtNNNSqRVsp5XSsFu0apRs3KPc56Uwp2pO3AJZ9lMOqwUcNqKKo5+zrPtU/KBgxIqGeyQckyWFnUqZSO6FKeY67TdgTA2c6JEeAcF2WQAJgoGdGyRsIPRH0VCTjRYI7aA7Y2L1TyKol6YvWEH9JRCqp+VYV9wPNcMDSi1kSvsXrCD+kIo6coRaEfL9bdV18lfMCopWWZiTBIaM+3jvBDG18TYSLqVrBCmhd3kU9JKlUj4QdFK1VCKovzulaKd7AfkMucZaTqkMrSbNzjzEdX+GH0aBFSr7Aa3OPOvvayKDMaIYVKbbbrRegJDEFnhwXMPR4BcATAef5cMtsOEgATJVPUQvWA7W23JR8r8rgoYglcIa3NC/XTT5OPC/b3v4vAZlHLnnuula4IqWdFY1TKajHslOM3ODn5uNTL0TalZ9IYRqEfL8Qt+LiQ1036Tpbp5phqzK/wS+rkaLfxNcAq8IKbTN8dfXRSUb/ttkkhXJYpoEzRFJG4As15XcMHC4BHShemhCxTDC6NgHKBc9fuCl5fGC4acTo3AMrOvtYesMWFaWBbj9OZdaxYWXSkoS2G4uOWCICzvRgjwD5WWEYbQQLgdGoD5O1KPav9HFQeFPRFvAQCtzYv1LRiFpEIeIFrmZIvhZgfkvd6LAMhzp8cO6LYRJRQs6tlHFN65o4t9OOlFLMAFqTv1LI0d6yOfGloz1JXMYvnzYYGcME9zWS6nM5K4RDp5PPPL3SGzutapTawMSV9JytooAqR99oroWtsJkunNpC2QxFYLYM6k2JAgg8EIdqZs6/z9FlaVn38eJEf/KB2byaFyHmOt0HbEQBnOygC4BwXZpAAWBcsDBuWAA6dStgcfajbdIcXKmT7RILrEc0jBgJ/I8o/AMlmM0U0T0SJ3MlaBg2c2gAg76lynh3mWujHS4eSSHdT5zDnXG895ZSkuA0FQ04lUrbA11ttJb2UvG69TV2uA3VonNzloUNFlloq+V1mGTRwMFygkEeaQIHmvK51T9eIgrNRY9PK5rWZDIU03pcYDDsw7dQyGGfYqCHBTn1FO3P2dZ4+S5+u1ZNDVps6mISIGgdqEQBnP5gIgHNctEECYH7cJPcToajBz7jAHfvtl8gfky9MOkTg1uGFSpEGucDIHAMwahmsCADHGsAj8Okmw6PYhmIoim8AGLXsuuuSaCH5wkQPPVihHy9FSUQUhmhMLUvnq3/5ZauSmIe5FtIEKouAoRo5ocrXg9ZeW3rCpIDVS+spZMAWnaQ3Ypy2UD3f3nSBh0X3Orc4r2vdjZiiXhw5UuTEE3WGFs41s2e3Prt6hcMA3zFjRDKoF519nbdH1OkaaS2k79QyfrP8dhul9eQ91gbtRwCc7aAIgHNcnEECYOZLWgPMAfUoiXSrtnP0n0nTHV6o0PTABgFtD5HeWqYEImCMIB2i2UyHkigHgYhCP15K8KNeKs6f/pQQ7ffunVRtB56v3mGZcQy+zz4JsCBKnxr/AgC8xBLSU+Xuf/yxCKILzWRQYalcfE5bVBQxPYd0vjoc0KgcFmjO65piTVUsXE/GWckJw8cO20Czmc7pWgMVUWdf5+0zdbpWT/CDFBaEhQJXEY0AOALgvH8uNdsPFgATTYM5oJ76mQLJABDSIQK3Di9UHUoiHZAc8ryJbqNVX4+SSAckG86x0I+XKsasB251QLLhHAu9vI7gh/L1jjNmSA9OZchvb6SKV+jgNTsDtMPLjcFJrSiy0renQTJpEIpHVrML18uc1zURbNYpIhBsynhe7U03Bc11Mnnej9oiNIz1TtcoKK6Tr+7s6zznR9s6p2s6IDnvcWq0HwFwBMAay8T/JcEC4EaV1jovcv/ucmqxwwtVp9JavciJkpIO0WymRAPqpTcQ3UZdi2g3Yh8erNCPl056Axu53/++afLVOzwCwJ6SQG4nGqB8Pfjdd6U7HMcUHVF81Gw2d26Sf86/iZoBMNobR+YcnWNZaRI5ztvLul51VREkrbNO12A0UYXH//hHK9d6jvPy3vQOO4jAy511upbmV8/IV/fia+8TSzWImMlVV9UX/PDMr57XdCIAjgA4r7VVt91gAbCSjeVIlaO69pZWgaOwg3SIwK3DC1WHa5OCHCp+m00FTj2LNNdmFmAgv/mFF7ypwNF1oR8vHcBA+gMRt2ZTgVPPkbxKmAPgbL73XpFdd13wa1O+3umZZ6QbVHBwBvM8m9GgB5s6NbvATZdjNqe5e1nXirWEvFHyR9sbxW/kjGLNpgKn5nLwwck7E/o+aNHaG8+YZ43VUIEr/B1is14oSqV2ZO21Rd54o2MLOfCr2wxT554IgLO9FHOAdVaQ5TXBAmB1ZJylBqfLg2jplzxu6/DxUhRnHBmTVwnVWdr4b0o+GHEB0iGazdIUZ0SdVBQxPQ9yLancplgDJTEP5gUo6I4jfWQM76YCD+n7m1kFTs1DPSe4cmEmqZry9c5/+Yt0hXYJcAxIbkZDTp1Cxiy1vgbUWXlP2cu6VqlXWWp95P2SM0oeMAWbzWhKDY4TNHip2xsiICp/mzQIJdiTus6Lr/P03S23JMI7WalX8MYvt1wyAuZLOkSgFgFw9oOJADjHRRssAFZFN926JeCwPf8tx1scc2EBE3ynH12HFyqV8htumFxCREIJY6ibAIwcV2K8xHmZN5ulI/W1im7QqCeyyLEzGwLSITxY4R8v5EaRHYXRAiqt9sZGDuGBJslXr/kINt9cZMIEEVgvfvvbBZcoX+9y8cXShWcMOAYkN6MBKAAWKNqhStjeDj00oS3MiizmPGcv6/r00xO5YLi3UZdsb0TxKawiDQIe9ma0m25KmGcQnwHEty86rVPUqabrxdd5+o4aGcX/WwvE82wVBVxWUWee4zNoOwLgbGdFAGywkEwvDRYAc4TK0ThWi8xcHUV6pM4y9Z3p9R1eqGmp4Fpk5mm5y2akzlIOghuW8d94o8gBB7R1W53cUlP/pq8v/OPFh4YPDgV/kOunDZBPJJ9/Z+WWuky2qHtVGgf5+dAPVk35etdhw6RzvdzSosbp0o/iO2ZjiqBCe4OvGrq0DOosl6517vWyrkkNIEVgySWT9Kr21iTUWXX9leY7Zo7MNW1wOBPlr6OI58XXOg/V9ppp01qDJqxVFUxR7VFXQUCB4BFBJIJJgVoEwNkPJgLgHBdtsAA4fXxD1Gmzzdp64eSTRSD5bqJ8ww4vVAr5iFD8978iteiGFD8u0UXAcrPaeuslEWyAIQAxbekCMiKoSkjBca6Ff7xURXYtuiGiL4otoBn5cdWzICpIdHCTTUSefXbBE6r4euxY2W2//aQTucL1ZK8dn2vut6uNNTRa06d37I58S6KiJRWlelnX6Y01tGi8g9KmZK8ByUS7m9HSG2s2pkppUs1FyV6TD03Ocw3z4us8fcepGadnbKyJaEN5ljYF8nn34I+ALQLgCIBLWZ7BAmDA4SKLJDvXWnQ9KhoFNylKOE1gNV+o66yTKPTU+qCeemry37OiUU0w58oQd9stKUSpxfKg1LcAvgBgT1b4x4toEh8cckgB9Wkjus9/x2pFozzNOfdmrrwyqaqHKuzDDxd0h6/H33abDFLSx5zesDFtRhs3TmTHHZORszHlHaSs0TupgPl6WddvvSWy+urJaBHiWXfdtiNX7ySKrAg0NKOlizYR4iHfOW3kqSOSQboSgYYa5sXXefuuXmqVAvlZheR5j82g/QiAs50VI8AGC8n00mABMBNZc00RlItqqRERESYKdcIJSVSqCazmC1UdqZJbeM01bWcBAT1KeOzs2eE3q6kj1W22ESH6lDaVjwgpPdFRT1b4x6tetIXCMFI/KCoiJ7rZRDDUM0kzeqQkq/H1ixdfLD+A1g/LKCry9GjzbQbaL1TQMCK9ig6M///RRwnFG4YctErRyndEbVr3sq5hYyFyiLVXSkuDfPitUdlsVlMUYLWU0uoFHqrz9eLrvH1Xj9FDgXyP9JJ5TScC4GzPRgCc16oTiu/flxVXXFEmT54sq6uoQI79GTWtuByPOEKE6FPaqG4lTeKKK0TgQ2wCq/lCVVyO22+fqMKlbYstRBAgqCcG0gTzrhR+UThFQR/Rp7QBDAGIpBCQH+vJCv94EWViDrUYPVRFej0xEE/zzrUZhAVUIeaUKYlaY5VybuLw4bLhhRc2r9Kdchzy61TVY0SDVaEt/z8tBlISyPe2rgHyAHoUKInqK0uDfAIMpLs0qykxJUSSeAcpS3PIE2DgNLGGefN1nv5TSqGcspHzmzYi+9Cj8f7hNDFgiwA4++FEAJzjwg0aAEOJBcBtHzlExUgdTVKQoo4sc/STj6ZrvlAVOKxVjLHCCslRs0d6MB/zMG5D0b1B8wbASBdjKDnrLNop486SGwr/eKXp3gD5ir2DwaiPVDPTgzGPtIwumzU2bVVfv3fwwbIWqUpZnKSWz7GU25RCGCIDhx/eOgRFD5bFLFDAYL2ta3WCdvzxIuef3zryNMgnwIAvmtWyGD3Sin+16kuq8/Xm6zz9p2j5qLOAz1gZIH/RRZP3bRPIWUcAHAFwnj+TzLaDBsBKKAIgCE+ssnQkqomUimq+UDmCBBhxLE7OoeL9hdpNFaegPjV4cCnrw0unHCUDjLD2x8oqkt8+EuXYceEfLz40fHD48LQ/VoZvFB7OZo/k80xU5JDfJqktVQD86Y47yorkOnuO5DsuA7vbFd1b+00ZRZwAjvZgw64Xq7u8rWsFDttzASuQX0/W22rkJdyk0qvacwEDennGGGB42WVrDs6br/Ocukqvav+80kXk0KWp+eY5Foe2IwCOANhh+djfGjQAThekpKuVKXpDUYtIIsCjvYCEvTtyvbPmCzVdkEIUkWNyDFqbjTZK/jcVvIpFINcR5tQ4sqNE7Ntz/aZp4GpxBDsMp5SPFyIfPKu0xCyAGAomaOCoqKeyvpmN0xieFak7nM5UAfDMddeVJaBAo2iK4qlmNor5KIxCeAYBGmWq8LZEkO9tXcOgw7Mi7Y06C2WKBq5EkO9t6UDVt99+It27J8EF9Z1Q7DoNIvnefO1tQjUaStOFprnk+Y3yW8VKStcxmXYEwNneiikQJivJ8NqgAXCayibNc6h29uQ4UcXcJFbzhQqFDeCQqmWAPawWWHpnD/hvLwTSJHNeMMw11hAhb5QPL3RaWJrIvU4kxmaqpXy8iNIDmABQ0Glh6ZxKjpeV+pTNpEK4R6UlpeijWv77X+n2zW9KVzY6TXDc2tCNKi2JIipAhTI2p7xvyKckr7IE87auVc467xWCCD16JLOBN5Zc0iFDEkGQZjaelQooIFfOOwgjJ5h8ddJAiAZnmDdf5+nDrJNC0uY4oSG6zbs1cIsAOPsBRQCc4+INGgCjZc7RDhXn6WIFQCKsCESBR43K0Tt+m858oSpu0bPOSrTdMcW52kQ8x3W9pajQKHpDEANTnKvwHH/6qVd2hFI+XooKjeLFJ59M5gjHqJJGbmYKNPVw1YeV1BXAvYjMePNN6anYEmoR8vv9GeXfGnUFsLNgyFyT2sIGlXdR+41q/qNp04O3dU3UF5YdLK0ySe46kfz0RrXgOXrrDrYLggt8R9Iqk6q4uhbzTqpzb772NqGMhqgfYaOWPnmicPzqqzvWz+Q9Fsv2IwDOdlwEwJaLSue2oAEwE4Aei+T+NN2ZAoy1hBV0Jl3SNZkvVGjOYEBIcxrXAowljdtLtzw/5HPTnMYKMJKfRjTYo5Xy8eKDw4eHlAfSO8jrrgEYPU6z+KYefnhB8Vtljt/8psy85x7poSSsFWAsfmT+ekyfPClO43TdQfs8dn89N2zJ27rm5AlAT9SeIALBBNIEAPtY+zz2hiML9AJFpfmb34gomj6Vx16LHq0ZAbCi0kxzGisGDLiAmWfgFgHwQgSAH3roIbnhhhvkueeek3feeUd+/vOfy2V8CDXs66+/luOOO07uvPNOmTlzpmyzzTZy6aWXysrtckChLTv66KPlySeflN69e8v+++8vI0eOlF6qiEqjLy4JHgAjOUqkUJF5wwABn2qW+o3mvMu4LPPjBc8xL+f0kSvPGwUxOI4Bj81uKm+bPDxSOlinPFMkS6m0p+Leo3kDCiZjSufjEWEjv5KPEmIf220n8tBDJq2FeS2RelTSMNI9Bg2S2SNGSLczzpB5/folUsjNbkQMOZUgbxv6RTY1MFyQA0yqAMfOJdUdeF3XqKNRd6CYINLrt9nrDtQa3HPPJPqruNTTdQdwkqs82Rpr1quv8/xN8PyI/ioudeoOWL9wjrMp5xsauEUAvBAB4GHDhskDDzwgm266qdx9990yZMgQbQC8yy67yN///nf53e9+J4sttpicdtpp8tVXX8mrr766ANx+8cUXsu6661ZA8amnnirTp08X+txxxx3lFsO8reABsCpYIDLBD5pqena3GABxxRUD/2m3Di/zhZouWOBYmQ8wzBcYqmJKRaxpZlpjoGk5YHJhERFA/Y2oE88YoOjRSvl4EU1bfPEkZeemm0SQRVZcnMOHJ6p+C4OpfG5y8UeMkLk77yxdxoyROfvsI12bRJWx4WOAWpEiXMRoyGtWeaMlqzJ6Xdfw/wLwyUvnN6lOK/hdkq7TrIIt6YcLMAQgkrIDpSTpLTvvnFzBZm6ppTKXgldfN1xwDhdwegjAJ58bNU3mqcRcmkSVMQLghQgAz5s3TzpXi5b69u0rgFqdCDARY0Dz6NGjZadqDto///lPWXXVVStR4COIRAhBwfPkzDPPlKlTp8q3vvWtyn+77bbbKkB74sSJspZa/Bq/qeABcLqQgf8NJdiJJyYAMU2NpjHXsi/JfKFybMxHB+BLcQp5hqRDIKpAFEoR85c9AZf+iUrwzAD4FBlRRLXBBkmLHC+jzOTRSvt4qaNHWBI4diUSw9wpLCKtZWGwAw9MAD48wA88IPOXXVY6ffqpzDrvPOm+MJxW8IzIxz/tNBGkZt9+O2FkIb/5mGMSyeuSzOu6pq4CgA9LAu8Z8vPZwOyySyJdvjAYYh4Uu2Ew7lx/ffK71OCr9urrPH2ZpjzjVIbvIoW45D8TNErzruc5Doe2IwBeiABweiomAPj000+XSy65RD7//HPplNp9b7311rLooovKfdWX0pZbbilLLLGE3JNSfiFdYvHFF5dzzjlHjoVvVNOCB8BQZwEiODb//e9F7r03iYpCb8OxZBNZ3ReqOo6kyp4IIlFRoqRIri4spnKd2dyR90tUlON0qpQ9s1yU9vFSuc7kHsIZi5QsGxmoiMgNXhgMyW7SVjiV4YNL0R/FcM8+Kz2bWTks/Ww4HidtBXvpJRGKUXkXUXzLOi7JvK5rCqcooMLI7Watsk4XlrQr5sWpDMEFUuegISTVio0MaQGkB9Qxr77Oe72oXGdS6QD6d9yRFN/yXJvAIgDOfkhNXQRnAoD33XdfIeL7LLvWlJFDPG7cOHmrKiO7zDLLyNChQys5v2lbZ511ZLPNNpNr+aFrWvAAmHko/k1yZD/4IPkQNaFOfd0XKtRKHJEDkogYsnNPs0JoPs+gLyMXllQH8ic5kiRSQTSR/+7ZSvt4kdNMbjNG9JCcWKLCiEQsLJZOZ4E14O23pYVN6rRp0kspNDb7XAFMUEhxOqOeI/m/RNtIcynJvK5r3jOwd5CvDof1u+8ms5o4sfUIvaR5eu1WFYml5zh6dCvTR0ZnXn3tdUI1GvvFLxJZawIKpJVBbZcSq8m7e9f2IwDO9uD/NwB4++23ly5dulTyh9N2yimnyBVXXFGJDGPdunWTs846S05SfKrVi7fYYgsBHP+FnKAMI5+Yf5R99NFHsvHG29/BIgAAEWhJREFUG8trr71WSbUI0TqPGSM99t57wdDmL7aYzOClTTFcE9mMGTNk/PjxMnDgQOnZs2ebkXeaOFF6EmWq2vzOnWXmyy/L/NVWa6IZNhjqv/8tPVddVToR4a7azNGjZR7pEJ6tnq89d9W2ublzpcdaa0nnVHrOrEsvlbnNLoDRzmndeVeRN1q1yXvtJUv/4Q8d1nWuvs658W6HHSZdUzUVc3ffXWaVfOrke113HTlSuqU4jed997sys10AJmc35958l9tvl+5stNW7damlZAbBJMV9nDEC377Oc6KdXnxReiIrr+bYrZvMYCOjakny7NxD22+//bb0799fpk2bJn369PHQ4sLTROkA+MsvvxSAYiPr16+f9Gj3ozKJAAOAu3btKmNJ1E/Z8OHD5aqrrpLPqGCtAuCzzz5bTiQXNmWbb765LLfccnLXXXdlDnXEiBFyBvRh7YyosconbjTPwv8+f75s8etfy1LIHhOgGDJEpijBiMIHk1+HG1x0kaxIeoeITN12W3m5KjWbX4/Ft7zmqFHynSp386frrCNPE/VeGIptUq7s88QTsiFE+yLy32WXlUcvvVTmkWe5ENk3J06ULYYPl07z58us3r0rc5xJFHghskU+/li2PuYY6Tpzpszt2lWeuPBC+bqJim51HkXX//xHtjnmGOlV/bZMOP10+QQ2gYXIOs2ZIwNPPFGWIJdbRF457DB5T/E8LyzznD9fNjrvPPl2dfPy1m67yRueC4vzdNWnn34qhxxySATANZxcOgC+8cYb5aCDDmr4/F966SX5HrmcKTMBwEWkQDRjBLjizs8+k67XXFMpuJnLbt5zzmjDh+vhgoYRhZYW6Xr11TK/a1eZSxFDuyixhyGU38TcudLlhhuk02efyRzy8HLKi23o65w90eWuu6TTG2/I3KFDZf5CGtHo/Oij0vnxx+V/e+whj3/ySc2TjZzdnHvznf72N+lyzz0yb6edZN6mm+beX6MO8ljXnd5+W7r88Y8yb5NNKvNcKG369OT70a+fzCWlTmPTnYevc/Xt//4nXa+8UuYvskjy/WiC4jfljxgBzl4ZpQNgl0VrAoBjEZyLp8O/t6lyysJ3Z90RRl8X9wCjr6Ovi/NAcT3FdV2cr2MOcATAFeEMaNBIgYDTFyMnZpVVVulAg0YOMDRoS1V5DEeNGlURw1joaNCK+w3m3lN8oebu4gUdRF9HXxfngeJ6ius6+ro4DxTXUwTACxEABpi+AAG1iPzsZz+TDTfcUA6uFsHsnSrmIt/3gAMOkOugvKoanMGkUqSFMMhBriWEQXQ5LYQxaNCghU8Io7jfYO49xY9X7i6OALg4F0dfR1+X4IHiuozv6+J8HQHwQgSA6+UMz4d6pmpw/QKAuV4ZObpKCnnWrFl1pZCPOuooeeqpp2SRRRapRH8RyFjopJCL+w3m3lN8oebu4gjKinNx9HX0dQkeKK7L+L4uztcRAC9EALi4ZePeU1PwALtPM4gW4gu1uMcQfR19XZwHiuspruvo6+I8UFxPEQBHAFzcakv1FAFwcW6PH6/o6+I8UFxPcV1HXxfngeJ6iuu6OF9HABwBcHGrLQLgUnwdX6jFuT36Ovq6OA8U11Nc19HXxXmguJ4iAI4AuLjVFgFwKb6OH6/i3B59HX1dnAeK6ymu6+jr4jxQXE8RAEcAXNxqiwC4FF/Hj1dxbo++jr4uzgPF9RTXdfR1cR4orqcIgCMALm61RQBciq/jx6s4t0dfR18X54HieorrOvq6OA8U11MEwBEAF7faIgAuxdfx41Wc26Ovo6+L80BxPcV1HX1dnAeK6ykC4AiAi1ttEQCX4uv48SrO7dHX0dfFeaC4nuK6jr4uzgPF9RQBcATAxa22CIBL8XX8eBXn9ujr6OviPFBcT3FdR18X54HieooAOALg4lZbBMCl+Dp+vIpze/R19HVxHiiup7iuo6+L80BxPUUAHAFwcastAuBSfB0/XsW5Pfo6+ro4DxTXU1zX0dfFeaC4niIAjgC4uNUWAXApvo4fr+LcHn0dfV2cB4rrKa7r6OviPFBcTxEARwBc3GpL9fTee+9Jv379ZPz48ZV/R8vPA3y88PPAgQOlV69e+XUUW5bo6+IWQfR19HVxHiiup7iui/P1u+++W/ku8u++ffsW13ET9NRp/vz585tgnE05xMcee0y22Wabphx7HHT0QPRA9ED0QPRA9MDC4YFHH31Utt5664VjMp5mEQGwJ0fWauatt96S1VdfXSZMmCArrrhijj3Fpj/66CPZeOON5fnnn5fll18+OiRHD0Rf5+jcdk1HX0dfF+eB4nqK67o4X0+bNk0GDBggpEKsttpqxXXcBD1FAJzjQ3r//fcrwJcF2KdPnxx7ik1HXxe3BqKvo6+L80BxPcV1HX1dnAeK6ymu62xfRwCc4zqMCy9H57ZrOvo6+ro4DxTXU1zX0dfFeaC4nuK6jr4uzgMRAJfi6/gjL87t0dfR18V5oLie4rqOvi7OA8X1FNd19HVxHogAuBRff/XVV/L73/9ehg0bJosttlgpY/j/pdPo6+KedPR19HVxHiiup7iuo6+L80BxPcV1HQFwcast9hQ9ED0QPRA9ED0QPRA9ED0QtAdiDnDQjycOLnogeiB6IHogeiB6IHogesC3ByIA9u3R2F70QPRA9ED0QPRA9ED0QPRA0B6IADjoxxMHFz0QPRA9ED0QPRA9ED0QPeDbAxEA+/ZobC96IHogeiB6IHogeiB6IHogaA9EAJzD45k8ebIcffTR8uSTT0rv3r1l//33l5EjR0qvXr1y6O3/7yZR27vgggvk2Weflddff12+853/196dh/qYxXEc/yKUFLIv2ZexS2QPKUtR9n+UkDWErFmyE0K27CF7tij7HyQla5ZsSZF9SUQiS9PnmJ/ca7vdOc+dzPd9aprM3HvOnNd55vf7POc55zx/hb9T4grs2LHDNm/ebOfPn7cXL15YhQoVbNCgQTZgwADLnj173Mac13b48GGbNWuWXbt2zbSDu2TJktaxY0ebPHmy5cuXz7lOst1/8+ZN+Ax58OCBnT171urVq5dsg45qX79+vfXu3fu7Ho8dOzZ8P1LiC6xdu9YWL15sN2/eDCdRNWzY0Pbt2xe/oT+0RgJw5IF7+fKl1ahRw8qUKWOTJk2yp0+fhmPQ2rZta5s2bYrcGtXt3bvXhgwZYg0aNDDdeHz+/JkAnMBloQ9OXdOdOnWyokWL2rFjx2z27Nk2fPhwmzdvXgIt+q1y69atdvny5fBq7wIFCoTrecqUKVa3bl07cuSIX5gs6LnC2IYNG+zJkycE4MjeqQB86NChNDdyusHTG1MpcQX0mbFw4UKbMGFC+H7UxIXsV65cGbehP7g2AnDkwZszZ45NmzbN7t69a4UKFQq1b9myxXr06BFmdKpWrRq5Rd/VKfCmZiB79epl586dIwAncEk8e/bMChcunKZm3dgtX77cdNOXO3fuBFqlypTA6tWrrX///mFmskSJEsAkIHDjxo0w4zt//nwbOHAgATiycSoA67Mk9d0YuQmq+0fg+vXrVrNmTTtw4IC1bt0al58IEIAjXxrNmze3/Pnzm2YmU+X9+/fhjnfmzJk2cuTIyC1SXUqAAJy118LGjRutZ8+e9vDhQytevHjWNu6std27d1uXLl3szp07YSaeEl9AQaFWrVrWvn17a9myJQE4MjEBODLoL6rTk4w9e/aEp6KUnwsQgCNfHUWKFLE+ffp8t6apevXq1qhRI1uzZk3kFqmOAPzfXAOakdy1a1dY5pMjR47/5j/if9zqp0+f7MOHD+HJkT5TSpcuzfq9hMZ7586dNnjwYLt165ZduHCBAJyAcyoA6zvy+fPn4UauX79+NmbMGD4/IntrIk6z7HXq1LElS5aEp3TKH4sWLQr/jPJFgAAc+UrImTOnTZ8+3caNG5em5qZNm5r+x9dMDiUZAWaAk3H9Ua1aaqIPVG3MmjhxYtY17KilUqVKhSUPKtpDoJCmTbWUuAJv374NG9+0ZlI3GsePHycAxyUOtWlz5+nTp8N61GzZsoWbOS2h0mbapUuXJtCi3yqrVKkSnsxpfbU21ObKlcumTp0aniDpJk9PqSkE4OjXgALwjBkzTI8gvi1NmjSxYsWKhRkzSjICBOBkXNPX+vjx4/AlpoCmsKBrnhJfQBvhdCrB1atXw011xYoV7ejRo8yWRaYeP358cFU4034CAnBk4F9UN3r06LBR6969eyyjisheqVIl0wlJ2kCrp88qjx49snLlyoU9Spp1pxCAo18DLIGITprhCgnAGabK9A++evXKWrRoYe/evbOTJ09awYIFM10Xv5hxAR0/pw1aOo6ua9euGf9FfvKXAtqsXLly5bBesnHjxuFndV136NAhnHQi87x586KYkICOmtNpJ9qs1a5du4Ra8VetJih0bWuy4tui5Q+1a9cOJ51QCMDRrwE2wUUnzXCFBOAMU2XqBxV627RpEx6hnTp1is1YmVLM3C9pPbBO2tDTpfTLqzJXI78lgdRs7880FCR0xjglGYEzZ86Ep0kE4Li++i7UkWfpA7DCr45TXLduXdwG/9DaWAMceeB0DJoeV+ruKzU7tm3btvAyDI5Bi4ydrjoCcHK+Hz9+tM6dO9uJEyfCX9otT8k6Ac1KNmvWzLZv327du3fPuob/5y1pc9DFixfT9FJ/HjFihK1YscLq168fAgMlGQGdiqSNWffv3w9LBClxBLRfoFu3bnblypXwXgIV7ScoX768KaPo/HYKM8DRr4HUizDKli2b5kUYmjnjRRjRuU0bWDR7oLJs2TK7ffu2LViwIPxZs/Hpz66N/1/go0a98W3VqlU2d+7cEMS+LdWqVQtvGaLEEdCNhh696yZDb4+8dOlScNcLSPTIWBtaKMkJsAY4GVt9B7Zq1eprINMmOH2mDBs2LKwDpsQT0BMjLS15/fp1eGqkzwyt/dWJPXorHJtpv1gzAxzvmvtak87eGzp0aFhLlidPnjD7q7suXoUcH1u7WrWw/0dFa/i0XpXy7wV0Q6enGjj/e8vf1aDXwmqmVzdzetGL7BWKR40axY3G7/Ai/HsCcATEH1ShoHvw4MEw26vrWmuv+/btG74rdSoEJa6Awq6eZOzfvz8cp6gJId1o6IQICgGYawABBBBAAAEEEEDAoQAzwA4HnS4jgAACCCCAAAKeBQjAnkefviOAAAIIIIAAAg4FCMAOB50uI4AAAggggAACngUIwJ5Hn74jgAACCCCAAAIOBQjADgedLiOAAAIIIIAAAp4FCMCeR5++I4AAAggggAACDgUIwA4HnS4jgAACCCCAAAKeBQjAnkefviOAAAIIIIAAAg4FCMAOB50uI4AAAggggAACngUIwJ5Hn74jgAACCCCAAAIOBQjADgedLiOAAAIIIIAAAp4FCMCeR5++I4AAAggggAACDgUIwA4HnS4jgAACCCCAAAKeBQjAnkefviOAAAIIIIAAAg4FCMAOB50uI4AAAggggAACngUIwJ5Hn74jgAACCCCAAAIOBQjADgedLiOAAAIIIIAAAp4FCMCeR5++I4AAAggggAACDgUIwA4HnS4jgAACCCCAAAKeBQjAnkefviOAAAIIIIAAAg4FCMAOB50uI4AAAggggAACngUIwJ5Hn74jgAACCCCAAAIOBQjADgedLiOAAAIIIIAAAp4FCMCeR5++I4AAAggggAACDgUIwA4HnS4jgAACCCCAAAKeBQjAnkefviOAAAIIIIAAAg4FCMAOB50uI4AAAggggAACngUIwJ5Hn74jgAACCCCAAAIOBQjADgedLiOAAAIIIIAAAp4FCMCeR5++I4AAAggggAACDgUIwA4HnS4jgAACCCCAAAKeBQjAnkefviOAAAIIIIAAAg4FCMAOB50uI4AAAggggAACngUIwJ5Hn74jgAACCCCAAAIOBf4G+fBzELC5oHEAAAAASUVORK5CYII=\" width=\"639.9999861283738\">"
      ],
      "text/plain": [
       "<IPython.core.display.HTML object>"
      ]
     },
     "metadata": {},
     "output_type": "display_data"
    },
    {
     "data": {
      "application/vnd.jupyter.widget-view+json": {
       "model_id": "cb51cca1e8f04a05b94e349925d652ec",
       "version_major": 2,
       "version_minor": 0
      },
      "text/plain": [
       "interactive(children=(IntSlider(value=10, description='w', max=10, min=-10), IntSlider(value=0, description='b…"
      ]
     },
     "metadata": {},
     "output_type": "display_data"
    }
   ],
   "source": [
    "%matplotlib notebook\n",
    "\n",
    "import numpy as np\n",
    "import matplotlib.pyplot as plt\n",
    "from ipywidgets import IntSlider\n",
    "\n",
    "x = np.linspace(0, 2 * np.pi, 2000)\n",
    "fig = plt.figure()\n",
    "ax = fig.add_subplot(1, 1, 1)\n",
    "line, = ax.plot(x, np.sin(x),'r-')\n",
    "ax.grid(True)\n",
    "plt.xlim(0,6)\n",
    "plt.title(r\"Function $sin(wx+b)$\", fontsize=15)\n",
    "\n",
    "def update(w=IntSlider(value=10, min=-10, max=10), b=IntSlider(value=0.0, min=-10, max=10)):\n",
    "    line.set_ydata(np.sin(w * x + b))\n",
    "    fig.canvas.draw_idle()\n",
    "\n",
    "widgets.interact(update);"
   ]
  },
  {
   "cell_type": "markdown",
   "metadata": {},
   "source": [
    "# Use Binder to visualize the Jupyter notebook on the web\n",
    "\n",
    "The Binder is a cloud platform, which provide executable environments for the Jupyter notebooks. \n",
    "In order to use the Binder, one need to set the repository at GitHub. "
   ]
  },
  {
   "cell_type": "markdown",
   "metadata": {},
   "source": [
    "1. In the GitHub repository, some configuration files are needed for the Binder. For instance, the \"requirements.txt\" file should contain all the required Python libraries. Binder will install the libraries automatically from the _requirements.txt_. In this tutorial, we need numpy, ipywidgets, ipympl and appmode library. Besides, the postBuild file will be executed after the installation of the libraries. Here, we need to enable the widgets for the Jupyter notebook by: \n",
    "\n",
    "```console\n",
    "jupyter labextension install @jupyter-widgets/jupyterlab-manager@0.38\n",
    "```\n"
   ]
  },
  {
   "cell_type": "markdown",
   "metadata": {},
   "source": [
    "2. After setting the GitHub repository, one can simply input the GitHub repository name, git branch name and path to the notebook file at Binder website ([https://mybinder.org](https://mybinder.org))."
   ]
  },
  {
   "cell_type": "code",
   "execution_count": 31,
   "metadata": {},
   "outputs": [
    {
     "data": {
      "application/vnd.jupyter.widget-view+json": {
       "model_id": "9072bd9366474de89667f680e2589927",
       "version_major": 2,
       "version_minor": 0
      },
      "text/plain": [
       "Image(value=b'\\x89PNG\\r\\n\\x1a\\n\\x00\\x00\\x00\\rIHDR\\x00\\x00\\x03\\xbc\\x00\\x00\\x01\\xba\\x08\\x06\\x00\\x00\\x00+\\x85J\\x0…"
      ]
     },
     "metadata": {},
     "output_type": "display_data"
    }
   ],
   "source": [
    "file = open(\"figures/fig_mybinder.png\", \"rb\")\n",
    "image = file.read()\n",
    "widgets.Image(\n",
    "    value=image,\n",
    "    format='png',\n",
    "    width=800,\n",
    "    height=400,\n",
    ")"
   ]
  },
  {
   "cell_type": "markdown",
   "metadata": {},
   "source": [
    "3. The webpage for the Jupyter notebook can be simply presented by opening the URL link in the browser. "
   ]
  },
  {
   "cell_type": "markdown",
   "metadata": {},
   "source": [
    "# Appmode"
   ]
  },
  {
   "cell_type": "markdown",
   "metadata": {},
   "source": [
    "Appemode is a Jupyter extensions, which turns the notebooks into web applications. In another word, the Appemode will hide the python code and only show the markdown and widgets. </br>\n",
    "\n",
    "The appmode can be installed by conda or pip. </br>\n",
    "\n",
    "```bash\n",
    "conda install --channel conda-forge appmode\n",
    "pip install appmode\n",
    "```\n",
    "\n",
    "\n",
    "\n",
    "\n",
    "After the installation, the jupyter needs to enable the extension by\n",
    "command lines: </br>\n",
    "\n",
    "```bash\n",
    "jupyter nbextension     enable --py --sys-prefix appmode\n",
    "jupyter serverextension enable --py --sys-prefix appmode\n",
    "\n",
    "```\n",
    "For using the Binder, one needs to put the above two commands into the postBuild. \n",
    "\n",
    "One can simply change the \"notebook\" into \"apps\" in the Binder URL to open the Jupyter notebook in application model. For example, change _baseurl/notebooks/foo.ipynb_ to _baseurl/apps/foo.ipynb_."
   ]
  },
  {
   "cell_type": "markdown",
   "metadata": {},
   "source": [
    "# Jupyter lab"
   ]
  },
  {
   "cell_type": "code",
   "execution_count": 32,
   "metadata": {},
   "outputs": [
    {
     "data": {
      "application/vnd.jupyter.widget-view+json": {
       "model_id": "06806a3d5627454e9fb72da1fd6208c9",
       "version_major": 2,
       "version_minor": 0
      },
      "text/plain": [
       "Image(value=b'\\x89PNG\\r\\n\\x1a\\n\\x00\\x00\\x00\\rIHDR\\x00\\x00\\x05\\x00\\x00\\x00\\x02\\xd0\\x08\\x03\\x00\\x00\\x00\\xf8\\xa3-…"
      ]
     },
     "metadata": {},
     "output_type": "display_data"
    }
   ],
   "source": [
    "file = open(\"figures/fig_jupyterlab.png\", \"rb\")\n",
    "image = file.read()\n",
    "widgets.Image(\n",
    "    value=image,\n",
    "    format='png',\n",
    "    width=800,\n",
    "    height=400,\n",
    ")"
   ]
  },
  {
   "cell_type": "markdown",
   "metadata": {},
   "source": [
    "JupyterLab is so-called the next-generation web-based GUI for Jupyter, which has much more powerful interface. \n",
    "Install the JupyterLab by conda or pip. \n",
    "\n",
    "```bash\n",
    "conda install -c conda-forge jupyterlab\n",
    "pip install jupyterlab\n",
    "```\n"
   ]
  },
  {
   "cell_type": "markdown",
   "metadata": {},
   "source": [
    "The JupyterLab can be opend by replacing the <font color='red'>tree</font> at the end of the URL with <font color='red'>lab</font>."
   ]
  },
  {
   "cell_type": "code",
   "execution_count": null,
   "metadata": {},
   "outputs": [],
   "source": []
  },
  {
   "cell_type": "code",
   "execution_count": null,
   "metadata": {},
   "outputs": [],
   "source": []
  }
 ],
 "metadata": {
  "kernelspec": {
   "display_name": "Python 3",
   "language": "python",
   "name": "python3"
  },
  "language_info": {
   "codemirror_mode": {
    "name": "ipython",
    "version": 3
   },
   "file_extension": ".py",
   "mimetype": "text/x-python",
   "name": "python",
   "nbconvert_exporter": "python",
   "pygments_lexer": "ipython3",
   "version": "3.7.4"
  },
  "widgets": {
   "application/vnd.jupyter.widget-state+json": {
    "state": {},
    "version_major": 1,
    "version_minor": 0
   }
  }
 },
 "nbformat": 4,
 "nbformat_minor": 4
}
