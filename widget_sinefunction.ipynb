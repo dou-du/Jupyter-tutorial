{
 "cells": [
  {
   "cell_type": "code",
   "execution_count": 244,
   "metadata": {},
   "outputs": [],
   "source": [
    "import math\n",
    "import numpy as np\n",
    "import bqplot.pyplot as pl\n",
    "import matplotlib.pyplot as plt\n",
    "from matplotlib.pyplot import figure\n",
    "from ipywidgets import Accordion, IntSlider, HTMLMath, Dropdown, Box, HBox, VBox, Layout, ColorPicker\n",
    "from IPython.display import display"
   ]
  },
  {
   "cell_type": "code",
   "execution_count": 245,
   "metadata": {},
   "outputs": [],
   "source": [
    "k_slider = IntSlider(value=0, min=-10, max=10, description = \"$k$\", continuous_update=False)\n",
    "w_slider = IntSlider(value=0, min=-10, max=10, description = \"$w$\", continuous_update=False)\n",
    "cpicker  = ColorPicker(concise=False, description='Pick a color for plot', value='blue', disabled=False)\n",
    "\n",
    "type_widget = Dropdown(options=(\n",
    "        (\"Sine function\",\"sin\"),\n",
    "        (\"Cosine function\",\"cos\"),  \n",
    "    ), \n",
    "    description = \"function type\", continuous_update=False, layout=Layout(width='250px'));\n",
    "\n",
    "\n",
    "sine_plot = pl.figure();"
   ]
  },
  {
   "cell_type": "code",
   "execution_count": 246,
   "metadata": {},
   "outputs": [],
   "source": [
    "def get_numerical_array(k_value, w_value, function_type):\n",
    "    x = np.linspace(0, 2 * np.pi, 2000)\n",
    "    if function_type == \"sin\":\n",
    "        y = np.sin(k_value*x + w_value)\n",
    "    elif function_type == \"cos\":\n",
    "        y = np.cos(k_value*x + w_value)\n",
    "    return x, y\n",
    "        "
   ]
  },
  {
   "cell_type": "code",
   "execution_count": 247,
   "metadata": {},
   "outputs": [],
   "source": [
    "def on_parameter_change(change):\n",
    "    x, y = get_numerical_array(k_slider.value, w_slider.value, type_widget.value);\n",
    "    pl.figure(fig=sine_plot)\n",
    "    pl.clear()\n",
    "    pl.plot(x, y, colors=[cpicker.value])\n",
    "    pl.xlim(0, 2*np.pi)\n",
    "    pl.xlabel(\"X\")\n",
    "    pl.ylabel(\"Y\")\n",
    "\n",
    "\n",
    "k_slider.observe(on_parameter_change, names='value', type='change')\n",
    "w_slider.observe(on_parameter_change, names='value', type='change')\n",
    "type_widget.observe(on_parameter_change, names='value', type='change')\n",
    "cpicker.observe(on_parameter_change, names='value', type='change')\n",
    "on_parameter_change(None)"
   ]
  },
  {
   "cell_type": "code",
   "execution_count": 248,
   "metadata": {},
   "outputs": [
    {
     "data": {
      "application/vnd.jupyter.widget-view+json": {
       "model_id": "7e37e3a7bedd49c19748ebf11ca6c7fa",
       "version_major": 2,
       "version_minor": 0
      },
      "text/plain": [
       "HBox(children=(VBox(children=(IntSlider(value=0, continuous_update=False, description='$k$', max=10, min=-10),…"
      ]
     },
     "metadata": {},
     "output_type": "display_data"
    }
   ],
   "source": [
    "display(HBox([VBox([k_slider, w_slider, type_widget], layout=Layout(width='400px')),cpicker], layout=Layout(width='800px') ))"
   ]
  },
  {
   "cell_type": "code",
   "execution_count": 249,
   "metadata": {},
   "outputs": [
    {
     "data": {
      "application/vnd.jupyter.widget-view+json": {
       "model_id": "9505df759f244c8f9a2139c470941d1f",
       "version_major": 2,
       "version_minor": 0
      },
      "text/plain": [
       "Box(children=(Figure(axes=[Axis(label='X', scale=LinearScale(max=6.283185307179586, min=0.0), side='bottom'), …"
      ]
     },
     "metadata": {},
     "output_type": "display_data"
    }
   ],
   "source": [
    "sine_plot.layout.width = '100%'\n",
    "sine_plot.layout.max_width = '800px'\n",
    "display(Box(children=[sine_plot], layout=Layout(justify_content='center')))"
   ]
  },
  {
   "cell_type": "code",
   "execution_count": null,
   "metadata": {},
   "outputs": [],
   "source": []
  },
  {
   "cell_type": "code",
   "execution_count": null,
   "metadata": {},
   "outputs": [],
   "source": []
  }
 ],
 "metadata": {
  "kernelspec": {
   "display_name": "Python 3",
   "language": "python",
   "name": "python3"
  },
  "language_info": {
   "codemirror_mode": {
    "name": "ipython",
    "version": 3
   },
   "file_extension": ".py",
   "mimetype": "text/x-python",
   "name": "python",
   "nbconvert_exporter": "python",
   "pygments_lexer": "ipython3",
   "version": "3.6.8"
  }
 },
 "nbformat": 4,
 "nbformat_minor": 2
}
