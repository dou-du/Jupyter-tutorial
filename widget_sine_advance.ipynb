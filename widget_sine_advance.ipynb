{
 "cells": [
  {
   "cell_type": "code",
   "execution_count": 15,
   "metadata": {},
   "outputs": [],
   "source": [
    "import numpy as np\n",
    "import matplotlib.pyplot as plt\n",
    "from matplotlib.pyplot import figure\n",
    "from ipywidgets import Accordion, IntSlider, Dropdown, Box, HBox, VBox, Layout, ColorPicker, Button\n",
    "from ipywidgets import Text, Output, HTML\n",
    "from IPython.display import display, clear_output, FileLink, FileLinks"
   ]
  },
  {
   "cell_type": "code",
   "execution_count": 16,
   "metadata": {},
   "outputs": [],
   "source": [
    "k_slider = IntSlider(value=0, min=-10, max=10, description = \"$k$\", continuous_update=False)\n",
    "w_slider = IntSlider(value=0, min=-10, max=10, description = \"$w$\", continuous_update=False)\n",
    "cpicker  = ColorPicker(concise=False, description='Pick a color for plot', value='red', disabled=False)\n",
    "save_button = Button(description=\"Save figure\")\n",
    "title_widget = Text(value='Sine function', description='Figure title:',disabled=False)\n",
    "pdf_link = HTML(\"<a href='./figure.pdf' target='_blank'>figure.pdf</a>\")\n",
    "out = Output()\n",
    "\n",
    "type_widget = Dropdown(options=(\n",
    "        (\"Sine function\",\"sin\"),\n",
    "        (\"Cosine function\",\"cos\"),  \n",
    "    ), \n",
    "    description = \"function type\", continuous_update=False, layout=Layout(width='250px'));"
   ]
  },
  {
   "cell_type": "code",
   "execution_count": 17,
   "metadata": {},
   "outputs": [],
   "source": [
    "def get_numerical_array(k_value, w_value, function_type):\n",
    "    x = np.linspace(0, 2 * np.pi, 2000)\n",
    "    if function_type == \"sin\":\n",
    "        y = np.sin(k_value*x + w_value)\n",
    "    elif function_type == \"cos\":\n",
    "        y = np.cos(k_value*x + w_value)\n",
    "    return x, y\n",
    "        "
   ]
  },
  {
   "cell_type": "code",
   "execution_count": 18,
   "metadata": {},
   "outputs": [],
   "source": [
    "def on_parameter_change(change):\n",
    "    x, y = get_numerical_array(k_slider.value, w_slider.value, type_widget.value);\n",
    "    with out:\n",
    "        clear_output(wait=True)\n",
    "        fig = plt.figure(figsize=(8,6))\n",
    "        plt.plot(x, y, color=cpicker.value)\n",
    "        plt.xlim(0, 2*np.pi)\n",
    "        plt.ylim(-1, 1)\n",
    "        plt.xlabel(\"X\", fontsize=20)\n",
    "        plt.ylabel(\"Y\", fontsize=20)\n",
    "        plt.grid()\n",
    "        plt.title(title_widget.value, fontsize=25)\n",
    "        plt.tick_params(axis='both', which='major', labelsize=20)\n",
    "        plt.show()\n",
    "    return fig \n",
    "\n",
    "k_slider.observe(on_parameter_change, names='value', type='change')\n",
    "w_slider.observe(on_parameter_change, names='value', type='change')\n",
    "type_widget.observe(on_parameter_change, names='value', type='change')\n",
    "cpicker.observe(on_parameter_change, names='value', type='change')\n",
    "title_widget.observe(on_parameter_change, names='value', type='change')\n",
    "on_parameter_change(None)\n",
    "\n",
    "def on_button_clicked(b):\n",
    "    fig = on_parameter_change(None)\n",
    "    fig.savefig(\"figure.pdf\",bbox_inches='tight')\n",
    "    \n",
    "save_button.on_click(on_button_clicked)"
   ]
  },
  {
   "cell_type": "code",
   "execution_count": 19,
   "metadata": {},
   "outputs": [
    {
     "data": {
      "application/vnd.jupyter.widget-view+json": {
       "model_id": "2ce83c72615940ce89551bb447b0201c",
       "version_major": 2,
       "version_minor": 0
      },
      "text/plain": [
       "HBox(children=(VBox(children=(IntSlider(value=0, continuous_update=False, description='$k$', max=10, min=-10),…"
      ]
     },
     "metadata": {},
     "output_type": "display_data"
    }
   ],
   "source": [
    "box1 = VBox([k_slider, w_slider, type_widget], layout=Layout(width='400px'));\n",
    "box2 = VBox([cpicker, title_widget, save_button, pdf_link], layout=Layout(width='400px'));\n",
    "\n",
    "display(HBox([box1, box2], layout=Layout(width='1000px')))"
   ]
  },
  {
   "cell_type": "code",
   "execution_count": 20,
   "metadata": {},
   "outputs": [
    {
     "data": {
      "application/vnd.jupyter.widget-view+json": {
       "model_id": "a577fa179bc4465db06a63d4d4ebb903",
       "version_major": 2,
       "version_minor": 0
      },
      "text/plain": [
       "Box(children=(Output(outputs=({'output_type': 'display_data', 'data': {'text/plain': '<Figure size 576x432 wit…"
      ]
     },
     "metadata": {},
     "output_type": "display_data"
    }
   ],
   "source": [
    "display(Box(children=[out], layout=Layout(justify_content='center')))"
   ]
  },
  {
   "cell_type": "markdown",
   "metadata": {},
   "source": [
    "This work has been done with the support of the EPFL Open Science found [OSSCAR](http://www.osscar.org).\n",
    "\n",
    "<img src=\"./figures/OSSCAR_logo.png\" style=\"height:40px; width: 200px\"/>"
   ]
  }
 ],
 "metadata": {
  "kernelspec": {
   "display_name": "Python 3",
   "language": "python",
   "name": "python3"
  },
  "language_info": {
   "codemirror_mode": {
    "name": "ipython",
    "version": 3
   },
   "file_extension": ".py",
   "mimetype": "text/x-python",
   "name": "python",
   "nbconvert_exporter": "python",
   "pygments_lexer": "ipython3",
   "version": "3.6.8"
  }
 },
 "nbformat": 4,
 "nbformat_minor": 2
}
