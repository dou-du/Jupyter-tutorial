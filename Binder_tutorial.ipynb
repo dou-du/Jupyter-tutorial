{
 "cells": [
  {
   "cell_type": "markdown",
   "metadata": {},
   "source": [
    "# The binder tutorial<img src=\"./figures/fig_binderlogo.svg\" />\n",
    "\n",
    "<br>\n",
    "<div style=\"text-align: justify; font-size: large;\"> \n",
    "The Binder is a cloud platform, which provides executable environments for the Jupyter notebooks (lab). It is very convenient to use and share the notebook. \n",
    "<br>"
   ]
  },
  {
   "cell_type": "code",
   "execution_count": null,
   "metadata": {},
   "outputs": [],
   "source": []
  }
 ],
 "metadata": {
  "kernelspec": {
   "display_name": "Python 3",
   "language": "python",
   "name": "python3"
  },
  "language_info": {
   "codemirror_mode": {
    "name": "ipython",
    "version": 3
   },
   "file_extension": ".py",
   "mimetype": "text/x-python",
   "name": "python",
   "nbconvert_exporter": "python",
   "pygments_lexer": "ipython3",
   "version": "3.7.4"
  }
 },
 "nbformat": 4,
 "nbformat_minor": 2
}
